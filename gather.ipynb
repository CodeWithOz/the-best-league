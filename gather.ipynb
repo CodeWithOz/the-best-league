{
 "cells": [
  {
   "cell_type": "code",
   "execution_count": 1,
   "metadata": {},
   "outputs": [],
   "source": [
    "import pandas as pd\n",
    "import numpy as np\n",
    "import seaborn as sns\n",
    "import sqlite3\n",
    "import datetime\n",
    "from typing import Optional, List\n",
    "from pprint import pprint\n",
    "\n",
    "%matplotlib inline"
   ]
  },
  {
   "cell_type": "markdown",
   "metadata": {},
   "source": [
    "## Gather Data"
   ]
  },
  {
   "cell_type": "code",
   "execution_count": 2,
   "metadata": {},
   "outputs": [],
   "source": [
    "def get_dataframe_from_sql(query, db_path = 'football.sqlite'):\n",
    "    \"\"\"\n",
    "    Returns a pandas dataframe containing the db data returned\n",
    "    by the provided SQL query.\n",
    "    \"\"\"\n",
    "    # establish a connection to the database\n",
    "    conn = sqlite3.connect(db_path)\n",
    "\n",
    "    # load the query results into a pandas dataframe\n",
    "    df = pd.read_sql_query(query, conn)\n",
    "\n",
    "    # close the connection to the database\n",
    "    conn.close()\n",
    "\n",
    "    # return the dataframe\n",
    "    return df"
   ]
  },
  {
   "cell_type": "code",
   "execution_count": 3,
   "metadata": {},
   "outputs": [
    {
     "data": {
      "text/html": [
       "<div>\n",
       "<style scoped>\n",
       "    .dataframe tbody tr th:only-of-type {\n",
       "        vertical-align: middle;\n",
       "    }\n",
       "\n",
       "    .dataframe tbody tr th {\n",
       "        vertical-align: top;\n",
       "    }\n",
       "\n",
       "    .dataframe thead th {\n",
       "        text-align: right;\n",
       "    }\n",
       "</style>\n",
       "<table border=\"1\" class=\"dataframe\">\n",
       "  <thead>\n",
       "    <tr style=\"text-align: right;\">\n",
       "      <th></th>\n",
       "      <th>name</th>\n",
       "    </tr>\n",
       "  </thead>\n",
       "  <tbody>\n",
       "    <tr>\n",
       "      <th>0</th>\n",
       "      <td>sqlite_sequence</td>\n",
       "    </tr>\n",
       "    <tr>\n",
       "      <th>1</th>\n",
       "      <td>Player_Attributes</td>\n",
       "    </tr>\n",
       "    <tr>\n",
       "      <th>2</th>\n",
       "      <td>Player</td>\n",
       "    </tr>\n",
       "    <tr>\n",
       "      <th>3</th>\n",
       "      <td>Match</td>\n",
       "    </tr>\n",
       "    <tr>\n",
       "      <th>4</th>\n",
       "      <td>League</td>\n",
       "    </tr>\n",
       "    <tr>\n",
       "      <th>5</th>\n",
       "      <td>Country</td>\n",
       "    </tr>\n",
       "    <tr>\n",
       "      <th>6</th>\n",
       "      <td>Team</td>\n",
       "    </tr>\n",
       "    <tr>\n",
       "      <th>7</th>\n",
       "      <td>Team_Attributes</td>\n",
       "    </tr>\n",
       "  </tbody>\n",
       "</table>\n",
       "</div>"
      ],
      "text/plain": [
       "                name\n",
       "0    sqlite_sequence\n",
       "1  Player_Attributes\n",
       "2             Player\n",
       "3              Match\n",
       "4             League\n",
       "5            Country\n",
       "6               Team\n",
       "7    Team_Attributes"
      ]
     },
     "execution_count": 3,
     "metadata": {},
     "output_type": "execute_result"
    }
   ],
   "source": [
    "get_dataframe_from_sql(\"SELECT name FROM sqlite_master WHERE type='table';\")"
   ]
  },
  {
   "cell_type": "code",
   "execution_count": 4,
   "metadata": {},
   "outputs": [
    {
     "data": {
      "text/html": [
       "<div>\n",
       "<style scoped>\n",
       "    .dataframe tbody tr th:only-of-type {\n",
       "        vertical-align: middle;\n",
       "    }\n",
       "\n",
       "    .dataframe tbody tr th {\n",
       "        vertical-align: top;\n",
       "    }\n",
       "\n",
       "    .dataframe thead th {\n",
       "        text-align: right;\n",
       "    }\n",
       "</style>\n",
       "<table border=\"1\" class=\"dataframe\">\n",
       "  <thead>\n",
       "    <tr style=\"text-align: right;\">\n",
       "      <th></th>\n",
       "      <th>cid</th>\n",
       "      <th>name</th>\n",
       "      <th>type</th>\n",
       "      <th>notnull</th>\n",
       "      <th>dflt_value</th>\n",
       "      <th>pk</th>\n",
       "    </tr>\n",
       "  </thead>\n",
       "  <tbody>\n",
       "    <tr>\n",
       "      <th>0</th>\n",
       "      <td>0</td>\n",
       "      <td>id</td>\n",
       "      <td>INTEGER</td>\n",
       "      <td>0</td>\n",
       "      <td>None</td>\n",
       "      <td>1</td>\n",
       "    </tr>\n",
       "    <tr>\n",
       "      <th>1</th>\n",
       "      <td>1</td>\n",
       "      <td>player_fifa_api_id</td>\n",
       "      <td>INTEGER</td>\n",
       "      <td>0</td>\n",
       "      <td>None</td>\n",
       "      <td>0</td>\n",
       "    </tr>\n",
       "    <tr>\n",
       "      <th>2</th>\n",
       "      <td>2</td>\n",
       "      <td>player_api_id</td>\n",
       "      <td>INTEGER</td>\n",
       "      <td>0</td>\n",
       "      <td>None</td>\n",
       "      <td>0</td>\n",
       "    </tr>\n",
       "    <tr>\n",
       "      <th>3</th>\n",
       "      <td>3</td>\n",
       "      <td>date</td>\n",
       "      <td>TEXT</td>\n",
       "      <td>0</td>\n",
       "      <td>None</td>\n",
       "      <td>0</td>\n",
       "    </tr>\n",
       "    <tr>\n",
       "      <th>4</th>\n",
       "      <td>4</td>\n",
       "      <td>overall_rating</td>\n",
       "      <td>INTEGER</td>\n",
       "      <td>0</td>\n",
       "      <td>None</td>\n",
       "      <td>0</td>\n",
       "    </tr>\n",
       "    <tr>\n",
       "      <th>5</th>\n",
       "      <td>5</td>\n",
       "      <td>potential</td>\n",
       "      <td>INTEGER</td>\n",
       "      <td>0</td>\n",
       "      <td>None</td>\n",
       "      <td>0</td>\n",
       "    </tr>\n",
       "    <tr>\n",
       "      <th>6</th>\n",
       "      <td>6</td>\n",
       "      <td>preferred_foot</td>\n",
       "      <td>TEXT</td>\n",
       "      <td>0</td>\n",
       "      <td>None</td>\n",
       "      <td>0</td>\n",
       "    </tr>\n",
       "    <tr>\n",
       "      <th>7</th>\n",
       "      <td>7</td>\n",
       "      <td>attacking_work_rate</td>\n",
       "      <td>TEXT</td>\n",
       "      <td>0</td>\n",
       "      <td>None</td>\n",
       "      <td>0</td>\n",
       "    </tr>\n",
       "    <tr>\n",
       "      <th>8</th>\n",
       "      <td>8</td>\n",
       "      <td>defensive_work_rate</td>\n",
       "      <td>TEXT</td>\n",
       "      <td>0</td>\n",
       "      <td>None</td>\n",
       "      <td>0</td>\n",
       "    </tr>\n",
       "    <tr>\n",
       "      <th>9</th>\n",
       "      <td>9</td>\n",
       "      <td>crossing</td>\n",
       "      <td>INTEGER</td>\n",
       "      <td>0</td>\n",
       "      <td>None</td>\n",
       "      <td>0</td>\n",
       "    </tr>\n",
       "    <tr>\n",
       "      <th>10</th>\n",
       "      <td>10</td>\n",
       "      <td>finishing</td>\n",
       "      <td>INTEGER</td>\n",
       "      <td>0</td>\n",
       "      <td>None</td>\n",
       "      <td>0</td>\n",
       "    </tr>\n",
       "    <tr>\n",
       "      <th>11</th>\n",
       "      <td>11</td>\n",
       "      <td>heading_accuracy</td>\n",
       "      <td>INTEGER</td>\n",
       "      <td>0</td>\n",
       "      <td>None</td>\n",
       "      <td>0</td>\n",
       "    </tr>\n",
       "    <tr>\n",
       "      <th>12</th>\n",
       "      <td>12</td>\n",
       "      <td>short_passing</td>\n",
       "      <td>INTEGER</td>\n",
       "      <td>0</td>\n",
       "      <td>None</td>\n",
       "      <td>0</td>\n",
       "    </tr>\n",
       "    <tr>\n",
       "      <th>13</th>\n",
       "      <td>13</td>\n",
       "      <td>volleys</td>\n",
       "      <td>INTEGER</td>\n",
       "      <td>0</td>\n",
       "      <td>None</td>\n",
       "      <td>0</td>\n",
       "    </tr>\n",
       "    <tr>\n",
       "      <th>14</th>\n",
       "      <td>14</td>\n",
       "      <td>dribbling</td>\n",
       "      <td>INTEGER</td>\n",
       "      <td>0</td>\n",
       "      <td>None</td>\n",
       "      <td>0</td>\n",
       "    </tr>\n",
       "    <tr>\n",
       "      <th>15</th>\n",
       "      <td>15</td>\n",
       "      <td>curve</td>\n",
       "      <td>INTEGER</td>\n",
       "      <td>0</td>\n",
       "      <td>None</td>\n",
       "      <td>0</td>\n",
       "    </tr>\n",
       "    <tr>\n",
       "      <th>16</th>\n",
       "      <td>16</td>\n",
       "      <td>free_kick_accuracy</td>\n",
       "      <td>INTEGER</td>\n",
       "      <td>0</td>\n",
       "      <td>None</td>\n",
       "      <td>0</td>\n",
       "    </tr>\n",
       "    <tr>\n",
       "      <th>17</th>\n",
       "      <td>17</td>\n",
       "      <td>long_passing</td>\n",
       "      <td>INTEGER</td>\n",
       "      <td>0</td>\n",
       "      <td>None</td>\n",
       "      <td>0</td>\n",
       "    </tr>\n",
       "    <tr>\n",
       "      <th>18</th>\n",
       "      <td>18</td>\n",
       "      <td>ball_control</td>\n",
       "      <td>INTEGER</td>\n",
       "      <td>0</td>\n",
       "      <td>None</td>\n",
       "      <td>0</td>\n",
       "    </tr>\n",
       "    <tr>\n",
       "      <th>19</th>\n",
       "      <td>19</td>\n",
       "      <td>acceleration</td>\n",
       "      <td>INTEGER</td>\n",
       "      <td>0</td>\n",
       "      <td>None</td>\n",
       "      <td>0</td>\n",
       "    </tr>\n",
       "    <tr>\n",
       "      <th>20</th>\n",
       "      <td>20</td>\n",
       "      <td>sprint_speed</td>\n",
       "      <td>INTEGER</td>\n",
       "      <td>0</td>\n",
       "      <td>None</td>\n",
       "      <td>0</td>\n",
       "    </tr>\n",
       "    <tr>\n",
       "      <th>21</th>\n",
       "      <td>21</td>\n",
       "      <td>agility</td>\n",
       "      <td>INTEGER</td>\n",
       "      <td>0</td>\n",
       "      <td>None</td>\n",
       "      <td>0</td>\n",
       "    </tr>\n",
       "    <tr>\n",
       "      <th>22</th>\n",
       "      <td>22</td>\n",
       "      <td>reactions</td>\n",
       "      <td>INTEGER</td>\n",
       "      <td>0</td>\n",
       "      <td>None</td>\n",
       "      <td>0</td>\n",
       "    </tr>\n",
       "    <tr>\n",
       "      <th>23</th>\n",
       "      <td>23</td>\n",
       "      <td>balance</td>\n",
       "      <td>INTEGER</td>\n",
       "      <td>0</td>\n",
       "      <td>None</td>\n",
       "      <td>0</td>\n",
       "    </tr>\n",
       "    <tr>\n",
       "      <th>24</th>\n",
       "      <td>24</td>\n",
       "      <td>shot_power</td>\n",
       "      <td>INTEGER</td>\n",
       "      <td>0</td>\n",
       "      <td>None</td>\n",
       "      <td>0</td>\n",
       "    </tr>\n",
       "    <tr>\n",
       "      <th>25</th>\n",
       "      <td>25</td>\n",
       "      <td>jumping</td>\n",
       "      <td>INTEGER</td>\n",
       "      <td>0</td>\n",
       "      <td>None</td>\n",
       "      <td>0</td>\n",
       "    </tr>\n",
       "    <tr>\n",
       "      <th>26</th>\n",
       "      <td>26</td>\n",
       "      <td>stamina</td>\n",
       "      <td>INTEGER</td>\n",
       "      <td>0</td>\n",
       "      <td>None</td>\n",
       "      <td>0</td>\n",
       "    </tr>\n",
       "    <tr>\n",
       "      <th>27</th>\n",
       "      <td>27</td>\n",
       "      <td>strength</td>\n",
       "      <td>INTEGER</td>\n",
       "      <td>0</td>\n",
       "      <td>None</td>\n",
       "      <td>0</td>\n",
       "    </tr>\n",
       "    <tr>\n",
       "      <th>28</th>\n",
       "      <td>28</td>\n",
       "      <td>long_shots</td>\n",
       "      <td>INTEGER</td>\n",
       "      <td>0</td>\n",
       "      <td>None</td>\n",
       "      <td>0</td>\n",
       "    </tr>\n",
       "    <tr>\n",
       "      <th>29</th>\n",
       "      <td>29</td>\n",
       "      <td>aggression</td>\n",
       "      <td>INTEGER</td>\n",
       "      <td>0</td>\n",
       "      <td>None</td>\n",
       "      <td>0</td>\n",
       "    </tr>\n",
       "  </tbody>\n",
       "</table>\n",
       "</div>"
      ],
      "text/plain": [
       "    cid                 name     type  notnull dflt_value  pk\n",
       "0     0                   id  INTEGER        0       None   1\n",
       "1     1   player_fifa_api_id  INTEGER        0       None   0\n",
       "2     2        player_api_id  INTEGER        0       None   0\n",
       "3     3                 date     TEXT        0       None   0\n",
       "4     4       overall_rating  INTEGER        0       None   0\n",
       "5     5            potential  INTEGER        0       None   0\n",
       "6     6       preferred_foot     TEXT        0       None   0\n",
       "7     7  attacking_work_rate     TEXT        0       None   0\n",
       "8     8  defensive_work_rate     TEXT        0       None   0\n",
       "9     9             crossing  INTEGER        0       None   0\n",
       "10   10            finishing  INTEGER        0       None   0\n",
       "11   11     heading_accuracy  INTEGER        0       None   0\n",
       "12   12        short_passing  INTEGER        0       None   0\n",
       "13   13              volleys  INTEGER        0       None   0\n",
       "14   14            dribbling  INTEGER        0       None   0\n",
       "15   15                curve  INTEGER        0       None   0\n",
       "16   16   free_kick_accuracy  INTEGER        0       None   0\n",
       "17   17         long_passing  INTEGER        0       None   0\n",
       "18   18         ball_control  INTEGER        0       None   0\n",
       "19   19         acceleration  INTEGER        0       None   0\n",
       "20   20         sprint_speed  INTEGER        0       None   0\n",
       "21   21              agility  INTEGER        0       None   0\n",
       "22   22            reactions  INTEGER        0       None   0\n",
       "23   23              balance  INTEGER        0       None   0\n",
       "24   24           shot_power  INTEGER        0       None   0\n",
       "25   25              jumping  INTEGER        0       None   0\n",
       "26   26              stamina  INTEGER        0       None   0\n",
       "27   27             strength  INTEGER        0       None   0\n",
       "28   28           long_shots  INTEGER        0       None   0\n",
       "29   29           aggression  INTEGER        0       None   0"
      ]
     },
     "execution_count": 4,
     "metadata": {},
     "output_type": "execute_result"
    }
   ],
   "source": [
    "get_dataframe_from_sql(\"PRAGMA table_info(Player_Attributes);\").head(30)"
   ]
  },
  {
   "cell_type": "markdown",
   "metadata": {},
   "source": [
    "#### get the available countries"
   ]
  },
  {
   "cell_type": "code",
   "execution_count": 212,
   "metadata": {},
   "outputs": [
    {
     "data": {
      "text/html": [
       "<div>\n",
       "<style scoped>\n",
       "    .dataframe tbody tr th:only-of-type {\n",
       "        vertical-align: middle;\n",
       "    }\n",
       "\n",
       "    .dataframe tbody tr th {\n",
       "        vertical-align: top;\n",
       "    }\n",
       "\n",
       "    .dataframe thead th {\n",
       "        text-align: right;\n",
       "    }\n",
       "</style>\n",
       "<table border=\"1\" class=\"dataframe\">\n",
       "  <thead>\n",
       "    <tr style=\"text-align: right;\">\n",
       "      <th></th>\n",
       "      <th>id</th>\n",
       "      <th>name</th>\n",
       "    </tr>\n",
       "  </thead>\n",
       "  <tbody>\n",
       "    <tr>\n",
       "      <th>0</th>\n",
       "      <td>1</td>\n",
       "      <td>Belgium</td>\n",
       "    </tr>\n",
       "    <tr>\n",
       "      <th>1</th>\n",
       "      <td>1729</td>\n",
       "      <td>England</td>\n",
       "    </tr>\n",
       "    <tr>\n",
       "      <th>2</th>\n",
       "      <td>4769</td>\n",
       "      <td>France</td>\n",
       "    </tr>\n",
       "    <tr>\n",
       "      <th>3</th>\n",
       "      <td>7809</td>\n",
       "      <td>Germany</td>\n",
       "    </tr>\n",
       "    <tr>\n",
       "      <th>4</th>\n",
       "      <td>10257</td>\n",
       "      <td>Italy</td>\n",
       "    </tr>\n",
       "    <tr>\n",
       "      <th>5</th>\n",
       "      <td>13274</td>\n",
       "      <td>Netherlands</td>\n",
       "    </tr>\n",
       "    <tr>\n",
       "      <th>6</th>\n",
       "      <td>15722</td>\n",
       "      <td>Poland</td>\n",
       "    </tr>\n",
       "    <tr>\n",
       "      <th>7</th>\n",
       "      <td>17642</td>\n",
       "      <td>Portugal</td>\n",
       "    </tr>\n",
       "    <tr>\n",
       "      <th>8</th>\n",
       "      <td>19694</td>\n",
       "      <td>Scotland</td>\n",
       "    </tr>\n",
       "    <tr>\n",
       "      <th>9</th>\n",
       "      <td>21518</td>\n",
       "      <td>Spain</td>\n",
       "    </tr>\n",
       "    <tr>\n",
       "      <th>10</th>\n",
       "      <td>24558</td>\n",
       "      <td>Switzerland</td>\n",
       "    </tr>\n",
       "  </tbody>\n",
       "</table>\n",
       "</div>"
      ],
      "text/plain": [
       "       id         name\n",
       "0       1      Belgium\n",
       "1    1729      England\n",
       "2    4769       France\n",
       "3    7809      Germany\n",
       "4   10257        Italy\n",
       "5   13274  Netherlands\n",
       "6   15722       Poland\n",
       "7   17642     Portugal\n",
       "8   19694     Scotland\n",
       "9   21518        Spain\n",
       "10  24558  Switzerland"
      ]
     },
     "execution_count": 212,
     "metadata": {},
     "output_type": "execute_result"
    }
   ],
   "source": [
    "countries_df = get_dataframe_from_sql(\"SELECT * FROM Country;\")\n",
    "countries_df"
   ]
  },
  {
   "cell_type": "markdown",
   "metadata": {},
   "source": [
    "#### get the top 5 leagues"
   ]
  },
  {
   "cell_type": "code",
   "execution_count": 215,
   "metadata": {},
   "outputs": [
    {
     "data": {
      "text/plain": [
       "array(['England', 'France', 'Germany', 'Italy', 'Spain'], dtype='<U7')"
      ]
     },
     "execution_count": 215,
     "metadata": {},
     "output_type": "execute_result"
    }
   ],
   "source": [
    "top_5_league_country_names = np.array(['England', 'France', 'Germany', 'Italy', 'Spain'])\n",
    "top_5_league_country_names"
   ]
  },
  {
   "cell_type": "code",
   "execution_count": 216,
   "metadata": {},
   "outputs": [
    {
     "data": {
      "text/plain": [
       "Int64Index([1, 2, 3, 4, 9], dtype='int64')"
      ]
     },
     "execution_count": 216,
     "metadata": {},
     "output_type": "execute_result"
    }
   ],
   "source": [
    "countries_df[countries_df.name.isin(top_5_league_country_names)].index"
   ]
  },
  {
   "cell_type": "code",
   "execution_count": 218,
   "metadata": {},
   "outputs": [
    {
     "data": {
      "text/html": [
       "<div>\n",
       "<style scoped>\n",
       "    .dataframe tbody tr th:only-of-type {\n",
       "        vertical-align: middle;\n",
       "    }\n",
       "\n",
       "    .dataframe tbody tr th {\n",
       "        vertical-align: top;\n",
       "    }\n",
       "\n",
       "    .dataframe thead th {\n",
       "        text-align: right;\n",
       "    }\n",
       "</style>\n",
       "<table border=\"1\" class=\"dataframe\">\n",
       "  <thead>\n",
       "    <tr style=\"text-align: right;\">\n",
       "      <th></th>\n",
       "      <th>id</th>\n",
       "      <th>country_id</th>\n",
       "      <th>name</th>\n",
       "    </tr>\n",
       "  </thead>\n",
       "  <tbody>\n",
       "    <tr>\n",
       "      <th>0</th>\n",
       "      <td>1</td>\n",
       "      <td>1</td>\n",
       "      <td>Belgium Jupiler League</td>\n",
       "    </tr>\n",
       "    <tr>\n",
       "      <th>1</th>\n",
       "      <td>1729</td>\n",
       "      <td>1729</td>\n",
       "      <td>England Premier League</td>\n",
       "    </tr>\n",
       "    <tr>\n",
       "      <th>2</th>\n",
       "      <td>4769</td>\n",
       "      <td>4769</td>\n",
       "      <td>France Ligue 1</td>\n",
       "    </tr>\n",
       "    <tr>\n",
       "      <th>3</th>\n",
       "      <td>7809</td>\n",
       "      <td>7809</td>\n",
       "      <td>Germany 1. Bundesliga</td>\n",
       "    </tr>\n",
       "    <tr>\n",
       "      <th>4</th>\n",
       "      <td>10257</td>\n",
       "      <td>10257</td>\n",
       "      <td>Italy Serie A</td>\n",
       "    </tr>\n",
       "    <tr>\n",
       "      <th>5</th>\n",
       "      <td>13274</td>\n",
       "      <td>13274</td>\n",
       "      <td>Netherlands Eredivisie</td>\n",
       "    </tr>\n",
       "    <tr>\n",
       "      <th>6</th>\n",
       "      <td>15722</td>\n",
       "      <td>15722</td>\n",
       "      <td>Poland Ekstraklasa</td>\n",
       "    </tr>\n",
       "    <tr>\n",
       "      <th>7</th>\n",
       "      <td>17642</td>\n",
       "      <td>17642</td>\n",
       "      <td>Portugal Liga ZON Sagres</td>\n",
       "    </tr>\n",
       "    <tr>\n",
       "      <th>8</th>\n",
       "      <td>19694</td>\n",
       "      <td>19694</td>\n",
       "      <td>Scotland Premier League</td>\n",
       "    </tr>\n",
       "    <tr>\n",
       "      <th>9</th>\n",
       "      <td>21518</td>\n",
       "      <td>21518</td>\n",
       "      <td>Spain LIGA BBVA</td>\n",
       "    </tr>\n",
       "    <tr>\n",
       "      <th>10</th>\n",
       "      <td>24558</td>\n",
       "      <td>24558</td>\n",
       "      <td>Switzerland Super League</td>\n",
       "    </tr>\n",
       "  </tbody>\n",
       "</table>\n",
       "</div>"
      ],
      "text/plain": [
       "       id  country_id                      name\n",
       "0       1           1    Belgium Jupiler League\n",
       "1    1729        1729    England Premier League\n",
       "2    4769        4769            France Ligue 1\n",
       "3    7809        7809     Germany 1. Bundesliga\n",
       "4   10257       10257             Italy Serie A\n",
       "5   13274       13274    Netherlands Eredivisie\n",
       "6   15722       15722        Poland Ekstraklasa\n",
       "7   17642       17642  Portugal Liga ZON Sagres\n",
       "8   19694       19694   Scotland Premier League\n",
       "9   21518       21518           Spain LIGA BBVA\n",
       "10  24558       24558  Switzerland Super League"
      ]
     },
     "execution_count": 218,
     "metadata": {},
     "output_type": "execute_result"
    }
   ],
   "source": [
    "leagues_df = get_dataframe_from_sql(\"SELECT * FROM League;\")\n",
    "leagues_df"
   ]
  },
  {
   "cell_type": "code",
   "execution_count": 220,
   "metadata": {},
   "outputs": [
    {
     "data": {
      "text/html": [
       "<div>\n",
       "<style scoped>\n",
       "    .dataframe tbody tr th:only-of-type {\n",
       "        vertical-align: middle;\n",
       "    }\n",
       "\n",
       "    .dataframe tbody tr th {\n",
       "        vertical-align: top;\n",
       "    }\n",
       "\n",
       "    .dataframe thead th {\n",
       "        text-align: right;\n",
       "    }\n",
       "</style>\n",
       "<table border=\"1\" class=\"dataframe\">\n",
       "  <thead>\n",
       "    <tr style=\"text-align: right;\">\n",
       "      <th></th>\n",
       "      <th>id</th>\n",
       "      <th>country_id</th>\n",
       "      <th>name</th>\n",
       "    </tr>\n",
       "  </thead>\n",
       "  <tbody>\n",
       "    <tr>\n",
       "      <th>1</th>\n",
       "      <td>1729</td>\n",
       "      <td>1729</td>\n",
       "      <td>England Premier League</td>\n",
       "    </tr>\n",
       "    <tr>\n",
       "      <th>2</th>\n",
       "      <td>4769</td>\n",
       "      <td>4769</td>\n",
       "      <td>France Ligue 1</td>\n",
       "    </tr>\n",
       "    <tr>\n",
       "      <th>3</th>\n",
       "      <td>7809</td>\n",
       "      <td>7809</td>\n",
       "      <td>Germany 1. Bundesliga</td>\n",
       "    </tr>\n",
       "    <tr>\n",
       "      <th>4</th>\n",
       "      <td>10257</td>\n",
       "      <td>10257</td>\n",
       "      <td>Italy Serie A</td>\n",
       "    </tr>\n",
       "    <tr>\n",
       "      <th>9</th>\n",
       "      <td>21518</td>\n",
       "      <td>21518</td>\n",
       "      <td>Spain LIGA BBVA</td>\n",
       "    </tr>\n",
       "  </tbody>\n",
       "</table>\n",
       "</div>"
      ],
      "text/plain": [
       "      id  country_id                    name\n",
       "1   1729        1729  England Premier League\n",
       "2   4769        4769          France Ligue 1\n",
       "3   7809        7809   Germany 1. Bundesliga\n",
       "4  10257       10257           Italy Serie A\n",
       "9  21518       21518         Spain LIGA BBVA"
      ]
     },
     "execution_count": 220,
     "metadata": {},
     "output_type": "execute_result"
    }
   ],
   "source": [
    "leagues_df = leagues_df[leagues_df.index.isin(countries_df[countries_df.name.isin(top_5_league_country_names)].index)]\n",
    "leagues_df"
   ]
  },
  {
   "cell_type": "markdown",
   "metadata": {},
   "source": [
    "#### filter the matches that are in each league"
   ]
  },
  {
   "cell_type": "code",
   "execution_count": 6,
   "metadata": {},
   "outputs": [
    {
     "data": {
      "text/html": [
       "<div>\n",
       "<style scoped>\n",
       "    .dataframe tbody tr th:only-of-type {\n",
       "        vertical-align: middle;\n",
       "    }\n",
       "\n",
       "    .dataframe tbody tr th {\n",
       "        vertical-align: top;\n",
       "    }\n",
       "\n",
       "    .dataframe thead th {\n",
       "        text-align: right;\n",
       "    }\n",
       "</style>\n",
       "<table border=\"1\" class=\"dataframe\">\n",
       "  <thead>\n",
       "    <tr style=\"text-align: right;\">\n",
       "      <th></th>\n",
       "      <th>id</th>\n",
       "      <th>country_id</th>\n",
       "      <th>league_id</th>\n",
       "      <th>season</th>\n",
       "      <th>stage</th>\n",
       "      <th>date</th>\n",
       "      <th>match_api_id</th>\n",
       "      <th>home_team_api_id</th>\n",
       "      <th>away_team_api_id</th>\n",
       "      <th>home_team_goal</th>\n",
       "      <th>...</th>\n",
       "      <th>SJA</th>\n",
       "      <th>VCH</th>\n",
       "      <th>VCD</th>\n",
       "      <th>VCA</th>\n",
       "      <th>GBH</th>\n",
       "      <th>GBD</th>\n",
       "      <th>GBA</th>\n",
       "      <th>BSH</th>\n",
       "      <th>BSD</th>\n",
       "      <th>BSA</th>\n",
       "    </tr>\n",
       "  </thead>\n",
       "  <tbody>\n",
       "    <tr>\n",
       "      <th>6685</th>\n",
       "      <td>3062</td>\n",
       "      <td>1729</td>\n",
       "      <td>1729</td>\n",
       "      <td>2011/2012</td>\n",
       "      <td>27</td>\n",
       "      <td>2012-03-03 00:00:00</td>\n",
       "      <td>1025637</td>\n",
       "      <td>8456</td>\n",
       "      <td>8559</td>\n",
       "      <td>2</td>\n",
       "      <td>...</td>\n",
       "      <td>21.00</td>\n",
       "      <td>1.13</td>\n",
       "      <td>10.00</td>\n",
       "      <td>23.00</td>\n",
       "      <td>1.14</td>\n",
       "      <td>7.0</td>\n",
       "      <td>17.00</td>\n",
       "      <td>1.14</td>\n",
       "      <td>7.00</td>\n",
       "      <td>23.0</td>\n",
       "    </tr>\n",
       "    <tr>\n",
       "      <th>12531</th>\n",
       "      <td>4274</td>\n",
       "      <td>1729</td>\n",
       "      <td>1729</td>\n",
       "      <td>2014/2015</td>\n",
       "      <td>33</td>\n",
       "      <td>2015-04-28 00:00:00</td>\n",
       "      <td>1724307</td>\n",
       "      <td>8667</td>\n",
       "      <td>8650</td>\n",
       "      <td>1</td>\n",
       "      <td>...</td>\n",
       "      <td>NaN</td>\n",
       "      <td>4.10</td>\n",
       "      <td>3.40</td>\n",
       "      <td>2.05</td>\n",
       "      <td>NaN</td>\n",
       "      <td>NaN</td>\n",
       "      <td>NaN</td>\n",
       "      <td>NaN</td>\n",
       "      <td>NaN</td>\n",
       "      <td>NaN</td>\n",
       "    </tr>\n",
       "    <tr>\n",
       "      <th>12342</th>\n",
       "      <td>12726</td>\n",
       "      <td>10257</td>\n",
       "      <td>10257</td>\n",
       "      <td>2014/2015</td>\n",
       "      <td>29</td>\n",
       "      <td>2015-04-04 00:00:00</td>\n",
       "      <td>1786292</td>\n",
       "      <td>7943</td>\n",
       "      <td>8533</td>\n",
       "      <td>1</td>\n",
       "      <td>...</td>\n",
       "      <td>NaN</td>\n",
       "      <td>2.25</td>\n",
       "      <td>3.10</td>\n",
       "      <td>3.90</td>\n",
       "      <td>NaN</td>\n",
       "      <td>NaN</td>\n",
       "      <td>NaN</td>\n",
       "      <td>NaN</td>\n",
       "      <td>NaN</td>\n",
       "      <td>NaN</td>\n",
       "    </tr>\n",
       "    <tr>\n",
       "      <th>40</th>\n",
       "      <td>4998</td>\n",
       "      <td>4769</td>\n",
       "      <td>4769</td>\n",
       "      <td>2008/2009</td>\n",
       "      <td>3</td>\n",
       "      <td>2008-08-23 00:00:00</td>\n",
       "      <td>483158</td>\n",
       "      <td>9873</td>\n",
       "      <td>8689</td>\n",
       "      <td>3</td>\n",
       "      <td>...</td>\n",
       "      <td>3.40</td>\n",
       "      <td>2.20</td>\n",
       "      <td>3.00</td>\n",
       "      <td>3.10</td>\n",
       "      <td>2.20</td>\n",
       "      <td>2.9</td>\n",
       "      <td>3.40</td>\n",
       "      <td>2.10</td>\n",
       "      <td>2.88</td>\n",
       "      <td>3.5</td>\n",
       "    </tr>\n",
       "    <tr>\n",
       "      <th>11827</th>\n",
       "      <td>7172</td>\n",
       "      <td>4769</td>\n",
       "      <td>4769</td>\n",
       "      <td>2014/2015</td>\n",
       "      <td>20</td>\n",
       "      <td>2015-01-10 00:00:00</td>\n",
       "      <td>1709890</td>\n",
       "      <td>8639</td>\n",
       "      <td>7819</td>\n",
       "      <td>1</td>\n",
       "      <td>...</td>\n",
       "      <td>NaN</td>\n",
       "      <td>1.85</td>\n",
       "      <td>3.40</td>\n",
       "      <td>5.25</td>\n",
       "      <td>NaN</td>\n",
       "      <td>NaN</td>\n",
       "      <td>NaN</td>\n",
       "      <td>NaN</td>\n",
       "      <td>NaN</td>\n",
       "      <td>NaN</td>\n",
       "    </tr>\n",
       "    <tr>\n",
       "      <th>14052</th>\n",
       "      <td>10096</td>\n",
       "      <td>7809</td>\n",
       "      <td>7809</td>\n",
       "      <td>2015/2016</td>\n",
       "      <td>24</td>\n",
       "      <td>2016-03-02 00:00:00</td>\n",
       "      <td>2002301</td>\n",
       "      <td>10189</td>\n",
       "      <td>9790</td>\n",
       "      <td>3</td>\n",
       "      <td>...</td>\n",
       "      <td>NaN</td>\n",
       "      <td>1.87</td>\n",
       "      <td>3.75</td>\n",
       "      <td>4.20</td>\n",
       "      <td>NaN</td>\n",
       "      <td>NaN</td>\n",
       "      <td>NaN</td>\n",
       "      <td>NaN</td>\n",
       "      <td>NaN</td>\n",
       "      <td>NaN</td>\n",
       "    </tr>\n",
       "    <tr>\n",
       "      <th>389</th>\n",
       "      <td>21880</td>\n",
       "      <td>21518</td>\n",
       "      <td>21518</td>\n",
       "      <td>2008/2009</td>\n",
       "      <td>8</td>\n",
       "      <td>2008-10-25 00:00:00</td>\n",
       "      <td>530215</td>\n",
       "      <td>8371</td>\n",
       "      <td>8603</td>\n",
       "      <td>0</td>\n",
       "      <td>...</td>\n",
       "      <td>3.40</td>\n",
       "      <td>2.25</td>\n",
       "      <td>3.20</td>\n",
       "      <td>3.10</td>\n",
       "      <td>2.30</td>\n",
       "      <td>3.2</td>\n",
       "      <td>3.00</td>\n",
       "      <td>2.25</td>\n",
       "      <td>3.20</td>\n",
       "      <td>3.0</td>\n",
       "    </tr>\n",
       "    <tr>\n",
       "      <th>5945</th>\n",
       "      <td>22681</td>\n",
       "      <td>21518</td>\n",
       "      <td>21518</td>\n",
       "      <td>2011/2012</td>\n",
       "      <td>11</td>\n",
       "      <td>2011-10-29 00:00:00</td>\n",
       "      <td>1051752</td>\n",
       "      <td>8560</td>\n",
       "      <td>8633</td>\n",
       "      <td>0</td>\n",
       "      <td>...</td>\n",
       "      <td>1.18</td>\n",
       "      <td>17.00</td>\n",
       "      <td>7.50</td>\n",
       "      <td>1.20</td>\n",
       "      <td>15.00</td>\n",
       "      <td>6.5</td>\n",
       "      <td>1.17</td>\n",
       "      <td>11.00</td>\n",
       "      <td>6.50</td>\n",
       "      <td>1.2</td>\n",
       "    </tr>\n",
       "    <tr>\n",
       "      <th>10072</th>\n",
       "      <td>6803</td>\n",
       "      <td>4769</td>\n",
       "      <td>4769</td>\n",
       "      <td>2013/2014</td>\n",
       "      <td>21</td>\n",
       "      <td>2014-01-19 00:00:00</td>\n",
       "      <td>1468401</td>\n",
       "      <td>9837</td>\n",
       "      <td>9748</td>\n",
       "      <td>0</td>\n",
       "      <td>...</td>\n",
       "      <td>2.25</td>\n",
       "      <td>3.30</td>\n",
       "      <td>3.20</td>\n",
       "      <td>2.40</td>\n",
       "      <td>NaN</td>\n",
       "      <td>NaN</td>\n",
       "      <td>NaN</td>\n",
       "      <td>NaN</td>\n",
       "      <td>NaN</td>\n",
       "      <td>NaN</td>\n",
       "    </tr>\n",
       "    <tr>\n",
       "      <th>10092</th>\n",
       "      <td>9423</td>\n",
       "      <td>7809</td>\n",
       "      <td>7809</td>\n",
       "      <td>2013/2014</td>\n",
       "      <td>18</td>\n",
       "      <td>2014-01-25 00:00:00</td>\n",
       "      <td>1479148</td>\n",
       "      <td>8721</td>\n",
       "      <td>9904</td>\n",
       "      <td>1</td>\n",
       "      <td>...</td>\n",
       "      <td>5.75</td>\n",
       "      <td>1.60</td>\n",
       "      <td>4.20</td>\n",
       "      <td>6.00</td>\n",
       "      <td>NaN</td>\n",
       "      <td>NaN</td>\n",
       "      <td>NaN</td>\n",
       "      <td>NaN</td>\n",
       "      <td>NaN</td>\n",
       "      <td>NaN</td>\n",
       "    </tr>\n",
       "  </tbody>\n",
       "</table>\n",
       "<p>10 rows × 115 columns</p>\n",
       "</div>"
      ],
      "text/plain": [
       "          id  country_id  league_id     season  stage                 date  \\\n",
       "6685    3062        1729       1729  2011/2012     27  2012-03-03 00:00:00   \n",
       "12531   4274        1729       1729  2014/2015     33  2015-04-28 00:00:00   \n",
       "12342  12726       10257      10257  2014/2015     29  2015-04-04 00:00:00   \n",
       "40      4998        4769       4769  2008/2009      3  2008-08-23 00:00:00   \n",
       "11827   7172        4769       4769  2014/2015     20  2015-01-10 00:00:00   \n",
       "14052  10096        7809       7809  2015/2016     24  2016-03-02 00:00:00   \n",
       "389    21880       21518      21518  2008/2009      8  2008-10-25 00:00:00   \n",
       "5945   22681       21518      21518  2011/2012     11  2011-10-29 00:00:00   \n",
       "10072   6803        4769       4769  2013/2014     21  2014-01-19 00:00:00   \n",
       "10092   9423        7809       7809  2013/2014     18  2014-01-25 00:00:00   \n",
       "\n",
       "       match_api_id  home_team_api_id  away_team_api_id  home_team_goal  ...  \\\n",
       "6685        1025637              8456              8559               2  ...   \n",
       "12531       1724307              8667              8650               1  ...   \n",
       "12342       1786292              7943              8533               1  ...   \n",
       "40           483158              9873              8689               3  ...   \n",
       "11827       1709890              8639              7819               1  ...   \n",
       "14052       2002301             10189              9790               3  ...   \n",
       "389          530215              8371              8603               0  ...   \n",
       "5945        1051752              8560              8633               0  ...   \n",
       "10072       1468401              9837              9748               0  ...   \n",
       "10092       1479148              8721              9904               1  ...   \n",
       "\n",
       "         SJA    VCH    VCD    VCA    GBH  GBD    GBA    BSH   BSD   BSA  \n",
       "6685   21.00   1.13  10.00  23.00   1.14  7.0  17.00   1.14  7.00  23.0  \n",
       "12531    NaN   4.10   3.40   2.05    NaN  NaN    NaN    NaN   NaN   NaN  \n",
       "12342    NaN   2.25   3.10   3.90    NaN  NaN    NaN    NaN   NaN   NaN  \n",
       "40      3.40   2.20   3.00   3.10   2.20  2.9   3.40   2.10  2.88   3.5  \n",
       "11827    NaN   1.85   3.40   5.25    NaN  NaN    NaN    NaN   NaN   NaN  \n",
       "14052    NaN   1.87   3.75   4.20    NaN  NaN    NaN    NaN   NaN   NaN  \n",
       "389     3.40   2.25   3.20   3.10   2.30  3.2   3.00   2.25  3.20   3.0  \n",
       "5945    1.18  17.00   7.50   1.20  15.00  6.5   1.17  11.00  6.50   1.2  \n",
       "10072   2.25   3.30   3.20   2.40    NaN  NaN    NaN    NaN   NaN   NaN  \n",
       "10092   5.75   1.60   4.20   6.00    NaN  NaN    NaN    NaN   NaN   NaN  \n",
       "\n",
       "[10 rows x 115 columns]"
      ]
     },
     "execution_count": 6,
     "metadata": {},
     "output_type": "execute_result"
    }
   ],
   "source": [
    "top_5_leagues_matches_df = get_dataframe_from_sql('SELECT * FROM Match').query('league_id in @leagues_df.id')\n",
    "top_5_leagues_matches_df = top_5_leagues_matches_df.sort_values(\"date\").reset_index(drop=True)\n",
    "top_5_leagues_matches_df.sample(10)"
   ]
  },
  {
   "cell_type": "markdown",
   "metadata": {},
   "source": [
    "#### get the teams"
   ]
  },
  {
   "cell_type": "code",
   "execution_count": 7,
   "metadata": {},
   "outputs": [
    {
     "data": {
      "text/html": [
       "<div>\n",
       "<style scoped>\n",
       "    .dataframe tbody tr th:only-of-type {\n",
       "        vertical-align: middle;\n",
       "    }\n",
       "\n",
       "    .dataframe tbody tr th {\n",
       "        vertical-align: top;\n",
       "    }\n",
       "\n",
       "    .dataframe thead th {\n",
       "        text-align: right;\n",
       "    }\n",
       "</style>\n",
       "<table border=\"1\" class=\"dataframe\">\n",
       "  <thead>\n",
       "    <tr style=\"text-align: right;\">\n",
       "      <th></th>\n",
       "      <th>id</th>\n",
       "      <th>team_api_id</th>\n",
       "      <th>team_fifa_api_id</th>\n",
       "      <th>team_long_name</th>\n",
       "      <th>team_short_name</th>\n",
       "    </tr>\n",
       "  </thead>\n",
       "  <tbody>\n",
       "    <tr>\n",
       "      <th>0</th>\n",
       "      <td>1</td>\n",
       "      <td>9987</td>\n",
       "      <td>673.0</td>\n",
       "      <td>KRC Genk</td>\n",
       "      <td>GEN</td>\n",
       "    </tr>\n",
       "    <tr>\n",
       "      <th>1</th>\n",
       "      <td>2</td>\n",
       "      <td>9993</td>\n",
       "      <td>675.0</td>\n",
       "      <td>Beerschot AC</td>\n",
       "      <td>BAC</td>\n",
       "    </tr>\n",
       "    <tr>\n",
       "      <th>2</th>\n",
       "      <td>3</td>\n",
       "      <td>10000</td>\n",
       "      <td>15005.0</td>\n",
       "      <td>SV Zulte-Waregem</td>\n",
       "      <td>ZUL</td>\n",
       "    </tr>\n",
       "    <tr>\n",
       "      <th>3</th>\n",
       "      <td>4</td>\n",
       "      <td>9994</td>\n",
       "      <td>2007.0</td>\n",
       "      <td>Sporting Lokeren</td>\n",
       "      <td>LOK</td>\n",
       "    </tr>\n",
       "    <tr>\n",
       "      <th>4</th>\n",
       "      <td>5</td>\n",
       "      <td>9984</td>\n",
       "      <td>1750.0</td>\n",
       "      <td>KSV Cercle Brugge</td>\n",
       "      <td>CEB</td>\n",
       "    </tr>\n",
       "  </tbody>\n",
       "</table>\n",
       "</div>"
      ],
      "text/plain": [
       "   id  team_api_id  team_fifa_api_id     team_long_name team_short_name\n",
       "0   1         9987             673.0           KRC Genk             GEN\n",
       "1   2         9993             675.0       Beerschot AC             BAC\n",
       "2   3        10000           15005.0   SV Zulte-Waregem             ZUL\n",
       "3   4         9994            2007.0   Sporting Lokeren             LOK\n",
       "4   5         9984            1750.0  KSV Cercle Brugge             CEB"
      ]
     },
     "execution_count": 7,
     "metadata": {},
     "output_type": "execute_result"
    }
   ],
   "source": [
    "teams_df = get_dataframe_from_sql(\"SELECT * FROM Team;\")\n",
    "teams_df.head()"
   ]
  },
  {
   "cell_type": "code",
   "execution_count": 8,
   "metadata": {},
   "outputs": [
    {
     "data": {
      "text/html": [
       "<div>\n",
       "<style scoped>\n",
       "    .dataframe tbody tr th:only-of-type {\n",
       "        vertical-align: middle;\n",
       "    }\n",
       "\n",
       "    .dataframe tbody tr th {\n",
       "        vertical-align: top;\n",
       "    }\n",
       "\n",
       "    .dataframe thead th {\n",
       "        text-align: right;\n",
       "    }\n",
       "</style>\n",
       "<table border=\"1\" class=\"dataframe\">\n",
       "  <thead>\n",
       "    <tr style=\"text-align: right;\">\n",
       "      <th></th>\n",
       "      <th>id</th>\n",
       "      <th>team_api_id</th>\n",
       "      <th>team_fifa_api_id</th>\n",
       "      <th>team_long_name</th>\n",
       "      <th>team_short_name</th>\n",
       "    </tr>\n",
       "  </thead>\n",
       "  <tbody>\n",
       "    <tr>\n",
       "      <th>0</th>\n",
       "      <td>3457</td>\n",
       "      <td>10260</td>\n",
       "      <td>11.0</td>\n",
       "      <td>Manchester United</td>\n",
       "      <td>MUN</td>\n",
       "    </tr>\n",
       "    <tr>\n",
       "      <th>1</th>\n",
       "      <td>3458</td>\n",
       "      <td>10261</td>\n",
       "      <td>13.0</td>\n",
       "      <td>Newcastle United</td>\n",
       "      <td>NEW</td>\n",
       "    </tr>\n",
       "    <tr>\n",
       "      <th>2</th>\n",
       "      <td>3459</td>\n",
       "      <td>9825</td>\n",
       "      <td>1.0</td>\n",
       "      <td>Arsenal</td>\n",
       "      <td>ARS</td>\n",
       "    </tr>\n",
       "    <tr>\n",
       "      <th>3</th>\n",
       "      <td>3460</td>\n",
       "      <td>8659</td>\n",
       "      <td>109.0</td>\n",
       "      <td>West Bromwich Albion</td>\n",
       "      <td>WBA</td>\n",
       "    </tr>\n",
       "    <tr>\n",
       "      <th>4</th>\n",
       "      <td>3461</td>\n",
       "      <td>8472</td>\n",
       "      <td>106.0</td>\n",
       "      <td>Sunderland</td>\n",
       "      <td>SUN</td>\n",
       "    </tr>\n",
       "  </tbody>\n",
       "</table>\n",
       "</div>"
      ],
      "text/plain": [
       "     id  team_api_id  team_fifa_api_id        team_long_name team_short_name\n",
       "0  3457        10260              11.0     Manchester United             MUN\n",
       "1  3458        10261              13.0      Newcastle United             NEW\n",
       "2  3459         9825               1.0               Arsenal             ARS\n",
       "3  3460         8659             109.0  West Bromwich Albion             WBA\n",
       "4  3461         8472             106.0            Sunderland             SUN"
      ]
     },
     "execution_count": 8,
     "metadata": {},
     "output_type": "execute_result"
    }
   ],
   "source": [
    "# Get the top 5 leagues' teams\n",
    "# use the api id of both home and away teams in case some teams have missing home/away match info\n",
    "top_5_leagues_team_ids = np.unique(np.concatenate((top_5_leagues_matches_df.home_team_api_id.unique(), top_5_leagues_matches_df.away_team_api_id.unique())))\n",
    "teams_df = teams_df[teams_df.team_api_id.isin(top_5_leagues_team_ids)].reset_index(drop=True)\n",
    "teams_df.head()"
   ]
  },
  {
   "cell_type": "markdown",
   "metadata": {},
   "source": [
    "### get attributes of teams in the top 5 leagues"
   ]
  },
  {
   "cell_type": "code",
   "execution_count": 9,
   "metadata": {},
   "outputs": [
    {
     "data": {
      "text/html": [
       "<div>\n",
       "<style scoped>\n",
       "    .dataframe tbody tr th:only-of-type {\n",
       "        vertical-align: middle;\n",
       "    }\n",
       "\n",
       "    .dataframe tbody tr th {\n",
       "        vertical-align: top;\n",
       "    }\n",
       "\n",
       "    .dataframe thead th {\n",
       "        text-align: right;\n",
       "    }\n",
       "</style>\n",
       "<table border=\"1\" class=\"dataframe\">\n",
       "  <thead>\n",
       "    <tr style=\"text-align: right;\">\n",
       "      <th></th>\n",
       "      <th>id</th>\n",
       "      <th>team_fifa_api_id</th>\n",
       "      <th>team_api_id</th>\n",
       "      <th>date</th>\n",
       "      <th>buildUpPlaySpeed</th>\n",
       "      <th>buildUpPlaySpeedClass</th>\n",
       "      <th>buildUpPlayDribbling</th>\n",
       "      <th>buildUpPlayDribblingClass</th>\n",
       "      <th>buildUpPlayPassing</th>\n",
       "      <th>buildUpPlayPassingClass</th>\n",
       "      <th>...</th>\n",
       "      <th>chanceCreationShooting</th>\n",
       "      <th>chanceCreationShootingClass</th>\n",
       "      <th>chanceCreationPositioningClass</th>\n",
       "      <th>defencePressure</th>\n",
       "      <th>defencePressureClass</th>\n",
       "      <th>defenceAggression</th>\n",
       "      <th>defenceAggressionClass</th>\n",
       "      <th>defenceTeamWidth</th>\n",
       "      <th>defenceTeamWidthClass</th>\n",
       "      <th>defenceDefenderLineClass</th>\n",
       "    </tr>\n",
       "  </thead>\n",
       "  <tbody>\n",
       "    <tr>\n",
       "      <th>0</th>\n",
       "      <td>1</td>\n",
       "      <td>434</td>\n",
       "      <td>9930</td>\n",
       "      <td>2010-02-22 00:00:00</td>\n",
       "      <td>60</td>\n",
       "      <td>Balanced</td>\n",
       "      <td>NaN</td>\n",
       "      <td>Little</td>\n",
       "      <td>50</td>\n",
       "      <td>Mixed</td>\n",
       "      <td>...</td>\n",
       "      <td>55</td>\n",
       "      <td>Normal</td>\n",
       "      <td>Organised</td>\n",
       "      <td>50</td>\n",
       "      <td>Medium</td>\n",
       "      <td>55</td>\n",
       "      <td>Press</td>\n",
       "      <td>45</td>\n",
       "      <td>Normal</td>\n",
       "      <td>Cover</td>\n",
       "    </tr>\n",
       "    <tr>\n",
       "      <th>1</th>\n",
       "      <td>2</td>\n",
       "      <td>434</td>\n",
       "      <td>9930</td>\n",
       "      <td>2014-09-19 00:00:00</td>\n",
       "      <td>52</td>\n",
       "      <td>Balanced</td>\n",
       "      <td>48.0</td>\n",
       "      <td>Normal</td>\n",
       "      <td>56</td>\n",
       "      <td>Mixed</td>\n",
       "      <td>...</td>\n",
       "      <td>64</td>\n",
       "      <td>Normal</td>\n",
       "      <td>Organised</td>\n",
       "      <td>47</td>\n",
       "      <td>Medium</td>\n",
       "      <td>44</td>\n",
       "      <td>Press</td>\n",
       "      <td>54</td>\n",
       "      <td>Normal</td>\n",
       "      <td>Cover</td>\n",
       "    </tr>\n",
       "    <tr>\n",
       "      <th>2</th>\n",
       "      <td>3</td>\n",
       "      <td>434</td>\n",
       "      <td>9930</td>\n",
       "      <td>2015-09-10 00:00:00</td>\n",
       "      <td>47</td>\n",
       "      <td>Balanced</td>\n",
       "      <td>41.0</td>\n",
       "      <td>Normal</td>\n",
       "      <td>54</td>\n",
       "      <td>Mixed</td>\n",
       "      <td>...</td>\n",
       "      <td>64</td>\n",
       "      <td>Normal</td>\n",
       "      <td>Organised</td>\n",
       "      <td>47</td>\n",
       "      <td>Medium</td>\n",
       "      <td>44</td>\n",
       "      <td>Press</td>\n",
       "      <td>54</td>\n",
       "      <td>Normal</td>\n",
       "      <td>Cover</td>\n",
       "    </tr>\n",
       "    <tr>\n",
       "      <th>3</th>\n",
       "      <td>4</td>\n",
       "      <td>77</td>\n",
       "      <td>8485</td>\n",
       "      <td>2010-02-22 00:00:00</td>\n",
       "      <td>70</td>\n",
       "      <td>Fast</td>\n",
       "      <td>NaN</td>\n",
       "      <td>Little</td>\n",
       "      <td>70</td>\n",
       "      <td>Long</td>\n",
       "      <td>...</td>\n",
       "      <td>70</td>\n",
       "      <td>Lots</td>\n",
       "      <td>Organised</td>\n",
       "      <td>60</td>\n",
       "      <td>Medium</td>\n",
       "      <td>70</td>\n",
       "      <td>Double</td>\n",
       "      <td>70</td>\n",
       "      <td>Wide</td>\n",
       "      <td>Cover</td>\n",
       "    </tr>\n",
       "    <tr>\n",
       "      <th>4</th>\n",
       "      <td>5</td>\n",
       "      <td>77</td>\n",
       "      <td>8485</td>\n",
       "      <td>2011-02-22 00:00:00</td>\n",
       "      <td>47</td>\n",
       "      <td>Balanced</td>\n",
       "      <td>NaN</td>\n",
       "      <td>Little</td>\n",
       "      <td>52</td>\n",
       "      <td>Mixed</td>\n",
       "      <td>...</td>\n",
       "      <td>52</td>\n",
       "      <td>Normal</td>\n",
       "      <td>Organised</td>\n",
       "      <td>47</td>\n",
       "      <td>Medium</td>\n",
       "      <td>47</td>\n",
       "      <td>Press</td>\n",
       "      <td>52</td>\n",
       "      <td>Normal</td>\n",
       "      <td>Cover</td>\n",
       "    </tr>\n",
       "  </tbody>\n",
       "</table>\n",
       "<p>5 rows × 25 columns</p>\n",
       "</div>"
      ],
      "text/plain": [
       "   id  team_fifa_api_id  team_api_id                 date  buildUpPlaySpeed  \\\n",
       "0   1               434         9930  2010-02-22 00:00:00                60   \n",
       "1   2               434         9930  2014-09-19 00:00:00                52   \n",
       "2   3               434         9930  2015-09-10 00:00:00                47   \n",
       "3   4                77         8485  2010-02-22 00:00:00                70   \n",
       "4   5                77         8485  2011-02-22 00:00:00                47   \n",
       "\n",
       "  buildUpPlaySpeedClass  buildUpPlayDribbling buildUpPlayDribblingClass  \\\n",
       "0              Balanced                   NaN                    Little   \n",
       "1              Balanced                  48.0                    Normal   \n",
       "2              Balanced                  41.0                    Normal   \n",
       "3                  Fast                   NaN                    Little   \n",
       "4              Balanced                   NaN                    Little   \n",
       "\n",
       "   buildUpPlayPassing buildUpPlayPassingClass  ... chanceCreationShooting  \\\n",
       "0                  50                   Mixed  ...                     55   \n",
       "1                  56                   Mixed  ...                     64   \n",
       "2                  54                   Mixed  ...                     64   \n",
       "3                  70                    Long  ...                     70   \n",
       "4                  52                   Mixed  ...                     52   \n",
       "\n",
       "   chanceCreationShootingClass chanceCreationPositioningClass  \\\n",
       "0                       Normal                      Organised   \n",
       "1                       Normal                      Organised   \n",
       "2                       Normal                      Organised   \n",
       "3                         Lots                      Organised   \n",
       "4                       Normal                      Organised   \n",
       "\n",
       "   defencePressure defencePressureClass  defenceAggression  \\\n",
       "0               50               Medium                 55   \n",
       "1               47               Medium                 44   \n",
       "2               47               Medium                 44   \n",
       "3               60               Medium                 70   \n",
       "4               47               Medium                 47   \n",
       "\n",
       "  defenceAggressionClass defenceTeamWidth  defenceTeamWidthClass  \\\n",
       "0                  Press               45                 Normal   \n",
       "1                  Press               54                 Normal   \n",
       "2                  Press               54                 Normal   \n",
       "3                 Double               70                   Wide   \n",
       "4                  Press               52                 Normal   \n",
       "\n",
       "  defenceDefenderLineClass  \n",
       "0                    Cover  \n",
       "1                    Cover  \n",
       "2                    Cover  \n",
       "3                    Cover  \n",
       "4                    Cover  \n",
       "\n",
       "[5 rows x 25 columns]"
      ]
     },
     "execution_count": 9,
     "metadata": {},
     "output_type": "execute_result"
    }
   ],
   "source": [
    "team_attributes_df = get_dataframe_from_sql(\"SELECT * FROM Team_Attributes;\")\n",
    "team_attributes_df.head()"
   ]
  },
  {
   "cell_type": "code",
   "execution_count": 10,
   "metadata": {},
   "outputs": [
    {
     "data": {
      "text/html": [
       "<div>\n",
       "<style scoped>\n",
       "    .dataframe tbody tr th:only-of-type {\n",
       "        vertical-align: middle;\n",
       "    }\n",
       "\n",
       "    .dataframe tbody tr th {\n",
       "        vertical-align: top;\n",
       "    }\n",
       "\n",
       "    .dataframe thead th {\n",
       "        text-align: right;\n",
       "    }\n",
       "</style>\n",
       "<table border=\"1\" class=\"dataframe\">\n",
       "  <thead>\n",
       "    <tr style=\"text-align: right;\">\n",
       "      <th></th>\n",
       "      <th>id</th>\n",
       "      <th>team_fifa_api_id</th>\n",
       "      <th>team_api_id</th>\n",
       "      <th>date</th>\n",
       "      <th>buildUpPlaySpeed</th>\n",
       "      <th>buildUpPlaySpeedClass</th>\n",
       "      <th>buildUpPlayDribbling</th>\n",
       "      <th>buildUpPlayDribblingClass</th>\n",
       "      <th>buildUpPlayPassing</th>\n",
       "      <th>buildUpPlayPassingClass</th>\n",
       "      <th>...</th>\n",
       "      <th>chanceCreationShooting</th>\n",
       "      <th>chanceCreationShootingClass</th>\n",
       "      <th>chanceCreationPositioningClass</th>\n",
       "      <th>defencePressure</th>\n",
       "      <th>defencePressureClass</th>\n",
       "      <th>defenceAggression</th>\n",
       "      <th>defenceAggressionClass</th>\n",
       "      <th>defenceTeamWidth</th>\n",
       "      <th>defenceTeamWidthClass</th>\n",
       "      <th>defenceDefenderLineClass</th>\n",
       "    </tr>\n",
       "  </thead>\n",
       "  <tbody>\n",
       "    <tr>\n",
       "      <th>9</th>\n",
       "      <td>10</td>\n",
       "      <td>614</td>\n",
       "      <td>8576</td>\n",
       "      <td>2010-02-22 00:00:00</td>\n",
       "      <td>60</td>\n",
       "      <td>Balanced</td>\n",
       "      <td>NaN</td>\n",
       "      <td>Little</td>\n",
       "      <td>40</td>\n",
       "      <td>Mixed</td>\n",
       "      <td>...</td>\n",
       "      <td>55</td>\n",
       "      <td>Normal</td>\n",
       "      <td>Organised</td>\n",
       "      <td>30</td>\n",
       "      <td>Deep</td>\n",
       "      <td>70</td>\n",
       "      <td>Double</td>\n",
       "      <td>30</td>\n",
       "      <td>Narrow</td>\n",
       "      <td>Offside Trap</td>\n",
       "    </tr>\n",
       "    <tr>\n",
       "      <th>10</th>\n",
       "      <td>11</td>\n",
       "      <td>614</td>\n",
       "      <td>8576</td>\n",
       "      <td>2011-02-22 00:00:00</td>\n",
       "      <td>65</td>\n",
       "      <td>Balanced</td>\n",
       "      <td>NaN</td>\n",
       "      <td>Little</td>\n",
       "      <td>45</td>\n",
       "      <td>Mixed</td>\n",
       "      <td>...</td>\n",
       "      <td>50</td>\n",
       "      <td>Normal</td>\n",
       "      <td>Organised</td>\n",
       "      <td>45</td>\n",
       "      <td>Medium</td>\n",
       "      <td>45</td>\n",
       "      <td>Press</td>\n",
       "      <td>50</td>\n",
       "      <td>Normal</td>\n",
       "      <td>Cover</td>\n",
       "    </tr>\n",
       "    <tr>\n",
       "      <th>11</th>\n",
       "      <td>12</td>\n",
       "      <td>614</td>\n",
       "      <td>8576</td>\n",
       "      <td>2012-02-22 00:00:00</td>\n",
       "      <td>59</td>\n",
       "      <td>Balanced</td>\n",
       "      <td>NaN</td>\n",
       "      <td>Little</td>\n",
       "      <td>52</td>\n",
       "      <td>Mixed</td>\n",
       "      <td>...</td>\n",
       "      <td>52</td>\n",
       "      <td>Normal</td>\n",
       "      <td>Organised</td>\n",
       "      <td>38</td>\n",
       "      <td>Medium</td>\n",
       "      <td>47</td>\n",
       "      <td>Press</td>\n",
       "      <td>53</td>\n",
       "      <td>Normal</td>\n",
       "      <td>Cover</td>\n",
       "    </tr>\n",
       "    <tr>\n",
       "      <th>12</th>\n",
       "      <td>13</td>\n",
       "      <td>614</td>\n",
       "      <td>8576</td>\n",
       "      <td>2013-09-20 00:00:00</td>\n",
       "      <td>59</td>\n",
       "      <td>Balanced</td>\n",
       "      <td>NaN</td>\n",
       "      <td>Little</td>\n",
       "      <td>52</td>\n",
       "      <td>Mixed</td>\n",
       "      <td>...</td>\n",
       "      <td>52</td>\n",
       "      <td>Normal</td>\n",
       "      <td>Organised</td>\n",
       "      <td>38</td>\n",
       "      <td>Medium</td>\n",
       "      <td>47</td>\n",
       "      <td>Press</td>\n",
       "      <td>53</td>\n",
       "      <td>Normal</td>\n",
       "      <td>Cover</td>\n",
       "    </tr>\n",
       "    <tr>\n",
       "      <th>13</th>\n",
       "      <td>14</td>\n",
       "      <td>614</td>\n",
       "      <td>8576</td>\n",
       "      <td>2014-09-19 00:00:00</td>\n",
       "      <td>59</td>\n",
       "      <td>Balanced</td>\n",
       "      <td>57.0</td>\n",
       "      <td>Normal</td>\n",
       "      <td>52</td>\n",
       "      <td>Mixed</td>\n",
       "      <td>...</td>\n",
       "      <td>52</td>\n",
       "      <td>Normal</td>\n",
       "      <td>Organised</td>\n",
       "      <td>38</td>\n",
       "      <td>Medium</td>\n",
       "      <td>47</td>\n",
       "      <td>Press</td>\n",
       "      <td>53</td>\n",
       "      <td>Normal</td>\n",
       "      <td>Cover</td>\n",
       "    </tr>\n",
       "  </tbody>\n",
       "</table>\n",
       "<p>5 rows × 25 columns</p>\n",
       "</div>"
      ],
      "text/plain": [
       "    id  team_fifa_api_id  team_api_id                 date  buildUpPlaySpeed  \\\n",
       "9   10               614         8576  2010-02-22 00:00:00                60   \n",
       "10  11               614         8576  2011-02-22 00:00:00                65   \n",
       "11  12               614         8576  2012-02-22 00:00:00                59   \n",
       "12  13               614         8576  2013-09-20 00:00:00                59   \n",
       "13  14               614         8576  2014-09-19 00:00:00                59   \n",
       "\n",
       "   buildUpPlaySpeedClass  buildUpPlayDribbling buildUpPlayDribblingClass  \\\n",
       "9               Balanced                   NaN                    Little   \n",
       "10              Balanced                   NaN                    Little   \n",
       "11              Balanced                   NaN                    Little   \n",
       "12              Balanced                   NaN                    Little   \n",
       "13              Balanced                  57.0                    Normal   \n",
       "\n",
       "    buildUpPlayPassing buildUpPlayPassingClass  ... chanceCreationShooting  \\\n",
       "9                   40                   Mixed  ...                     55   \n",
       "10                  45                   Mixed  ...                     50   \n",
       "11                  52                   Mixed  ...                     52   \n",
       "12                  52                   Mixed  ...                     52   \n",
       "13                  52                   Mixed  ...                     52   \n",
       "\n",
       "    chanceCreationShootingClass chanceCreationPositioningClass  \\\n",
       "9                        Normal                      Organised   \n",
       "10                       Normal                      Organised   \n",
       "11                       Normal                      Organised   \n",
       "12                       Normal                      Organised   \n",
       "13                       Normal                      Organised   \n",
       "\n",
       "    defencePressure defencePressureClass  defenceAggression  \\\n",
       "9                30                 Deep                 70   \n",
       "10               45               Medium                 45   \n",
       "11               38               Medium                 47   \n",
       "12               38               Medium                 47   \n",
       "13               38               Medium                 47   \n",
       "\n",
       "   defenceAggressionClass defenceTeamWidth  defenceTeamWidthClass  \\\n",
       "9                  Double               30                 Narrow   \n",
       "10                  Press               50                 Normal   \n",
       "11                  Press               53                 Normal   \n",
       "12                  Press               53                 Normal   \n",
       "13                  Press               53                 Normal   \n",
       "\n",
       "   defenceDefenderLineClass  \n",
       "9              Offside Trap  \n",
       "10                    Cover  \n",
       "11                    Cover  \n",
       "12                    Cover  \n",
       "13                    Cover  \n",
       "\n",
       "[5 rows x 25 columns]"
      ]
     },
     "execution_count": 10,
     "metadata": {},
     "output_type": "execute_result"
    }
   ],
   "source": [
    "# Get the attributes of the top 5 leagues' teams\n",
    "team_attributes_df = team_attributes_df[team_attributes_df.team_api_id.isin(teams_df.team_api_id.unique())]\n",
    "team_attributes_df.head()"
   ]
  },
  {
   "cell_type": "markdown",
   "metadata": {},
   "source": [
    "### get the players"
   ]
  },
  {
   "cell_type": "code",
   "execution_count": 11,
   "metadata": {},
   "outputs": [
    {
     "data": {
      "text/html": [
       "<div>\n",
       "<style scoped>\n",
       "    .dataframe tbody tr th:only-of-type {\n",
       "        vertical-align: middle;\n",
       "    }\n",
       "\n",
       "    .dataframe tbody tr th {\n",
       "        vertical-align: top;\n",
       "    }\n",
       "\n",
       "    .dataframe thead th {\n",
       "        text-align: right;\n",
       "    }\n",
       "</style>\n",
       "<table border=\"1\" class=\"dataframe\">\n",
       "  <thead>\n",
       "    <tr style=\"text-align: right;\">\n",
       "      <th></th>\n",
       "      <th>id</th>\n",
       "      <th>player_api_id</th>\n",
       "      <th>player_name</th>\n",
       "      <th>player_fifa_api_id</th>\n",
       "      <th>birthday</th>\n",
       "      <th>height</th>\n",
       "      <th>weight</th>\n",
       "    </tr>\n",
       "  </thead>\n",
       "  <tbody>\n",
       "    <tr>\n",
       "      <th>0</th>\n",
       "      <td>1</td>\n",
       "      <td>505942</td>\n",
       "      <td>Aaron Appindangoye</td>\n",
       "      <td>218353</td>\n",
       "      <td>1992-02-29 00:00:00</td>\n",
       "      <td>182.88</td>\n",
       "      <td>187</td>\n",
       "    </tr>\n",
       "    <tr>\n",
       "      <th>1</th>\n",
       "      <td>2</td>\n",
       "      <td>155782</td>\n",
       "      <td>Aaron Cresswell</td>\n",
       "      <td>189615</td>\n",
       "      <td>1989-12-15 00:00:00</td>\n",
       "      <td>170.18</td>\n",
       "      <td>146</td>\n",
       "    </tr>\n",
       "    <tr>\n",
       "      <th>2</th>\n",
       "      <td>3</td>\n",
       "      <td>162549</td>\n",
       "      <td>Aaron Doran</td>\n",
       "      <td>186170</td>\n",
       "      <td>1991-05-13 00:00:00</td>\n",
       "      <td>170.18</td>\n",
       "      <td>163</td>\n",
       "    </tr>\n",
       "    <tr>\n",
       "      <th>3</th>\n",
       "      <td>4</td>\n",
       "      <td>30572</td>\n",
       "      <td>Aaron Galindo</td>\n",
       "      <td>140161</td>\n",
       "      <td>1982-05-08 00:00:00</td>\n",
       "      <td>182.88</td>\n",
       "      <td>198</td>\n",
       "    </tr>\n",
       "    <tr>\n",
       "      <th>4</th>\n",
       "      <td>5</td>\n",
       "      <td>23780</td>\n",
       "      <td>Aaron Hughes</td>\n",
       "      <td>17725</td>\n",
       "      <td>1979-11-08 00:00:00</td>\n",
       "      <td>182.88</td>\n",
       "      <td>154</td>\n",
       "    </tr>\n",
       "  </tbody>\n",
       "</table>\n",
       "</div>"
      ],
      "text/plain": [
       "   id  player_api_id         player_name  player_fifa_api_id  \\\n",
       "0   1         505942  Aaron Appindangoye              218353   \n",
       "1   2         155782     Aaron Cresswell              189615   \n",
       "2   3         162549         Aaron Doran              186170   \n",
       "3   4          30572       Aaron Galindo              140161   \n",
       "4   5          23780        Aaron Hughes               17725   \n",
       "\n",
       "              birthday  height  weight  \n",
       "0  1992-02-29 00:00:00  182.88     187  \n",
       "1  1989-12-15 00:00:00  170.18     146  \n",
       "2  1991-05-13 00:00:00  170.18     163  \n",
       "3  1982-05-08 00:00:00  182.88     198  \n",
       "4  1979-11-08 00:00:00  182.88     154  "
      ]
     },
     "execution_count": 11,
     "metadata": {},
     "output_type": "execute_result"
    }
   ],
   "source": [
    "players_df = get_dataframe_from_sql('SELECT * FROM Player;')\n",
    "players_df.head()"
   ]
  },
  {
   "cell_type": "markdown",
   "metadata": {},
   "source": [
    "### get the player attributes"
   ]
  },
  {
   "cell_type": "code",
   "execution_count": 12,
   "metadata": {},
   "outputs": [
    {
     "data": {
      "text/html": [
       "<div>\n",
       "<style scoped>\n",
       "    .dataframe tbody tr th:only-of-type {\n",
       "        vertical-align: middle;\n",
       "    }\n",
       "\n",
       "    .dataframe tbody tr th {\n",
       "        vertical-align: top;\n",
       "    }\n",
       "\n",
       "    .dataframe thead th {\n",
       "        text-align: right;\n",
       "    }\n",
       "</style>\n",
       "<table border=\"1\" class=\"dataframe\">\n",
       "  <thead>\n",
       "    <tr style=\"text-align: right;\">\n",
       "      <th></th>\n",
       "      <th>id</th>\n",
       "      <th>player_fifa_api_id</th>\n",
       "      <th>player_api_id</th>\n",
       "      <th>date</th>\n",
       "      <th>overall_rating</th>\n",
       "      <th>potential</th>\n",
       "      <th>preferred_foot</th>\n",
       "      <th>attacking_work_rate</th>\n",
       "      <th>defensive_work_rate</th>\n",
       "      <th>crossing</th>\n",
       "      <th>...</th>\n",
       "      <th>vision</th>\n",
       "      <th>penalties</th>\n",
       "      <th>marking</th>\n",
       "      <th>standing_tackle</th>\n",
       "      <th>sliding_tackle</th>\n",
       "      <th>gk_diving</th>\n",
       "      <th>gk_handling</th>\n",
       "      <th>gk_kicking</th>\n",
       "      <th>gk_positioning</th>\n",
       "      <th>gk_reflexes</th>\n",
       "    </tr>\n",
       "  </thead>\n",
       "  <tbody>\n",
       "    <tr>\n",
       "      <th>0</th>\n",
       "      <td>1</td>\n",
       "      <td>218353</td>\n",
       "      <td>505942</td>\n",
       "      <td>2016-02-18 00:00:00</td>\n",
       "      <td>67.0</td>\n",
       "      <td>71.0</td>\n",
       "      <td>right</td>\n",
       "      <td>medium</td>\n",
       "      <td>medium</td>\n",
       "      <td>49.0</td>\n",
       "      <td>...</td>\n",
       "      <td>54.0</td>\n",
       "      <td>48.0</td>\n",
       "      <td>65.0</td>\n",
       "      <td>69.0</td>\n",
       "      <td>69.0</td>\n",
       "      <td>6.0</td>\n",
       "      <td>11.0</td>\n",
       "      <td>10.0</td>\n",
       "      <td>8.0</td>\n",
       "      <td>8.0</td>\n",
       "    </tr>\n",
       "    <tr>\n",
       "      <th>1</th>\n",
       "      <td>2</td>\n",
       "      <td>218353</td>\n",
       "      <td>505942</td>\n",
       "      <td>2015-11-19 00:00:00</td>\n",
       "      <td>67.0</td>\n",
       "      <td>71.0</td>\n",
       "      <td>right</td>\n",
       "      <td>medium</td>\n",
       "      <td>medium</td>\n",
       "      <td>49.0</td>\n",
       "      <td>...</td>\n",
       "      <td>54.0</td>\n",
       "      <td>48.0</td>\n",
       "      <td>65.0</td>\n",
       "      <td>69.0</td>\n",
       "      <td>69.0</td>\n",
       "      <td>6.0</td>\n",
       "      <td>11.0</td>\n",
       "      <td>10.0</td>\n",
       "      <td>8.0</td>\n",
       "      <td>8.0</td>\n",
       "    </tr>\n",
       "    <tr>\n",
       "      <th>2</th>\n",
       "      <td>3</td>\n",
       "      <td>218353</td>\n",
       "      <td>505942</td>\n",
       "      <td>2015-09-21 00:00:00</td>\n",
       "      <td>62.0</td>\n",
       "      <td>66.0</td>\n",
       "      <td>right</td>\n",
       "      <td>medium</td>\n",
       "      <td>medium</td>\n",
       "      <td>49.0</td>\n",
       "      <td>...</td>\n",
       "      <td>54.0</td>\n",
       "      <td>48.0</td>\n",
       "      <td>65.0</td>\n",
       "      <td>66.0</td>\n",
       "      <td>69.0</td>\n",
       "      <td>6.0</td>\n",
       "      <td>11.0</td>\n",
       "      <td>10.0</td>\n",
       "      <td>8.0</td>\n",
       "      <td>8.0</td>\n",
       "    </tr>\n",
       "    <tr>\n",
       "      <th>3</th>\n",
       "      <td>4</td>\n",
       "      <td>218353</td>\n",
       "      <td>505942</td>\n",
       "      <td>2015-03-20 00:00:00</td>\n",
       "      <td>61.0</td>\n",
       "      <td>65.0</td>\n",
       "      <td>right</td>\n",
       "      <td>medium</td>\n",
       "      <td>medium</td>\n",
       "      <td>48.0</td>\n",
       "      <td>...</td>\n",
       "      <td>53.0</td>\n",
       "      <td>47.0</td>\n",
       "      <td>62.0</td>\n",
       "      <td>63.0</td>\n",
       "      <td>66.0</td>\n",
       "      <td>5.0</td>\n",
       "      <td>10.0</td>\n",
       "      <td>9.0</td>\n",
       "      <td>7.0</td>\n",
       "      <td>7.0</td>\n",
       "    </tr>\n",
       "    <tr>\n",
       "      <th>4</th>\n",
       "      <td>5</td>\n",
       "      <td>218353</td>\n",
       "      <td>505942</td>\n",
       "      <td>2007-02-22 00:00:00</td>\n",
       "      <td>61.0</td>\n",
       "      <td>65.0</td>\n",
       "      <td>right</td>\n",
       "      <td>medium</td>\n",
       "      <td>medium</td>\n",
       "      <td>48.0</td>\n",
       "      <td>...</td>\n",
       "      <td>53.0</td>\n",
       "      <td>47.0</td>\n",
       "      <td>62.0</td>\n",
       "      <td>63.0</td>\n",
       "      <td>66.0</td>\n",
       "      <td>5.0</td>\n",
       "      <td>10.0</td>\n",
       "      <td>9.0</td>\n",
       "      <td>7.0</td>\n",
       "      <td>7.0</td>\n",
       "    </tr>\n",
       "  </tbody>\n",
       "</table>\n",
       "<p>5 rows × 42 columns</p>\n",
       "</div>"
      ],
      "text/plain": [
       "   id  player_fifa_api_id  player_api_id                 date  overall_rating  \\\n",
       "0   1              218353         505942  2016-02-18 00:00:00            67.0   \n",
       "1   2              218353         505942  2015-11-19 00:00:00            67.0   \n",
       "2   3              218353         505942  2015-09-21 00:00:00            62.0   \n",
       "3   4              218353         505942  2015-03-20 00:00:00            61.0   \n",
       "4   5              218353         505942  2007-02-22 00:00:00            61.0   \n",
       "\n",
       "   potential preferred_foot attacking_work_rate defensive_work_rate  crossing  \\\n",
       "0       71.0          right              medium              medium      49.0   \n",
       "1       71.0          right              medium              medium      49.0   \n",
       "2       66.0          right              medium              medium      49.0   \n",
       "3       65.0          right              medium              medium      48.0   \n",
       "4       65.0          right              medium              medium      48.0   \n",
       "\n",
       "   ...  vision  penalties  marking  standing_tackle  sliding_tackle  \\\n",
       "0  ...    54.0       48.0     65.0             69.0            69.0   \n",
       "1  ...    54.0       48.0     65.0             69.0            69.0   \n",
       "2  ...    54.0       48.0     65.0             66.0            69.0   \n",
       "3  ...    53.0       47.0     62.0             63.0            66.0   \n",
       "4  ...    53.0       47.0     62.0             63.0            66.0   \n",
       "\n",
       "   gk_diving  gk_handling  gk_kicking  gk_positioning  gk_reflexes  \n",
       "0        6.0         11.0        10.0             8.0          8.0  \n",
       "1        6.0         11.0        10.0             8.0          8.0  \n",
       "2        6.0         11.0        10.0             8.0          8.0  \n",
       "3        5.0         10.0         9.0             7.0          7.0  \n",
       "4        5.0         10.0         9.0             7.0          7.0  \n",
       "\n",
       "[5 rows x 42 columns]"
      ]
     },
     "execution_count": 12,
     "metadata": {},
     "output_type": "execute_result"
    }
   ],
   "source": [
    "player_attributes_df = get_dataframe_from_sql('SELECT * FROM Player_Attributes;')\n",
    "player_attributes_df.head()"
   ]
  },
  {
   "cell_type": "markdown",
   "metadata": {},
   "source": [
    "### get the champions league history data"
   ]
  },
  {
   "cell_type": "code",
   "execution_count": 13,
   "metadata": {},
   "outputs": [
    {
     "data": {
      "text/html": [
       "<div>\n",
       "<style scoped>\n",
       "    .dataframe tbody tr th:only-of-type {\n",
       "        vertical-align: middle;\n",
       "    }\n",
       "\n",
       "    .dataframe tbody tr th {\n",
       "        vertical-align: top;\n",
       "    }\n",
       "\n",
       "    .dataframe thead th {\n",
       "        text-align: right;\n",
       "    }\n",
       "</style>\n",
       "<table border=\"1\" class=\"dataframe\">\n",
       "  <thead>\n",
       "    <tr style=\"text-align: right;\">\n",
       "      <th></th>\n",
       "      <th>year</th>\n",
       "      <th>team_name</th>\n",
       "      <th>progress</th>\n",
       "      <th>team_country</th>\n",
       "    </tr>\n",
       "  </thead>\n",
       "  <tbody>\n",
       "    <tr>\n",
       "      <th>0</th>\n",
       "      <td>1994</td>\n",
       "      <td>A.C. Milan</td>\n",
       "      <td>1. Winner</td>\n",
       "      <td>Italy</td>\n",
       "    </tr>\n",
       "    <tr>\n",
       "      <th>1</th>\n",
       "      <td>1994</td>\n",
       "      <td>Barcelona</td>\n",
       "      <td>2. Runner Up</td>\n",
       "      <td>Spain</td>\n",
       "    </tr>\n",
       "    <tr>\n",
       "      <th>2</th>\n",
       "      <td>1994</td>\n",
       "      <td>A.C. Milan</td>\n",
       "      <td>3. Semifinalist</td>\n",
       "      <td>Italy</td>\n",
       "    </tr>\n",
       "    <tr>\n",
       "      <th>3</th>\n",
       "      <td>1994</td>\n",
       "      <td>Barcelona</td>\n",
       "      <td>3. Semifinalist</td>\n",
       "      <td>Spain</td>\n",
       "    </tr>\n",
       "    <tr>\n",
       "      <th>4</th>\n",
       "      <td>1994</td>\n",
       "      <td>Monaco</td>\n",
       "      <td>3. Semifinalist</td>\n",
       "      <td>France</td>\n",
       "    </tr>\n",
       "  </tbody>\n",
       "</table>\n",
       "</div>"
      ],
      "text/plain": [
       "   year   team_name         progress team_country\n",
       "0  1994  A.C. Milan        1. Winner        Italy\n",
       "1  1994   Barcelona     2. Runner Up        Spain\n",
       "2  1994  A.C. Milan  3. Semifinalist        Italy\n",
       "3  1994   Barcelona  3. Semifinalist        Spain\n",
       "4  1994      Monaco  3. Semifinalist       France"
      ]
     },
     "execution_count": 13,
     "metadata": {},
     "output_type": "execute_result"
    }
   ],
   "source": [
    "champs_league_hist_df = pd.read_csv(\"./champs_league_hist.csv\", header=None, names=[\"year\", \"team_name\", \"progress\", \"team_country\"])\n",
    "champs_league_hist_df.head()"
   ]
  },
  {
   "cell_type": "markdown",
   "metadata": {},
   "source": [
    "## Assess Data - Quality"
   ]
  },
  {
   "cell_type": "markdown",
   "metadata": {},
   "source": [
    "### Assessing match data"
   ]
  },
  {
   "cell_type": "code",
   "execution_count": 14,
   "metadata": {},
   "outputs": [],
   "source": [
    "predictions_start_idx = -30\n",
    "match_events_start_idx = -38\n",
    "away_players_start_idx = -49\n",
    "home_players_start_idx = -60\n",
    "away_players_y_pos_start_idx = -71\n",
    "home_players_y_pos_start_idx = -82\n",
    "away_players_x_pos_start_idx = -93\n",
    "home_players_x_pos_start_idx = -104"
   ]
  },
  {
   "cell_type": "code",
   "execution_count": 15,
   "metadata": {},
   "outputs": [
    {
     "name": "stdout",
     "output_type": "stream",
     "text": [
      "<class 'pandas.core.frame.DataFrame'>\n",
      "RangeIndex: 14585 entries, 0 to 14584\n",
      "Data columns (total 11 columns):\n",
      " #   Column            Non-Null Count  Dtype \n",
      "---  ------            --------------  ----- \n",
      " 0   id                14585 non-null  int64 \n",
      " 1   country_id        14585 non-null  int64 \n",
      " 2   league_id         14585 non-null  int64 \n",
      " 3   season            14585 non-null  object\n",
      " 4   stage             14585 non-null  int64 \n",
      " 5   date              14585 non-null  object\n",
      " 6   match_api_id      14585 non-null  int64 \n",
      " 7   home_team_api_id  14585 non-null  int64 \n",
      " 8   away_team_api_id  14585 non-null  int64 \n",
      " 9   home_team_goal    14585 non-null  int64 \n",
      " 10  away_team_goal    14585 non-null  int64 \n",
      "dtypes: int64(9), object(2)\n",
      "memory usage: 1.2+ MB\n"
     ]
    }
   ],
   "source": [
    "top_5_leagues_matches_df.iloc[:, :home_players_x_pos_start_idx].info()"
   ]
  },
  {
   "cell_type": "code",
   "execution_count": 16,
   "metadata": {},
   "outputs": [
    {
     "data": {
      "text/html": [
       "<div>\n",
       "<style scoped>\n",
       "    .dataframe tbody tr th:only-of-type {\n",
       "        vertical-align: middle;\n",
       "    }\n",
       "\n",
       "    .dataframe tbody tr th {\n",
       "        vertical-align: top;\n",
       "    }\n",
       "\n",
       "    .dataframe thead th {\n",
       "        text-align: right;\n",
       "    }\n",
       "</style>\n",
       "<table border=\"1\" class=\"dataframe\">\n",
       "  <thead>\n",
       "    <tr style=\"text-align: right;\">\n",
       "      <th></th>\n",
       "      <th>id</th>\n",
       "      <th>country_id</th>\n",
       "      <th>league_id</th>\n",
       "      <th>stage</th>\n",
       "      <th>match_api_id</th>\n",
       "      <th>home_team_api_id</th>\n",
       "      <th>away_team_api_id</th>\n",
       "      <th>home_team_goal</th>\n",
       "      <th>away_team_goal</th>\n",
       "    </tr>\n",
       "  </thead>\n",
       "  <tbody>\n",
       "    <tr>\n",
       "      <th>count</th>\n",
       "      <td>14585.000000</td>\n",
       "      <td>14585.000000</td>\n",
       "      <td>14585.000000</td>\n",
       "      <td>14585.000000</td>\n",
       "      <td>1.458500e+04</td>\n",
       "      <td>14585.000000</td>\n",
       "      <td>14585.000000</td>\n",
       "      <td>14585.000000</td>\n",
       "      <td>14585.000000</td>\n",
       "    </tr>\n",
       "    <tr>\n",
       "      <th>mean</th>\n",
       "      <td>10739.324306</td>\n",
       "      <td>9271.884882</td>\n",
       "      <td>9271.884882</td>\n",
       "      <td>19.152143</td>\n",
       "      <td>1.198544e+06</td>\n",
       "      <td>9513.471718</td>\n",
       "      <td>9513.674734</td>\n",
       "      <td>1.539184</td>\n",
       "      <td>1.140075</td>\n",
       "    </tr>\n",
       "    <tr>\n",
       "      <th>std</th>\n",
       "      <td>6984.373837</td>\n",
       "      <td>6921.447469</td>\n",
       "      <td>6921.447469</td>\n",
       "      <td>10.810203</td>\n",
       "      <td>4.941698e+05</td>\n",
       "      <td>8097.777199</td>\n",
       "      <td>8097.767842</td>\n",
       "      <td>1.289485</td>\n",
       "      <td>1.129409</td>\n",
       "    </tr>\n",
       "    <tr>\n",
       "      <th>min</th>\n",
       "      <td>1729.000000</td>\n",
       "      <td>1729.000000</td>\n",
       "      <td>1729.000000</td>\n",
       "      <td>1.000000</td>\n",
       "      <td>4.831290e+05</td>\n",
       "      <td>4087.000000</td>\n",
       "      <td>4087.000000</td>\n",
       "      <td>0.000000</td>\n",
       "      <td>0.000000</td>\n",
       "    </tr>\n",
       "    <tr>\n",
       "      <th>25%</th>\n",
       "      <td>5375.000000</td>\n",
       "      <td>4769.000000</td>\n",
       "      <td>4769.000000</td>\n",
       "      <td>10.000000</td>\n",
       "      <td>7.056020e+05</td>\n",
       "      <td>8535.000000</td>\n",
       "      <td>8535.000000</td>\n",
       "      <td>1.000000</td>\n",
       "      <td>0.000000</td>\n",
       "    </tr>\n",
       "    <tr>\n",
       "      <th>50%</th>\n",
       "      <td>9021.000000</td>\n",
       "      <td>7809.000000</td>\n",
       "      <td>7809.000000</td>\n",
       "      <td>19.000000</td>\n",
       "      <td>1.216821e+06</td>\n",
       "      <td>8686.000000</td>\n",
       "      <td>8686.000000</td>\n",
       "      <td>1.000000</td>\n",
       "      <td>1.000000</td>\n",
       "    </tr>\n",
       "    <tr>\n",
       "      <th>75%</th>\n",
       "      <td>12667.000000</td>\n",
       "      <td>10257.000000</td>\n",
       "      <td>10257.000000</td>\n",
       "      <td>28.000000</td>\n",
       "      <td>1.709701e+06</td>\n",
       "      <td>9869.000000</td>\n",
       "      <td>9869.000000</td>\n",
       "      <td>2.000000</td>\n",
       "      <td>2.000000</td>\n",
       "    </tr>\n",
       "    <tr>\n",
       "      <th>max</th>\n",
       "      <td>24557.000000</td>\n",
       "      <td>21518.000000</td>\n",
       "      <td>21518.000000</td>\n",
       "      <td>38.000000</td>\n",
       "      <td>2.118418e+06</td>\n",
       "      <td>208931.000000</td>\n",
       "      <td>208931.000000</td>\n",
       "      <td>10.000000</td>\n",
       "      <td>9.000000</td>\n",
       "    </tr>\n",
       "  </tbody>\n",
       "</table>\n",
       "</div>"
      ],
      "text/plain": [
       "                 id    country_id     league_id         stage  match_api_id  \\\n",
       "count  14585.000000  14585.000000  14585.000000  14585.000000  1.458500e+04   \n",
       "mean   10739.324306   9271.884882   9271.884882     19.152143  1.198544e+06   \n",
       "std     6984.373837   6921.447469   6921.447469     10.810203  4.941698e+05   \n",
       "min     1729.000000   1729.000000   1729.000000      1.000000  4.831290e+05   \n",
       "25%     5375.000000   4769.000000   4769.000000     10.000000  7.056020e+05   \n",
       "50%     9021.000000   7809.000000   7809.000000     19.000000  1.216821e+06   \n",
       "75%    12667.000000  10257.000000  10257.000000     28.000000  1.709701e+06   \n",
       "max    24557.000000  21518.000000  21518.000000     38.000000  2.118418e+06   \n",
       "\n",
       "       home_team_api_id  away_team_api_id  home_team_goal  away_team_goal  \n",
       "count      14585.000000      14585.000000    14585.000000    14585.000000  \n",
       "mean        9513.471718       9513.674734        1.539184        1.140075  \n",
       "std         8097.777199       8097.767842        1.289485        1.129409  \n",
       "min         4087.000000       4087.000000        0.000000        0.000000  \n",
       "25%         8535.000000       8535.000000        1.000000        0.000000  \n",
       "50%         8686.000000       8686.000000        1.000000        1.000000  \n",
       "75%         9869.000000       9869.000000        2.000000        2.000000  \n",
       "max       208931.000000     208931.000000       10.000000        9.000000  "
      ]
     },
     "execution_count": 16,
     "metadata": {},
     "output_type": "execute_result"
    }
   ],
   "source": [
    "top_5_leagues_matches_df.iloc[:, :home_players_x_pos_start_idx].describe()"
   ]
  },
  {
   "cell_type": "code",
   "execution_count": 17,
   "metadata": {},
   "outputs": [
    {
     "data": {
      "text/plain": [
       "'Real Madrid CF 10 - 2 Rayo Vallecano played on 2015-12-20 00:00:00 in season 2015/2016'"
      ]
     },
     "execution_count": 17,
     "metadata": {},
     "output_type": "execute_result"
    }
   ],
   "source": [
    "# investigate the results with max home and away goals to confirm that they're not shit\n",
    "def get_max_home_goals_league_match_details():\n",
    "    league_name = leagues_df[leagues_df.id == top_5_leagues_matches_df[top_5_leagues_matches_df.home_team_goal == 10].league_id.values[0]].name\n",
    "    home_team_name = teams_df[teams_df.team_api_id == top_5_leagues_matches_df[top_5_leagues_matches_df.home_team_goal == 10].home_team_api_id.values[0]].team_long_name.values[0]\n",
    "    away_team_name = teams_df[teams_df.team_api_id == top_5_leagues_matches_df[top_5_leagues_matches_df.home_team_goal == 10].away_team_api_id.values[0]].team_long_name.values[0]\n",
    "    match_info = top_5_leagues_matches_df[top_5_leagues_matches_df.home_team_goal == 10][[\"home_team_goal\", \"away_team_goal\", \"season\", \"date\"]].squeeze()\n",
    "    home_team_goal = match_info.home_team_goal\n",
    "    away_team_goal = match_info.away_team_goal\n",
    "    season = match_info.season\n",
    "    date = match_info.date\n",
    "\n",
    "    return f\"{home_team_name} {home_team_goal} - {away_team_goal} {away_team_name} played on {date} in season {season}\"\n",
    "\n",
    "get_max_home_goals_league_match_details()"
   ]
  },
  {
   "cell_type": "code",
   "execution_count": 18,
   "metadata": {},
   "outputs": [
    {
     "data": {
      "text/plain": [
       "'ES Troyes AC 0 - 9 Paris Saint-Germain played on 2016-03-13 00:00:00 in season 2015/2016'"
      ]
     },
     "execution_count": 18,
     "metadata": {},
     "output_type": "execute_result"
    }
   ],
   "source": [
    "def get_max_away_goals_league_match_details():\n",
    "    mask = top_5_leagues_matches_df.away_team_goal == top_5_leagues_matches_df.away_team_goal.max()\n",
    "    max_away_goals_match = top_5_leagues_matches_df[mask]\n",
    "    league_name = leagues_df[leagues_df.id == max_away_goals_match.league_id.values[0]].name\n",
    "    home_team_name = teams_df[teams_df.team_api_id == max_away_goals_match.home_team_api_id.values[0]].team_long_name.values[0]\n",
    "    away_team_name = teams_df[teams_df.team_api_id == max_away_goals_match.away_team_api_id.values[0]].team_long_name.values[0]\n",
    "    match_info = max_away_goals_match[[\"home_team_goal\", \"away_team_goal\", \"season\", \"date\"]].squeeze()\n",
    "    home_team_goal = match_info.home_team_goal\n",
    "    away_team_goal = match_info.away_team_goal\n",
    "    season = match_info.season\n",
    "    date = match_info.date\n",
    "\n",
    "    return f\"{home_team_name} {home_team_goal} - {away_team_goal} {away_team_name} played on {date} in season {season}\"\n",
    "\n",
    "get_max_away_goals_league_match_details()"
   ]
  },
  {
   "cell_type": "code",
   "execution_count": 19,
   "metadata": {},
   "outputs": [
    {
     "data": {
      "text/plain": [
       "('2008-08-09 00:00:00', '2016-05-17 00:00:00')"
      ]
     },
     "execution_count": 19,
     "metadata": {},
     "output_type": "execute_result"
    }
   ],
   "source": [
    "# check the max and min dates of the matches\n",
    "top_5_leagues_matches_df.date.min(), top_5_leagues_matches_df.date.max()"
   ]
  },
  {
   "cell_type": "code",
   "execution_count": 20,
   "metadata": {},
   "outputs": [
    {
     "data": {
      "text/plain": [
       "array(['2008/2009', '2009/2010', '2010/2011', '2011/2012', '2012/2013',\n",
       "       '2013/2014', '2014/2015', '2015/2016'], dtype=object)"
      ]
     },
     "execution_count": 20,
     "metadata": {},
     "output_type": "execute_result"
    }
   ],
   "source": [
    "# check the range of the seasons\n",
    "top_5_leagues_matches_df.season.unique()"
   ]
  },
  {
   "cell_type": "code",
   "execution_count": 21,
   "metadata": {},
   "outputs": [
    {
     "data": {
      "text/plain": [
       "array([ 1,  2,  3,  4,  5,  6,  7,  8,  9, 10, 11, 12, 13, 14, 15, 16, 17,\n",
       "       18, 19, 20, 21, 22, 23, 24, 25, 26, 27, 28, 29, 30, 31, 32, 33, 34,\n",
       "       35, 36, 37, 38])"
      ]
     },
     "execution_count": 21,
     "metadata": {},
     "output_type": "execute_result"
    }
   ],
   "source": [
    "# check the range of values for stage\n",
    "top_5_leagues_matches_df.stage.unique()"
   ]
  },
  {
   "cell_type": "markdown",
   "metadata": {},
   "source": [
    "### assessing match players"
   ]
  },
  {
   "cell_type": "code",
   "execution_count": 22,
   "metadata": {},
   "outputs": [
    {
     "name": "stdout",
     "output_type": "stream",
     "text": [
      "<class 'pandas.core.frame.DataFrame'>\n",
      "RangeIndex: 14585 entries, 0 to 14584\n",
      "Data columns (total 11 columns):\n",
      " #   Column          Non-Null Count  Dtype  \n",
      "---  ------          --------------  -----  \n",
      " 0   home_player_1   14547 non-null  float64\n",
      " 1   home_player_2   14538 non-null  float64\n",
      " 2   home_player_3   14545 non-null  float64\n",
      " 3   home_player_4   14541 non-null  float64\n",
      " 4   home_player_5   14547 non-null  float64\n",
      " 5   home_player_6   14551 non-null  float64\n",
      " 6   home_player_7   14533 non-null  float64\n",
      " 7   home_player_8   14541 non-null  float64\n",
      " 8   home_player_9   14551 non-null  float64\n",
      " 9   home_player_10  14512 non-null  float64\n",
      " 10  home_player_11  14523 non-null  float64\n",
      "dtypes: float64(11)\n",
      "memory usage: 1.2 MB\n"
     ]
    }
   ],
   "source": [
    "# home players\n",
    "top_5_leagues_matches_df.iloc[:, home_players_start_idx:away_players_start_idx].info()"
   ]
  },
  {
   "cell_type": "code",
   "execution_count": 23,
   "metadata": {},
   "outputs": [
    {
     "data": {
      "text/html": [
       "<div>\n",
       "<style scoped>\n",
       "    .dataframe tbody tr th:only-of-type {\n",
       "        vertical-align: middle;\n",
       "    }\n",
       "\n",
       "    .dataframe tbody tr th {\n",
       "        vertical-align: top;\n",
       "    }\n",
       "\n",
       "    .dataframe thead th {\n",
       "        text-align: right;\n",
       "    }\n",
       "</style>\n",
       "<table border=\"1\" class=\"dataframe\">\n",
       "  <thead>\n",
       "    <tr style=\"text-align: right;\">\n",
       "      <th></th>\n",
       "      <th>home_player_1</th>\n",
       "      <th>home_player_2</th>\n",
       "      <th>home_player_3</th>\n",
       "      <th>home_player_4</th>\n",
       "      <th>home_player_5</th>\n",
       "      <th>home_player_6</th>\n",
       "      <th>home_player_7</th>\n",
       "      <th>home_player_8</th>\n",
       "      <th>home_player_9</th>\n",
       "      <th>home_player_10</th>\n",
       "      <th>home_player_11</th>\n",
       "    </tr>\n",
       "  </thead>\n",
       "  <tbody>\n",
       "    <tr>\n",
       "      <th>count</th>\n",
       "      <td>14547.000000</td>\n",
       "      <td>14538.000000</td>\n",
       "      <td>14545.000000</td>\n",
       "      <td>14541.000000</td>\n",
       "      <td>14547.000000</td>\n",
       "      <td>14551.000000</td>\n",
       "      <td>14533.000000</td>\n",
       "      <td>14541.000000</td>\n",
       "      <td>14551.000000</td>\n",
       "      <td>14512.000000</td>\n",
       "      <td>14523.000000</td>\n",
       "    </tr>\n",
       "    <tr>\n",
       "      <th>mean</th>\n",
       "      <td>67540.999244</td>\n",
       "      <td>90120.123401</td>\n",
       "      <td>75328.502991</td>\n",
       "      <td>78945.332233</td>\n",
       "      <td>94028.161477</td>\n",
       "      <td>86215.306989</td>\n",
       "      <td>82200.120760</td>\n",
       "      <td>92028.973798</td>\n",
       "      <td>94381.943509</td>\n",
       "      <td>88395.371348</td>\n",
       "      <td>82525.980307</td>\n",
       "    </tr>\n",
       "    <tr>\n",
       "      <th>std</th>\n",
       "      <td>79081.728488</td>\n",
       "      <td>97652.409271</td>\n",
       "      <td>88316.786481</td>\n",
       "      <td>86523.706029</td>\n",
       "      <td>103101.134223</td>\n",
       "      <td>97119.997950</td>\n",
       "      <td>94373.382459</td>\n",
       "      <td>102354.036812</td>\n",
       "      <td>101888.416488</td>\n",
       "      <td>96795.703335</td>\n",
       "      <td>92267.511513</td>\n",
       "    </tr>\n",
       "    <tr>\n",
       "      <th>min</th>\n",
       "      <td>2984.000000</td>\n",
       "      <td>2802.000000</td>\n",
       "      <td>2752.000000</td>\n",
       "      <td>2752.000000</td>\n",
       "      <td>2752.000000</td>\n",
       "      <td>2802.000000</td>\n",
       "      <td>2802.000000</td>\n",
       "      <td>2802.000000</td>\n",
       "      <td>2770.000000</td>\n",
       "      <td>2802.000000</td>\n",
       "      <td>2802.000000</td>\n",
       "    </tr>\n",
       "    <tr>\n",
       "      <th>25%</th>\n",
       "      <td>30380.000000</td>\n",
       "      <td>30861.000000</td>\n",
       "      <td>27492.000000</td>\n",
       "      <td>27684.000000</td>\n",
       "      <td>30983.000000</td>\n",
       "      <td>30721.000000</td>\n",
       "      <td>30530.000000</td>\n",
       "      <td>30930.000000</td>\n",
       "      <td>31235.000000</td>\n",
       "      <td>30881.000000</td>\n",
       "      <td>30853.000000</td>\n",
       "    </tr>\n",
       "    <tr>\n",
       "      <th>50%</th>\n",
       "      <td>36479.000000</td>\n",
       "      <td>39731.500000</td>\n",
       "      <td>37482.000000</td>\n",
       "      <td>38432.000000</td>\n",
       "      <td>40985.000000</td>\n",
       "      <td>39376.000000</td>\n",
       "      <td>39198.000000</td>\n",
       "      <td>40731.000000</td>\n",
       "      <td>40601.000000</td>\n",
       "      <td>39638.000000</td>\n",
       "      <td>38848.000000</td>\n",
       "    </tr>\n",
       "    <tr>\n",
       "      <th>75%</th>\n",
       "      <td>56829.000000</td>\n",
       "      <td>141113.000000</td>\n",
       "      <td>93457.000000</td>\n",
       "      <td>101070.000000</td>\n",
       "      <td>130155.000000</td>\n",
       "      <td>112035.000000</td>\n",
       "      <td>107930.000000</td>\n",
       "      <td>121044.000000</td>\n",
       "      <td>144993.000000</td>\n",
       "      <td>121633.000000</td>\n",
       "      <td>104045.000000</td>\n",
       "    </tr>\n",
       "    <tr>\n",
       "      <th>max</th>\n",
       "      <td>698273.000000</td>\n",
       "      <td>748432.000000</td>\n",
       "      <td>696443.000000</td>\n",
       "      <td>696443.000000</td>\n",
       "      <td>720738.000000</td>\n",
       "      <td>722766.000000</td>\n",
       "      <td>692984.000000</td>\n",
       "      <td>693171.000000</td>\n",
       "      <td>722766.000000</td>\n",
       "      <td>742405.000000</td>\n",
       "      <td>696365.000000</td>\n",
       "    </tr>\n",
       "  </tbody>\n",
       "</table>\n",
       "</div>"
      ],
      "text/plain": [
       "       home_player_1  home_player_2  home_player_3  home_player_4  \\\n",
       "count   14547.000000   14538.000000   14545.000000   14541.000000   \n",
       "mean    67540.999244   90120.123401   75328.502991   78945.332233   \n",
       "std     79081.728488   97652.409271   88316.786481   86523.706029   \n",
       "min      2984.000000    2802.000000    2752.000000    2752.000000   \n",
       "25%     30380.000000   30861.000000   27492.000000   27684.000000   \n",
       "50%     36479.000000   39731.500000   37482.000000   38432.000000   \n",
       "75%     56829.000000  141113.000000   93457.000000  101070.000000   \n",
       "max    698273.000000  748432.000000  696443.000000  696443.000000   \n",
       "\n",
       "       home_player_5  home_player_6  home_player_7  home_player_8  \\\n",
       "count   14547.000000   14551.000000   14533.000000   14541.000000   \n",
       "mean    94028.161477   86215.306989   82200.120760   92028.973798   \n",
       "std    103101.134223   97119.997950   94373.382459  102354.036812   \n",
       "min      2752.000000    2802.000000    2802.000000    2802.000000   \n",
       "25%     30983.000000   30721.000000   30530.000000   30930.000000   \n",
       "50%     40985.000000   39376.000000   39198.000000   40731.000000   \n",
       "75%    130155.000000  112035.000000  107930.000000  121044.000000   \n",
       "max    720738.000000  722766.000000  692984.000000  693171.000000   \n",
       "\n",
       "       home_player_9  home_player_10  home_player_11  \n",
       "count   14551.000000    14512.000000    14523.000000  \n",
       "mean    94381.943509    88395.371348    82525.980307  \n",
       "std    101888.416488    96795.703335    92267.511513  \n",
       "min      2770.000000     2802.000000     2802.000000  \n",
       "25%     31235.000000    30881.000000    30853.000000  \n",
       "50%     40601.000000    39638.000000    38848.000000  \n",
       "75%    144993.000000   121633.000000   104045.000000  \n",
       "max    722766.000000   742405.000000   696365.000000  "
      ]
     },
     "execution_count": 23,
     "metadata": {},
     "output_type": "execute_result"
    }
   ],
   "source": [
    "# home players\n",
    "top_5_leagues_matches_df.iloc[:, home_players_start_idx:away_players_start_idx].describe()"
   ]
  },
  {
   "cell_type": "code",
   "execution_count": 24,
   "metadata": {},
   "outputs": [
    {
     "data": {
      "text/plain": [
       "True"
      ]
     },
     "execution_count": 24,
     "metadata": {},
     "output_type": "execute_result"
    }
   ],
   "source": [
    "# confirm that the max number actually exists in the players df\n",
    "top_5_leagues_matches_df.iloc[:, home_players_start_idx:away_players_start_idx].describe().loc[\"max\", :].unique().size == players_df[players_df.player_api_id.isin(top_5_leagues_matches_df.iloc[:, home_players_start_idx:away_players_start_idx].describe().loc[\"max\", :].unique())].shape[0]"
   ]
  },
  {
   "cell_type": "code",
   "execution_count": 25,
   "metadata": {},
   "outputs": [
    {
     "name": "stdout",
     "output_type": "stream",
     "text": [
      "<class 'pandas.core.frame.DataFrame'>\n",
      "RangeIndex: 14585 entries, 0 to 14584\n",
      "Data columns (total 11 columns):\n",
      " #   Column          Non-Null Count  Dtype  \n",
      "---  ------          --------------  -----  \n",
      " 0   away_player_1   14556 non-null  float64\n",
      " 1   away_player_2   14536 non-null  float64\n",
      " 2   away_player_3   14539 non-null  float64\n",
      " 3   away_player_4   14539 non-null  float64\n",
      " 4   away_player_5   14541 non-null  float64\n",
      " 5   away_player_6   14540 non-null  float64\n",
      " 6   away_player_7   14542 non-null  float64\n",
      " 7   away_player_8   14530 non-null  float64\n",
      " 8   away_player_9   14538 non-null  float64\n",
      " 9   away_player_10  14523 non-null  float64\n",
      " 10  away_player_11  14513 non-null  float64\n",
      "dtypes: float64(11)\n",
      "memory usage: 1.2 MB\n"
     ]
    }
   ],
   "source": [
    "# away players\n",
    "top_5_leagues_matches_df.iloc[:, away_players_start_idx:match_events_start_idx].info()"
   ]
  },
  {
   "cell_type": "code",
   "execution_count": 26,
   "metadata": {},
   "outputs": [
    {
     "data": {
      "text/html": [
       "<div>\n",
       "<style scoped>\n",
       "    .dataframe tbody tr th:only-of-type {\n",
       "        vertical-align: middle;\n",
       "    }\n",
       "\n",
       "    .dataframe tbody tr th {\n",
       "        vertical-align: top;\n",
       "    }\n",
       "\n",
       "    .dataframe thead th {\n",
       "        text-align: right;\n",
       "    }\n",
       "</style>\n",
       "<table border=\"1\" class=\"dataframe\">\n",
       "  <thead>\n",
       "    <tr style=\"text-align: right;\">\n",
       "      <th></th>\n",
       "      <th>away_player_1</th>\n",
       "      <th>away_player_2</th>\n",
       "      <th>away_player_3</th>\n",
       "      <th>away_player_4</th>\n",
       "      <th>away_player_5</th>\n",
       "      <th>away_player_6</th>\n",
       "      <th>away_player_7</th>\n",
       "      <th>away_player_8</th>\n",
       "      <th>away_player_9</th>\n",
       "      <th>away_player_10</th>\n",
       "      <th>away_player_11</th>\n",
       "    </tr>\n",
       "  </thead>\n",
       "  <tbody>\n",
       "    <tr>\n",
       "      <th>count</th>\n",
       "      <td>14556.000000</td>\n",
       "      <td>14536.000000</td>\n",
       "      <td>14539.000000</td>\n",
       "      <td>14539.000000</td>\n",
       "      <td>14541.000000</td>\n",
       "      <td>14540.000000</td>\n",
       "      <td>14542.000000</td>\n",
       "      <td>14530.000000</td>\n",
       "      <td>14538.000000</td>\n",
       "      <td>14523.000000</td>\n",
       "      <td>14513.000000</td>\n",
       "    </tr>\n",
       "    <tr>\n",
       "      <th>mean</th>\n",
       "      <td>67814.329280</td>\n",
       "      <td>91015.047193</td>\n",
       "      <td>74546.033290</td>\n",
       "      <td>80039.389917</td>\n",
       "      <td>93992.660684</td>\n",
       "      <td>86831.252063</td>\n",
       "      <td>83094.741920</td>\n",
       "      <td>94315.749966</td>\n",
       "      <td>95323.630898</td>\n",
       "      <td>90212.774840</td>\n",
       "      <td>84306.015641</td>\n",
       "    </tr>\n",
       "    <tr>\n",
       "      <th>std</th>\n",
       "      <td>79174.061489</td>\n",
       "      <td>98841.807943</td>\n",
       "      <td>86654.868263</td>\n",
       "      <td>89174.013853</td>\n",
       "      <td>102718.305201</td>\n",
       "      <td>97069.715662</td>\n",
       "      <td>95644.730922</td>\n",
       "      <td>105128.693217</td>\n",
       "      <td>103836.645073</td>\n",
       "      <td>99666.106104</td>\n",
       "      <td>93356.739627</td>\n",
       "    </tr>\n",
       "    <tr>\n",
       "      <th>min</th>\n",
       "      <td>2796.000000</td>\n",
       "      <td>2790.000000</td>\n",
       "      <td>2752.000000</td>\n",
       "      <td>2752.000000</td>\n",
       "      <td>2790.000000</td>\n",
       "      <td>2802.000000</td>\n",
       "      <td>2802.000000</td>\n",
       "      <td>2802.000000</td>\n",
       "      <td>2802.000000</td>\n",
       "      <td>2770.000000</td>\n",
       "      <td>2802.000000</td>\n",
       "    </tr>\n",
       "    <tr>\n",
       "      <th>25%</th>\n",
       "      <td>30380.000000</td>\n",
       "      <td>30894.000000</td>\n",
       "      <td>27476.000000</td>\n",
       "      <td>27679.000000</td>\n",
       "      <td>30977.000000</td>\n",
       "      <td>30731.000000</td>\n",
       "      <td>30598.000000</td>\n",
       "      <td>30920.000000</td>\n",
       "      <td>31304.000000</td>\n",
       "      <td>30893.000000</td>\n",
       "      <td>30853.000000</td>\n",
       "    </tr>\n",
       "    <tr>\n",
       "      <th>50%</th>\n",
       "      <td>36479.000000</td>\n",
       "      <td>39841.000000</td>\n",
       "      <td>37451.000000</td>\n",
       "      <td>38432.000000</td>\n",
       "      <td>40985.000000</td>\n",
       "      <td>39487.000000</td>\n",
       "      <td>39267.000000</td>\n",
       "      <td>41098.000000</td>\n",
       "      <td>40636.000000</td>\n",
       "      <td>39793.000000</td>\n",
       "      <td>39225.000000</td>\n",
       "    </tr>\n",
       "    <tr>\n",
       "      <th>75%</th>\n",
       "      <td>56829.000000</td>\n",
       "      <td>144999.000000</td>\n",
       "      <td>89475.000000</td>\n",
       "      <td>103089.000000</td>\n",
       "      <td>130155.000000</td>\n",
       "      <td>113465.000000</td>\n",
       "      <td>109330.000000</td>\n",
       "      <td>128827.000000</td>\n",
       "      <td>144993.000000</td>\n",
       "      <td>127982.500000</td>\n",
       "      <td>108809.000000</td>\n",
       "    </tr>\n",
       "    <tr>\n",
       "      <th>max</th>\n",
       "      <td>698273.000000</td>\n",
       "      <td>748432.000000</td>\n",
       "      <td>696443.000000</td>\n",
       "      <td>696443.000000</td>\n",
       "      <td>720738.000000</td>\n",
       "      <td>722766.000000</td>\n",
       "      <td>750435.000000</td>\n",
       "      <td>710807.000000</td>\n",
       "      <td>722766.000000</td>\n",
       "      <td>722766.000000</td>\n",
       "      <td>717270.000000</td>\n",
       "    </tr>\n",
       "  </tbody>\n",
       "</table>\n",
       "</div>"
      ],
      "text/plain": [
       "       away_player_1  away_player_2  away_player_3  away_player_4  \\\n",
       "count   14556.000000   14536.000000   14539.000000   14539.000000   \n",
       "mean    67814.329280   91015.047193   74546.033290   80039.389917   \n",
       "std     79174.061489   98841.807943   86654.868263   89174.013853   \n",
       "min      2796.000000    2790.000000    2752.000000    2752.000000   \n",
       "25%     30380.000000   30894.000000   27476.000000   27679.000000   \n",
       "50%     36479.000000   39841.000000   37451.000000   38432.000000   \n",
       "75%     56829.000000  144999.000000   89475.000000  103089.000000   \n",
       "max    698273.000000  748432.000000  696443.000000  696443.000000   \n",
       "\n",
       "       away_player_5  away_player_6  away_player_7  away_player_8  \\\n",
       "count   14541.000000   14540.000000   14542.000000   14530.000000   \n",
       "mean    93992.660684   86831.252063   83094.741920   94315.749966   \n",
       "std    102718.305201   97069.715662   95644.730922  105128.693217   \n",
       "min      2790.000000    2802.000000    2802.000000    2802.000000   \n",
       "25%     30977.000000   30731.000000   30598.000000   30920.000000   \n",
       "50%     40985.000000   39487.000000   39267.000000   41098.000000   \n",
       "75%    130155.000000  113465.000000  109330.000000  128827.000000   \n",
       "max    720738.000000  722766.000000  750435.000000  710807.000000   \n",
       "\n",
       "       away_player_9  away_player_10  away_player_11  \n",
       "count   14538.000000    14523.000000    14513.000000  \n",
       "mean    95323.630898    90212.774840    84306.015641  \n",
       "std    103836.645073    99666.106104    93356.739627  \n",
       "min      2802.000000     2770.000000     2802.000000  \n",
       "25%     31304.000000    30893.000000    30853.000000  \n",
       "50%     40636.000000    39793.000000    39225.000000  \n",
       "75%    144993.000000   127982.500000   108809.000000  \n",
       "max    722766.000000   722766.000000   717270.000000  "
      ]
     },
     "execution_count": 26,
     "metadata": {},
     "output_type": "execute_result"
    }
   ],
   "source": [
    "# away players\n",
    "top_5_leagues_matches_df.iloc[:, away_players_start_idx:match_events_start_idx].describe()"
   ]
  },
  {
   "cell_type": "code",
   "execution_count": 27,
   "metadata": {},
   "outputs": [
    {
     "data": {
      "text/plain": [
       "True"
      ]
     },
     "execution_count": 27,
     "metadata": {},
     "output_type": "execute_result"
    }
   ],
   "source": [
    "# confirm that the max number actually exists in the players df\n",
    "top_5_leagues_matches_df.iloc[:, away_players_start_idx:match_events_start_idx].describe().loc[\"max\", :].unique().size == players_df[players_df.player_api_id.isin(top_5_leagues_matches_df.iloc[:, away_players_start_idx:match_events_start_idx].describe().loc[\"max\", :].unique())].shape[0]"
   ]
  },
  {
   "cell_type": "markdown",
   "metadata": {},
   "source": [
    "### assessing match events"
   ]
  },
  {
   "cell_type": "code",
   "execution_count": 28,
   "metadata": {},
   "outputs": [
    {
     "name": "stdout",
     "output_type": "stream",
     "text": [
      "<class 'pandas.core.frame.DataFrame'>\n",
      "RangeIndex: 14585 entries, 0 to 14584\n",
      "Data columns (total 8 columns):\n",
      " #   Column      Non-Null Count  Dtype \n",
      "---  ------      --------------  ----- \n",
      " 0   goal        13567 non-null  object\n",
      " 1   shoton      13567 non-null  object\n",
      " 2   shotoff     13567 non-null  object\n",
      " 3   foulcommit  13567 non-null  object\n",
      " 4   card        13567 non-null  object\n",
      " 5   cross       13567 non-null  object\n",
      " 6   corner      13567 non-null  object\n",
      " 7   possession  13567 non-null  object\n",
      "dtypes: object(8)\n",
      "memory usage: 911.7+ KB\n"
     ]
    }
   ],
   "source": [
    "top_5_leagues_matches_df.iloc[:, match_events_start_idx:predictions_start_idx].info()"
   ]
  },
  {
   "cell_type": "code",
   "execution_count": 29,
   "metadata": {},
   "outputs": [
    {
     "data": {
      "text/html": [
       "<div>\n",
       "<style scoped>\n",
       "    .dataframe tbody tr th:only-of-type {\n",
       "        vertical-align: middle;\n",
       "    }\n",
       "\n",
       "    .dataframe tbody tr th {\n",
       "        vertical-align: top;\n",
       "    }\n",
       "\n",
       "    .dataframe thead th {\n",
       "        text-align: right;\n",
       "    }\n",
       "</style>\n",
       "<table border=\"1\" class=\"dataframe\">\n",
       "  <thead>\n",
       "    <tr style=\"text-align: right;\">\n",
       "      <th></th>\n",
       "      <th>goal</th>\n",
       "      <th>shoton</th>\n",
       "      <th>shotoff</th>\n",
       "      <th>foulcommit</th>\n",
       "      <th>card</th>\n",
       "      <th>cross</th>\n",
       "      <th>corner</th>\n",
       "      <th>possession</th>\n",
       "    </tr>\n",
       "  </thead>\n",
       "  <tbody>\n",
       "    <tr>\n",
       "      <th>count</th>\n",
       "      <td>13567</td>\n",
       "      <td>13567</td>\n",
       "      <td>13567</td>\n",
       "      <td>13567</td>\n",
       "      <td>13567</td>\n",
       "      <td>13567</td>\n",
       "      <td>13567</td>\n",
       "      <td>13567</td>\n",
       "    </tr>\n",
       "    <tr>\n",
       "      <th>unique</th>\n",
       "      <td>12606</td>\n",
       "      <td>8121</td>\n",
       "      <td>8121</td>\n",
       "      <td>8123</td>\n",
       "      <td>13165</td>\n",
       "      <td>8123</td>\n",
       "      <td>8122</td>\n",
       "      <td>8081</td>\n",
       "    </tr>\n",
       "    <tr>\n",
       "      <th>top</th>\n",
       "      <td>&lt;goal /&gt;</td>\n",
       "      <td>&lt;shoton /&gt;</td>\n",
       "      <td>&lt;shotoff /&gt;</td>\n",
       "      <td>&lt;foulcommit /&gt;</td>\n",
       "      <td>&lt;card /&gt;</td>\n",
       "      <td>&lt;cross /&gt;</td>\n",
       "      <td>&lt;corner /&gt;</td>\n",
       "      <td>&lt;possession /&gt;</td>\n",
       "    </tr>\n",
       "    <tr>\n",
       "      <th>freq</th>\n",
       "      <td>962</td>\n",
       "      <td>5447</td>\n",
       "      <td>5447</td>\n",
       "      <td>5445</td>\n",
       "      <td>403</td>\n",
       "      <td>5445</td>\n",
       "      <td>5446</td>\n",
       "      <td>5487</td>\n",
       "    </tr>\n",
       "  </tbody>\n",
       "</table>\n",
       "</div>"
      ],
      "text/plain": [
       "            goal      shoton      shotoff      foulcommit      card  \\\n",
       "count      13567       13567        13567           13567     13567   \n",
       "unique     12606        8121         8121            8123     13165   \n",
       "top     <goal />  <shoton />  <shotoff />  <foulcommit />  <card />   \n",
       "freq         962        5447         5447            5445       403   \n",
       "\n",
       "            cross      corner      possession  \n",
       "count       13567       13567           13567  \n",
       "unique       8123        8122            8081  \n",
       "top     <cross />  <corner />  <possession />  \n",
       "freq         5445        5446            5487  "
      ]
     },
     "execution_count": 29,
     "metadata": {},
     "output_type": "execute_result"
    }
   ],
   "source": [
    "top_5_leagues_matches_df.iloc[:, match_events_start_idx:predictions_start_idx].describe()"
   ]
  },
  {
   "cell_type": "code",
   "execution_count": 30,
   "metadata": {},
   "outputs": [
    {
     "data": {
      "text/plain": [
       "'<goal />'"
      ]
     },
     "execution_count": 30,
     "metadata": {},
     "output_type": "execute_result"
    }
   ],
   "source": [
    "top_5_leagues_matches_df.iloc[:, match_events_start_idx:predictions_start_idx].describe().loc[\"top\", \"goal\"]"
   ]
  },
  {
   "cell_type": "code",
   "execution_count": 31,
   "metadata": {},
   "outputs": [
    {
     "data": {
      "text/plain": [
       "'<goal><value><comment>n</comment><stats><goals>1</goals><shoton>1</shoton></stats><event_incident_typefk>393</event_incident_typefk><coordinates><value>22</value><value>6</value></coordinates><elapsed>43</elapsed><player2>413557</player2><subtype>shot</subtype><player1>30829</player1><sortorder>2</sortorder><team>10260</team><id>5623457</id><n>169</n><type>goal</type><goal_type>n</goal_type></value><value><comment>n</comment><stats><goals>1</goals><shoton>1</shoton></stats><event_incident_typefk>393</event_incident_typefk><coordinates><value>28</value><value>8</value></coordinates><elapsed>75</elapsed><player2>35327</player2><subtype>shot</subtype><player1>696365</player1><sortorder>0</sortorder><team>10260</team><id>5623542</id><n>329</n><type>goal</type><goal_type>n</goal_type></value><value><comment>n</comment><stats><goals>1</goals><shoton>1</shoton></stats><event_incident_typefk>393</event_incident_typefk><coordinates><value>25</value><value>6</value></coordinates><elapsed>87</elapsed><player2>30829</player2><subtype>shot</subtype><player1>23354</player1><sortorder>3</sortorder><team>10260</team><id>5623564</id><n>423</n><type>goal</type><goal_type>n</goal_type></value><value><comment>o</comment><stats><owngoals>1</owngoals></stats><elapsed_plus>3</elapsed_plus><event_incident_typefk>115</event_incident_typefk><coordinates><value>25</value><value>65</value></coordinates><elapsed>90</elapsed><player1>165823</player1><sortorder>14</sortorder><team>10260</team><id>5623581</id><n>446</n><type>goal</type><goal_type>o</goal_type></value></goal>'"
      ]
     },
     "execution_count": 31,
     "metadata": {},
     "output_type": "execute_result"
    }
   ],
   "source": [
    "top_5_leagues_matches_df.iloc[:, match_events_start_idx:predictions_start_idx].iloc[-1, 0]"
   ]
  },
  {
   "cell_type": "markdown",
   "metadata": {},
   "source": [
    "Seems those numbers are not really reflective of the full data in the columns, so will not pay attention to them for now."
   ]
  },
  {
   "cell_type": "markdown",
   "metadata": {},
   "source": [
    "### Assessing match predictions"
   ]
  },
  {
   "cell_type": "code",
   "execution_count": 32,
   "metadata": {},
   "outputs": [
    {
     "data": {
      "text/html": [
       "<div>\n",
       "<style scoped>\n",
       "    .dataframe tbody tr th:only-of-type {\n",
       "        vertical-align: middle;\n",
       "    }\n",
       "\n",
       "    .dataframe tbody tr th {\n",
       "        vertical-align: top;\n",
       "    }\n",
       "\n",
       "    .dataframe thead th {\n",
       "        text-align: right;\n",
       "    }\n",
       "</style>\n",
       "<table border=\"1\" class=\"dataframe\">\n",
       "  <thead>\n",
       "    <tr style=\"text-align: right;\">\n",
       "      <th></th>\n",
       "      <th>B365H</th>\n",
       "      <th>B365D</th>\n",
       "      <th>B365A</th>\n",
       "      <th>BWH</th>\n",
       "      <th>BWD</th>\n",
       "      <th>BWA</th>\n",
       "      <th>IWH</th>\n",
       "      <th>IWD</th>\n",
       "      <th>IWA</th>\n",
       "      <th>LBH</th>\n",
       "      <th>LBD</th>\n",
       "      <th>LBA</th>\n",
       "      <th>PSH</th>\n",
       "      <th>PSD</th>\n",
       "      <th>PSA</th>\n",
       "    </tr>\n",
       "  </thead>\n",
       "  <tbody>\n",
       "    <tr>\n",
       "      <th>count</th>\n",
       "      <td>14573.000000</td>\n",
       "      <td>14573.000000</td>\n",
       "      <td>14573.000000</td>\n",
       "      <td>14558.000000</td>\n",
       "      <td>14558.000000</td>\n",
       "      <td>14558.000000</td>\n",
       "      <td>14540.000000</td>\n",
       "      <td>14540.000000</td>\n",
       "      <td>14540.000000</td>\n",
       "      <td>14568.000000</td>\n",
       "      <td>14568.000000</td>\n",
       "      <td>14568.000000</td>\n",
       "      <td>7292.000000</td>\n",
       "      <td>7292.000000</td>\n",
       "      <td>7292.000000</td>\n",
       "    </tr>\n",
       "    <tr>\n",
       "      <th>mean</th>\n",
       "      <td>2.595606</td>\n",
       "      <td>3.809271</td>\n",
       "      <td>4.704510</td>\n",
       "      <td>2.541709</td>\n",
       "      <td>3.738281</td>\n",
       "      <td>4.455709</td>\n",
       "      <td>2.454475</td>\n",
       "      <td>3.625189</td>\n",
       "      <td>4.193165</td>\n",
       "      <td>2.512505</td>\n",
       "      <td>3.706167</td>\n",
       "      <td>4.429821</td>\n",
       "      <td>2.787401</td>\n",
       "      <td>4.140014</td>\n",
       "      <td>5.128762</td>\n",
       "    </tr>\n",
       "    <tr>\n",
       "      <th>std</th>\n",
       "      <td>1.756999</td>\n",
       "      <td>1.171708</td>\n",
       "      <td>3.794316</td>\n",
       "      <td>1.625401</td>\n",
       "      <td>1.090557</td>\n",
       "      <td>3.359353</td>\n",
       "      <td>1.434216</td>\n",
       "      <td>0.838685</td>\n",
       "      <td>2.881999</td>\n",
       "      <td>1.606546</td>\n",
       "      <td>1.069737</td>\n",
       "      <td>3.447060</td>\n",
       "      <td>2.191845</td>\n",
       "      <td>1.680150</td>\n",
       "      <td>4.701423</td>\n",
       "    </tr>\n",
       "    <tr>\n",
       "      <th>min</th>\n",
       "      <td>1.040000</td>\n",
       "      <td>1.400000</td>\n",
       "      <td>1.080000</td>\n",
       "      <td>1.030000</td>\n",
       "      <td>1.650000</td>\n",
       "      <td>1.100000</td>\n",
       "      <td>1.050000</td>\n",
       "      <td>1.500000</td>\n",
       "      <td>1.100000</td>\n",
       "      <td>1.040000</td>\n",
       "      <td>1.400000</td>\n",
       "      <td>1.100000</td>\n",
       "      <td>1.040000</td>\n",
       "      <td>2.200000</td>\n",
       "      <td>1.090000</td>\n",
       "    </tr>\n",
       "    <tr>\n",
       "      <th>25%</th>\n",
       "      <td>1.670000</td>\n",
       "      <td>3.250000</td>\n",
       "      <td>2.600000</td>\n",
       "      <td>1.700000</td>\n",
       "      <td>3.200000</td>\n",
       "      <td>2.600000</td>\n",
       "      <td>1.700000</td>\n",
       "      <td>3.200000</td>\n",
       "      <td>2.550000</td>\n",
       "      <td>1.670000</td>\n",
       "      <td>3.200000</td>\n",
       "      <td>2.500000</td>\n",
       "      <td>1.710000</td>\n",
       "      <td>3.380000</td>\n",
       "      <td>2.617500</td>\n",
       "    </tr>\n",
       "    <tr>\n",
       "      <th>50%</th>\n",
       "      <td>2.100000</td>\n",
       "      <td>3.400000</td>\n",
       "      <td>3.600000</td>\n",
       "      <td>2.100000</td>\n",
       "      <td>3.400000</td>\n",
       "      <td>3.450000</td>\n",
       "      <td>2.100000</td>\n",
       "      <td>3.300000</td>\n",
       "      <td>3.300000</td>\n",
       "      <td>2.100000</td>\n",
       "      <td>3.400000</td>\n",
       "      <td>3.400000</td>\n",
       "      <td>2.180000</td>\n",
       "      <td>3.600000</td>\n",
       "      <td>3.730000</td>\n",
       "    </tr>\n",
       "    <tr>\n",
       "      <th>75%</th>\n",
       "      <td>2.750000</td>\n",
       "      <td>3.800000</td>\n",
       "      <td>5.250000</td>\n",
       "      <td>2.700000</td>\n",
       "      <td>3.800000</td>\n",
       "      <td>5.000000</td>\n",
       "      <td>2.600000</td>\n",
       "      <td>3.700000</td>\n",
       "      <td>4.650000</td>\n",
       "      <td>2.700000</td>\n",
       "      <td>3.750000</td>\n",
       "      <td>5.000000</td>\n",
       "      <td>2.940000</td>\n",
       "      <td>4.180000</td>\n",
       "      <td>5.550000</td>\n",
       "    </tr>\n",
       "    <tr>\n",
       "      <th>max</th>\n",
       "      <td>26.000000</td>\n",
       "      <td>17.000000</td>\n",
       "      <td>51.000000</td>\n",
       "      <td>34.000000</td>\n",
       "      <td>19.500000</td>\n",
       "      <td>51.000000</td>\n",
       "      <td>20.000000</td>\n",
       "      <td>11.000000</td>\n",
       "      <td>25.000000</td>\n",
       "      <td>26.000000</td>\n",
       "      <td>19.000000</td>\n",
       "      <td>51.000000</td>\n",
       "      <td>36.000000</td>\n",
       "      <td>29.000000</td>\n",
       "      <td>47.500000</td>\n",
       "    </tr>\n",
       "  </tbody>\n",
       "</table>\n",
       "</div>"
      ],
      "text/plain": [
       "              B365H         B365D         B365A           BWH           BWD  \\\n",
       "count  14573.000000  14573.000000  14573.000000  14558.000000  14558.000000   \n",
       "mean       2.595606      3.809271      4.704510      2.541709      3.738281   \n",
       "std        1.756999      1.171708      3.794316      1.625401      1.090557   \n",
       "min        1.040000      1.400000      1.080000      1.030000      1.650000   \n",
       "25%        1.670000      3.250000      2.600000      1.700000      3.200000   \n",
       "50%        2.100000      3.400000      3.600000      2.100000      3.400000   \n",
       "75%        2.750000      3.800000      5.250000      2.700000      3.800000   \n",
       "max       26.000000     17.000000     51.000000     34.000000     19.500000   \n",
       "\n",
       "                BWA           IWH           IWD           IWA           LBH  \\\n",
       "count  14558.000000  14540.000000  14540.000000  14540.000000  14568.000000   \n",
       "mean       4.455709      2.454475      3.625189      4.193165      2.512505   \n",
       "std        3.359353      1.434216      0.838685      2.881999      1.606546   \n",
       "min        1.100000      1.050000      1.500000      1.100000      1.040000   \n",
       "25%        2.600000      1.700000      3.200000      2.550000      1.670000   \n",
       "50%        3.450000      2.100000      3.300000      3.300000      2.100000   \n",
       "75%        5.000000      2.600000      3.700000      4.650000      2.700000   \n",
       "max       51.000000     20.000000     11.000000     25.000000     26.000000   \n",
       "\n",
       "                LBD           LBA          PSH          PSD          PSA  \n",
       "count  14568.000000  14568.000000  7292.000000  7292.000000  7292.000000  \n",
       "mean       3.706167      4.429821     2.787401     4.140014     5.128762  \n",
       "std        1.069737      3.447060     2.191845     1.680150     4.701423  \n",
       "min        1.400000      1.100000     1.040000     2.200000     1.090000  \n",
       "25%        3.200000      2.500000     1.710000     3.380000     2.617500  \n",
       "50%        3.400000      3.400000     2.180000     3.600000     3.730000  \n",
       "75%        3.750000      5.000000     2.940000     4.180000     5.550000  \n",
       "max       19.000000     51.000000    36.000000    29.000000    47.500000  "
      ]
     },
     "execution_count": 32,
     "metadata": {},
     "output_type": "execute_result"
    }
   ],
   "source": [
    "top_5_leagues_matches_df.loc[:, list(top_5_leagues_matches_df.columns[-30:-15])].describe()"
   ]
  },
  {
   "cell_type": "code",
   "execution_count": 33,
   "metadata": {},
   "outputs": [
    {
     "data": {
      "text/html": [
       "<div>\n",
       "<style scoped>\n",
       "    .dataframe tbody tr th:only-of-type {\n",
       "        vertical-align: middle;\n",
       "    }\n",
       "\n",
       "    .dataframe tbody tr th {\n",
       "        vertical-align: top;\n",
       "    }\n",
       "\n",
       "    .dataframe thead th {\n",
       "        text-align: right;\n",
       "    }\n",
       "</style>\n",
       "<table border=\"1\" class=\"dataframe\">\n",
       "  <thead>\n",
       "    <tr style=\"text-align: right;\">\n",
       "      <th></th>\n",
       "      <th>WHH</th>\n",
       "      <th>WHD</th>\n",
       "      <th>WHA</th>\n",
       "      <th>SJH</th>\n",
       "      <th>SJD</th>\n",
       "      <th>SJA</th>\n",
       "      <th>VCH</th>\n",
       "      <th>VCD</th>\n",
       "      <th>VCA</th>\n",
       "      <th>GBH</th>\n",
       "      <th>GBD</th>\n",
       "      <th>GBA</th>\n",
       "      <th>BSH</th>\n",
       "      <th>BSD</th>\n",
       "      <th>BSA</th>\n",
       "    </tr>\n",
       "  </thead>\n",
       "  <tbody>\n",
       "    <tr>\n",
       "      <th>count</th>\n",
       "      <td>14568.000000</td>\n",
       "      <td>14568.000000</td>\n",
       "      <td>14568.000000</td>\n",
       "      <td>11074.000000</td>\n",
       "      <td>11074.000000</td>\n",
       "      <td>11074.000000</td>\n",
       "      <td>14555.000000</td>\n",
       "      <td>14555.000000</td>\n",
       "      <td>14555.000000</td>\n",
       "      <td>9081.000000</td>\n",
       "      <td>9081.000000</td>\n",
       "      <td>9081.000000</td>\n",
       "      <td>9085.000000</td>\n",
       "      <td>9085.000000</td>\n",
       "      <td>9085.000000</td>\n",
       "    </tr>\n",
       "    <tr>\n",
       "      <th>mean</th>\n",
       "      <td>2.569285</td>\n",
       "      <td>3.629590</td>\n",
       "      <td>4.570721</td>\n",
       "      <td>2.533537</td>\n",
       "      <td>3.736561</td>\n",
       "      <td>4.680812</td>\n",
       "      <td>2.642940</td>\n",
       "      <td>3.875681</td>\n",
       "      <td>4.909706</td>\n",
       "      <td>2.472426</td>\n",
       "      <td>3.622296</td>\n",
       "      <td>4.386528</td>\n",
       "      <td>2.465726</td>\n",
       "      <td>3.625150</td>\n",
       "      <td>4.418149</td>\n",
       "    </tr>\n",
       "    <tr>\n",
       "      <th>std</th>\n",
       "      <td>1.688519</td>\n",
       "      <td>0.987731</td>\n",
       "      <td>3.745467</td>\n",
       "      <td>1.627928</td>\n",
       "      <td>1.036067</td>\n",
       "      <td>3.716216</td>\n",
       "      <td>1.916398</td>\n",
       "      <td>1.325661</td>\n",
       "      <td>4.465039</td>\n",
       "      <td>1.454708</td>\n",
       "      <td>0.883999</td>\n",
       "      <td>2.998704</td>\n",
       "      <td>1.460544</td>\n",
       "      <td>0.871147</td>\n",
       "      <td>3.158631</td>\n",
       "    </tr>\n",
       "    <tr>\n",
       "      <th>min</th>\n",
       "      <td>1.020000</td>\n",
       "      <td>1.020000</td>\n",
       "      <td>1.080000</td>\n",
       "      <td>1.040000</td>\n",
       "      <td>1.400000</td>\n",
       "      <td>1.100000</td>\n",
       "      <td>1.030000</td>\n",
       "      <td>1.620000</td>\n",
       "      <td>1.080000</td>\n",
       "      <td>1.050000</td>\n",
       "      <td>1.450000</td>\n",
       "      <td>1.120000</td>\n",
       "      <td>1.040000</td>\n",
       "      <td>1.330000</td>\n",
       "      <td>1.120000</td>\n",
       "    </tr>\n",
       "    <tr>\n",
       "      <th>25%</th>\n",
       "      <td>1.700000</td>\n",
       "      <td>3.200000</td>\n",
       "      <td>2.620000</td>\n",
       "      <td>1.670000</td>\n",
       "      <td>3.250000</td>\n",
       "      <td>2.630000</td>\n",
       "      <td>1.700000</td>\n",
       "      <td>3.250000</td>\n",
       "      <td>2.620000</td>\n",
       "      <td>1.700000</td>\n",
       "      <td>3.200000</td>\n",
       "      <td>2.600000</td>\n",
       "      <td>1.670000</td>\n",
       "      <td>3.200000</td>\n",
       "      <td>2.620000</td>\n",
       "    </tr>\n",
       "    <tr>\n",
       "      <th>50%</th>\n",
       "      <td>2.150000</td>\n",
       "      <td>3.300000</td>\n",
       "      <td>3.400000</td>\n",
       "      <td>2.100000</td>\n",
       "      <td>3.400000</td>\n",
       "      <td>3.600000</td>\n",
       "      <td>2.150000</td>\n",
       "      <td>3.500000</td>\n",
       "      <td>3.600000</td>\n",
       "      <td>2.100000</td>\n",
       "      <td>3.300000</td>\n",
       "      <td>3.500000</td>\n",
       "      <td>2.100000</td>\n",
       "      <td>3.300000</td>\n",
       "      <td>3.400000</td>\n",
       "    </tr>\n",
       "    <tr>\n",
       "      <th>75%</th>\n",
       "      <td>2.700000</td>\n",
       "      <td>3.750000</td>\n",
       "      <td>5.000000</td>\n",
       "      <td>2.700000</td>\n",
       "      <td>3.750000</td>\n",
       "      <td>5.250000</td>\n",
       "      <td>2.800000</td>\n",
       "      <td>4.000000</td>\n",
       "      <td>5.400000</td>\n",
       "      <td>2.630000</td>\n",
       "      <td>3.700000</td>\n",
       "      <td>5.000000</td>\n",
       "      <td>2.600000</td>\n",
       "      <td>3.750000</td>\n",
       "      <td>5.000000</td>\n",
       "    </tr>\n",
       "    <tr>\n",
       "      <th>max</th>\n",
       "      <td>26.000000</td>\n",
       "      <td>17.000000</td>\n",
       "      <td>51.000000</td>\n",
       "      <td>23.000000</td>\n",
       "      <td>15.000000</td>\n",
       "      <td>41.000000</td>\n",
       "      <td>36.000000</td>\n",
       "      <td>26.000000</td>\n",
       "      <td>67.000000</td>\n",
       "      <td>21.000000</td>\n",
       "      <td>11.000000</td>\n",
       "      <td>34.000000</td>\n",
       "      <td>17.000000</td>\n",
       "      <td>13.000000</td>\n",
       "      <td>34.000000</td>\n",
       "    </tr>\n",
       "  </tbody>\n",
       "</table>\n",
       "</div>"
      ],
      "text/plain": [
       "                WHH           WHD           WHA           SJH           SJD  \\\n",
       "count  14568.000000  14568.000000  14568.000000  11074.000000  11074.000000   \n",
       "mean       2.569285      3.629590      4.570721      2.533537      3.736561   \n",
       "std        1.688519      0.987731      3.745467      1.627928      1.036067   \n",
       "min        1.020000      1.020000      1.080000      1.040000      1.400000   \n",
       "25%        1.700000      3.200000      2.620000      1.670000      3.250000   \n",
       "50%        2.150000      3.300000      3.400000      2.100000      3.400000   \n",
       "75%        2.700000      3.750000      5.000000      2.700000      3.750000   \n",
       "max       26.000000     17.000000     51.000000     23.000000     15.000000   \n",
       "\n",
       "                SJA           VCH           VCD           VCA          GBH  \\\n",
       "count  11074.000000  14555.000000  14555.000000  14555.000000  9081.000000   \n",
       "mean       4.680812      2.642940      3.875681      4.909706     2.472426   \n",
       "std        3.716216      1.916398      1.325661      4.465039     1.454708   \n",
       "min        1.100000      1.030000      1.620000      1.080000     1.050000   \n",
       "25%        2.630000      1.700000      3.250000      2.620000     1.700000   \n",
       "50%        3.600000      2.150000      3.500000      3.600000     2.100000   \n",
       "75%        5.250000      2.800000      4.000000      5.400000     2.630000   \n",
       "max       41.000000     36.000000     26.000000     67.000000    21.000000   \n",
       "\n",
       "               GBD          GBA          BSH          BSD          BSA  \n",
       "count  9081.000000  9081.000000  9085.000000  9085.000000  9085.000000  \n",
       "mean      3.622296     4.386528     2.465726     3.625150     4.418149  \n",
       "std       0.883999     2.998704     1.460544     0.871147     3.158631  \n",
       "min       1.450000     1.120000     1.040000     1.330000     1.120000  \n",
       "25%       3.200000     2.600000     1.670000     3.200000     2.620000  \n",
       "50%       3.300000     3.500000     2.100000     3.300000     3.400000  \n",
       "75%       3.700000     5.000000     2.600000     3.750000     5.000000  \n",
       "max      11.000000    34.000000    17.000000    13.000000    34.000000  "
      ]
     },
     "execution_count": 33,
     "metadata": {},
     "output_type": "execute_result"
    }
   ],
   "source": [
    "top_5_leagues_matches_df.loc[:, list(top_5_leagues_matches_df.columns[-15:])].describe()"
   ]
  },
  {
   "cell_type": "code",
   "execution_count": 34,
   "metadata": {},
   "outputs": [
    {
     "name": "stdout",
     "output_type": "stream",
     "text": [
      "<class 'pandas.core.frame.DataFrame'>\n",
      "RangeIndex: 14585 entries, 0 to 14584\n",
      "Data columns (total 15 columns):\n",
      " #   Column  Non-Null Count  Dtype  \n",
      "---  ------  --------------  -----  \n",
      " 0   B365H   14573 non-null  float64\n",
      " 1   B365D   14573 non-null  float64\n",
      " 2   B365A   14573 non-null  float64\n",
      " 3   BWH     14558 non-null  float64\n",
      " 4   BWD     14558 non-null  float64\n",
      " 5   BWA     14558 non-null  float64\n",
      " 6   IWH     14540 non-null  float64\n",
      " 7   IWD     14540 non-null  float64\n",
      " 8   IWA     14540 non-null  float64\n",
      " 9   LBH     14568 non-null  float64\n",
      " 10  LBD     14568 non-null  float64\n",
      " 11  LBA     14568 non-null  float64\n",
      " 12  PSH     7292 non-null   float64\n",
      " 13  PSD     7292 non-null   float64\n",
      " 14  PSA     7292 non-null   float64\n",
      "dtypes: float64(15)\n",
      "memory usage: 1.7 MB\n"
     ]
    }
   ],
   "source": [
    "top_5_leagues_matches_df.loc[:, list(top_5_leagues_matches_df.columns[-30:-15])].info()"
   ]
  },
  {
   "cell_type": "code",
   "execution_count": 35,
   "metadata": {},
   "outputs": [
    {
     "name": "stdout",
     "output_type": "stream",
     "text": [
      "<class 'pandas.core.frame.DataFrame'>\n",
      "RangeIndex: 14585 entries, 0 to 14584\n",
      "Data columns (total 15 columns):\n",
      " #   Column  Non-Null Count  Dtype  \n",
      "---  ------  --------------  -----  \n",
      " 0   WHH     14568 non-null  float64\n",
      " 1   WHD     14568 non-null  float64\n",
      " 2   WHA     14568 non-null  float64\n",
      " 3   SJH     11074 non-null  float64\n",
      " 4   SJD     11074 non-null  float64\n",
      " 5   SJA     11074 non-null  float64\n",
      " 6   VCH     14555 non-null  float64\n",
      " 7   VCD     14555 non-null  float64\n",
      " 8   VCA     14555 non-null  float64\n",
      " 9   GBH     9081 non-null   float64\n",
      " 10  GBD     9081 non-null   float64\n",
      " 11  GBA     9081 non-null   float64\n",
      " 12  BSH     9085 non-null   float64\n",
      " 13  BSD     9085 non-null   float64\n",
      " 14  BSA     9085 non-null   float64\n",
      "dtypes: float64(15)\n",
      "memory usage: 1.7 MB\n"
     ]
    }
   ],
   "source": [
    "top_5_leagues_matches_df.loc[:, list(top_5_leagues_matches_df.columns[-15:])].info()"
   ]
  },
  {
   "cell_type": "markdown",
   "metadata": {},
   "source": [
    "### assessing player attributes"
   ]
  },
  {
   "cell_type": "code",
   "execution_count": 36,
   "metadata": {},
   "outputs": [
    {
     "name": "stdout",
     "output_type": "stream",
     "text": [
      "<class 'pandas.core.frame.DataFrame'>\n",
      "RangeIndex: 183978 entries, 0 to 183977\n",
      "Data columns (total 42 columns):\n",
      " #   Column               Non-Null Count   Dtype  \n",
      "---  ------               --------------   -----  \n",
      " 0   id                   183978 non-null  int64  \n",
      " 1   player_fifa_api_id   183978 non-null  int64  \n",
      " 2   player_api_id        183978 non-null  int64  \n",
      " 3   date                 183978 non-null  object \n",
      " 4   overall_rating       183142 non-null  float64\n",
      " 5   potential            183142 non-null  float64\n",
      " 6   preferred_foot       183142 non-null  object \n",
      " 7   attacking_work_rate  180748 non-null  object \n",
      " 8   defensive_work_rate  183142 non-null  object \n",
      " 9   crossing             183142 non-null  float64\n",
      " 10  finishing            183142 non-null  float64\n",
      " 11  heading_accuracy     183142 non-null  float64\n",
      " 12  short_passing        183142 non-null  float64\n",
      " 13  volleys              181265 non-null  float64\n",
      " 14  dribbling            183142 non-null  float64\n",
      " 15  curve                181265 non-null  float64\n",
      " 16  free_kick_accuracy   183142 non-null  float64\n",
      " 17  long_passing         183142 non-null  float64\n",
      " 18  ball_control         183142 non-null  float64\n",
      " 19  acceleration         183142 non-null  float64\n",
      " 20  sprint_speed         183142 non-null  float64\n",
      " 21  agility              181265 non-null  float64\n",
      " 22  reactions            183142 non-null  float64\n",
      " 23  balance              181265 non-null  float64\n",
      " 24  shot_power           183142 non-null  float64\n",
      " 25  jumping              181265 non-null  float64\n",
      " 26  stamina              183142 non-null  float64\n",
      " 27  strength             183142 non-null  float64\n",
      " 28  long_shots           183142 non-null  float64\n",
      " 29  aggression           183142 non-null  float64\n",
      " 30  interceptions        183142 non-null  float64\n",
      " 31  positioning          183142 non-null  float64\n",
      " 32  vision               181265 non-null  float64\n",
      " 33  penalties            183142 non-null  float64\n",
      " 34  marking              183142 non-null  float64\n",
      " 35  standing_tackle      183142 non-null  float64\n",
      " 36  sliding_tackle       181265 non-null  float64\n",
      " 37  gk_diving            183142 non-null  float64\n",
      " 38  gk_handling          183142 non-null  float64\n",
      " 39  gk_kicking           183142 non-null  float64\n",
      " 40  gk_positioning       183142 non-null  float64\n",
      " 41  gk_reflexes          183142 non-null  float64\n",
      "dtypes: float64(35), int64(3), object(4)\n",
      "memory usage: 59.0+ MB\n"
     ]
    }
   ],
   "source": [
    "player_attributes_df.info()"
   ]
  },
  {
   "cell_type": "code",
   "execution_count": 37,
   "metadata": {},
   "outputs": [
    {
     "data": {
      "text/plain": [
       "array([   0,  836, 3230, 2713])"
      ]
     },
     "execution_count": 37,
     "metadata": {},
     "output_type": "execute_result"
    }
   ],
   "source": [
    "player_attributes_df.isna().sum().unique()"
   ]
  },
  {
   "cell_type": "code",
   "execution_count": 38,
   "metadata": {},
   "outputs": [],
   "source": [
    "attributes_start_idx = 4"
   ]
  },
  {
   "cell_type": "code",
   "execution_count": 39,
   "metadata": {},
   "outputs": [
    {
     "data": {
      "text/html": [
       "<div>\n",
       "<style scoped>\n",
       "    .dataframe tbody tr th:only-of-type {\n",
       "        vertical-align: middle;\n",
       "    }\n",
       "\n",
       "    .dataframe tbody tr th {\n",
       "        vertical-align: top;\n",
       "    }\n",
       "\n",
       "    .dataframe thead th {\n",
       "        text-align: right;\n",
       "    }\n",
       "</style>\n",
       "<table border=\"1\" class=\"dataframe\">\n",
       "  <thead>\n",
       "    <tr style=\"text-align: right;\">\n",
       "      <th></th>\n",
       "      <th>id</th>\n",
       "      <th>player_fifa_api_id</th>\n",
       "      <th>player_api_id</th>\n",
       "    </tr>\n",
       "  </thead>\n",
       "  <tbody>\n",
       "    <tr>\n",
       "      <th>count</th>\n",
       "      <td>183978.00000</td>\n",
       "      <td>183978.000000</td>\n",
       "      <td>183978.000000</td>\n",
       "    </tr>\n",
       "    <tr>\n",
       "      <th>mean</th>\n",
       "      <td>91989.50000</td>\n",
       "      <td>165671.524291</td>\n",
       "      <td>135900.617324</td>\n",
       "    </tr>\n",
       "    <tr>\n",
       "      <th>std</th>\n",
       "      <td>53110.01825</td>\n",
       "      <td>53851.094769</td>\n",
       "      <td>136927.840510</td>\n",
       "    </tr>\n",
       "    <tr>\n",
       "      <th>min</th>\n",
       "      <td>1.00000</td>\n",
       "      <td>2.000000</td>\n",
       "      <td>2625.000000</td>\n",
       "    </tr>\n",
       "    <tr>\n",
       "      <th>25%</th>\n",
       "      <td>45995.25000</td>\n",
       "      <td>155798.000000</td>\n",
       "      <td>34763.000000</td>\n",
       "    </tr>\n",
       "    <tr>\n",
       "      <th>50%</th>\n",
       "      <td>91989.50000</td>\n",
       "      <td>183488.000000</td>\n",
       "      <td>77741.000000</td>\n",
       "    </tr>\n",
       "    <tr>\n",
       "      <th>75%</th>\n",
       "      <td>137983.75000</td>\n",
       "      <td>199848.000000</td>\n",
       "      <td>191080.000000</td>\n",
       "    </tr>\n",
       "    <tr>\n",
       "      <th>max</th>\n",
       "      <td>183978.00000</td>\n",
       "      <td>234141.000000</td>\n",
       "      <td>750584.000000</td>\n",
       "    </tr>\n",
       "  </tbody>\n",
       "</table>\n",
       "</div>"
      ],
      "text/plain": [
       "                 id  player_fifa_api_id  player_api_id\n",
       "count  183978.00000       183978.000000  183978.000000\n",
       "mean    91989.50000       165671.524291  135900.617324\n",
       "std     53110.01825        53851.094769  136927.840510\n",
       "min         1.00000            2.000000    2625.000000\n",
       "25%     45995.25000       155798.000000   34763.000000\n",
       "50%     91989.50000       183488.000000   77741.000000\n",
       "75%    137983.75000       199848.000000  191080.000000\n",
       "max    183978.00000       234141.000000  750584.000000"
      ]
     },
     "execution_count": 39,
     "metadata": {},
     "output_type": "execute_result"
    }
   ],
   "source": [
    "player_attributes_df.iloc[:, :attributes_start_idx].describe()"
   ]
  },
  {
   "cell_type": "code",
   "execution_count": 40,
   "metadata": {},
   "outputs": [
    {
     "data": {
      "text/html": [
       "<div>\n",
       "<style scoped>\n",
       "    .dataframe tbody tr th:only-of-type {\n",
       "        vertical-align: middle;\n",
       "    }\n",
       "\n",
       "    .dataframe tbody tr th {\n",
       "        vertical-align: top;\n",
       "    }\n",
       "\n",
       "    .dataframe thead th {\n",
       "        text-align: right;\n",
       "    }\n",
       "</style>\n",
       "<table border=\"1\" class=\"dataframe\">\n",
       "  <thead>\n",
       "    <tr style=\"text-align: right;\">\n",
       "      <th></th>\n",
       "      <th>id</th>\n",
       "      <th>player_api_id</th>\n",
       "      <th>player_name</th>\n",
       "      <th>player_fifa_api_id</th>\n",
       "      <th>birthday</th>\n",
       "      <th>height</th>\n",
       "      <th>weight</th>\n",
       "    </tr>\n",
       "  </thead>\n",
       "  <tbody>\n",
       "    <tr>\n",
       "      <th>470</th>\n",
       "      <td>473</td>\n",
       "      <td>750584</td>\n",
       "      <td>Alexandre Azevedo</td>\n",
       "      <td>234141</td>\n",
       "      <td>1997-01-28 00:00:00</td>\n",
       "      <td>175.26</td>\n",
       "      <td>150</td>\n",
       "    </tr>\n",
       "  </tbody>\n",
       "</table>\n",
       "</div>"
      ],
      "text/plain": [
       "      id  player_api_id        player_name  player_fifa_api_id  \\\n",
       "470  473         750584  Alexandre Azevedo              234141   \n",
       "\n",
       "                birthday  height  weight  \n",
       "470  1997-01-28 00:00:00  175.26     150  "
      ]
     },
     "execution_count": 40,
     "metadata": {},
     "output_type": "execute_result"
    }
   ],
   "source": [
    "# confirm that the max value make sense\n",
    "players_df[players_df.player_api_id == player_attributes_df.iloc[:, :attributes_start_idx].describe().loc[\"max\", :].player_api_id]"
   ]
  },
  {
   "cell_type": "code",
   "execution_count": 41,
   "metadata": {},
   "outputs": [
    {
     "name": "stdout",
     "output_type": "stream",
     "text": [
      "<class 'pandas.core.frame.DataFrame'>\n",
      "RangeIndex: 183978 entries, 0 to 183977\n",
      "Data columns (total 38 columns):\n",
      " #   Column               Non-Null Count   Dtype  \n",
      "---  ------               --------------   -----  \n",
      " 0   overall_rating       183142 non-null  float64\n",
      " 1   potential            183142 non-null  float64\n",
      " 2   preferred_foot       183142 non-null  object \n",
      " 3   attacking_work_rate  180748 non-null  object \n",
      " 4   defensive_work_rate  183142 non-null  object \n",
      " 5   crossing             183142 non-null  float64\n",
      " 6   finishing            183142 non-null  float64\n",
      " 7   heading_accuracy     183142 non-null  float64\n",
      " 8   short_passing        183142 non-null  float64\n",
      " 9   volleys              181265 non-null  float64\n",
      " 10  dribbling            183142 non-null  float64\n",
      " 11  curve                181265 non-null  float64\n",
      " 12  free_kick_accuracy   183142 non-null  float64\n",
      " 13  long_passing         183142 non-null  float64\n",
      " 14  ball_control         183142 non-null  float64\n",
      " 15  acceleration         183142 non-null  float64\n",
      " 16  sprint_speed         183142 non-null  float64\n",
      " 17  agility              181265 non-null  float64\n",
      " 18  reactions            183142 non-null  float64\n",
      " 19  balance              181265 non-null  float64\n",
      " 20  shot_power           183142 non-null  float64\n",
      " 21  jumping              181265 non-null  float64\n",
      " 22  stamina              183142 non-null  float64\n",
      " 23  strength             183142 non-null  float64\n",
      " 24  long_shots           183142 non-null  float64\n",
      " 25  aggression           183142 non-null  float64\n",
      " 26  interceptions        183142 non-null  float64\n",
      " 27  positioning          183142 non-null  float64\n",
      " 28  vision               181265 non-null  float64\n",
      " 29  penalties            183142 non-null  float64\n",
      " 30  marking              183142 non-null  float64\n",
      " 31  standing_tackle      183142 non-null  float64\n",
      " 32  sliding_tackle       181265 non-null  float64\n",
      " 33  gk_diving            183142 non-null  float64\n",
      " 34  gk_handling          183142 non-null  float64\n",
      " 35  gk_kicking           183142 non-null  float64\n",
      " 36  gk_positioning       183142 non-null  float64\n",
      " 37  gk_reflexes          183142 non-null  float64\n",
      "dtypes: float64(35), object(3)\n",
      "memory usage: 53.3+ MB\n"
     ]
    }
   ],
   "source": [
    "player_attributes_df.iloc[:, attributes_start_idx:].info()"
   ]
  },
  {
   "cell_type": "code",
   "execution_count": 42,
   "metadata": {},
   "outputs": [
    {
     "data": {
      "text/plain": [
       "array(['right', 'left', None], dtype=object)"
      ]
     },
     "execution_count": 42,
     "metadata": {},
     "output_type": "execute_result"
    }
   ],
   "source": [
    "player_attributes_df.preferred_foot.unique()"
   ]
  },
  {
   "cell_type": "code",
   "execution_count": 43,
   "metadata": {},
   "outputs": [
    {
     "data": {
      "text/plain": [
       "array(['medium', 'high', None, 'low', 'None', 'le', 'norm', 'stoc', 'y'],\n",
       "      dtype=object)"
      ]
     },
     "execution_count": 43,
     "metadata": {},
     "output_type": "execute_result"
    }
   ],
   "source": [
    "player_attributes_df.attacking_work_rate.unique()"
   ]
  },
  {
   "cell_type": "code",
   "execution_count": 44,
   "metadata": {},
   "outputs": [
    {
     "data": {
      "text/plain": [
       "array(['medium', 'high', 'low', '_0', None, '5', 'ean', 'o', '1', 'ormal',\n",
       "       '7', '2', '8', '4', 'tocky', '0', '3', '6', '9', 'es'],\n",
       "      dtype=object)"
      ]
     },
     "execution_count": 44,
     "metadata": {},
     "output_type": "execute_result"
    }
   ],
   "source": [
    "player_attributes_df.defensive_work_rate.unique()"
   ]
  },
  {
   "cell_type": "code",
   "execution_count": 45,
   "metadata": {},
   "outputs": [
    {
     "data": {
      "text/html": [
       "<div>\n",
       "<style scoped>\n",
       "    .dataframe tbody tr th:only-of-type {\n",
       "        vertical-align: middle;\n",
       "    }\n",
       "\n",
       "    .dataframe tbody tr th {\n",
       "        vertical-align: top;\n",
       "    }\n",
       "\n",
       "    .dataframe thead th {\n",
       "        text-align: right;\n",
       "    }\n",
       "</style>\n",
       "<table border=\"1\" class=\"dataframe\">\n",
       "  <thead>\n",
       "    <tr style=\"text-align: right;\">\n",
       "      <th></th>\n",
       "      <th>overall_rating</th>\n",
       "      <th>potential</th>\n",
       "      <th>crossing</th>\n",
       "      <th>finishing</th>\n",
       "      <th>heading_accuracy</th>\n",
       "      <th>short_passing</th>\n",
       "      <th>volleys</th>\n",
       "      <th>dribbling</th>\n",
       "      <th>curve</th>\n",
       "      <th>free_kick_accuracy</th>\n",
       "      <th>long_passing</th>\n",
       "      <th>ball_control</th>\n",
       "    </tr>\n",
       "  </thead>\n",
       "  <tbody>\n",
       "    <tr>\n",
       "      <th>count</th>\n",
       "      <td>183142.000000</td>\n",
       "      <td>183142.000000</td>\n",
       "      <td>183142.000000</td>\n",
       "      <td>183142.000000</td>\n",
       "      <td>183142.000000</td>\n",
       "      <td>183142.000000</td>\n",
       "      <td>181265.000000</td>\n",
       "      <td>183142.000000</td>\n",
       "      <td>181265.000000</td>\n",
       "      <td>183142.000000</td>\n",
       "      <td>183142.000000</td>\n",
       "      <td>183142.000000</td>\n",
       "    </tr>\n",
       "    <tr>\n",
       "      <th>mean</th>\n",
       "      <td>68.600015</td>\n",
       "      <td>73.460353</td>\n",
       "      <td>55.086883</td>\n",
       "      <td>49.921078</td>\n",
       "      <td>57.266023</td>\n",
       "      <td>62.429672</td>\n",
       "      <td>49.468436</td>\n",
       "      <td>59.175154</td>\n",
       "      <td>52.965675</td>\n",
       "      <td>49.380950</td>\n",
       "      <td>57.069880</td>\n",
       "      <td>63.388879</td>\n",
       "    </tr>\n",
       "    <tr>\n",
       "      <th>std</th>\n",
       "      <td>7.041139</td>\n",
       "      <td>6.592271</td>\n",
       "      <td>17.242135</td>\n",
       "      <td>19.038705</td>\n",
       "      <td>16.488905</td>\n",
       "      <td>14.194068</td>\n",
       "      <td>18.256618</td>\n",
       "      <td>17.744688</td>\n",
       "      <td>18.255788</td>\n",
       "      <td>17.831746</td>\n",
       "      <td>14.394464</td>\n",
       "      <td>15.196671</td>\n",
       "    </tr>\n",
       "    <tr>\n",
       "      <th>min</th>\n",
       "      <td>33.000000</td>\n",
       "      <td>39.000000</td>\n",
       "      <td>1.000000</td>\n",
       "      <td>1.000000</td>\n",
       "      <td>1.000000</td>\n",
       "      <td>3.000000</td>\n",
       "      <td>1.000000</td>\n",
       "      <td>1.000000</td>\n",
       "      <td>2.000000</td>\n",
       "      <td>1.000000</td>\n",
       "      <td>3.000000</td>\n",
       "      <td>5.000000</td>\n",
       "    </tr>\n",
       "    <tr>\n",
       "      <th>25%</th>\n",
       "      <td>64.000000</td>\n",
       "      <td>69.000000</td>\n",
       "      <td>45.000000</td>\n",
       "      <td>34.000000</td>\n",
       "      <td>49.000000</td>\n",
       "      <td>57.000000</td>\n",
       "      <td>35.000000</td>\n",
       "      <td>52.000000</td>\n",
       "      <td>41.000000</td>\n",
       "      <td>36.000000</td>\n",
       "      <td>49.000000</td>\n",
       "      <td>58.000000</td>\n",
       "    </tr>\n",
       "    <tr>\n",
       "      <th>50%</th>\n",
       "      <td>69.000000</td>\n",
       "      <td>74.000000</td>\n",
       "      <td>59.000000</td>\n",
       "      <td>53.000000</td>\n",
       "      <td>60.000000</td>\n",
       "      <td>65.000000</td>\n",
       "      <td>52.000000</td>\n",
       "      <td>64.000000</td>\n",
       "      <td>56.000000</td>\n",
       "      <td>50.000000</td>\n",
       "      <td>59.000000</td>\n",
       "      <td>67.000000</td>\n",
       "    </tr>\n",
       "    <tr>\n",
       "      <th>75%</th>\n",
       "      <td>73.000000</td>\n",
       "      <td>78.000000</td>\n",
       "      <td>68.000000</td>\n",
       "      <td>65.000000</td>\n",
       "      <td>68.000000</td>\n",
       "      <td>72.000000</td>\n",
       "      <td>64.000000</td>\n",
       "      <td>72.000000</td>\n",
       "      <td>67.000000</td>\n",
       "      <td>63.000000</td>\n",
       "      <td>67.000000</td>\n",
       "      <td>73.000000</td>\n",
       "    </tr>\n",
       "    <tr>\n",
       "      <th>max</th>\n",
       "      <td>94.000000</td>\n",
       "      <td>97.000000</td>\n",
       "      <td>95.000000</td>\n",
       "      <td>97.000000</td>\n",
       "      <td>98.000000</td>\n",
       "      <td>97.000000</td>\n",
       "      <td>93.000000</td>\n",
       "      <td>97.000000</td>\n",
       "      <td>94.000000</td>\n",
       "      <td>97.000000</td>\n",
       "      <td>97.000000</td>\n",
       "      <td>97.000000</td>\n",
       "    </tr>\n",
       "  </tbody>\n",
       "</table>\n",
       "</div>"
      ],
      "text/plain": [
       "       overall_rating      potential       crossing      finishing  \\\n",
       "count   183142.000000  183142.000000  183142.000000  183142.000000   \n",
       "mean        68.600015      73.460353      55.086883      49.921078   \n",
       "std          7.041139       6.592271      17.242135      19.038705   \n",
       "min         33.000000      39.000000       1.000000       1.000000   \n",
       "25%         64.000000      69.000000      45.000000      34.000000   \n",
       "50%         69.000000      74.000000      59.000000      53.000000   \n",
       "75%         73.000000      78.000000      68.000000      65.000000   \n",
       "max         94.000000      97.000000      95.000000      97.000000   \n",
       "\n",
       "       heading_accuracy  short_passing        volleys      dribbling  \\\n",
       "count     183142.000000  183142.000000  181265.000000  183142.000000   \n",
       "mean          57.266023      62.429672      49.468436      59.175154   \n",
       "std           16.488905      14.194068      18.256618      17.744688   \n",
       "min            1.000000       3.000000       1.000000       1.000000   \n",
       "25%           49.000000      57.000000      35.000000      52.000000   \n",
       "50%           60.000000      65.000000      52.000000      64.000000   \n",
       "75%           68.000000      72.000000      64.000000      72.000000   \n",
       "max           98.000000      97.000000      93.000000      97.000000   \n",
       "\n",
       "               curve  free_kick_accuracy   long_passing   ball_control  \n",
       "count  181265.000000       183142.000000  183142.000000  183142.000000  \n",
       "mean       52.965675           49.380950      57.069880      63.388879  \n",
       "std        18.255788           17.831746      14.394464      15.196671  \n",
       "min         2.000000            1.000000       3.000000       5.000000  \n",
       "25%        41.000000           36.000000      49.000000      58.000000  \n",
       "50%        56.000000           50.000000      59.000000      67.000000  \n",
       "75%        67.000000           63.000000      67.000000      73.000000  \n",
       "max        94.000000           97.000000      97.000000      97.000000  "
      ]
     },
     "execution_count": 45,
     "metadata": {},
     "output_type": "execute_result"
    }
   ],
   "source": [
    "player_attributes_df.iloc[:, attributes_start_idx:attributes_start_idx+15].describe()"
   ]
  },
  {
   "cell_type": "code",
   "execution_count": 46,
   "metadata": {},
   "outputs": [
    {
     "data": {
      "text/html": [
       "<div>\n",
       "<style scoped>\n",
       "    .dataframe tbody tr th:only-of-type {\n",
       "        vertical-align: middle;\n",
       "    }\n",
       "\n",
       "    .dataframe tbody tr th {\n",
       "        vertical-align: top;\n",
       "    }\n",
       "\n",
       "    .dataframe thead th {\n",
       "        text-align: right;\n",
       "    }\n",
       "</style>\n",
       "<table border=\"1\" class=\"dataframe\">\n",
       "  <thead>\n",
       "    <tr style=\"text-align: right;\">\n",
       "      <th></th>\n",
       "      <th>acceleration</th>\n",
       "      <th>sprint_speed</th>\n",
       "      <th>agility</th>\n",
       "      <th>reactions</th>\n",
       "      <th>balance</th>\n",
       "      <th>shot_power</th>\n",
       "      <th>jumping</th>\n",
       "      <th>stamina</th>\n",
       "      <th>strength</th>\n",
       "      <th>long_shots</th>\n",
       "      <th>aggression</th>\n",
       "      <th>interceptions</th>\n",
       "      <th>positioning</th>\n",
       "      <th>vision</th>\n",
       "      <th>penalties</th>\n",
       "    </tr>\n",
       "  </thead>\n",
       "  <tbody>\n",
       "    <tr>\n",
       "      <th>count</th>\n",
       "      <td>183142.000000</td>\n",
       "      <td>183142.000000</td>\n",
       "      <td>181265.000000</td>\n",
       "      <td>183142.000000</td>\n",
       "      <td>181265.000000</td>\n",
       "      <td>183142.000000</td>\n",
       "      <td>181265.000000</td>\n",
       "      <td>183142.000000</td>\n",
       "      <td>183142.000000</td>\n",
       "      <td>183142.000000</td>\n",
       "      <td>183142.000000</td>\n",
       "      <td>183142.000000</td>\n",
       "      <td>183142.000000</td>\n",
       "      <td>181265.000000</td>\n",
       "      <td>183142.000000</td>\n",
       "    </tr>\n",
       "    <tr>\n",
       "      <th>mean</th>\n",
       "      <td>67.659357</td>\n",
       "      <td>68.051244</td>\n",
       "      <td>65.970910</td>\n",
       "      <td>66.103706</td>\n",
       "      <td>65.189496</td>\n",
       "      <td>61.808427</td>\n",
       "      <td>66.969045</td>\n",
       "      <td>67.038544</td>\n",
       "      <td>67.424529</td>\n",
       "      <td>53.339431</td>\n",
       "      <td>60.948046</td>\n",
       "      <td>52.009271</td>\n",
       "      <td>55.786504</td>\n",
       "      <td>57.873550</td>\n",
       "      <td>55.003986</td>\n",
       "    </tr>\n",
       "    <tr>\n",
       "      <th>std</th>\n",
       "      <td>12.983326</td>\n",
       "      <td>12.569721</td>\n",
       "      <td>12.954585</td>\n",
       "      <td>9.155408</td>\n",
       "      <td>13.063188</td>\n",
       "      <td>16.135143</td>\n",
       "      <td>11.006734</td>\n",
       "      <td>13.165262</td>\n",
       "      <td>12.072280</td>\n",
       "      <td>18.367025</td>\n",
       "      <td>16.089521</td>\n",
       "      <td>19.450133</td>\n",
       "      <td>18.448292</td>\n",
       "      <td>15.144086</td>\n",
       "      <td>15.546519</td>\n",
       "    </tr>\n",
       "    <tr>\n",
       "      <th>min</th>\n",
       "      <td>10.000000</td>\n",
       "      <td>12.000000</td>\n",
       "      <td>11.000000</td>\n",
       "      <td>17.000000</td>\n",
       "      <td>12.000000</td>\n",
       "      <td>2.000000</td>\n",
       "      <td>14.000000</td>\n",
       "      <td>10.000000</td>\n",
       "      <td>10.000000</td>\n",
       "      <td>1.000000</td>\n",
       "      <td>6.000000</td>\n",
       "      <td>1.000000</td>\n",
       "      <td>2.000000</td>\n",
       "      <td>1.000000</td>\n",
       "      <td>2.000000</td>\n",
       "    </tr>\n",
       "    <tr>\n",
       "      <th>25%</th>\n",
       "      <td>61.000000</td>\n",
       "      <td>62.000000</td>\n",
       "      <td>58.000000</td>\n",
       "      <td>61.000000</td>\n",
       "      <td>58.000000</td>\n",
       "      <td>54.000000</td>\n",
       "      <td>60.000000</td>\n",
       "      <td>61.000000</td>\n",
       "      <td>60.000000</td>\n",
       "      <td>41.000000</td>\n",
       "      <td>51.000000</td>\n",
       "      <td>34.000000</td>\n",
       "      <td>45.000000</td>\n",
       "      <td>49.000000</td>\n",
       "      <td>45.000000</td>\n",
       "    </tr>\n",
       "    <tr>\n",
       "      <th>50%</th>\n",
       "      <td>69.000000</td>\n",
       "      <td>69.000000</td>\n",
       "      <td>68.000000</td>\n",
       "      <td>67.000000</td>\n",
       "      <td>67.000000</td>\n",
       "      <td>65.000000</td>\n",
       "      <td>68.000000</td>\n",
       "      <td>69.000000</td>\n",
       "      <td>69.000000</td>\n",
       "      <td>58.000000</td>\n",
       "      <td>64.000000</td>\n",
       "      <td>57.000000</td>\n",
       "      <td>60.000000</td>\n",
       "      <td>60.000000</td>\n",
       "      <td>57.000000</td>\n",
       "    </tr>\n",
       "    <tr>\n",
       "      <th>75%</th>\n",
       "      <td>77.000000</td>\n",
       "      <td>77.000000</td>\n",
       "      <td>75.000000</td>\n",
       "      <td>72.000000</td>\n",
       "      <td>74.000000</td>\n",
       "      <td>73.000000</td>\n",
       "      <td>74.000000</td>\n",
       "      <td>76.000000</td>\n",
       "      <td>76.000000</td>\n",
       "      <td>67.000000</td>\n",
       "      <td>73.000000</td>\n",
       "      <td>68.000000</td>\n",
       "      <td>69.000000</td>\n",
       "      <td>69.000000</td>\n",
       "      <td>67.000000</td>\n",
       "    </tr>\n",
       "    <tr>\n",
       "      <th>max</th>\n",
       "      <td>97.000000</td>\n",
       "      <td>97.000000</td>\n",
       "      <td>96.000000</td>\n",
       "      <td>96.000000</td>\n",
       "      <td>96.000000</td>\n",
       "      <td>97.000000</td>\n",
       "      <td>96.000000</td>\n",
       "      <td>96.000000</td>\n",
       "      <td>96.000000</td>\n",
       "      <td>96.000000</td>\n",
       "      <td>97.000000</td>\n",
       "      <td>96.000000</td>\n",
       "      <td>96.000000</td>\n",
       "      <td>97.000000</td>\n",
       "      <td>96.000000</td>\n",
       "    </tr>\n",
       "  </tbody>\n",
       "</table>\n",
       "</div>"
      ],
      "text/plain": [
       "        acceleration   sprint_speed        agility      reactions  \\\n",
       "count  183142.000000  183142.000000  181265.000000  183142.000000   \n",
       "mean       67.659357      68.051244      65.970910      66.103706   \n",
       "std        12.983326      12.569721      12.954585       9.155408   \n",
       "min        10.000000      12.000000      11.000000      17.000000   \n",
       "25%        61.000000      62.000000      58.000000      61.000000   \n",
       "50%        69.000000      69.000000      68.000000      67.000000   \n",
       "75%        77.000000      77.000000      75.000000      72.000000   \n",
       "max        97.000000      97.000000      96.000000      96.000000   \n",
       "\n",
       "             balance     shot_power        jumping        stamina  \\\n",
       "count  181265.000000  183142.000000  181265.000000  183142.000000   \n",
       "mean       65.189496      61.808427      66.969045      67.038544   \n",
       "std        13.063188      16.135143      11.006734      13.165262   \n",
       "min        12.000000       2.000000      14.000000      10.000000   \n",
       "25%        58.000000      54.000000      60.000000      61.000000   \n",
       "50%        67.000000      65.000000      68.000000      69.000000   \n",
       "75%        74.000000      73.000000      74.000000      76.000000   \n",
       "max        96.000000      97.000000      96.000000      96.000000   \n",
       "\n",
       "            strength     long_shots     aggression  interceptions  \\\n",
       "count  183142.000000  183142.000000  183142.000000  183142.000000   \n",
       "mean       67.424529      53.339431      60.948046      52.009271   \n",
       "std        12.072280      18.367025      16.089521      19.450133   \n",
       "min        10.000000       1.000000       6.000000       1.000000   \n",
       "25%        60.000000      41.000000      51.000000      34.000000   \n",
       "50%        69.000000      58.000000      64.000000      57.000000   \n",
       "75%        76.000000      67.000000      73.000000      68.000000   \n",
       "max        96.000000      96.000000      97.000000      96.000000   \n",
       "\n",
       "         positioning         vision      penalties  \n",
       "count  183142.000000  181265.000000  183142.000000  \n",
       "mean       55.786504      57.873550      55.003986  \n",
       "std        18.448292      15.144086      15.546519  \n",
       "min         2.000000       1.000000       2.000000  \n",
       "25%        45.000000      49.000000      45.000000  \n",
       "50%        60.000000      60.000000      57.000000  \n",
       "75%        69.000000      69.000000      67.000000  \n",
       "max        96.000000      97.000000      96.000000  "
      ]
     },
     "execution_count": 46,
     "metadata": {},
     "output_type": "execute_result"
    }
   ],
   "source": [
    "player_attributes_df.iloc[:, attributes_start_idx+15:attributes_start_idx+30].describe()"
   ]
  },
  {
   "cell_type": "code",
   "execution_count": 47,
   "metadata": {},
   "outputs": [
    {
     "data": {
      "text/html": [
       "<div>\n",
       "<style scoped>\n",
       "    .dataframe tbody tr th:only-of-type {\n",
       "        vertical-align: middle;\n",
       "    }\n",
       "\n",
       "    .dataframe tbody tr th {\n",
       "        vertical-align: top;\n",
       "    }\n",
       "\n",
       "    .dataframe thead th {\n",
       "        text-align: right;\n",
       "    }\n",
       "</style>\n",
       "<table border=\"1\" class=\"dataframe\">\n",
       "  <thead>\n",
       "    <tr style=\"text-align: right;\">\n",
       "      <th></th>\n",
       "      <th>marking</th>\n",
       "      <th>standing_tackle</th>\n",
       "      <th>sliding_tackle</th>\n",
       "      <th>gk_diving</th>\n",
       "      <th>gk_handling</th>\n",
       "      <th>gk_kicking</th>\n",
       "      <th>gk_positioning</th>\n",
       "      <th>gk_reflexes</th>\n",
       "    </tr>\n",
       "  </thead>\n",
       "  <tbody>\n",
       "    <tr>\n",
       "      <th>count</th>\n",
       "      <td>183142.000000</td>\n",
       "      <td>183142.000000</td>\n",
       "      <td>181265.000000</td>\n",
       "      <td>183142.000000</td>\n",
       "      <td>183142.000000</td>\n",
       "      <td>183142.000000</td>\n",
       "      <td>183142.000000</td>\n",
       "      <td>183142.000000</td>\n",
       "    </tr>\n",
       "    <tr>\n",
       "      <th>mean</th>\n",
       "      <td>46.772242</td>\n",
       "      <td>50.351257</td>\n",
       "      <td>48.001462</td>\n",
       "      <td>14.704393</td>\n",
       "      <td>16.063612</td>\n",
       "      <td>20.998362</td>\n",
       "      <td>16.132154</td>\n",
       "      <td>16.441439</td>\n",
       "    </tr>\n",
       "    <tr>\n",
       "      <th>std</th>\n",
       "      <td>21.227667</td>\n",
       "      <td>21.483706</td>\n",
       "      <td>21.598778</td>\n",
       "      <td>16.865467</td>\n",
       "      <td>15.867382</td>\n",
       "      <td>21.452980</td>\n",
       "      <td>16.099175</td>\n",
       "      <td>17.198155</td>\n",
       "    </tr>\n",
       "    <tr>\n",
       "      <th>min</th>\n",
       "      <td>1.000000</td>\n",
       "      <td>1.000000</td>\n",
       "      <td>2.000000</td>\n",
       "      <td>1.000000</td>\n",
       "      <td>1.000000</td>\n",
       "      <td>1.000000</td>\n",
       "      <td>1.000000</td>\n",
       "      <td>1.000000</td>\n",
       "    </tr>\n",
       "    <tr>\n",
       "      <th>25%</th>\n",
       "      <td>25.000000</td>\n",
       "      <td>29.000000</td>\n",
       "      <td>25.000000</td>\n",
       "      <td>7.000000</td>\n",
       "      <td>8.000000</td>\n",
       "      <td>8.000000</td>\n",
       "      <td>8.000000</td>\n",
       "      <td>8.000000</td>\n",
       "    </tr>\n",
       "    <tr>\n",
       "      <th>50%</th>\n",
       "      <td>50.000000</td>\n",
       "      <td>56.000000</td>\n",
       "      <td>53.000000</td>\n",
       "      <td>10.000000</td>\n",
       "      <td>11.000000</td>\n",
       "      <td>12.000000</td>\n",
       "      <td>11.000000</td>\n",
       "      <td>11.000000</td>\n",
       "    </tr>\n",
       "    <tr>\n",
       "      <th>75%</th>\n",
       "      <td>66.000000</td>\n",
       "      <td>69.000000</td>\n",
       "      <td>67.000000</td>\n",
       "      <td>13.000000</td>\n",
       "      <td>15.000000</td>\n",
       "      <td>15.000000</td>\n",
       "      <td>15.000000</td>\n",
       "      <td>15.000000</td>\n",
       "    </tr>\n",
       "    <tr>\n",
       "      <th>max</th>\n",
       "      <td>96.000000</td>\n",
       "      <td>95.000000</td>\n",
       "      <td>95.000000</td>\n",
       "      <td>94.000000</td>\n",
       "      <td>93.000000</td>\n",
       "      <td>97.000000</td>\n",
       "      <td>96.000000</td>\n",
       "      <td>96.000000</td>\n",
       "    </tr>\n",
       "  </tbody>\n",
       "</table>\n",
       "</div>"
      ],
      "text/plain": [
       "             marking  standing_tackle  sliding_tackle      gk_diving  \\\n",
       "count  183142.000000    183142.000000   181265.000000  183142.000000   \n",
       "mean       46.772242        50.351257       48.001462      14.704393   \n",
       "std        21.227667        21.483706       21.598778      16.865467   \n",
       "min         1.000000         1.000000        2.000000       1.000000   \n",
       "25%        25.000000        29.000000       25.000000       7.000000   \n",
       "50%        50.000000        56.000000       53.000000      10.000000   \n",
       "75%        66.000000        69.000000       67.000000      13.000000   \n",
       "max        96.000000        95.000000       95.000000      94.000000   \n",
       "\n",
       "         gk_handling     gk_kicking  gk_positioning    gk_reflexes  \n",
       "count  183142.000000  183142.000000   183142.000000  183142.000000  \n",
       "mean       16.063612      20.998362       16.132154      16.441439  \n",
       "std        15.867382      21.452980       16.099175      17.198155  \n",
       "min         1.000000       1.000000        1.000000       1.000000  \n",
       "25%         8.000000       8.000000        8.000000       8.000000  \n",
       "50%        11.000000      12.000000       11.000000      11.000000  \n",
       "75%        15.000000      15.000000       15.000000      15.000000  \n",
       "max        93.000000      97.000000       96.000000      96.000000  "
      ]
     },
     "execution_count": 47,
     "metadata": {},
     "output_type": "execute_result"
    }
   ],
   "source": [
    "player_attributes_df.iloc[:, attributes_start_idx+30:].describe()"
   ]
  },
  {
   "cell_type": "markdown",
   "metadata": {},
   "source": [
    "### Assessing teams"
   ]
  },
  {
   "cell_type": "code",
   "execution_count": 48,
   "metadata": {},
   "outputs": [
    {
     "name": "stdout",
     "output_type": "stream",
     "text": [
      "<class 'pandas.core.frame.DataFrame'>\n",
      "RangeIndex: 164 entries, 0 to 163\n",
      "Data columns (total 5 columns):\n",
      " #   Column            Non-Null Count  Dtype  \n",
      "---  ------            --------------  -----  \n",
      " 0   id                164 non-null    int64  \n",
      " 1   team_api_id       164 non-null    int64  \n",
      " 2   team_fifa_api_id  164 non-null    float64\n",
      " 3   team_long_name    164 non-null    object \n",
      " 4   team_short_name   164 non-null    object \n",
      "dtypes: float64(1), int64(2), object(2)\n",
      "memory usage: 6.5+ KB\n"
     ]
    }
   ],
   "source": [
    "teams_df.info()"
   ]
  },
  {
   "cell_type": "code",
   "execution_count": 49,
   "metadata": {},
   "outputs": [
    {
     "data": {
      "text/html": [
       "<div>\n",
       "<style scoped>\n",
       "    .dataframe tbody tr th:only-of-type {\n",
       "        vertical-align: middle;\n",
       "    }\n",
       "\n",
       "    .dataframe tbody tr th {\n",
       "        vertical-align: top;\n",
       "    }\n",
       "\n",
       "    .dataframe thead th {\n",
       "        text-align: right;\n",
       "    }\n",
       "</style>\n",
       "<table border=\"1\" class=\"dataframe\">\n",
       "  <thead>\n",
       "    <tr style=\"text-align: right;\">\n",
       "      <th></th>\n",
       "      <th>id</th>\n",
       "      <th>team_api_id</th>\n",
       "      <th>team_fifa_api_id</th>\n",
       "    </tr>\n",
       "  </thead>\n",
       "  <tbody>\n",
       "    <tr>\n",
       "      <th>count</th>\n",
       "      <td>164.000000</td>\n",
       "      <td>164.000000</td>\n",
       "      <td>164.000000</td>\n",
       "    </tr>\n",
       "    <tr>\n",
       "      <th>mean</th>\n",
       "      <td>19329.432927</td>\n",
       "      <td>10836.079268</td>\n",
       "      <td>15386.189024</td>\n",
       "    </tr>\n",
       "    <tr>\n",
       "      <th>std</th>\n",
       "      <td>13772.187036</td>\n",
       "      <td>17435.893334</td>\n",
       "      <td>37424.238876</td>\n",
       "    </tr>\n",
       "    <tr>\n",
       "      <th>min</th>\n",
       "      <td>3457.000000</td>\n",
       "      <td>4087.000000</td>\n",
       "      <td>1.000000</td>\n",
       "    </tr>\n",
       "    <tr>\n",
       "      <th>25%</th>\n",
       "      <td>9543.750000</td>\n",
       "      <td>8470.500000</td>\n",
       "      <td>64.750000</td>\n",
       "    </tr>\n",
       "    <tr>\n",
       "      <th>50%</th>\n",
       "      <td>15629.500000</td>\n",
       "      <td>8664.000000</td>\n",
       "      <td>362.500000</td>\n",
       "    </tr>\n",
       "    <tr>\n",
       "      <th>75%</th>\n",
       "      <td>22042.500000</td>\n",
       "      <td>9865.500000</td>\n",
       "      <td>1826.000000</td>\n",
       "    </tr>\n",
       "    <tr>\n",
       "      <th>max</th>\n",
       "      <td>48358.000000</td>\n",
       "      <td>208931.000000</td>\n",
       "      <td>112409.000000</td>\n",
       "    </tr>\n",
       "  </tbody>\n",
       "</table>\n",
       "</div>"
      ],
      "text/plain": [
       "                 id    team_api_id  team_fifa_api_id\n",
       "count    164.000000     164.000000        164.000000\n",
       "mean   19329.432927   10836.079268      15386.189024\n",
       "std    13772.187036   17435.893334      37424.238876\n",
       "min     3457.000000    4087.000000          1.000000\n",
       "25%     9543.750000    8470.500000         64.750000\n",
       "50%    15629.500000    8664.000000        362.500000\n",
       "75%    22042.500000    9865.500000       1826.000000\n",
       "max    48358.000000  208931.000000     112409.000000"
      ]
     },
     "execution_count": 49,
     "metadata": {},
     "output_type": "execute_result"
    }
   ],
   "source": [
    "teams_df.describe()"
   ]
  },
  {
   "cell_type": "code",
   "execution_count": 50,
   "metadata": {},
   "outputs": [
    {
     "name": "stdout",
     "output_type": "stream",
     "text": [
      "<class 'pandas.core.frame.DataFrame'>\n",
      "Int64Index: 924 entries, 9 to 1449\n",
      "Data columns (total 25 columns):\n",
      " #   Column                          Non-Null Count  Dtype  \n",
      "---  ------                          --------------  -----  \n",
      " 0   id                              924 non-null    int64  \n",
      " 1   team_fifa_api_id                924 non-null    int64  \n",
      " 2   team_api_id                     924 non-null    int64  \n",
      " 3   date                            924 non-null    object \n",
      " 4   buildUpPlaySpeed                924 non-null    int64  \n",
      " 5   buildUpPlaySpeedClass           924 non-null    object \n",
      " 6   buildUpPlayDribbling            308 non-null    float64\n",
      " 7   buildUpPlayDribblingClass       924 non-null    object \n",
      " 8   buildUpPlayPassing              924 non-null    int64  \n",
      " 9   buildUpPlayPassingClass         924 non-null    object \n",
      " 10  buildUpPlayPositioningClass     924 non-null    object \n",
      " 11  chanceCreationPassing           924 non-null    int64  \n",
      " 12  chanceCreationPassingClass      924 non-null    object \n",
      " 13  chanceCreationCrossing          924 non-null    int64  \n",
      " 14  chanceCreationCrossingClass     924 non-null    object \n",
      " 15  chanceCreationShooting          924 non-null    int64  \n",
      " 16  chanceCreationShootingClass     924 non-null    object \n",
      " 17  chanceCreationPositioningClass  924 non-null    object \n",
      " 18  defencePressure                 924 non-null    int64  \n",
      " 19  defencePressureClass            924 non-null    object \n",
      " 20  defenceAggression               924 non-null    int64  \n",
      " 21  defenceAggressionClass          924 non-null    object \n",
      " 22  defenceTeamWidth                924 non-null    int64  \n",
      " 23  defenceTeamWidthClass           924 non-null    object \n",
      " 24  defenceDefenderLineClass        924 non-null    object \n",
      "dtypes: float64(1), int64(11), object(13)\n",
      "memory usage: 187.7+ KB\n"
     ]
    }
   ],
   "source": [
    "team_attributes_df.info()"
   ]
  },
  {
   "cell_type": "code",
   "execution_count": 51,
   "metadata": {},
   "outputs": [
    {
     "name": "stdout",
     "output_type": "stream",
     "text": [
      "buildUpPlaySpeedClass unique values: ['Balanced' 'Slow' 'Fast']\n",
      "buildUpPlayDribblingClass unique values: ['Little' 'Normal' 'Lots']\n",
      "buildUpPlayPassingClass unique values: ['Mixed' 'Short' 'Long']\n",
      "buildUpPlayPositioningClass unique values: ['Organised' 'Free Form']\n",
      "chanceCreationPassingClass unique values: ['Normal' 'Safe' 'Risky']\n",
      "chanceCreationCrossingClass unique values: ['Normal' 'Little' 'Lots']\n",
      "chanceCreationShootingClass unique values: ['Normal' 'Lots' 'Little']\n",
      "chanceCreationPositioningClass unique values: ['Organised' 'Free Form']\n",
      "defencePressureClass unique values: ['Deep' 'Medium' 'High']\n",
      "defenceAggressionClass unique values: ['Double' 'Press' 'Contain']\n",
      "defenceTeamWidthClass unique values: ['Narrow' 'Normal' 'Wide']\n",
      "defenceDefenderLineClass unique values: ['Offside Trap' 'Cover']\n"
     ]
    }
   ],
   "source": [
    "for attr_name in [col for col in team_attributes_df.columns if col.endswith(\"Class\")]:\n",
    "    print(f\"{attr_name} unique values: {team_attributes_df[attr_name].unique()}\")"
   ]
  },
  {
   "cell_type": "code",
   "execution_count": 52,
   "metadata": {},
   "outputs": [
    {
     "name": "stdout",
     "output_type": "stream",
     "text": [
      "number of unique values for buildUpPlaySpeed: 56\n",
      "number of unique values for buildUpPlayDribbling: 48\n",
      "number of unique values for buildUpPlayPassing: 58\n",
      "number of unique values for chanceCreationPassing: 49\n",
      "number of unique values for chanceCreationCrossing: 55\n",
      "number of unique values for chanceCreationShooting: 54\n",
      "number of unique values for defencePressure: 48\n",
      "number of unique values for defenceAggression: 46\n",
      "number of unique values for defenceTeamWidth: 42\n"
     ]
    }
   ],
   "source": [
    "for attr_name in [col for col in team_attributes_df.iloc[:, attributes_start_idx:].columns if not col.endswith(\"Class\")]:\n",
    "    print(f\"number of unique values for {attr_name}: {team_attributes_df[attr_name].unique().size}\")"
   ]
  },
  {
   "cell_type": "code",
   "execution_count": 53,
   "metadata": {},
   "outputs": [
    {
     "name": "stdout",
     "output_type": "stream",
     "text": [
      "[nan 57. 70. 41. 61. 48. 46. 49. 51. 32. 37. 45. 52. 50. 38. 55. 35. 40.\n",
      " 30. 29. 34. 24. 39. 31. 60. 44. 36. 54. 53. 33. 56. 59. 43. 47. 69. 62.\n",
      " 58. 42. 65. 77. 28. 68. 66. 71. 26. 27. 74. 67.]\n",
      "[60 65 59 45 48 55 42 46 50 23 41 39 56 40 62 66 75 25 30 70 67 63 35 64\n",
      " 57 47 68 43 24 36 52 58 69 73 37 51 44 38 49 71 74 76 31 54 32 80 53 61\n",
      " 34 72 29 78 26 28 20 77]\n"
     ]
    }
   ],
   "source": [
    "for col_name in [\"buildUpPlayDribbling\", \"buildUpPlaySpeed\"]:\n",
    "    print(team_attributes_df[col_name].unique())"
   ]
  },
  {
   "cell_type": "code",
   "execution_count": 54,
   "metadata": {},
   "outputs": [
    {
     "data": {
      "text/html": [
       "<div>\n",
       "<style scoped>\n",
       "    .dataframe tbody tr th:only-of-type {\n",
       "        vertical-align: middle;\n",
       "    }\n",
       "\n",
       "    .dataframe tbody tr th {\n",
       "        vertical-align: top;\n",
       "    }\n",
       "\n",
       "    .dataframe thead th {\n",
       "        text-align: right;\n",
       "    }\n",
       "</style>\n",
       "<table border=\"1\" class=\"dataframe\">\n",
       "  <thead>\n",
       "    <tr style=\"text-align: right;\">\n",
       "      <th></th>\n",
       "      <th>buildUpPlaySpeed</th>\n",
       "      <th>buildUpPlayDribbling</th>\n",
       "      <th>buildUpPlayPassing</th>\n",
       "      <th>chanceCreationPassing</th>\n",
       "      <th>chanceCreationCrossing</th>\n",
       "      <th>chanceCreationShooting</th>\n",
       "      <th>defencePressure</th>\n",
       "      <th>defenceAggression</th>\n",
       "      <th>defenceTeamWidth</th>\n",
       "    </tr>\n",
       "  </thead>\n",
       "  <tbody>\n",
       "    <tr>\n",
       "      <th>count</th>\n",
       "      <td>924.000000</td>\n",
       "      <td>308.000000</td>\n",
       "      <td>924.000000</td>\n",
       "      <td>924.000000</td>\n",
       "      <td>924.000000</td>\n",
       "      <td>924.000000</td>\n",
       "      <td>924.000000</td>\n",
       "      <td>924.000000</td>\n",
       "      <td>924.000000</td>\n",
       "    </tr>\n",
       "    <tr>\n",
       "      <th>mean</th>\n",
       "      <td>53.541126</td>\n",
       "      <td>48.373377</td>\n",
       "      <td>48.666667</td>\n",
       "      <td>52.498918</td>\n",
       "      <td>53.971861</td>\n",
       "      <td>54.248918</td>\n",
       "      <td>45.968615</td>\n",
       "      <td>49.742424</td>\n",
       "      <td>52.270563</td>\n",
       "    </tr>\n",
       "    <tr>\n",
       "      <th>std</th>\n",
       "      <td>11.318181</td>\n",
       "      <td>10.663350</td>\n",
       "      <td>11.285103</td>\n",
       "      <td>10.859738</td>\n",
       "      <td>11.388694</td>\n",
       "      <td>10.548179</td>\n",
       "      <td>10.294372</td>\n",
       "      <td>9.438097</td>\n",
       "      <td>9.345908</td>\n",
       "    </tr>\n",
       "    <tr>\n",
       "      <th>min</th>\n",
       "      <td>20.000000</td>\n",
       "      <td>24.000000</td>\n",
       "      <td>20.000000</td>\n",
       "      <td>21.000000</td>\n",
       "      <td>20.000000</td>\n",
       "      <td>22.000000</td>\n",
       "      <td>23.000000</td>\n",
       "      <td>27.000000</td>\n",
       "      <td>29.000000</td>\n",
       "    </tr>\n",
       "    <tr>\n",
       "      <th>25%</th>\n",
       "      <td>46.000000</td>\n",
       "      <td>41.000000</td>\n",
       "      <td>40.000000</td>\n",
       "      <td>46.000000</td>\n",
       "      <td>47.000000</td>\n",
       "      <td>49.000000</td>\n",
       "      <td>38.000000</td>\n",
       "      <td>44.000000</td>\n",
       "      <td>48.000000</td>\n",
       "    </tr>\n",
       "    <tr>\n",
       "      <th>50%</th>\n",
       "      <td>54.000000</td>\n",
       "      <td>49.000000</td>\n",
       "      <td>50.000000</td>\n",
       "      <td>52.000000</td>\n",
       "      <td>54.000000</td>\n",
       "      <td>54.000000</td>\n",
       "      <td>45.000000</td>\n",
       "      <td>49.000000</td>\n",
       "      <td>52.000000</td>\n",
       "    </tr>\n",
       "    <tr>\n",
       "      <th>75%</th>\n",
       "      <td>63.000000</td>\n",
       "      <td>55.000000</td>\n",
       "      <td>55.000000</td>\n",
       "      <td>60.000000</td>\n",
       "      <td>63.000000</td>\n",
       "      <td>63.000000</td>\n",
       "      <td>51.000000</td>\n",
       "      <td>55.000000</td>\n",
       "      <td>58.000000</td>\n",
       "    </tr>\n",
       "    <tr>\n",
       "      <th>max</th>\n",
       "      <td>80.000000</td>\n",
       "      <td>77.000000</td>\n",
       "      <td>80.000000</td>\n",
       "      <td>80.000000</td>\n",
       "      <td>80.000000</td>\n",
       "      <td>80.000000</td>\n",
       "      <td>72.000000</td>\n",
       "      <td>72.000000</td>\n",
       "      <td>73.000000</td>\n",
       "    </tr>\n",
       "  </tbody>\n",
       "</table>\n",
       "</div>"
      ],
      "text/plain": [
       "       buildUpPlaySpeed  buildUpPlayDribbling  buildUpPlayPassing  \\\n",
       "count        924.000000            308.000000          924.000000   \n",
       "mean          53.541126             48.373377           48.666667   \n",
       "std           11.318181             10.663350           11.285103   \n",
       "min           20.000000             24.000000           20.000000   \n",
       "25%           46.000000             41.000000           40.000000   \n",
       "50%           54.000000             49.000000           50.000000   \n",
       "75%           63.000000             55.000000           55.000000   \n",
       "max           80.000000             77.000000           80.000000   \n",
       "\n",
       "       chanceCreationPassing  chanceCreationCrossing  chanceCreationShooting  \\\n",
       "count             924.000000              924.000000              924.000000   \n",
       "mean               52.498918               53.971861               54.248918   \n",
       "std                10.859738               11.388694               10.548179   \n",
       "min                21.000000               20.000000               22.000000   \n",
       "25%                46.000000               47.000000               49.000000   \n",
       "50%                52.000000               54.000000               54.000000   \n",
       "75%                60.000000               63.000000               63.000000   \n",
       "max                80.000000               80.000000               80.000000   \n",
       "\n",
       "       defencePressure  defenceAggression  defenceTeamWidth  \n",
       "count       924.000000         924.000000        924.000000  \n",
       "mean         45.968615          49.742424         52.270563  \n",
       "std          10.294372           9.438097          9.345908  \n",
       "min          23.000000          27.000000         29.000000  \n",
       "25%          38.000000          44.000000         48.000000  \n",
       "50%          45.000000          49.000000         52.000000  \n",
       "75%          51.000000          55.000000         58.000000  \n",
       "max          72.000000          72.000000         73.000000  "
      ]
     },
     "execution_count": 54,
     "metadata": {},
     "output_type": "execute_result"
    }
   ],
   "source": [
    "team_attributes_df.iloc[:, attributes_start_idx:].describe()"
   ]
  },
  {
   "cell_type": "markdown",
   "metadata": {},
   "source": [
    "### Assessing champions league data"
   ]
  },
  {
   "cell_type": "code",
   "execution_count": 55,
   "metadata": {},
   "outputs": [
    {
     "name": "stdout",
     "output_type": "stream",
     "text": [
      "<class 'pandas.core.frame.DataFrame'>\n",
      "RangeIndex: 1666 entries, 0 to 1665\n",
      "Data columns (total 4 columns):\n",
      " #   Column        Non-Null Count  Dtype \n",
      "---  ------        --------------  ----- \n",
      " 0   year          1666 non-null   int64 \n",
      " 1   team_name     1666 non-null   object\n",
      " 2   progress      1666 non-null   object\n",
      " 3   team_country  1666 non-null   object\n",
      "dtypes: int64(1), object(3)\n",
      "memory usage: 52.2+ KB\n"
     ]
    }
   ],
   "source": [
    "champs_league_hist_df.info()"
   ]
  },
  {
   "cell_type": "code",
   "execution_count": 56,
   "metadata": {},
   "outputs": [
    {
     "data": {
      "text/html": [
       "<div>\n",
       "<style scoped>\n",
       "    .dataframe tbody tr th:only-of-type {\n",
       "        vertical-align: middle;\n",
       "    }\n",
       "\n",
       "    .dataframe tbody tr th {\n",
       "        vertical-align: top;\n",
       "    }\n",
       "\n",
       "    .dataframe thead th {\n",
       "        text-align: right;\n",
       "    }\n",
       "</style>\n",
       "<table border=\"1\" class=\"dataframe\">\n",
       "  <thead>\n",
       "    <tr style=\"text-align: right;\">\n",
       "      <th></th>\n",
       "      <th>year</th>\n",
       "    </tr>\n",
       "  </thead>\n",
       "  <tbody>\n",
       "    <tr>\n",
       "      <th>count</th>\n",
       "      <td>1666.000000</td>\n",
       "    </tr>\n",
       "    <tr>\n",
       "      <th>mean</th>\n",
       "      <td>2007.840336</td>\n",
       "    </tr>\n",
       "    <tr>\n",
       "      <th>std</th>\n",
       "      <td>8.001033</td>\n",
       "    </tr>\n",
       "    <tr>\n",
       "      <th>min</th>\n",
       "      <td>1994.000000</td>\n",
       "    </tr>\n",
       "    <tr>\n",
       "      <th>25%</th>\n",
       "      <td>2001.000000</td>\n",
       "    </tr>\n",
       "    <tr>\n",
       "      <th>50%</th>\n",
       "      <td>2008.000000</td>\n",
       "    </tr>\n",
       "    <tr>\n",
       "      <th>75%</th>\n",
       "      <td>2015.000000</td>\n",
       "    </tr>\n",
       "    <tr>\n",
       "      <th>max</th>\n",
       "      <td>2021.000000</td>\n",
       "    </tr>\n",
       "  </tbody>\n",
       "</table>\n",
       "</div>"
      ],
      "text/plain": [
       "              year\n",
       "count  1666.000000\n",
       "mean   2007.840336\n",
       "std       8.001033\n",
       "min    1994.000000\n",
       "25%    2001.000000\n",
       "50%    2008.000000\n",
       "75%    2015.000000\n",
       "max    2021.000000"
      ]
     },
     "execution_count": 56,
     "metadata": {},
     "output_type": "execute_result"
    }
   ],
   "source": [
    "champs_league_hist_df.describe()"
   ]
  },
  {
   "cell_type": "code",
   "execution_count": 57,
   "metadata": {},
   "outputs": [
    {
     "name": "stdout",
     "output_type": "stream",
     "text": [
      "('year unique values: [1994 1995 1996 1997 1998 1999 2000 2001 2002 2003 2004 '\n",
      " '2005 2006 2007\\n'\n",
      " ' 2008 2009 2010 2011 2012 2013 2014 2015 2016 2017 2018 2019 2020 2021]')\n",
      "(\"team_name unique values: ['A.C. Milan' 'Barcelona' 'Monaco' 'Porto' 'Spartak \"\n",
      " \"Moscow' 'Galatasaray'\\n\"\n",
      " \" 'Werder Bremen' 'Anderlecht' 'Feyenoord' 'Steaua Bucuresti'\\n\"\n",
      " \" 'Levski Sofia' 'Copenhagen' 'Sparta Prague' 'Manchester United'\\n\"\n",
      " \" 'Lech Poznan' 'Austria Wien' 'Floriana' 'Akranes S.C.' 'AEK Athens'\\n\"\n",
      " \" 'Croatia Zagreb' 'Rangers (IL)' 'Dinamo Minsk' 'Linfield' 'FC Aarau'\\n\"\n",
      " \" 'AIK' 'HJK Helsinki' 'Kispest Honved' 'Cork City' 'Beitar Jerusalem'\\n\"\n",
      " \" 'Skonto' 'Dynamo Kyiv' 'Rosenborg BK' 'Ajax' 'Bayern Munich'\\n\"\n",
      " \" 'Paris Saint-Germain' 'IFK Goteborg' 'Hajduk Split' 'Benfica'\\n\"\n",
      " \" 'FC Red Bull Salzburg' 'Avenir Beggen' 'Silkeborg' 'Vac FC-Samsung'\\n\"\n",
      " \" 'Legia Warszawa' 'Servette' 'Maccabi Haifa' 'Juventus' 'Panathinaikos'\\n\"\n",
      " \" 'Nantes' 'Borussia Dortmund' 'Real Madrid' 'Aalborg BK'\\n\"\n",
      " \" 'Blackburn Rovers' 'Ferencvaros' 'Grasshopper' 'Maccabi Tel Aviv'\\n\"\n",
      " \" 'Anorthosis' 'Besiktas' 'Auxerre' 'Athletico Madrid' 'Widzew Lodz'\\n\"\n",
      " \" 'Fenerbahce' 'Rapid Wien' 'Alania Vladikavkaz' 'Brondby' 'Slavia Prague'\\n\"\n",
      " \" 'Club Brugge' 'Bayer Leverkusen' 'Parma' 'Kosice' 'PSV Eindhoven'\\n\"\n",
      " \" 'Newcastle United' 'Olympiacos' 'Sporting CP' 'Lierse' 'Internazionale'\\n\"\n",
      " \" 'Kaiserslautern' 'Arsenal' 'R.C. Lens' 'Sturm Graz' 'Athletic Bilbao'\\n\"\n",
      " \" 'Valencia' 'Lazio' 'Chelsea' 'Hertha BSC' 'Fiorentina' 'Bordeaux'\\n\"\n",
      " \" 'Marseille' 'Maribor' 'Boavista' 'Molde FK' 'Willem II' 'Leeds United'\\n\"\n",
      " \" 'Deportivo La Coruna' 'Olympique Lyonnais' 'Shakhtar Donetsk'\\n\"\n",
      " \" 'Heerenveen' 'Hamburg' 'Helsingborg' 'Liverpool' 'Roma'\\n\"\n",
      " \" 'Lokomotiv Moscow' 'Mallorca' 'Schalke 04' 'Celtic' 'Lille OSC' 'Basel'\\n\"\n",
      " \" 'Genk' 'Stuttgart' 'Celta de Vigo' 'Real Sociedad' 'FK Partizan'\\n\"\n",
      " \" 'CSKA Moscow' 'Villarreal' 'Thun' 'Udinese' 'Real Betis' 'Artmedia'\\n\"\n",
      " \" 'Sevilla' 'CFR Cluj' 'Zenit Saint Petersburg' 'BATE Borisov' 'Wolfsburg'\\n\"\n",
      " \" 'Zurich' 'APOEL' 'Debrecen' 'Rubin Kazan' 'Unirea Urziceni'\\n\"\n",
      " \" 'Standard Liege' 'AZ Alkmaar' 'Tottenham Hotspur' 'Twente'\\n\"\n",
      " \" 'Hapoel Tel Aviv' 'Bursaspor' 'Zilina' 'Braga' 'Napoli' 'Manchester City'\\n\"\n",
      " \" 'Trabzonspor' 'Otelul Galati' 'Dinamo Zagreb' 'Viktoria Plzen' 'Malaga'\\n\"\n",
      " \" 'Montpellier' 'Nordsjaelland' 'Malmo FF' 'PFC Ludogorets Razgrad' 'Gent'\\n\"\n",
      " \" 'Astana' 'Borussia Monchengladbach' 'Rostov' 'Leicester City'\\n\"\n",
      " \" 'RB Leipzig' 'Sporting Lisbon' 'Qarabag FK' 'Young Boys'\\n\"\n",
      " \" '1899 Hoffenheim' 'Red Star Belgrade' 'Atalanta' 'Inter Milan' 'Dortmund'\\n\"\n",
      " \" 'Atletico Madrid' 'Midtjylland' 'Krasnodar' 'Rennes'\\n\"\n",
      " \" 'Istanbul Basaksehir']\")\n",
      "(\"progress unique values: ['1. Winner' '2. Runner Up' '3. Semifinalist' '4. \"\n",
      " \"Group Stage'\\n\"\n",
      " \" '6. Last 16' '7. Last 32' '4. Quarterfinalist' '8. Last 24' '8 Last 24'\\n\"\n",
      " \" '8. Group Stage' '6. Second Group Stage' '7. First Group Stage'\\n\"\n",
      " \" '5. Last 16' '7. Group Stage']\")\n",
      "(\"team_country unique values: ['Italy' 'Spain' 'France' 'Portugal' 'Russia' \"\n",
      " \"'Turkey' 'Germany'\\n\"\n",
      " \" 'Netherlands' 'Romania' 'Bulgaria' 'Denmark' 'Czech Republic' 'England'\\n\"\n",
      " \" 'Poland' 'Austria' 'Malta' 'Iceland' 'Greece' 'Croatia' 'Scotland'\\n\"\n",
      " \" 'Belarus' 'Northern Ireland' 'Switzerland' 'Sweden' 'Finland' 'Hungary'\\n\"\n",
      " \" 'Ireland' 'Israel' 'Latvia' 'Ukraine' 'Norway' 'Luxembourg' 'Cyprus'\\n\"\n",
      " \" 'Belgium' 'Slovakia' 'Slovenia' 'Serbia' 'Kazakhstan' 'Azerbaijan']\")\n"
     ]
    }
   ],
   "source": [
    "for col_name in champs_league_hist_df.columns:\n",
    "    pprint(f\"{col_name} unique values: {champs_league_hist_df[col_name].unique()}\")"
   ]
  },
  {
   "cell_type": "code",
   "execution_count": 58,
   "metadata": {},
   "outputs": [
    {
     "data": {
      "text/html": [
       "<div>\n",
       "<style scoped>\n",
       "    .dataframe tbody tr th:only-of-type {\n",
       "        vertical-align: middle;\n",
       "    }\n",
       "\n",
       "    .dataframe tbody tr th {\n",
       "        vertical-align: top;\n",
       "    }\n",
       "\n",
       "    .dataframe thead th {\n",
       "        text-align: right;\n",
       "    }\n",
       "</style>\n",
       "<table border=\"1\" class=\"dataframe\">\n",
       "  <thead>\n",
       "    <tr style=\"text-align: right;\">\n",
       "      <th></th>\n",
       "      <th>year</th>\n",
       "      <th>team_name</th>\n",
       "      <th>progress</th>\n",
       "      <th>team_country</th>\n",
       "    </tr>\n",
       "  </thead>\n",
       "  <tbody>\n",
       "    <tr>\n",
       "      <th>0</th>\n",
       "      <td>1994</td>\n",
       "      <td>A.C. Milan</td>\n",
       "      <td>1. Winner</td>\n",
       "      <td>Italy</td>\n",
       "    </tr>\n",
       "    <tr>\n",
       "      <th>62</th>\n",
       "      <td>1995</td>\n",
       "      <td>Ajax</td>\n",
       "      <td>1. Winner</td>\n",
       "      <td>Netherlands</td>\n",
       "    </tr>\n",
       "    <tr>\n",
       "      <th>124</th>\n",
       "      <td>1996</td>\n",
       "      <td>Juventus</td>\n",
       "      <td>1. Winner</td>\n",
       "      <td>Italy</td>\n",
       "    </tr>\n",
       "    <tr>\n",
       "      <th>178</th>\n",
       "      <td>1997</td>\n",
       "      <td>Borussia Dortmund</td>\n",
       "      <td>1. Winner</td>\n",
       "      <td>Germany</td>\n",
       "    </tr>\n",
       "    <tr>\n",
       "      <th>231</th>\n",
       "      <td>1998</td>\n",
       "      <td>Real Madrid</td>\n",
       "      <td>1. Winner</td>\n",
       "      <td>Spain</td>\n",
       "    </tr>\n",
       "    <tr>\n",
       "      <th>269</th>\n",
       "      <td>1999</td>\n",
       "      <td>Manchester United</td>\n",
       "      <td>1. Winner</td>\n",
       "      <td>England</td>\n",
       "    </tr>\n",
       "    <tr>\n",
       "      <th>307</th>\n",
       "      <td>2000</td>\n",
       "      <td>Real Madrid</td>\n",
       "      <td>1. Winner</td>\n",
       "      <td>Spain</td>\n",
       "    </tr>\n",
       "    <tr>\n",
       "      <th>369</th>\n",
       "      <td>2001</td>\n",
       "      <td>Bayern Munich</td>\n",
       "      <td>1. Winner</td>\n",
       "      <td>Germany</td>\n",
       "    </tr>\n",
       "    <tr>\n",
       "      <th>431</th>\n",
       "      <td>2002</td>\n",
       "      <td>Real Madrid</td>\n",
       "      <td>1. Winner</td>\n",
       "      <td>Spain</td>\n",
       "    </tr>\n",
       "    <tr>\n",
       "      <th>493</th>\n",
       "      <td>2003</td>\n",
       "      <td>A.C. Milan</td>\n",
       "      <td>1. Winner</td>\n",
       "      <td>Italy</td>\n",
       "    </tr>\n",
       "    <tr>\n",
       "      <th>555</th>\n",
       "      <td>2004</td>\n",
       "      <td>Porto</td>\n",
       "      <td>1. Winner</td>\n",
       "      <td>Portugal</td>\n",
       "    </tr>\n",
       "    <tr>\n",
       "      <th>617</th>\n",
       "      <td>2005</td>\n",
       "      <td>Liverpool</td>\n",
       "      <td>1. Winner</td>\n",
       "      <td>England</td>\n",
       "    </tr>\n",
       "    <tr>\n",
       "      <th>679</th>\n",
       "      <td>2006</td>\n",
       "      <td>Barcelona</td>\n",
       "      <td>1. Winner</td>\n",
       "      <td>Spain</td>\n",
       "    </tr>\n",
       "    <tr>\n",
       "      <th>741</th>\n",
       "      <td>2007</td>\n",
       "      <td>A.C. Milan</td>\n",
       "      <td>1. Winner</td>\n",
       "      <td>Italy</td>\n",
       "    </tr>\n",
       "    <tr>\n",
       "      <th>803</th>\n",
       "      <td>2008</td>\n",
       "      <td>Manchester United</td>\n",
       "      <td>1. Winner</td>\n",
       "      <td>England</td>\n",
       "    </tr>\n",
       "    <tr>\n",
       "      <th>865</th>\n",
       "      <td>2009</td>\n",
       "      <td>Barcelona</td>\n",
       "      <td>1. Winner</td>\n",
       "      <td>Spain</td>\n",
       "    </tr>\n",
       "    <tr>\n",
       "      <th>927</th>\n",
       "      <td>2010</td>\n",
       "      <td>Internazionale</td>\n",
       "      <td>1. Winner</td>\n",
       "      <td>Italy</td>\n",
       "    </tr>\n",
       "    <tr>\n",
       "      <th>989</th>\n",
       "      <td>2011</td>\n",
       "      <td>Barcelona</td>\n",
       "      <td>1. Winner</td>\n",
       "      <td>Spain</td>\n",
       "    </tr>\n",
       "    <tr>\n",
       "      <th>1051</th>\n",
       "      <td>2012</td>\n",
       "      <td>Chelsea</td>\n",
       "      <td>1. Winner</td>\n",
       "      <td>England</td>\n",
       "    </tr>\n",
       "    <tr>\n",
       "      <th>1113</th>\n",
       "      <td>2013</td>\n",
       "      <td>Bayern Munich</td>\n",
       "      <td>1. Winner</td>\n",
       "      <td>Germany</td>\n",
       "    </tr>\n",
       "    <tr>\n",
       "      <th>1175</th>\n",
       "      <td>2014</td>\n",
       "      <td>Real Madrid</td>\n",
       "      <td>1. Winner</td>\n",
       "      <td>Spain</td>\n",
       "    </tr>\n",
       "    <tr>\n",
       "      <th>1237</th>\n",
       "      <td>2015</td>\n",
       "      <td>Barcelona</td>\n",
       "      <td>1. Winner</td>\n",
       "      <td>Spain</td>\n",
       "    </tr>\n",
       "    <tr>\n",
       "      <th>1299</th>\n",
       "      <td>2016</td>\n",
       "      <td>Real Madrid</td>\n",
       "      <td>1. Winner</td>\n",
       "      <td>Spain</td>\n",
       "    </tr>\n",
       "    <tr>\n",
       "      <th>1418</th>\n",
       "      <td>2017</td>\n",
       "      <td>Real Madrid</td>\n",
       "      <td>1. Winner</td>\n",
       "      <td>Spain</td>\n",
       "    </tr>\n",
       "    <tr>\n",
       "      <th>1480</th>\n",
       "      <td>2018</td>\n",
       "      <td>Real Madrid</td>\n",
       "      <td>1. Winner</td>\n",
       "      <td>Spain</td>\n",
       "    </tr>\n",
       "    <tr>\n",
       "      <th>1542</th>\n",
       "      <td>2019</td>\n",
       "      <td>Liverpool</td>\n",
       "      <td>1. Winner</td>\n",
       "      <td>England</td>\n",
       "    </tr>\n",
       "    <tr>\n",
       "      <th>1604</th>\n",
       "      <td>2020</td>\n",
       "      <td>Bayern Munich</td>\n",
       "      <td>1. Winner</td>\n",
       "      <td>Germany</td>\n",
       "    </tr>\n",
       "    <tr>\n",
       "      <th>1665</th>\n",
       "      <td>2021</td>\n",
       "      <td>Chelsea</td>\n",
       "      <td>1. Winner</td>\n",
       "      <td>England</td>\n",
       "    </tr>\n",
       "  </tbody>\n",
       "</table>\n",
       "</div>"
      ],
      "text/plain": [
       "      year          team_name   progress team_country\n",
       "0     1994         A.C. Milan  1. Winner        Italy\n",
       "62    1995               Ajax  1. Winner  Netherlands\n",
       "124   1996           Juventus  1. Winner        Italy\n",
       "178   1997  Borussia Dortmund  1. Winner      Germany\n",
       "231   1998        Real Madrid  1. Winner        Spain\n",
       "269   1999  Manchester United  1. Winner      England\n",
       "307   2000        Real Madrid  1. Winner        Spain\n",
       "369   2001      Bayern Munich  1. Winner      Germany\n",
       "431   2002        Real Madrid  1. Winner        Spain\n",
       "493   2003         A.C. Milan  1. Winner        Italy\n",
       "555   2004              Porto  1. Winner     Portugal\n",
       "617   2005          Liverpool  1. Winner      England\n",
       "679   2006          Barcelona  1. Winner        Spain\n",
       "741   2007         A.C. Milan  1. Winner        Italy\n",
       "803   2008  Manchester United  1. Winner      England\n",
       "865   2009          Barcelona  1. Winner        Spain\n",
       "927   2010     Internazionale  1. Winner        Italy\n",
       "989   2011          Barcelona  1. Winner        Spain\n",
       "1051  2012            Chelsea  1. Winner      England\n",
       "1113  2013      Bayern Munich  1. Winner      Germany\n",
       "1175  2014        Real Madrid  1. Winner        Spain\n",
       "1237  2015          Barcelona  1. Winner        Spain\n",
       "1299  2016        Real Madrid  1. Winner        Spain\n",
       "1418  2017        Real Madrid  1. Winner        Spain\n",
       "1480  2018        Real Madrid  1. Winner        Spain\n",
       "1542  2019          Liverpool  1. Winner      England\n",
       "1604  2020      Bayern Munich  1. Winner      Germany\n",
       "1665  2021            Chelsea  1. Winner      England"
      ]
     },
     "execution_count": 58,
     "metadata": {},
     "output_type": "execute_result"
    }
   ],
   "source": [
    "champs_league_hist_df[champs_league_hist_df.progress == \"1. Winner\"]"
   ]
  },
  {
   "cell_type": "markdown",
   "metadata": {},
   "source": [
    "Cross referencing the winners with Wikipedia shows that they're consistent, so I'll consider the data to be valid and accurate."
   ]
  },
  {
   "cell_type": "markdown",
   "metadata": {},
   "source": [
    "## Assess data - Tidiness"
   ]
  },
  {
   "cell_type": "markdown",
   "metadata": {},
   "source": [
    "### Assessing league data"
   ]
  },
  {
   "cell_type": "code",
   "execution_count": 59,
   "metadata": {},
   "outputs": [
    {
     "name": "stdout",
     "output_type": "stream",
     "text": [
      "<class 'pandas.core.frame.DataFrame'>\n",
      "RangeIndex: 5 entries, 0 to 4\n",
      "Data columns (total 3 columns):\n",
      " #   Column      Non-Null Count  Dtype \n",
      "---  ------      --------------  ----- \n",
      " 0   id          5 non-null      int64 \n",
      " 1   country_id  5 non-null      int64 \n",
      " 2   name        5 non-null      object\n",
      "dtypes: int64(2), object(1)\n",
      "memory usage: 248.0+ bytes\n"
     ]
    }
   ],
   "source": [
    "leagues_df.info()"
   ]
  },
  {
   "cell_type": "code",
   "execution_count": 60,
   "metadata": {},
   "outputs": [
    {
     "data": {
      "text/html": [
       "<div>\n",
       "<style scoped>\n",
       "    .dataframe tbody tr th:only-of-type {\n",
       "        vertical-align: middle;\n",
       "    }\n",
       "\n",
       "    .dataframe tbody tr th {\n",
       "        vertical-align: top;\n",
       "    }\n",
       "\n",
       "    .dataframe thead th {\n",
       "        text-align: right;\n",
       "    }\n",
       "</style>\n",
       "<table border=\"1\" class=\"dataframe\">\n",
       "  <thead>\n",
       "    <tr style=\"text-align: right;\">\n",
       "      <th></th>\n",
       "      <th>id</th>\n",
       "      <th>country_id</th>\n",
       "      <th>name</th>\n",
       "    </tr>\n",
       "  </thead>\n",
       "  <tbody>\n",
       "    <tr>\n",
       "      <th>0</th>\n",
       "      <td>1729</td>\n",
       "      <td>1729</td>\n",
       "      <td>England Premier League</td>\n",
       "    </tr>\n",
       "    <tr>\n",
       "      <th>1</th>\n",
       "      <td>4769</td>\n",
       "      <td>4769</td>\n",
       "      <td>France Ligue 1</td>\n",
       "    </tr>\n",
       "    <tr>\n",
       "      <th>2</th>\n",
       "      <td>7809</td>\n",
       "      <td>7809</td>\n",
       "      <td>Germany 1. Bundesliga</td>\n",
       "    </tr>\n",
       "    <tr>\n",
       "      <th>3</th>\n",
       "      <td>10257</td>\n",
       "      <td>10257</td>\n",
       "      <td>Italy Serie A</td>\n",
       "    </tr>\n",
       "    <tr>\n",
       "      <th>4</th>\n",
       "      <td>21518</td>\n",
       "      <td>21518</td>\n",
       "      <td>Spain LIGA BBVA</td>\n",
       "    </tr>\n",
       "  </tbody>\n",
       "</table>\n",
       "</div>"
      ],
      "text/plain": [
       "      id  country_id                    name\n",
       "0   1729        1729  England Premier League\n",
       "1   4769        4769          France Ligue 1\n",
       "2   7809        7809   Germany 1. Bundesliga\n",
       "3  10257       10257           Italy Serie A\n",
       "4  21518       21518         Spain LIGA BBVA"
      ]
     },
     "execution_count": 60,
     "metadata": {},
     "output_type": "execute_result"
    }
   ],
   "source": [
    "leagues_df"
   ]
  },
  {
   "cell_type": "markdown",
   "metadata": {},
   "source": [
    "### assessing team data"
   ]
  },
  {
   "cell_type": "code",
   "execution_count": 61,
   "metadata": {},
   "outputs": [
    {
     "name": "stdout",
     "output_type": "stream",
     "text": [
      "<class 'pandas.core.frame.DataFrame'>\n",
      "RangeIndex: 164 entries, 0 to 163\n",
      "Data columns (total 5 columns):\n",
      " #   Column            Non-Null Count  Dtype  \n",
      "---  ------            --------------  -----  \n",
      " 0   id                164 non-null    int64  \n",
      " 1   team_api_id       164 non-null    int64  \n",
      " 2   team_fifa_api_id  164 non-null    float64\n",
      " 3   team_long_name    164 non-null    object \n",
      " 4   team_short_name   164 non-null    object \n",
      "dtypes: float64(1), int64(2), object(2)\n",
      "memory usage: 6.5+ KB\n"
     ]
    }
   ],
   "source": [
    "teams_df.info()"
   ]
  },
  {
   "cell_type": "code",
   "execution_count": 62,
   "metadata": {},
   "outputs": [
    {
     "data": {
      "text/html": [
       "<div>\n",
       "<style scoped>\n",
       "    .dataframe tbody tr th:only-of-type {\n",
       "        vertical-align: middle;\n",
       "    }\n",
       "\n",
       "    .dataframe tbody tr th {\n",
       "        vertical-align: top;\n",
       "    }\n",
       "\n",
       "    .dataframe thead th {\n",
       "        text-align: right;\n",
       "    }\n",
       "</style>\n",
       "<table border=\"1\" class=\"dataframe\">\n",
       "  <thead>\n",
       "    <tr style=\"text-align: right;\">\n",
       "      <th></th>\n",
       "      <th>id</th>\n",
       "      <th>team_api_id</th>\n",
       "      <th>team_fifa_api_id</th>\n",
       "    </tr>\n",
       "  </thead>\n",
       "  <tbody>\n",
       "    <tr>\n",
       "      <th>count</th>\n",
       "      <td>164.000000</td>\n",
       "      <td>164.000000</td>\n",
       "      <td>164.000000</td>\n",
       "    </tr>\n",
       "    <tr>\n",
       "      <th>mean</th>\n",
       "      <td>19329.432927</td>\n",
       "      <td>10836.079268</td>\n",
       "      <td>15386.189024</td>\n",
       "    </tr>\n",
       "    <tr>\n",
       "      <th>std</th>\n",
       "      <td>13772.187036</td>\n",
       "      <td>17435.893334</td>\n",
       "      <td>37424.238876</td>\n",
       "    </tr>\n",
       "    <tr>\n",
       "      <th>min</th>\n",
       "      <td>3457.000000</td>\n",
       "      <td>4087.000000</td>\n",
       "      <td>1.000000</td>\n",
       "    </tr>\n",
       "    <tr>\n",
       "      <th>25%</th>\n",
       "      <td>9543.750000</td>\n",
       "      <td>8470.500000</td>\n",
       "      <td>64.750000</td>\n",
       "    </tr>\n",
       "    <tr>\n",
       "      <th>50%</th>\n",
       "      <td>15629.500000</td>\n",
       "      <td>8664.000000</td>\n",
       "      <td>362.500000</td>\n",
       "    </tr>\n",
       "    <tr>\n",
       "      <th>75%</th>\n",
       "      <td>22042.500000</td>\n",
       "      <td>9865.500000</td>\n",
       "      <td>1826.000000</td>\n",
       "    </tr>\n",
       "    <tr>\n",
       "      <th>max</th>\n",
       "      <td>48358.000000</td>\n",
       "      <td>208931.000000</td>\n",
       "      <td>112409.000000</td>\n",
       "    </tr>\n",
       "  </tbody>\n",
       "</table>\n",
       "</div>"
      ],
      "text/plain": [
       "                 id    team_api_id  team_fifa_api_id\n",
       "count    164.000000     164.000000        164.000000\n",
       "mean   19329.432927   10836.079268      15386.189024\n",
       "std    13772.187036   17435.893334      37424.238876\n",
       "min     3457.000000    4087.000000          1.000000\n",
       "25%     9543.750000    8470.500000         64.750000\n",
       "50%    15629.500000    8664.000000        362.500000\n",
       "75%    22042.500000    9865.500000       1826.000000\n",
       "max    48358.000000  208931.000000     112409.000000"
      ]
     },
     "execution_count": 62,
     "metadata": {},
     "output_type": "execute_result"
    }
   ],
   "source": [
    "teams_df.describe()"
   ]
  },
  {
   "cell_type": "code",
   "execution_count": 63,
   "metadata": {},
   "outputs": [
    {
     "data": {
      "text/plain": [
       "True"
      ]
     },
     "execution_count": 63,
     "metadata": {},
     "output_type": "execute_result"
    }
   ],
   "source": [
    "teams_df.team_api_id.unique().size == teams_df.shape[0]"
   ]
  },
  {
   "cell_type": "code",
   "execution_count": 64,
   "metadata": {},
   "outputs": [
    {
     "name": "stdout",
     "output_type": "stream",
     "text": [
      "<class 'pandas.core.frame.DataFrame'>\n",
      "Int64Index: 924 entries, 9 to 1449\n",
      "Data columns (total 25 columns):\n",
      " #   Column                          Non-Null Count  Dtype  \n",
      "---  ------                          --------------  -----  \n",
      " 0   id                              924 non-null    int64  \n",
      " 1   team_fifa_api_id                924 non-null    int64  \n",
      " 2   team_api_id                     924 non-null    int64  \n",
      " 3   date                            924 non-null    object \n",
      " 4   buildUpPlaySpeed                924 non-null    int64  \n",
      " 5   buildUpPlaySpeedClass           924 non-null    object \n",
      " 6   buildUpPlayDribbling            308 non-null    float64\n",
      " 7   buildUpPlayDribblingClass       924 non-null    object \n",
      " 8   buildUpPlayPassing              924 non-null    int64  \n",
      " 9   buildUpPlayPassingClass         924 non-null    object \n",
      " 10  buildUpPlayPositioningClass     924 non-null    object \n",
      " 11  chanceCreationPassing           924 non-null    int64  \n",
      " 12  chanceCreationPassingClass      924 non-null    object \n",
      " 13  chanceCreationCrossing          924 non-null    int64  \n",
      " 14  chanceCreationCrossingClass     924 non-null    object \n",
      " 15  chanceCreationShooting          924 non-null    int64  \n",
      " 16  chanceCreationShootingClass     924 non-null    object \n",
      " 17  chanceCreationPositioningClass  924 non-null    object \n",
      " 18  defencePressure                 924 non-null    int64  \n",
      " 19  defencePressureClass            924 non-null    object \n",
      " 20  defenceAggression               924 non-null    int64  \n",
      " 21  defenceAggressionClass          924 non-null    object \n",
      " 22  defenceTeamWidth                924 non-null    int64  \n",
      " 23  defenceTeamWidthClass           924 non-null    object \n",
      " 24  defenceDefenderLineClass        924 non-null    object \n",
      "dtypes: float64(1), int64(11), object(13)\n",
      "memory usage: 187.7+ KB\n"
     ]
    }
   ],
   "source": [
    "team_attributes_df.info()"
   ]
  },
  {
   "cell_type": "code",
   "execution_count": 65,
   "metadata": {},
   "outputs": [
    {
     "name": "stdout",
     "output_type": "stream",
     "text": [
      "False\n",
      "False\n",
      "False\n"
     ]
    }
   ],
   "source": [
    "for col_name in [\"team_api_id\", \"team_fifa_api_id\", \"date\"]:\n",
    "    pprint(team_attributes_df[col_name].unique().size == team_attributes_df.shape[0])"
   ]
  },
  {
   "cell_type": "markdown",
   "metadata": {},
   "source": [
    "That means team api ids are not unique rows and neither is date. Perhaps combining the two will give a unique row."
   ]
  },
  {
   "cell_type": "code",
   "execution_count": 66,
   "metadata": {},
   "outputs": [
    {
     "data": {
      "text/plain": [
       "True"
      ]
     },
     "execution_count": 66,
     "metadata": {},
     "output_type": "execute_result"
    }
   ],
   "source": [
    "team_attributes_df.apply(lambda row: row.date + \"_\" + str(row.team_api_id), axis=1).unique().size == team_attributes_df.shape[0]"
   ]
  },
  {
   "cell_type": "markdown",
   "metadata": {},
   "source": [
    "Indeed it does! So that means each row represents data collected for a unique team on a unique date for that team."
   ]
  },
  {
   "cell_type": "markdown",
   "metadata": {},
   "source": [
    "### assessing match data"
   ]
  },
  {
   "cell_type": "code",
   "execution_count": 67,
   "metadata": {},
   "outputs": [
    {
     "name": "stdout",
     "output_type": "stream",
     "text": [
      "['id',\n",
      " 'country_id',\n",
      " 'league_id',\n",
      " 'season',\n",
      " 'stage',\n",
      " 'date',\n",
      " 'match_api_id',\n",
      " 'home_team_api_id',\n",
      " 'away_team_api_id',\n",
      " 'home_team_goal',\n",
      " 'away_team_goal',\n",
      " 'home_player_X1',\n",
      " 'home_player_X2',\n",
      " 'home_player_X3',\n",
      " 'home_player_X4',\n",
      " 'home_player_X5',\n",
      " 'home_player_X6',\n",
      " 'home_player_X7',\n",
      " 'home_player_X8',\n",
      " 'home_player_X9',\n",
      " 'home_player_X10',\n",
      " 'home_player_X11',\n",
      " 'away_player_X1',\n",
      " 'away_player_X2',\n",
      " 'away_player_X3',\n",
      " 'away_player_X4',\n",
      " 'away_player_X5',\n",
      " 'away_player_X6',\n",
      " 'away_player_X7',\n",
      " 'away_player_X8',\n",
      " 'away_player_X9',\n",
      " 'away_player_X10',\n",
      " 'away_player_X11',\n",
      " 'home_player_Y1',\n",
      " 'home_player_Y2',\n",
      " 'home_player_Y3',\n",
      " 'home_player_Y4',\n",
      " 'home_player_Y5',\n",
      " 'home_player_Y6',\n",
      " 'home_player_Y7',\n",
      " 'home_player_Y8',\n",
      " 'home_player_Y9',\n",
      " 'home_player_Y10',\n",
      " 'home_player_Y11',\n",
      " 'away_player_Y1',\n",
      " 'away_player_Y2',\n",
      " 'away_player_Y3',\n",
      " 'away_player_Y4',\n",
      " 'away_player_Y5',\n",
      " 'away_player_Y6',\n",
      " 'away_player_Y7',\n",
      " 'away_player_Y8',\n",
      " 'away_player_Y9',\n",
      " 'away_player_Y10',\n",
      " 'away_player_Y11',\n",
      " 'home_player_1',\n",
      " 'home_player_2',\n",
      " 'home_player_3',\n",
      " 'home_player_4',\n",
      " 'home_player_5',\n",
      " 'home_player_6',\n",
      " 'home_player_7',\n",
      " 'home_player_8',\n",
      " 'home_player_9',\n",
      " 'home_player_10',\n",
      " 'home_player_11',\n",
      " 'away_player_1',\n",
      " 'away_player_2',\n",
      " 'away_player_3',\n",
      " 'away_player_4',\n",
      " 'away_player_5',\n",
      " 'away_player_6',\n",
      " 'away_player_7',\n",
      " 'away_player_8',\n",
      " 'away_player_9',\n",
      " 'away_player_10',\n",
      " 'away_player_11',\n",
      " 'goal',\n",
      " 'shoton',\n",
      " 'shotoff',\n",
      " 'foulcommit',\n",
      " 'card',\n",
      " 'cross',\n",
      " 'corner',\n",
      " 'possession',\n",
      " 'B365H',\n",
      " 'B365D',\n",
      " 'B365A',\n",
      " 'BWH',\n",
      " 'BWD',\n",
      " 'BWA',\n",
      " 'IWH',\n",
      " 'IWD',\n",
      " 'IWA',\n",
      " 'LBH',\n",
      " 'LBD',\n",
      " 'LBA',\n",
      " 'PSH',\n",
      " 'PSD',\n",
      " 'PSA',\n",
      " 'WHH',\n",
      " 'WHD',\n",
      " 'WHA',\n",
      " 'SJH',\n",
      " 'SJD',\n",
      " 'SJA',\n",
      " 'VCH',\n",
      " 'VCD',\n",
      " 'VCA',\n",
      " 'GBH',\n",
      " 'GBD',\n",
      " 'GBA',\n",
      " 'BSH',\n",
      " 'BSD',\n",
      " 'BSA']\n"
     ]
    }
   ],
   "source": [
    "pprint([*top_5_leagues_matches_df.columns])"
   ]
  },
  {
   "cell_type": "code",
   "execution_count": 68,
   "metadata": {},
   "outputs": [
    {
     "name": "stdout",
     "output_type": "stream",
     "text": [
      "True\n"
     ]
    }
   ],
   "source": [
    "for col_name in [\"match_api_id\"]:\n",
    "    pprint(top_5_leagues_matches_df[col_name].unique().size == top_5_leagues_matches_df.shape[0])"
   ]
  },
  {
   "cell_type": "code",
   "execution_count": 69,
   "metadata": {},
   "outputs": [
    {
     "data": {
      "text/plain": [
       "0"
      ]
     },
     "execution_count": 69,
     "metadata": {},
     "output_type": "execute_result"
    }
   ],
   "source": [
    "top_5_leagues_matches_df.match_api_id.duplicated().sum()"
   ]
  },
  {
   "cell_type": "markdown",
   "metadata": {},
   "source": [
    "### assessing player data"
   ]
  },
  {
   "cell_type": "code",
   "execution_count": 70,
   "metadata": {},
   "outputs": [
    {
     "name": "stdout",
     "output_type": "stream",
     "text": [
      "<class 'pandas.core.frame.DataFrame'>\n",
      "RangeIndex: 11060 entries, 0 to 11059\n",
      "Data columns (total 7 columns):\n",
      " #   Column              Non-Null Count  Dtype  \n",
      "---  ------              --------------  -----  \n",
      " 0   id                  11060 non-null  int64  \n",
      " 1   player_api_id       11060 non-null  int64  \n",
      " 2   player_name         11060 non-null  object \n",
      " 3   player_fifa_api_id  11060 non-null  int64  \n",
      " 4   birthday            11060 non-null  object \n",
      " 5   height              11060 non-null  float64\n",
      " 6   weight              11060 non-null  int64  \n",
      "dtypes: float64(1), int64(4), object(2)\n",
      "memory usage: 605.0+ KB\n"
     ]
    }
   ],
   "source": [
    "players_df.info()"
   ]
  },
  {
   "cell_type": "code",
   "execution_count": 71,
   "metadata": {},
   "outputs": [
    {
     "data": {
      "text/plain": [
       "True"
      ]
     },
     "execution_count": 71,
     "metadata": {},
     "output_type": "execute_result"
    }
   ],
   "source": [
    "players_df.player_api_id.unique().size == players_df.shape[0]"
   ]
  },
  {
   "cell_type": "code",
   "execution_count": 72,
   "metadata": {},
   "outputs": [
    {
     "data": {
      "text/plain": [
       "True"
      ]
     },
     "execution_count": 72,
     "metadata": {},
     "output_type": "execute_result"
    }
   ],
   "source": [
    "players_df.player_api_id.duplicated().sum() == 0"
   ]
  },
  {
   "cell_type": "code",
   "execution_count": 73,
   "metadata": {},
   "outputs": [
    {
     "name": "stdout",
     "output_type": "stream",
     "text": [
      "<class 'pandas.core.frame.DataFrame'>\n",
      "RangeIndex: 183978 entries, 0 to 183977\n",
      "Data columns (total 42 columns):\n",
      " #   Column               Non-Null Count   Dtype  \n",
      "---  ------               --------------   -----  \n",
      " 0   id                   183978 non-null  int64  \n",
      " 1   player_fifa_api_id   183978 non-null  int64  \n",
      " 2   player_api_id        183978 non-null  int64  \n",
      " 3   date                 183978 non-null  object \n",
      " 4   overall_rating       183142 non-null  float64\n",
      " 5   potential            183142 non-null  float64\n",
      " 6   preferred_foot       183142 non-null  object \n",
      " 7   attacking_work_rate  180748 non-null  object \n",
      " 8   defensive_work_rate  183142 non-null  object \n",
      " 9   crossing             183142 non-null  float64\n",
      " 10  finishing            183142 non-null  float64\n",
      " 11  heading_accuracy     183142 non-null  float64\n",
      " 12  short_passing        183142 non-null  float64\n",
      " 13  volleys              181265 non-null  float64\n",
      " 14  dribbling            183142 non-null  float64\n",
      " 15  curve                181265 non-null  float64\n",
      " 16  free_kick_accuracy   183142 non-null  float64\n",
      " 17  long_passing         183142 non-null  float64\n",
      " 18  ball_control         183142 non-null  float64\n",
      " 19  acceleration         183142 non-null  float64\n",
      " 20  sprint_speed         183142 non-null  float64\n",
      " 21  agility              181265 non-null  float64\n",
      " 22  reactions            183142 non-null  float64\n",
      " 23  balance              181265 non-null  float64\n",
      " 24  shot_power           183142 non-null  float64\n",
      " 25  jumping              181265 non-null  float64\n",
      " 26  stamina              183142 non-null  float64\n",
      " 27  strength             183142 non-null  float64\n",
      " 28  long_shots           183142 non-null  float64\n",
      " 29  aggression           183142 non-null  float64\n",
      " 30  interceptions        183142 non-null  float64\n",
      " 31  positioning          183142 non-null  float64\n",
      " 32  vision               181265 non-null  float64\n",
      " 33  penalties            183142 non-null  float64\n",
      " 34  marking              183142 non-null  float64\n",
      " 35  standing_tackle      183142 non-null  float64\n",
      " 36  sliding_tackle       181265 non-null  float64\n",
      " 37  gk_diving            183142 non-null  float64\n",
      " 38  gk_handling          183142 non-null  float64\n",
      " 39  gk_kicking           183142 non-null  float64\n",
      " 40  gk_positioning       183142 non-null  float64\n",
      " 41  gk_reflexes          183142 non-null  float64\n",
      "dtypes: float64(35), int64(3), object(4)\n",
      "memory usage: 59.0+ MB\n"
     ]
    }
   ],
   "source": [
    "player_attributes_df.info()"
   ]
  },
  {
   "cell_type": "code",
   "execution_count": 74,
   "metadata": {},
   "outputs": [
    {
     "name": "stdout",
     "output_type": "stream",
     "text": [
      "False\n",
      "False\n",
      "False\n",
      "False\n",
      "False\n",
      "False\n"
     ]
    }
   ],
   "source": [
    "for col_name in [\"player_api_id\", \"player_fifa_api_id\", \"date\"]:\n",
    "    pprint(player_attributes_df[col_name].unique().size == player_attributes_df.shape[0])\n",
    "    pprint(player_attributes_df[col_name].duplicated().sum() == 0)"
   ]
  },
  {
   "cell_type": "code",
   "execution_count": 75,
   "metadata": {},
   "outputs": [
    {
     "name": "stdout",
     "output_type": "stream",
     "text": [
      "False\n",
      "183142\n",
      "183978\n"
     ]
    }
   ],
   "source": [
    "# try using a combination of api id and date\n",
    "pprint(player_attributes_df.apply(lambda row: row.date + \"_\" + str(row.player_api_id), axis=1).unique().size == player_attributes_df.shape[0])\n",
    "pprint(player_attributes_df.apply(lambda row: row.date + \"_\" + str(row.player_api_id), axis=1).unique().size)\n",
    "pprint(player_attributes_df.shape[0])"
   ]
  },
  {
   "cell_type": "markdown",
   "metadata": {},
   "source": [
    "does one of those contain null values?"
   ]
  },
  {
   "cell_type": "code",
   "execution_count": 76,
   "metadata": {},
   "outputs": [
    {
     "name": "stdout",
     "output_type": "stream",
     "text": [
      "0\n",
      "0\n"
     ]
    }
   ],
   "source": [
    "pprint(player_attributes_df.date.isna().sum())\n",
    "pprint(player_attributes_df.player_api_id.isna().sum())"
   ]
  },
  {
   "cell_type": "markdown",
   "metadata": {},
   "source": [
    "does the combination yield duplicated values?"
   ]
  },
  {
   "cell_type": "code",
   "execution_count": 77,
   "metadata": {},
   "outputs": [
    {
     "data": {
      "text/plain": [
       "836"
      ]
     },
     "execution_count": 77,
     "metadata": {},
     "output_type": "execute_result"
    }
   ],
   "source": [
    "pd.Series(player_attributes_df.apply(lambda row: row.date + \"_\" + str(row.player_api_id), axis=1)).duplicated().sum()"
   ]
  },
  {
   "cell_type": "markdown",
   "metadata": {},
   "source": [
    "### Assessing champs league data"
   ]
  },
  {
   "cell_type": "code",
   "execution_count": 78,
   "metadata": {},
   "outputs": [
    {
     "name": "stdout",
     "output_type": "stream",
     "text": [
      "<class 'pandas.core.frame.DataFrame'>\n",
      "RangeIndex: 1666 entries, 0 to 1665\n",
      "Data columns (total 4 columns):\n",
      " #   Column        Non-Null Count  Dtype \n",
      "---  ------        --------------  ----- \n",
      " 0   year          1666 non-null   int64 \n",
      " 1   team_name     1666 non-null   object\n",
      " 2   progress      1666 non-null   object\n",
      " 3   team_country  1666 non-null   object\n",
      "dtypes: int64(1), object(3)\n",
      "memory usage: 52.2+ KB\n"
     ]
    }
   ],
   "source": [
    "champs_league_hist_df.info()"
   ]
  },
  {
   "cell_type": "code",
   "execution_count": 79,
   "metadata": {},
   "outputs": [
    {
     "data": {
      "text/html": [
       "<div>\n",
       "<style scoped>\n",
       "    .dataframe tbody tr th:only-of-type {\n",
       "        vertical-align: middle;\n",
       "    }\n",
       "\n",
       "    .dataframe tbody tr th {\n",
       "        vertical-align: top;\n",
       "    }\n",
       "\n",
       "    .dataframe thead th {\n",
       "        text-align: right;\n",
       "    }\n",
       "</style>\n",
       "<table border=\"1\" class=\"dataframe\">\n",
       "  <thead>\n",
       "    <tr style=\"text-align: right;\">\n",
       "      <th></th>\n",
       "      <th>year</th>\n",
       "      <th>team_name</th>\n",
       "      <th>progress</th>\n",
       "      <th>team_country</th>\n",
       "    </tr>\n",
       "  </thead>\n",
       "  <tbody>\n",
       "    <tr>\n",
       "      <th>109</th>\n",
       "      <td>1995</td>\n",
       "      <td>Galatasaray</td>\n",
       "      <td>7. Last 32</td>\n",
       "      <td>Turkey</td>\n",
       "    </tr>\n",
       "    <tr>\n",
       "      <th>111</th>\n",
       "      <td>1995</td>\n",
       "      <td>IFK Goteborg</td>\n",
       "      <td>7. Last 32</td>\n",
       "      <td>Sweden</td>\n",
       "    </tr>\n",
       "    <tr>\n",
       "      <th>113</th>\n",
       "      <td>1995</td>\n",
       "      <td>Dynamo Kyiv</td>\n",
       "      <td>7. Last 32</td>\n",
       "      <td>Ukraine</td>\n",
       "    </tr>\n",
       "    <tr>\n",
       "      <th>114</th>\n",
       "      <td>1995</td>\n",
       "      <td>Paris Saint-Germain</td>\n",
       "      <td>7. Last 32</td>\n",
       "      <td>France</td>\n",
       "    </tr>\n",
       "    <tr>\n",
       "      <th>117</th>\n",
       "      <td>1995</td>\n",
       "      <td>Hajduk Split</td>\n",
       "      <td>7. Last 32</td>\n",
       "      <td>Croatia</td>\n",
       "    </tr>\n",
       "    <tr>\n",
       "      <th>118</th>\n",
       "      <td>1995</td>\n",
       "      <td>Steaua Bucuresti</td>\n",
       "      <td>7. Last 32</td>\n",
       "      <td>Romania</td>\n",
       "    </tr>\n",
       "    <tr>\n",
       "      <th>120</th>\n",
       "      <td>1995</td>\n",
       "      <td>AEK Athens</td>\n",
       "      <td>7. Last 32</td>\n",
       "      <td>Greece</td>\n",
       "    </tr>\n",
       "    <tr>\n",
       "      <th>123</th>\n",
       "      <td>1995</td>\n",
       "      <td>FC Red Bull Salzburg</td>\n",
       "      <td>7. Last 32</td>\n",
       "      <td>Austria</td>\n",
       "    </tr>\n",
       "  </tbody>\n",
       "</table>\n",
       "</div>"
      ],
      "text/plain": [
       "     year             team_name    progress team_country\n",
       "109  1995           Galatasaray  7. Last 32       Turkey\n",
       "111  1995          IFK Goteborg  7. Last 32       Sweden\n",
       "113  1995           Dynamo Kyiv  7. Last 32      Ukraine\n",
       "114  1995   Paris Saint-Germain  7. Last 32       France\n",
       "117  1995          Hajduk Split  7. Last 32      Croatia\n",
       "118  1995      Steaua Bucuresti  7. Last 32      Romania\n",
       "120  1995            AEK Athens  7. Last 32       Greece\n",
       "123  1995  FC Red Bull Salzburg  7. Last 32      Austria"
      ]
     },
     "execution_count": 79,
     "metadata": {},
     "output_type": "execute_result"
    }
   ],
   "source": [
    "champs_league_hist_df[champs_league_hist_df.duplicated()]"
   ]
  },
  {
   "cell_type": "code",
   "execution_count": 80,
   "metadata": {},
   "outputs": [
    {
     "data": {
      "text/html": [
       "<div>\n",
       "<style scoped>\n",
       "    .dataframe tbody tr th:only-of-type {\n",
       "        vertical-align: middle;\n",
       "    }\n",
       "\n",
       "    .dataframe tbody tr th {\n",
       "        vertical-align: top;\n",
       "    }\n",
       "\n",
       "    .dataframe thead th {\n",
       "        text-align: right;\n",
       "    }\n",
       "</style>\n",
       "<table border=\"1\" class=\"dataframe\">\n",
       "  <thead>\n",
       "    <tr style=\"text-align: right;\">\n",
       "      <th></th>\n",
       "      <th>year</th>\n",
       "      <th>team_name</th>\n",
       "      <th>progress</th>\n",
       "      <th>team_country</th>\n",
       "    </tr>\n",
       "  </thead>\n",
       "  <tbody>\n",
       "    <tr>\n",
       "      <th>101</th>\n",
       "      <td>1995</td>\n",
       "      <td>Galatasaray</td>\n",
       "      <td>7. Last 32</td>\n",
       "      <td>Turkey</td>\n",
       "    </tr>\n",
       "    <tr>\n",
       "      <th>109</th>\n",
       "      <td>1995</td>\n",
       "      <td>Galatasaray</td>\n",
       "      <td>7. Last 32</td>\n",
       "      <td>Turkey</td>\n",
       "    </tr>\n",
       "  </tbody>\n",
       "</table>\n",
       "</div>"
      ],
      "text/plain": [
       "     year    team_name    progress team_country\n",
       "101  1995  Galatasaray  7. Last 32       Turkey\n",
       "109  1995  Galatasaray  7. Last 32       Turkey"
      ]
     },
     "execution_count": 80,
     "metadata": {},
     "output_type": "execute_result"
    }
   ],
   "source": [
    "champs_league_hist_df[(champs_league_hist_df.team_name == \"Galatasaray\") & (champs_league_hist_df.year == 1995) & (champs_league_hist_df.progress == \"7. Last 32\")]"
   ]
  },
  {
   "cell_type": "markdown",
   "metadata": {},
   "source": [
    "## Clean data"
   ]
  },
  {
   "cell_type": "markdown",
   "metadata": {},
   "source": [
    "### Create copies of the dataframes"
   ]
  },
  {
   "cell_type": "code",
   "execution_count": 81,
   "metadata": {},
   "outputs": [],
   "source": [
    "# create a copy of the dataframes to clean\n",
    "countries_df_clean = countries_df.copy()\n",
    "leagues_df_clean = leagues_df.copy()\n",
    "teams_df_clean = teams_df.copy()\n",
    "team_attributes_df_clean = team_attributes_df.copy()\n",
    "players_df_clean = players_df.copy()\n",
    "player_attributes_df_clean = player_attributes_df.copy()\n",
    "top_5_leagues_matches_df_clean = top_5_leagues_matches_df.copy()\n",
    "champs_league_hist_df_clean = champs_league_hist_df.copy()"
   ]
  },
  {
   "cell_type": "markdown",
   "metadata": {},
   "source": [
    "### match table"
   ]
  },
  {
   "cell_type": "markdown",
   "metadata": {},
   "source": [
    "#### `date` column should be datetime"
   ]
  },
  {
   "cell_type": "markdown",
   "metadata": {},
   "source": [
    "##### Define\n",
    "convert the date column to datetime using pandas to_datetime function"
   ]
  },
  {
   "cell_type": "markdown",
   "metadata": {},
   "source": [
    "##### Code"
   ]
  },
  {
   "cell_type": "code",
   "execution_count": 82,
   "metadata": {},
   "outputs": [
    {
     "data": {
      "text/plain": [
       "0   2008-08-09\n",
       "1   2008-08-09\n",
       "2   2008-08-09\n",
       "3   2008-08-09\n",
       "4   2008-08-09\n",
       "Name: date, dtype: datetime64[ns]"
      ]
     },
     "execution_count": 82,
     "metadata": {},
     "output_type": "execute_result"
    }
   ],
   "source": [
    "top_5_leagues_matches_df_clean[\"date\"] = pd.to_datetime(top_5_leagues_matches_df_clean.date)\n",
    "top_5_leagues_matches_df_clean.date.head()"
   ]
  },
  {
   "cell_type": "markdown",
   "metadata": {},
   "source": [
    "##### Test"
   ]
  },
  {
   "cell_type": "code",
   "execution_count": 83,
   "metadata": {},
   "outputs": [
    {
     "data": {
      "text/plain": [
       "dtype('<M8[ns]')"
      ]
     },
     "execution_count": 83,
     "metadata": {},
     "output_type": "execute_result"
    }
   ],
   "source": [
    "top_5_leagues_matches_df_clean.date.dtype"
   ]
  },
  {
   "cell_type": "markdown",
   "metadata": {},
   "source": [
    "#### `season` should be categorical"
   ]
  },
  {
   "cell_type": "markdown",
   "metadata": {},
   "source": [
    "##### Define\n",
    "- convert season to categorical by getting the unique values and assigning them to a list\n",
    "- the list should be ordered with the oldest season first and the latest season last"
   ]
  },
  {
   "cell_type": "markdown",
   "metadata": {},
   "source": [
    "##### Code"
   ]
  },
  {
   "cell_type": "code",
   "execution_count": 84,
   "metadata": {},
   "outputs": [
    {
     "data": {
      "text/plain": [
       "CategoricalDtype(categories=['2008/2009', '2009/2010', '2010/2011', '2011/2012',\n",
       "                  '2012/2013', '2013/2014', '2014/2015', '2015/2016'],\n",
       ", ordered=True)"
      ]
     },
     "execution_count": 84,
     "metadata": {},
     "output_type": "execute_result"
    }
   ],
   "source": [
    "season_categories = pd.CategoricalDtype(top_5_leagues_matches_df_clean.season.unique(), ordered=True)\n",
    "season_categories"
   ]
  },
  {
   "cell_type": "code",
   "execution_count": 85,
   "metadata": {},
   "outputs": [],
   "source": [
    "# convert the season column for matches to this categorical variable\n",
    "top_5_leagues_matches_df_clean[\"season\"] = top_5_leagues_matches_df_clean.season.astype(season_categories)"
   ]
  },
  {
   "cell_type": "markdown",
   "metadata": {},
   "source": [
    "##### Test"
   ]
  },
  {
   "cell_type": "code",
   "execution_count": 86,
   "metadata": {},
   "outputs": [
    {
     "data": {
      "text/plain": [
       "CategoricalDtype(categories=['2008/2009', '2009/2010', '2010/2011', '2011/2012',\n",
       "                  '2012/2013', '2013/2014', '2014/2015', '2015/2016'],\n",
       ", ordered=True)"
      ]
     },
     "execution_count": 86,
     "metadata": {},
     "output_type": "execute_result"
    }
   ],
   "source": [
    "top_5_leagues_matches_df_clean.season.dtypes"
   ]
  },
  {
   "cell_type": "markdown",
   "metadata": {},
   "source": [
    "#### rename to `stage` to `matchday` and should be categorical"
   ]
  },
  {
   "cell_type": "markdown",
   "metadata": {},
   "source": [
    "##### Define"
   ]
  },
  {
   "cell_type": "markdown",
   "metadata": {},
   "source": [
    "- rename the column\n",
    "- make it categorical with the categories being the unique values in the column\n",
    "- should be ordered"
   ]
  },
  {
   "cell_type": "markdown",
   "metadata": {},
   "source": [
    "##### Code"
   ]
  },
  {
   "cell_type": "code",
   "execution_count": 87,
   "metadata": {},
   "outputs": [],
   "source": [
    "top_5_leagues_matches_df_clean.rename(columns={\"stage\": \"matchday\"}, inplace=True)"
   ]
  },
  {
   "cell_type": "code",
   "execution_count": 88,
   "metadata": {},
   "outputs": [],
   "source": [
    "matchday_categories = pd.CategoricalDtype(top_5_leagues_matches_df_clean.matchday.unique(), ordered=True)"
   ]
  },
  {
   "cell_type": "code",
   "execution_count": 89,
   "metadata": {},
   "outputs": [],
   "source": [
    "top_5_leagues_matches_df_clean[\"matchday\"] = top_5_leagues_matches_df_clean.matchday.astype(matchday_categories)"
   ]
  },
  {
   "cell_type": "markdown",
   "metadata": {},
   "source": [
    "##### Test"
   ]
  },
  {
   "cell_type": "code",
   "execution_count": 90,
   "metadata": {},
   "outputs": [
    {
     "data": {
      "text/plain": [
       "0         1\n",
       "1         1\n",
       "2         1\n",
       "3         1\n",
       "4         1\n",
       "         ..\n",
       "14580    38\n",
       "14581    38\n",
       "14582    38\n",
       "14583    38\n",
       "14584    38\n",
       "Name: matchday, Length: 14585, dtype: category\n",
       "Categories (38, int64): [1 < 2 < 3 < 4 ... 35 < 36 < 37 < 38]"
      ]
     },
     "execution_count": 90,
     "metadata": {},
     "output_type": "execute_result"
    }
   ],
   "source": [
    "top_5_leagues_matches_df_clean.matchday"
   ]
  },
  {
   "cell_type": "markdown",
   "metadata": {},
   "source": [
    "#### player IDs (`home_player_1` ... `away_player_11`) are null for some matches"
   ]
  },
  {
   "cell_type": "markdown",
   "metadata": {},
   "source": [
    "##### Define"
   ]
  },
  {
   "cell_type": "markdown",
   "metadata": {},
   "source": [
    "- drop all values that are null for these columns"
   ]
  },
  {
   "cell_type": "markdown",
   "metadata": {},
   "source": [
    "##### Code"
   ]
  },
  {
   "cell_type": "code",
   "execution_count": 91,
   "metadata": {},
   "outputs": [],
   "source": [
    "top_5_leagues_matches_df_clean.drop(top_5_leagues_matches_df_clean[top_5_leagues_matches_df_clean.loc[:, \"home_player_1\":\"away_player_11\"].isna().sum(axis=1) > 0].index, inplace=True)"
   ]
  },
  {
   "cell_type": "markdown",
   "metadata": {},
   "source": [
    "##### Test"
   ]
  },
  {
   "cell_type": "code",
   "execution_count": 92,
   "metadata": {},
   "outputs": [],
   "source": [
    "assert top_5_leagues_matches_df_clean[top_5_leagues_matches_df_clean.loc[:, \"home_player_1\":\"away_player_11\"].isna().sum(axis=1) > 0].size == 0"
   ]
  },
  {
   "cell_type": "markdown",
   "metadata": {},
   "source": [
    "#### match events (`goal` ... `possession`) are null for some matches"
   ]
  },
  {
   "cell_type": "markdown",
   "metadata": {},
   "source": [
    "##### Define"
   ]
  },
  {
   "cell_type": "markdown",
   "metadata": {},
   "source": [
    "- confirm that matches with a 0-0 scoreline don't have a null `goal` column\n",
    "- drop all values that are null for these columns"
   ]
  },
  {
   "cell_type": "markdown",
   "metadata": {},
   "source": [
    "##### Code"
   ]
  },
  {
   "cell_type": "code",
   "execution_count": 93,
   "metadata": {},
   "outputs": [
    {
     "data": {
      "text/plain": [
       "<goal />                                                                                                                                                                                                                                                                                                                                                                                                                                                                                                                                                           909\n",
       "<goal><value><comment>dg</comment><event_incident_typefk>304</event_incident_typefk><elapsed>87</elapsed><subtype>loose_ball</subtype><player1>23934</player1><sortorder>2</sortorder><team>8559</team><id>389536</id><n>172</n><type>goal</type><goal_type>dg</goal_type></value><value><comment>dg</comment><event_incident_typefk>298</event_incident_typefk><elapsed>90</elapsed><subtype>shot</subtype><player1>23934</player1><sortorder>2</sortorder><team>8559</team><id>389573</id><n>161</n><type>goal</type><goal_type>dg</goal_type></value></goal>      1\n",
       "<goal><value><comment>dg</comment><event_incident_typefk>298</event_incident_typefk><coordinates><value>29</value><value>7</value></coordinates><elapsed>8</elapsed><subtype>shot</subtype><player1>36934</player1><sortorder>1</sortorder><team>8722</team><id>4017886</id><n>250</n><type>goal</type><goal_type>dg</goal_type></value></goal>                                                                                                                                                                                                                      1\n",
       "<goal><value><comment>npm</comment><event_incident_typefk>348</event_incident_typefk><coordinates><value>23</value><value>8</value></coordinates><elapsed>3</elapsed><subtype>saved_back_into_play</subtype><player1>196311</player1><sortorder>0</sortorder><team>8358</team><id>4006661</id><n>12</n><type>goal</type><goal_type>npm</goal_type></value></goal>                                                                                                                                                                                                    1\n",
       "<goal><value><comment>npm</comment><event_incident_typefk>348</event_incident_typefk><coordinates><value>23</value><value>62</value></coordinates><elapsed>9</elapsed><subtype>saved_back_into_play</subtype><player1>32734</player1><sortorder>0</sortorder><team>8659</team><id>3988665</id><n>42</n><type>goal</type><goal_type>npm</goal_type></value></goal>                                                                                                                                                                                                    1\n",
       "                                                                                                                                                                                                                                                                                                                                                                                                                                                                                                                                                                  ... \n",
       "<goal><value><comment>dg</comment><event_incident_typefk>298</event_incident_typefk><elapsed>43</elapsed><subtype>shot</subtype><player1>25005</player1><sortorder>2</sortorder><team>8528</team><id>1044553</id><n>146</n><type>goal</type><goal_type>dg</goal_type></value></goal>                                                                                                                                                                                                                                                                                 1\n",
       "<goal><value><comment>npm</comment><event_incident_typefk>348</event_incident_typefk><elapsed>59</elapsed><subtype>saved_back_into_play</subtype><player1>37408</player1><sortorder>0</sortorder><team>8315</team><id>994064</id><n>179</n><type>goal</type><goal_type>npm</goal_type></value></goal>                                                                                                                                                                                                                                                                1\n",
       "<goal><value><comment>npm</comment><event_incident_typefk>195</event_incident_typefk><elapsed>42</elapsed><player1>38398</player1><sortorder>0</sortorder><team>9788</team><id>921738</id><n>6</n><type>goal</type><goal_type>npm</goal_type></value></goal>                                                                                                                                                                                                                                                                                                         1\n",
       "<goal><value><comment>npm</comment><event_incident_typefk>195</event_incident_typefk><elapsed>25</elapsed><player1>27686</player1><sortorder>0</sortorder><team>10167</team><id>913700</id><n>3</n><type>goal</type><goal_type>npm</goal_type></value></goal>                                                                                                                                                                                                                                                                                                        1\n",
       "<goal><value><comment>npm</comment><event_incident_typefk>159</event_incident_typefk><coordinates><value>23</value><value>62</value></coordinates><elapsed>5</elapsed><subtype>saved</subtype><player1>210184</player1><sortorder>0</sortorder><team>9941</team><id>5555466</id><n>55</n><type>goal</type><goal_type>npm</goal_type></value></goal>                                                                                                                                                                                                                  1\n",
       "Name: goal, Length: 96, dtype: int64"
      ]
     },
     "execution_count": 93,
     "metadata": {},
     "output_type": "execute_result"
    }
   ],
   "source": [
    "# get the values of the goals columns for 0-0 matches\n",
    "top_5_leagues_matches_df_clean[(top_5_leagues_matches_df_clean.home_team_goal == 0) & (top_5_leagues_matches_df_clean.away_team_goal == 0)].goal.value_counts()"
   ]
  },
  {
   "cell_type": "markdown",
   "metadata": {},
   "source": [
    "That above confirms that 0-0 matches don't have null values for the `goal` column"
   ]
  },
  {
   "cell_type": "code",
   "execution_count": 94,
   "metadata": {},
   "outputs": [
    {
     "data": {
      "text/plain": [
       "Int64Index([   0,    1,    3,    4,    6,    7,    9,   13,   14,   15,\n",
       "            ...\n",
       "            5873, 5874, 5876, 5877, 5879, 5890, 5894, 5897, 5898, 7494],\n",
       "           dtype='int64', length=933)"
      ]
     },
     "execution_count": 94,
     "metadata": {},
     "output_type": "execute_result"
    }
   ],
   "source": [
    "top_5_leagues_matches_df_clean[top_5_leagues_matches_df_clean.loc[:, \"goal\":\"possession\"].isna().sum(axis=1) > 0].index"
   ]
  },
  {
   "cell_type": "code",
   "execution_count": 95,
   "metadata": {},
   "outputs": [],
   "source": [
    "top_5_leagues_matches_df_clean.drop(top_5_leagues_matches_df_clean[top_5_leagues_matches_df_clean.loc[:, \"goal\":\"possession\"].isna().sum(axis=1) > 0].index, inplace=True)"
   ]
  },
  {
   "cell_type": "markdown",
   "metadata": {},
   "source": [
    "##### Test"
   ]
  },
  {
   "cell_type": "code",
   "execution_count": 96,
   "metadata": {},
   "outputs": [],
   "source": [
    "assert top_5_leagues_matches_df_clean[top_5_leagues_matches_df_clean.loc[:, \"goal\":\"possession\"].isna().sum(axis=1) > 0].size == 0"
   ]
  },
  {
   "cell_type": "markdown",
   "metadata": {},
   "source": [
    "#### predictions are null for some matches"
   ]
  },
  {
   "cell_type": "markdown",
   "metadata": {},
   "source": [
    "##### Define"
   ]
  },
  {
   "cell_type": "markdown",
   "metadata": {},
   "source": [
    "- drop all rows that have null values"
   ]
  },
  {
   "cell_type": "markdown",
   "metadata": {},
   "source": [
    "##### Code"
   ]
  },
  {
   "cell_type": "code",
   "execution_count": 97,
   "metadata": {},
   "outputs": [
    {
     "data": {
      "text/plain": [
       "12723"
      ]
     },
     "execution_count": 97,
     "metadata": {},
     "output_type": "execute_result"
    }
   ],
   "source": [
    "top_5_leagues_matches_df_clean.iloc[:, predictions_start_idx:].shape[0]"
   ]
  },
  {
   "cell_type": "code",
   "execution_count": 98,
   "metadata": {},
   "outputs": [
    {
     "data": {
      "text/plain": [
       "10960"
      ]
     },
     "execution_count": 98,
     "metadata": {},
     "output_type": "execute_result"
    }
   ],
   "source": [
    "(top_5_leagues_matches_df_clean.iloc[:, predictions_start_idx:].isna().sum(axis=1) > 0).sum()"
   ]
  },
  {
   "cell_type": "markdown",
   "metadata": {},
   "source": [
    "Most of the rows have missing predictions! I can't drop the null rows."
   ]
  },
  {
   "cell_type": "code",
   "execution_count": 99,
   "metadata": {},
   "outputs": [
    {
     "name": "stdout",
     "output_type": "stream",
     "text": [
      "<class 'pandas.core.frame.DataFrame'>\n",
      "Int64Index: 12723 entries, 10 to 14584\n",
      "Data columns (total 30 columns):\n",
      " #   Column  Non-Null Count  Dtype  \n",
      "---  ------  --------------  -----  \n",
      " 0   B365H   12714 non-null  float64\n",
      " 1   B365D   12714 non-null  float64\n",
      " 2   B365A   12714 non-null  float64\n",
      " 3   BWH     12699 non-null  float64\n",
      " 4   BWD     12699 non-null  float64\n",
      " 5   BWA     12699 non-null  float64\n",
      " 6   IWH     12686 non-null  float64\n",
      " 7   IWD     12686 non-null  float64\n",
      " 8   IWA     12686 non-null  float64\n",
      " 9   LBH     12709 non-null  float64\n",
      " 10  LBD     12709 non-null  float64\n",
      " 11  LBA     12709 non-null  float64\n",
      " 12  PSH     7023 non-null   float64\n",
      " 13  PSD     7023 non-null   float64\n",
      " 14  PSA     7023 non-null   float64\n",
      " 15  WHH     12708 non-null  float64\n",
      " 16  WHD     12708 non-null  float64\n",
      " 17  WHA     12708 non-null  float64\n",
      " 18  SJH     9391 non-null   float64\n",
      " 19  SJD     9391 non-null   float64\n",
      " 20  SJA     9391 non-null   float64\n",
      " 21  VCH     12696 non-null  float64\n",
      " 22  VCD     12696 non-null  float64\n",
      " 23  VCA     12696 non-null  float64\n",
      " 24  GBH     7451 non-null   float64\n",
      " 25  GBD     7451 non-null   float64\n",
      " 26  GBA     7451 non-null   float64\n",
      " 27  BSH     7455 non-null   float64\n",
      " 28  BSD     7455 non-null   float64\n",
      " 29  BSA     7455 non-null   float64\n",
      "dtypes: float64(30)\n",
      "memory usage: 3.0 MB\n"
     ]
    }
   ],
   "source": [
    "top_5_leagues_matches_df_clean.iloc[:, predictions_start_idx:].info()"
   ]
  },
  {
   "cell_type": "markdown",
   "metadata": {},
   "source": [
    "##### new strategy\n",
    "- drop columns that have less than 75% non-null predictions (below that feels too incomplete to me)\n",
    "- drop all match rows that have no predictions at all\n",
    "- fill in the remaining null predictions using the average of those values for the row (i.e. null home predictions will be average of home predictions, likewise for draw and away)"
   ]
  },
  {
   "cell_type": "markdown",
   "metadata": {},
   "source": [
    "**drop columns that have less than 75% non-null predictions (below that feels too incomplete to me)**"
   ]
  },
  {
   "cell_type": "code",
   "execution_count": 100,
   "metadata": {},
   "outputs": [
    {
     "data": {
      "text/plain": [
       "B365H       9\n",
       "B365D       9\n",
       "B365A       9\n",
       "BWH        24\n",
       "BWD        24\n",
       "BWA        24\n",
       "IWH        37\n",
       "IWD        37\n",
       "IWA        37\n",
       "LBH        14\n",
       "LBD        14\n",
       "LBA        14\n",
       "PSH      5700\n",
       "PSD      5700\n",
       "PSA      5700\n",
       "WHH        15\n",
       "WHD        15\n",
       "WHA        15\n",
       "SJH      3332\n",
       "SJD      3332\n",
       "SJA      3332\n",
       "VCH        27\n",
       "VCD        27\n",
       "VCA        27\n",
       "GBH      5272\n",
       "GBD      5272\n",
       "GBA      5272\n",
       "BSH      5268\n",
       "BSD      5268\n",
       "BSA      5268\n",
       "dtype: int64"
      ]
     },
     "execution_count": 100,
     "metadata": {},
     "output_type": "execute_result"
    }
   ],
   "source": [
    "num_missing_predictions = top_5_leagues_matches_df_clean.isna().sum().iloc[-30:]\n",
    "num_missing_predictions"
   ]
  },
  {
   "cell_type": "code",
   "execution_count": 101,
   "metadata": {},
   "outputs": [
    {
     "data": {
      "text/plain": [
       "Index(['away_player_8', 'away_player_9', 'away_player_10', 'away_player_11',\n",
       "       'goal', 'shoton', 'shotoff', 'foulcommit', 'card', 'cross', 'corner',\n",
       "       'possession', 'B365H', 'B365D', 'B365A', 'BWH', 'BWD', 'BWA', 'IWH',\n",
       "       'IWD', 'IWA', 'LBH', 'LBD', 'LBA', 'WHH', 'WHD', 'WHA', 'VCH', 'VCD',\n",
       "       'VCA'],\n",
       "      dtype='object')"
      ]
     },
     "execution_count": 101,
     "metadata": {},
     "output_type": "execute_result"
    }
   ],
   "source": [
    "# drop the columns for the betting providers with more than 1/4 of the data missing\n",
    "top_5_leagues_matches_df_clean.drop(num_missing_predictions[num_missing_predictions > round(top_5_leagues_matches_df_clean.shape[0] * 1 / 4)].index, axis=1, inplace=True)\n",
    "top_5_leagues_matches_df_clean.iloc[:, predictions_start_idx:].columns"
   ]
  },
  {
   "cell_type": "code",
   "execution_count": 102,
   "metadata": {},
   "outputs": [],
   "source": [
    "predictions_start_idx = -18"
   ]
  },
  {
   "cell_type": "code",
   "execution_count": 103,
   "metadata": {},
   "outputs": [
    {
     "data": {
      "text/plain": [
       "Index(['B365H', 'B365D', 'B365A', 'BWH', 'BWD', 'BWA', 'IWH', 'IWD', 'IWA',\n",
       "       'LBH', 'LBD', 'LBA', 'WHH', 'WHD', 'WHA', 'VCH', 'VCD', 'VCA'],\n",
       "      dtype='object')"
      ]
     },
     "execution_count": 103,
     "metadata": {},
     "output_type": "execute_result"
    }
   ],
   "source": [
    "match_predictions_df = top_5_leagues_matches_df_clean.loc[:, list(top_5_leagues_matches_df_clean.columns[predictions_start_idx:])]\n",
    "match_predictions_df.columns"
   ]
  },
  {
   "cell_type": "code",
   "execution_count": 104,
   "metadata": {},
   "outputs": [
    {
     "data": {
      "text/html": [
       "<div>\n",
       "<style scoped>\n",
       "    .dataframe tbody tr th:only-of-type {\n",
       "        vertical-align: middle;\n",
       "    }\n",
       "\n",
       "    .dataframe tbody tr th {\n",
       "        vertical-align: top;\n",
       "    }\n",
       "\n",
       "    .dataframe thead th {\n",
       "        text-align: right;\n",
       "    }\n",
       "</style>\n",
       "<table border=\"1\" class=\"dataframe\">\n",
       "  <thead>\n",
       "    <tr style=\"text-align: right;\">\n",
       "      <th></th>\n",
       "      <th>B365H</th>\n",
       "      <th>B365D</th>\n",
       "      <th>B365A</th>\n",
       "      <th>BWH</th>\n",
       "      <th>BWD</th>\n",
       "      <th>BWA</th>\n",
       "      <th>IWH</th>\n",
       "      <th>IWD</th>\n",
       "      <th>IWA</th>\n",
       "      <th>LBH</th>\n",
       "      <th>LBD</th>\n",
       "      <th>LBA</th>\n",
       "      <th>WHH</th>\n",
       "      <th>WHD</th>\n",
       "      <th>WHA</th>\n",
       "      <th>VCH</th>\n",
       "      <th>VCD</th>\n",
       "      <th>VCA</th>\n",
       "    </tr>\n",
       "  </thead>\n",
       "  <tbody>\n",
       "    <tr>\n",
       "      <th>count</th>\n",
       "      <td>12714.000000</td>\n",
       "      <td>12714.000000</td>\n",
       "      <td>12714.000000</td>\n",
       "      <td>12699.000000</td>\n",
       "      <td>12699.000000</td>\n",
       "      <td>12699.000000</td>\n",
       "      <td>12686.000000</td>\n",
       "      <td>12686.000000</td>\n",
       "      <td>12686.000000</td>\n",
       "      <td>12709.000000</td>\n",
       "      <td>12709.000000</td>\n",
       "      <td>12709.000000</td>\n",
       "      <td>12708.000000</td>\n",
       "      <td>12708.000000</td>\n",
       "      <td>12708.000000</td>\n",
       "      <td>12696.000000</td>\n",
       "      <td>12696.000000</td>\n",
       "      <td>12696.000000</td>\n",
       "    </tr>\n",
       "    <tr>\n",
       "      <th>mean</th>\n",
       "      <td>2.625455</td>\n",
       "      <td>3.851312</td>\n",
       "      <td>4.724529</td>\n",
       "      <td>2.570322</td>\n",
       "      <td>3.779627</td>\n",
       "      <td>4.475660</td>\n",
       "      <td>2.478364</td>\n",
       "      <td>3.656283</td>\n",
       "      <td>4.206142</td>\n",
       "      <td>2.547071</td>\n",
       "      <td>3.754477</td>\n",
       "      <td>4.471715</td>\n",
       "      <td>2.604511</td>\n",
       "      <td>3.662175</td>\n",
       "      <td>4.611160</td>\n",
       "      <td>2.682743</td>\n",
       "      <td>3.931064</td>\n",
       "      <td>4.962055</td>\n",
       "    </tr>\n",
       "    <tr>\n",
       "      <th>std</th>\n",
       "      <td>1.821225</td>\n",
       "      <td>1.188397</td>\n",
       "      <td>3.867266</td>\n",
       "      <td>1.681922</td>\n",
       "      <td>1.109067</td>\n",
       "      <td>3.427111</td>\n",
       "      <td>1.483711</td>\n",
       "      <td>0.853358</td>\n",
       "      <td>2.938152</td>\n",
       "      <td>1.668051</td>\n",
       "      <td>1.087585</td>\n",
       "      <td>3.533333</td>\n",
       "      <td>1.753303</td>\n",
       "      <td>0.999789</td>\n",
       "      <td>3.834338</td>\n",
       "      <td>1.992439</td>\n",
       "      <td>1.344774</td>\n",
       "      <td>4.567066</td>\n",
       "    </tr>\n",
       "    <tr>\n",
       "      <th>min</th>\n",
       "      <td>1.040000</td>\n",
       "      <td>1.400000</td>\n",
       "      <td>1.080000</td>\n",
       "      <td>1.030000</td>\n",
       "      <td>1.650000</td>\n",
       "      <td>1.100000</td>\n",
       "      <td>1.050000</td>\n",
       "      <td>1.500000</td>\n",
       "      <td>1.100000</td>\n",
       "      <td>1.040000</td>\n",
       "      <td>1.400000</td>\n",
       "      <td>1.100000</td>\n",
       "      <td>1.020000</td>\n",
       "      <td>1.020000</td>\n",
       "      <td>1.080000</td>\n",
       "      <td>1.030000</td>\n",
       "      <td>1.620000</td>\n",
       "      <td>1.080000</td>\n",
       "    </tr>\n",
       "    <tr>\n",
       "      <th>25%</th>\n",
       "      <td>1.670000</td>\n",
       "      <td>3.300000</td>\n",
       "      <td>2.600000</td>\n",
       "      <td>1.670000</td>\n",
       "      <td>3.250000</td>\n",
       "      <td>2.550000</td>\n",
       "      <td>1.700000</td>\n",
       "      <td>3.200000</td>\n",
       "      <td>2.550000</td>\n",
       "      <td>1.670000</td>\n",
       "      <td>3.250000</td>\n",
       "      <td>2.500000</td>\n",
       "      <td>1.700000</td>\n",
       "      <td>3.200000</td>\n",
       "      <td>2.600000</td>\n",
       "      <td>1.700000</td>\n",
       "      <td>3.300000</td>\n",
       "      <td>2.600000</td>\n",
       "    </tr>\n",
       "    <tr>\n",
       "      <th>50%</th>\n",
       "      <td>2.100000</td>\n",
       "      <td>3.400000</td>\n",
       "      <td>3.500000</td>\n",
       "      <td>2.100000</td>\n",
       "      <td>3.400000</td>\n",
       "      <td>3.450000</td>\n",
       "      <td>2.100000</td>\n",
       "      <td>3.300000</td>\n",
       "      <td>3.300000</td>\n",
       "      <td>2.100000</td>\n",
       "      <td>3.400000</td>\n",
       "      <td>3.400000</td>\n",
       "      <td>2.150000</td>\n",
       "      <td>3.300000</td>\n",
       "      <td>3.400000</td>\n",
       "      <td>2.150000</td>\n",
       "      <td>3.500000</td>\n",
       "      <td>3.600000</td>\n",
       "    </tr>\n",
       "    <tr>\n",
       "      <th>75%</th>\n",
       "      <td>2.800000</td>\n",
       "      <td>4.000000</td>\n",
       "      <td>5.250000</td>\n",
       "      <td>2.750000</td>\n",
       "      <td>3.800000</td>\n",
       "      <td>5.000000</td>\n",
       "      <td>2.600000</td>\n",
       "      <td>3.700000</td>\n",
       "      <td>4.700000</td>\n",
       "      <td>2.750000</td>\n",
       "      <td>3.750000</td>\n",
       "      <td>5.000000</td>\n",
       "      <td>2.750000</td>\n",
       "      <td>3.750000</td>\n",
       "      <td>5.000000</td>\n",
       "      <td>2.880000</td>\n",
       "      <td>4.000000</td>\n",
       "      <td>5.500000</td>\n",
       "    </tr>\n",
       "    <tr>\n",
       "      <th>max</th>\n",
       "      <td>26.000000</td>\n",
       "      <td>17.000000</td>\n",
       "      <td>51.000000</td>\n",
       "      <td>34.000000</td>\n",
       "      <td>19.500000</td>\n",
       "      <td>51.000000</td>\n",
       "      <td>20.000000</td>\n",
       "      <td>11.000000</td>\n",
       "      <td>25.000000</td>\n",
       "      <td>26.000000</td>\n",
       "      <td>19.000000</td>\n",
       "      <td>51.000000</td>\n",
       "      <td>26.000000</td>\n",
       "      <td>17.000000</td>\n",
       "      <td>51.000000</td>\n",
       "      <td>36.000000</td>\n",
       "      <td>26.000000</td>\n",
       "      <td>67.000000</td>\n",
       "    </tr>\n",
       "  </tbody>\n",
       "</table>\n",
       "</div>"
      ],
      "text/plain": [
       "              B365H         B365D         B365A           BWH           BWD  \\\n",
       "count  12714.000000  12714.000000  12714.000000  12699.000000  12699.000000   \n",
       "mean       2.625455      3.851312      4.724529      2.570322      3.779627   \n",
       "std        1.821225      1.188397      3.867266      1.681922      1.109067   \n",
       "min        1.040000      1.400000      1.080000      1.030000      1.650000   \n",
       "25%        1.670000      3.300000      2.600000      1.670000      3.250000   \n",
       "50%        2.100000      3.400000      3.500000      2.100000      3.400000   \n",
       "75%        2.800000      4.000000      5.250000      2.750000      3.800000   \n",
       "max       26.000000     17.000000     51.000000     34.000000     19.500000   \n",
       "\n",
       "                BWA           IWH           IWD           IWA           LBH  \\\n",
       "count  12699.000000  12686.000000  12686.000000  12686.000000  12709.000000   \n",
       "mean       4.475660      2.478364      3.656283      4.206142      2.547071   \n",
       "std        3.427111      1.483711      0.853358      2.938152      1.668051   \n",
       "min        1.100000      1.050000      1.500000      1.100000      1.040000   \n",
       "25%        2.550000      1.700000      3.200000      2.550000      1.670000   \n",
       "50%        3.450000      2.100000      3.300000      3.300000      2.100000   \n",
       "75%        5.000000      2.600000      3.700000      4.700000      2.750000   \n",
       "max       51.000000     20.000000     11.000000     25.000000     26.000000   \n",
       "\n",
       "                LBD           LBA           WHH           WHD           WHA  \\\n",
       "count  12709.000000  12709.000000  12708.000000  12708.000000  12708.000000   \n",
       "mean       3.754477      4.471715      2.604511      3.662175      4.611160   \n",
       "std        1.087585      3.533333      1.753303      0.999789      3.834338   \n",
       "min        1.400000      1.100000      1.020000      1.020000      1.080000   \n",
       "25%        3.250000      2.500000      1.700000      3.200000      2.600000   \n",
       "50%        3.400000      3.400000      2.150000      3.300000      3.400000   \n",
       "75%        3.750000      5.000000      2.750000      3.750000      5.000000   \n",
       "max       19.000000     51.000000     26.000000     17.000000     51.000000   \n",
       "\n",
       "                VCH           VCD           VCA  \n",
       "count  12696.000000  12696.000000  12696.000000  \n",
       "mean       2.682743      3.931064      4.962055  \n",
       "std        1.992439      1.344774      4.567066  \n",
       "min        1.030000      1.620000      1.080000  \n",
       "25%        1.700000      3.300000      2.600000  \n",
       "50%        2.150000      3.500000      3.600000  \n",
       "75%        2.880000      4.000000      5.500000  \n",
       "max       36.000000     26.000000     67.000000  "
      ]
     },
     "execution_count": 104,
     "metadata": {},
     "output_type": "execute_result"
    }
   ],
   "source": [
    "match_predictions_df.describe()"
   ]
  },
  {
   "cell_type": "markdown",
   "metadata": {},
   "source": [
    "**drop all match rows that have no predictions at all**"
   ]
  },
  {
   "cell_type": "code",
   "execution_count": 105,
   "metadata": {},
   "outputs": [
    {
     "data": {
      "text/plain": [
       "(12723, 103)"
      ]
     },
     "execution_count": 105,
     "metadata": {},
     "output_type": "execute_result"
    }
   ],
   "source": [
    "top_5_leagues_matches_df_clean.shape"
   ]
  },
  {
   "cell_type": "code",
   "execution_count": 106,
   "metadata": {},
   "outputs": [
    {
     "data": {
      "text/plain": [
       "(12716, 103)"
      ]
     },
     "execution_count": 106,
     "metadata": {},
     "output_type": "execute_result"
    }
   ],
   "source": [
    "top_5_leagues_matches_df_clean.drop(top_5_leagues_matches_df_clean[match_predictions_df.iloc[:, predictions_start_idx:].isna().sum(axis=1) == abs(predictions_start_idx)].index, inplace=True)\n",
    "top_5_leagues_matches_df_clean.shape"
   ]
  },
  {
   "cell_type": "code",
   "execution_count": 107,
   "metadata": {},
   "outputs": [],
   "source": [
    "match_predictions_df = top_5_leagues_matches_df_clean.loc[:, list(top_5_leagues_matches_df_clean.columns[predictions_start_idx:])]"
   ]
  },
  {
   "cell_type": "markdown",
   "metadata": {},
   "source": [
    "**fill in the remaining null predictions using the average of those values for the row (i.e. null home predictions will be average of home predictions, likewise for draw and away)**"
   ]
  },
  {
   "cell_type": "code",
   "execution_count": 108,
   "metadata": {},
   "outputs": [],
   "source": [
    "def series_to_dataframe(series: pd.Series, column_names: List[str]):\n",
    "    # Create an empty DataFrame\n",
    "    df = pd.DataFrame()\n",
    "\n",
    "    # Repeat the series for each column name and assign it to the DataFrame\n",
    "    for column_name in column_names:\n",
    "        df[column_name] = series\n",
    "\n",
    "    return df\n"
   ]
  },
  {
   "cell_type": "code",
   "execution_count": 109,
   "metadata": {},
   "outputs": [],
   "source": [
    "# strategy: get the average home odds for the row, and fill in with that value\n",
    "# fillna allows me to specify a dataframe with values for each column to fill in with\n",
    "# so I can specify a dataframe with the average home odds for each row, in the home column only\n",
    "# do the same for the away and draw columns\n",
    "\n",
    "def fill_missing_predictions(suffix: str, df: pd.DataFrame):\n",
    "    \"\"\"\n",
    "    Fills the missing predictions for the columns ending with the provided suffix in the provided dataframe.\n",
    "    The suffix indicates if the prediction is for the home team (H), away team (A) or a draw (D).\n",
    "\n",
    "    The missing values are filled with the mean of the other predictions for the same match for the same outcome,\n",
    "    meaning that missing home win predictions are filled with the mean of other home win predictions for that match.\n",
    "    \"\"\"\n",
    "    predictions_cols = list(filter(lambda x: x.endswith(suffix), df.columns))\n",
    "    df[predictions_cols] = df[predictions_cols].fillna(series_to_dataframe(df[predictions_cols].mean(axis=1), predictions_cols))\n",
    "    return df"
   ]
  },
  {
   "cell_type": "code",
   "execution_count": 110,
   "metadata": {},
   "outputs": [],
   "source": [
    "for suffix in [\"H\", \"A\", \"D\"]:\n",
    "    top_5_leagues_matches_df_clean = fill_missing_predictions(suffix, top_5_leagues_matches_df_clean)"
   ]
  },
  {
   "cell_type": "markdown",
   "metadata": {},
   "source": [
    "##### Test"
   ]
  },
  {
   "cell_type": "code",
   "execution_count": 111,
   "metadata": {},
   "outputs": [
    {
     "data": {
      "text/plain": [
       "B365H    0\n",
       "B365D    0\n",
       "B365A    0\n",
       "BWH      0\n",
       "BWD      0\n",
       "BWA      0\n",
       "IWH      0\n",
       "IWD      0\n",
       "IWA      0\n",
       "LBH      0\n",
       "LBD      0\n",
       "LBA      0\n",
       "WHH      0\n",
       "WHD      0\n",
       "WHA      0\n",
       "VCH      0\n",
       "VCD      0\n",
       "VCA      0\n",
       "dtype: int64"
      ]
     },
     "execution_count": 111,
     "metadata": {},
     "output_type": "execute_result"
    }
   ],
   "source": [
    "match_predictions_df = top_5_leagues_matches_df_clean.loc[:, list(top_5_leagues_matches_df_clean.columns[predictions_start_idx:])]\n",
    "match_predictions_df.isna().sum()"
   ]
  },
  {
   "cell_type": "code",
   "execution_count": 112,
   "metadata": {},
   "outputs": [
    {
     "data": {
      "text/html": [
       "<div>\n",
       "<style scoped>\n",
       "    .dataframe tbody tr th:only-of-type {\n",
       "        vertical-align: middle;\n",
       "    }\n",
       "\n",
       "    .dataframe tbody tr th {\n",
       "        vertical-align: top;\n",
       "    }\n",
       "\n",
       "    .dataframe thead th {\n",
       "        text-align: right;\n",
       "    }\n",
       "</style>\n",
       "<table border=\"1\" class=\"dataframe\">\n",
       "  <thead>\n",
       "    <tr style=\"text-align: right;\">\n",
       "      <th></th>\n",
       "      <th>id</th>\n",
       "      <th>country_id</th>\n",
       "      <th>league_id</th>\n",
       "      <th>season</th>\n",
       "      <th>matchday</th>\n",
       "      <th>date</th>\n",
       "      <th>match_api_id</th>\n",
       "      <th>home_team_api_id</th>\n",
       "      <th>away_team_api_id</th>\n",
       "      <th>home_team_goal</th>\n",
       "      <th>...</th>\n",
       "      <th>IWA</th>\n",
       "      <th>LBH</th>\n",
       "      <th>LBD</th>\n",
       "      <th>LBA</th>\n",
       "      <th>WHH</th>\n",
       "      <th>WHD</th>\n",
       "      <th>WHA</th>\n",
       "      <th>VCH</th>\n",
       "      <th>VCD</th>\n",
       "      <th>VCA</th>\n",
       "    </tr>\n",
       "  </thead>\n",
       "  <tbody>\n",
       "  </tbody>\n",
       "</table>\n",
       "<p>0 rows × 103 columns</p>\n",
       "</div>"
      ],
      "text/plain": [
       "Empty DataFrame\n",
       "Columns: [id, country_id, league_id, season, matchday, date, match_api_id, home_team_api_id, away_team_api_id, home_team_goal, away_team_goal, home_player_X1, home_player_X2, home_player_X3, home_player_X4, home_player_X5, home_player_X6, home_player_X7, home_player_X8, home_player_X9, home_player_X10, home_player_X11, away_player_X1, away_player_X2, away_player_X3, away_player_X4, away_player_X5, away_player_X6, away_player_X7, away_player_X8, away_player_X9, away_player_X10, away_player_X11, home_player_Y1, home_player_Y2, home_player_Y3, home_player_Y4, home_player_Y5, home_player_Y6, home_player_Y7, home_player_Y8, home_player_Y9, home_player_Y10, home_player_Y11, away_player_Y1, away_player_Y2, away_player_Y3, away_player_Y4, away_player_Y5, away_player_Y6, away_player_Y7, away_player_Y8, away_player_Y9, away_player_Y10, away_player_Y11, home_player_1, home_player_2, home_player_3, home_player_4, home_player_5, home_player_6, home_player_7, home_player_8, home_player_9, home_player_10, home_player_11, away_player_1, away_player_2, away_player_3, away_player_4, away_player_5, away_player_6, away_player_7, away_player_8, away_player_9, away_player_10, away_player_11, goal, shoton, shotoff, foulcommit, card, cross, corner, possession, B365H, B365D, B365A, BWH, BWD, BWA, IWH, IWD, IWA, LBH, LBD, LBA, WHH, WHD, WHA, ...]\n",
       "Index: []\n",
       "\n",
       "[0 rows x 103 columns]"
      ]
     },
     "execution_count": 112,
     "metadata": {},
     "output_type": "execute_result"
    }
   ],
   "source": [
    "top_5_leagues_matches_df_clean[top_5_leagues_matches_df_clean.iloc[:, predictions_start_idx:].isna().sum(axis=1) > 0]"
   ]
  },
  {
   "cell_type": "markdown",
   "metadata": {},
   "source": [
    "### player attributes table"
   ]
  },
  {
   "cell_type": "markdown",
   "metadata": {},
   "source": [
    "#### `date` column should be datetime"
   ]
  },
  {
   "cell_type": "markdown",
   "metadata": {},
   "source": [
    "##### Define\n",
    "- convert using `pd.to_datetime`"
   ]
  },
  {
   "cell_type": "markdown",
   "metadata": {},
   "source": [
    "##### Code"
   ]
  },
  {
   "cell_type": "code",
   "execution_count": 113,
   "metadata": {},
   "outputs": [
    {
     "data": {
      "text/plain": [
       "0   2016-02-18\n",
       "1   2015-11-19\n",
       "2   2015-09-21\n",
       "3   2015-03-20\n",
       "4   2007-02-22\n",
       "Name: date, dtype: datetime64[ns]"
      ]
     },
     "execution_count": 113,
     "metadata": {},
     "output_type": "execute_result"
    }
   ],
   "source": [
    "# convert the date strings to date time objects\n",
    "player_attributes_df_clean[\"date\"] = pd.to_datetime(player_attributes_df_clean.date)\n",
    "player_attributes_df_clean.date.head()"
   ]
  },
  {
   "cell_type": "markdown",
   "metadata": {},
   "source": [
    "##### Test"
   ]
  },
  {
   "cell_type": "code",
   "execution_count": 114,
   "metadata": {},
   "outputs": [
    {
     "data": {
      "text/plain": [
       "dtype('<M8[ns]')"
      ]
     },
     "execution_count": 114,
     "metadata": {},
     "output_type": "execute_result"
    }
   ],
   "source": [
    "player_attributes_df_clean.date.dtype"
   ]
  },
  {
   "cell_type": "markdown",
   "metadata": {},
   "source": [
    "#### missing a `season` column"
   ]
  },
  {
   "cell_type": "markdown",
   "metadata": {},
   "source": [
    "##### Define"
   ]
  },
  {
   "cell_type": "markdown",
   "metadata": {},
   "source": [
    "- create from date column"
   ]
  },
  {
   "cell_type": "markdown",
   "metadata": {},
   "source": [
    "##### Code"
   ]
  },
  {
   "cell_type": "code",
   "execution_count": 115,
   "metadata": {},
   "outputs": [
    {
     "data": {
      "text/plain": [
       "CategoricalDtype(categories=['2008/2009', '2009/2010', '2010/2011', '2011/2012',\n",
       "                  '2012/2013', '2013/2014', '2014/2015', '2015/2016'],\n",
       ", ordered=True)"
      ]
     },
     "execution_count": 115,
     "metadata": {},
     "output_type": "execute_result"
    }
   ],
   "source": [
    "season_categories"
   ]
  },
  {
   "cell_type": "code",
   "execution_count": 116,
   "metadata": {},
   "outputs": [
    {
     "data": {
      "text/plain": [
       "('2007-02-22 00:00:00', '2016-07-07 00:00:00')"
      ]
     },
     "execution_count": 116,
     "metadata": {},
     "output_type": "execute_result"
    }
   ],
   "source": [
    "player_attributes_df.date.min(), player_attributes_df.date.max()"
   ]
  },
  {
   "cell_type": "markdown",
   "metadata": {},
   "source": [
    "**Rule**: from january up to and including july is the season that started the previous summer, august to december is the season that started the current year"
   ]
  },
  {
   "cell_type": "code",
   "execution_count": 117,
   "metadata": {},
   "outputs": [],
   "source": [
    "# add a season column to the player attributes df based on the date column\n",
    "def find_season(items, condition):\n",
    "    for item in items:\n",
    "        if condition(item):\n",
    "            return item\n",
    "    return None  # Return None if no match is found\n",
    "\n",
    "\n",
    "def get_season_from_date(date: datetime.datetime) -> Optional[pd.CategoricalDtype]:\n",
    "    \"\"\"\n",
    "    Returns the season category for the supplied date, starting with the 2008/2009 season\n",
    "    \"\"\"\n",
    "    july = 7\n",
    "    if date.year < 2008 or (date.year == 2008 and date.month <= july):\n",
    "        return None\n",
    "\n",
    "    return find_season(season_categories.categories, lambda season: (f\"{date.year}/\" in season and date.month > july) or (f\"/{date.year}\" in season and date.month <= july))"
   ]
  },
  {
   "cell_type": "code",
   "execution_count": 118,
   "metadata": {},
   "outputs": [
    {
     "data": {
      "text/plain": [
       "0    2015/2016\n",
       "1    2015/2016\n",
       "2    2015/2016\n",
       "3    2014/2015\n",
       "4          NaN\n",
       "Name: season, dtype: category\n",
       "Categories (8, object): ['2008/2009' < '2009/2010' < '2010/2011' < '2011/2012' < '2012/2013' < '2013/2014' < '2014/2015' < '2015/2016']"
      ]
     },
     "execution_count": 118,
     "metadata": {},
     "output_type": "execute_result"
    }
   ],
   "source": [
    "player_attributes_df_clean[\"season\"] = player_attributes_df_clean.date.apply(get_season_from_date).astype(season_categories)\n",
    "player_attributes_df_clean.season.head()"
   ]
  },
  {
   "cell_type": "markdown",
   "metadata": {},
   "source": [
    "##### Test"
   ]
  },
  {
   "cell_type": "code",
   "execution_count": 119,
   "metadata": {},
   "outputs": [
    {
     "data": {
      "text/plain": [
       "CategoricalDtype(categories=['2008/2009', '2009/2010', '2010/2011', '2011/2012',\n",
       "                  '2012/2013', '2013/2014', '2014/2015', '2015/2016'],\n",
       ", ordered=True)"
      ]
     },
     "execution_count": 119,
     "metadata": {},
     "output_type": "execute_result"
    }
   ],
   "source": [
    "assert \"season\" in player_attributes_df_clean.columns\n",
    "player_attributes_df_clean.season.dtype"
   ]
  },
  {
   "cell_type": "markdown",
   "metadata": {},
   "source": [
    "#### preferred foot should be categorical"
   ]
  },
  {
   "cell_type": "markdown",
   "metadata": {},
   "source": [
    "##### Define"
   ]
  },
  {
   "cell_type": "markdown",
   "metadata": {},
   "source": [
    "- convert to categorical (should be unordered)"
   ]
  },
  {
   "cell_type": "markdown",
   "metadata": {},
   "source": [
    "##### Code"
   ]
  },
  {
   "cell_type": "code",
   "execution_count": 120,
   "metadata": {},
   "outputs": [
    {
     "data": {
      "text/plain": [
       "right    138409\n",
       "left      44733\n",
       "Name: preferred_foot, dtype: int64"
      ]
     },
     "execution_count": 120,
     "metadata": {},
     "output_type": "execute_result"
    }
   ],
   "source": [
    "player_attributes_df_clean.preferred_foot.value_counts()"
   ]
  },
  {
   "cell_type": "code",
   "execution_count": 121,
   "metadata": {},
   "outputs": [
    {
     "data": {
      "text/plain": [
       "CategoricalDtype(categories=['left', 'right'], ordered=False)"
      ]
     },
     "execution_count": 121,
     "metadata": {},
     "output_type": "execute_result"
    }
   ],
   "source": [
    "preferred_foot_categories = pd.CategoricalDtype(categories=set(filter(None, player_attributes_df_clean.preferred_foot.unique())), ordered=False)\n",
    "preferred_foot_categories"
   ]
  },
  {
   "cell_type": "code",
   "execution_count": 122,
   "metadata": {},
   "outputs": [],
   "source": [
    "player_attributes_df_clean[\"preferred_foot\"] = player_attributes_df_clean.preferred_foot.astype(preferred_foot_categories)"
   ]
  },
  {
   "cell_type": "markdown",
   "metadata": {},
   "source": [
    "##### Test"
   ]
  },
  {
   "cell_type": "code",
   "execution_count": 123,
   "metadata": {},
   "outputs": [
    {
     "data": {
      "text/plain": [
       "CategoricalDtype(categories=['left', 'right'], ordered=False)"
      ]
     },
     "execution_count": 123,
     "metadata": {},
     "output_type": "execute_result"
    }
   ],
   "source": [
    "player_attributes_df_clean.preferred_foot.dtype"
   ]
  },
  {
   "cell_type": "markdown",
   "metadata": {},
   "source": [
    "#### all attributes missing for some rows"
   ]
  },
  {
   "cell_type": "markdown",
   "metadata": {},
   "source": [
    "##### Define"
   ]
  },
  {
   "cell_type": "markdown",
   "metadata": {},
   "source": [
    "- drop all rows that have null values"
   ]
  },
  {
   "cell_type": "markdown",
   "metadata": {},
   "source": [
    "##### Code"
   ]
  },
  {
   "cell_type": "code",
   "execution_count": 124,
   "metadata": {},
   "outputs": [
    {
     "data": {
      "text/plain": [
       "39"
      ]
     },
     "execution_count": 124,
     "metadata": {},
     "output_type": "execute_result"
    }
   ],
   "source": [
    "# establish the number of columns\n",
    "num_attributes = player_attributes_df_clean.iloc[:, attributes_start_idx:].columns.size\n",
    "num_attributes"
   ]
  },
  {
   "cell_type": "code",
   "execution_count": 125,
   "metadata": {},
   "outputs": [
    {
     "data": {
      "text/plain": [
       "736"
      ]
     },
     "execution_count": 125,
     "metadata": {},
     "output_type": "execute_result"
    }
   ],
   "source": [
    "# find the number of rows that have all values missing\n",
    "(player_attributes_df_clean.iloc[:, attributes_start_idx:].isna().sum(axis=1) == num_attributes).sum()"
   ]
  },
  {
   "cell_type": "code",
   "execution_count": 126,
   "metadata": {},
   "outputs": [],
   "source": [
    "# delete them\n",
    "player_attributes_df_clean.drop(player_attributes_df_clean[player_attributes_df_clean.iloc[:, attributes_start_idx:].isna().sum(axis=1) == num_attributes].index, inplace=True)"
   ]
  },
  {
   "cell_type": "markdown",
   "metadata": {},
   "source": [
    "##### Test"
   ]
  },
  {
   "cell_type": "code",
   "execution_count": 127,
   "metadata": {},
   "outputs": [],
   "source": [
    "assert (player_attributes_df_clean.iloc[:, attributes_start_idx:].isna().sum(axis=1) == num_attributes).sum() == 0"
   ]
  },
  {
   "cell_type": "markdown",
   "metadata": {},
   "source": [
    "#### attacking work rate null for some players"
   ]
  },
  {
   "cell_type": "markdown",
   "metadata": {},
   "source": [
    "##### Define"
   ]
  },
  {
   "cell_type": "markdown",
   "metadata": {},
   "source": [
    "- drop rows where this value is null"
   ]
  },
  {
   "cell_type": "markdown",
   "metadata": {},
   "source": [
    "##### Code"
   ]
  },
  {
   "cell_type": "code",
   "execution_count": 128,
   "metadata": {},
   "outputs": [],
   "source": [
    "player_attributes_df_clean.drop(player_attributes_df_clean[player_attributes_df_clean.attacking_work_rate.isna()].index, inplace=True)"
   ]
  },
  {
   "cell_type": "markdown",
   "metadata": {},
   "source": [
    "##### Test"
   ]
  },
  {
   "cell_type": "code",
   "execution_count": 129,
   "metadata": {},
   "outputs": [
    {
     "data": {
      "text/plain": [
       "0"
      ]
     },
     "execution_count": 129,
     "metadata": {},
     "output_type": "execute_result"
    }
   ],
   "source": [
    "player_attributes_df_clean.attacking_work_rate.isna().sum()"
   ]
  },
  {
   "cell_type": "markdown",
   "metadata": {},
   "source": [
    "#### attacking work rate has strange values"
   ]
  },
  {
   "cell_type": "markdown",
   "metadata": {},
   "source": [
    "##### Define"
   ]
  },
  {
   "cell_type": "markdown",
   "metadata": {},
   "source": [
    "- find common ground between the values that are mixed but sensible\n",
    "- normalize those values to make them uniform\n",
    "- convert nonsensical values to null\n",
    "- drop rows where this value is null"
   ]
  },
  {
   "cell_type": "markdown",
   "metadata": {},
   "source": [
    "##### Code"
   ]
  },
  {
   "cell_type": "code",
   "execution_count": 130,
   "metadata": {},
   "outputs": [
    {
     "data": {
      "text/plain": [
       "medium    125070\n",
       "high       42823\n",
       "low         8569\n",
       "None        3639\n",
       "norm         348\n",
       "y            106\n",
       "le           104\n",
       "stoc          89\n",
       "Name: attacking_work_rate, dtype: int64"
      ]
     },
     "execution_count": 130,
     "metadata": {},
     "output_type": "execute_result"
    }
   ],
   "source": [
    "player_attributes_df_clean.attacking_work_rate.value_counts()"
   ]
  },
  {
   "cell_type": "code",
   "execution_count": 131,
   "metadata": {},
   "outputs": [],
   "source": [
    "players_attacking_work_rate_mapping = {\n",
    "    \"medium\": \"medium\",\n",
    "    \"high\": \"high\",\n",
    "    \"low\": \"low\",\n",
    "    \"norm\": \"medium\",\n",
    "    # all these other values should be None\n",
    "    \"stoc\": None,\n",
    "    \"y\": None,\n",
    "    \"le\": None,\n",
    "    \"None\": None,\n",
    "}"
   ]
  },
  {
   "cell_type": "code",
   "execution_count": 132,
   "metadata": {},
   "outputs": [],
   "source": [
    "player_attributes_df_clean[\"attacking_work_rate\"] = player_attributes_df_clean.attacking_work_rate.apply(lambda x: players_attacking_work_rate_mapping[x])"
   ]
  },
  {
   "cell_type": "code",
   "execution_count": 133,
   "metadata": {},
   "outputs": [],
   "source": [
    "player_attributes_df_clean.drop(player_attributes_df_clean[player_attributes_df_clean.attacking_work_rate.isna()].index, inplace=True)"
   ]
  },
  {
   "cell_type": "markdown",
   "metadata": {},
   "source": [
    "##### Test"
   ]
  },
  {
   "cell_type": "code",
   "execution_count": 134,
   "metadata": {},
   "outputs": [
    {
     "data": {
      "text/plain": [
       "medium    125418\n",
       "high       42823\n",
       "low         8569\n",
       "Name: attacking_work_rate, dtype: int64"
      ]
     },
     "execution_count": 134,
     "metadata": {},
     "output_type": "execute_result"
    }
   ],
   "source": [
    "player_attributes_df_clean.attacking_work_rate.value_counts()"
   ]
  },
  {
   "cell_type": "code",
   "execution_count": 135,
   "metadata": {},
   "outputs": [
    {
     "data": {
      "text/plain": [
       "0"
      ]
     },
     "execution_count": 135,
     "metadata": {},
     "output_type": "execute_result"
    }
   ],
   "source": [
    "player_attributes_df_clean.attacking_work_rate.isna().sum()"
   ]
  },
  {
   "cell_type": "markdown",
   "metadata": {},
   "source": [
    "#### defensive work rate has strange values"
   ]
  },
  {
   "cell_type": "markdown",
   "metadata": {},
   "source": [
    "##### Define"
   ]
  },
  {
   "cell_type": "markdown",
   "metadata": {},
   "source": [
    "- find common ground between the values that are mixed but sensible\n",
    "- normalize those values to make them uniform\n",
    "- convert nonsensical values to null\n",
    "- drop rows where this value is null"
   ]
  },
  {
   "cell_type": "markdown",
   "metadata": {},
   "source": [
    "##### Code"
   ]
  },
  {
   "cell_type": "code",
   "execution_count": 136,
   "metadata": {},
   "outputs": [
    {
     "data": {
      "text/plain": [
       "medium    130764\n",
       "high       26972\n",
       "low        18425\n",
       "ormal        348\n",
       "2             89\n",
       "1             44\n",
       "6             34\n",
       "5             28\n",
       "4             27\n",
       "3             23\n",
       "0             20\n",
       "9             17\n",
       "7             14\n",
       "8              5\n",
       "Name: defensive_work_rate, dtype: int64"
      ]
     },
     "execution_count": 136,
     "metadata": {},
     "output_type": "execute_result"
    }
   ],
   "source": [
    "player_attributes_df_clean.defensive_work_rate.value_counts()"
   ]
  },
  {
   "cell_type": "code",
   "execution_count": 137,
   "metadata": {},
   "outputs": [],
   "source": [
    "players_defensive_work_rate_mapping = {\n",
    "    \"medium\": \"medium\",\n",
    "    \"high\": \"high\",\n",
    "    \"low\": \"low\",\n",
    "    \"ormal\": \"medium\",\n",
    "    \"2\": None,\n",
    "    \"1\": None,\n",
    "    \"6\": None,\n",
    "    \"5\": None,\n",
    "    \"4\": None,\n",
    "    \"3\": None,\n",
    "    \"0\": None,\n",
    "    \"9\": None,\n",
    "    \"7\": None,\n",
    "    \"8\": None,\n",
    "}"
   ]
  },
  {
   "cell_type": "code",
   "execution_count": 138,
   "metadata": {},
   "outputs": [],
   "source": [
    "player_attributes_df_clean[\"defensive_work_rate\"] = player_attributes_df_clean.defensive_work_rate.apply(lambda x: players_defensive_work_rate_mapping[x])"
   ]
  },
  {
   "cell_type": "code",
   "execution_count": 139,
   "metadata": {},
   "outputs": [],
   "source": [
    "player_attributes_df_clean.drop(player_attributes_df_clean[player_attributes_df_clean.defensive_work_rate.isna()].index, inplace=True)"
   ]
  },
  {
   "cell_type": "markdown",
   "metadata": {},
   "source": [
    "##### Test"
   ]
  },
  {
   "cell_type": "code",
   "execution_count": 140,
   "metadata": {},
   "outputs": [
    {
     "data": {
      "text/plain": [
       "medium    131112\n",
       "high       26972\n",
       "low        18425\n",
       "Name: defensive_work_rate, dtype: int64"
      ]
     },
     "execution_count": 140,
     "metadata": {},
     "output_type": "execute_result"
    }
   ],
   "source": [
    "player_attributes_df_clean.defensive_work_rate.value_counts()"
   ]
  },
  {
   "cell_type": "code",
   "execution_count": 141,
   "metadata": {},
   "outputs": [
    {
     "data": {
      "text/plain": [
       "0"
      ]
     },
     "execution_count": 141,
     "metadata": {},
     "output_type": "execute_result"
    }
   ],
   "source": [
    "player_attributes_df_clean.defensive_work_rate.isna().sum()"
   ]
  },
  {
   "cell_type": "markdown",
   "metadata": {},
   "source": [
    "#### attacking work rate should be categorical"
   ]
  },
  {
   "cell_type": "markdown",
   "metadata": {},
   "source": [
    "##### Define"
   ]
  },
  {
   "cell_type": "markdown",
   "metadata": {},
   "source": [
    "- convert the values to categorical"
   ]
  },
  {
   "cell_type": "markdown",
   "metadata": {},
   "source": [
    "##### Code"
   ]
  },
  {
   "cell_type": "code",
   "execution_count": 142,
   "metadata": {},
   "outputs": [],
   "source": [
    "work_rate_categories = pd.CategoricalDtype(categories=[\"low\", \"medium\", \"high\"], ordered=True)\n",
    "player_attributes_df_clean[\"attacking_work_rate\"] = player_attributes_df_clean.attacking_work_rate.astype(work_rate_categories)"
   ]
  },
  {
   "cell_type": "markdown",
   "metadata": {},
   "source": [
    "##### Test"
   ]
  },
  {
   "cell_type": "code",
   "execution_count": 143,
   "metadata": {},
   "outputs": [
    {
     "data": {
      "text/plain": [
       "CategoricalDtype(categories=['low', 'medium', 'high'], ordered=True)"
      ]
     },
     "execution_count": 143,
     "metadata": {},
     "output_type": "execute_result"
    }
   ],
   "source": [
    "player_attributes_df_clean.attacking_work_rate.dtype"
   ]
  },
  {
   "cell_type": "markdown",
   "metadata": {},
   "source": [
    "#### defensive work rate should be categorical"
   ]
  },
  {
   "cell_type": "markdown",
   "metadata": {},
   "source": [
    "##### Define"
   ]
  },
  {
   "cell_type": "markdown",
   "metadata": {},
   "source": [
    "- convert to categorical"
   ]
  },
  {
   "cell_type": "markdown",
   "metadata": {},
   "source": [
    "##### Code"
   ]
  },
  {
   "cell_type": "code",
   "execution_count": 144,
   "metadata": {},
   "outputs": [],
   "source": [
    "player_attributes_df_clean[\"defensive_work_rate\"] = player_attributes_df_clean.defensive_work_rate.astype(work_rate_categories)"
   ]
  },
  {
   "cell_type": "markdown",
   "metadata": {},
   "source": [
    "##### Test"
   ]
  },
  {
   "cell_type": "code",
   "execution_count": 145,
   "metadata": {},
   "outputs": [
    {
     "data": {
      "text/plain": [
       "CategoricalDtype(categories=['low', 'medium', 'high'], ordered=True)"
      ]
     },
     "execution_count": 145,
     "metadata": {},
     "output_type": "execute_result"
    }
   ],
   "source": [
    "player_attributes_df_clean.defensive_work_rate.dtype"
   ]
  },
  {
   "cell_type": "markdown",
   "metadata": {},
   "source": [
    "### team attributes table"
   ]
  },
  {
   "cell_type": "markdown",
   "metadata": {},
   "source": [
    "#### `date` column should be datetime"
   ]
  },
  {
   "cell_type": "markdown",
   "metadata": {},
   "source": [
    "##### Define"
   ]
  },
  {
   "cell_type": "markdown",
   "metadata": {},
   "source": [
    "- convert to datetime using `pd.to_datetime`"
   ]
  },
  {
   "cell_type": "markdown",
   "metadata": {},
   "source": [
    "##### Code"
   ]
  },
  {
   "cell_type": "code",
   "execution_count": 146,
   "metadata": {},
   "outputs": [],
   "source": [
    "team_attributes_df_clean[\"date\"] = pd.to_datetime(team_attributes_df_clean.date)"
   ]
  },
  {
   "cell_type": "markdown",
   "metadata": {},
   "source": [
    "##### Test"
   ]
  },
  {
   "cell_type": "code",
   "execution_count": 147,
   "metadata": {},
   "outputs": [
    {
     "data": {
      "text/plain": [
       "dtype('<M8[ns]')"
      ]
     },
     "execution_count": 147,
     "metadata": {},
     "output_type": "execute_result"
    }
   ],
   "source": [
    "team_attributes_df_clean.date.dtype"
   ]
  },
  {
   "cell_type": "markdown",
   "metadata": {},
   "source": [
    "#### missing a `season` column"
   ]
  },
  {
   "cell_type": "markdown",
   "metadata": {},
   "source": [
    "##### Define"
   ]
  },
  {
   "cell_type": "markdown",
   "metadata": {},
   "source": [
    "- create from date column\n",
    "- make it categorical"
   ]
  },
  {
   "cell_type": "markdown",
   "metadata": {},
   "source": [
    "##### Code"
   ]
  },
  {
   "cell_type": "code",
   "execution_count": 148,
   "metadata": {},
   "outputs": [],
   "source": [
    "team_attributes_df_clean[\"season\"] = team_attributes_df_clean.date.apply(get_season_from_date).astype(season_categories)"
   ]
  },
  {
   "cell_type": "markdown",
   "metadata": {},
   "source": [
    "##### Test"
   ]
  },
  {
   "cell_type": "code",
   "execution_count": 149,
   "metadata": {},
   "outputs": [
    {
     "data": {
      "text/plain": [
       "CategoricalDtype(categories=['2008/2009', '2009/2010', '2010/2011', '2011/2012',\n",
       "                  '2012/2013', '2013/2014', '2014/2015', '2015/2016'],\n",
       ", ordered=True)"
      ]
     },
     "execution_count": 149,
     "metadata": {},
     "output_type": "execute_result"
    }
   ],
   "source": [
    "team_attributes_df_clean.season.dtype"
   ]
  },
  {
   "cell_type": "markdown",
   "metadata": {},
   "source": [
    "#### all the columns that end with `Class` should be categorical"
   ]
  },
  {
   "cell_type": "markdown",
   "metadata": {},
   "source": [
    "##### Define"
   ]
  },
  {
   "cell_type": "markdown",
   "metadata": {},
   "source": [
    "- for each of them get their unique values\n",
    "- create a categorical variable (ordered if needed)\n",
    "- convert them to that variable"
   ]
  },
  {
   "cell_type": "markdown",
   "metadata": {},
   "source": [
    "##### Code"
   ]
  },
  {
   "cell_type": "code",
   "execution_count": 150,
   "metadata": {},
   "outputs": [
    {
     "name": "stdout",
     "output_type": "stream",
     "text": [
      "\"buildUpPlaySpeedClass\": (['Balanced' 'Slow' 'Fast'], True),\n",
      "\"buildUpPlayDribblingClass\": (['Little' 'Normal' 'Lots'], True),\n",
      "\"buildUpPlayPassingClass\": (['Mixed' 'Short' 'Long'], True),\n",
      "\"buildUpPlayPositioningClass\": (['Organised' 'Free Form'], True),\n",
      "\"chanceCreationPassingClass\": (['Normal' 'Safe' 'Risky'], True),\n",
      "\"chanceCreationCrossingClass\": (['Normal' 'Little' 'Lots'], True),\n",
      "\"chanceCreationShootingClass\": (['Normal' 'Lots' 'Little'], True),\n",
      "\"chanceCreationPositioningClass\": (['Organised' 'Free Form'], True),\n",
      "\"defencePressureClass\": (['Deep' 'Medium' 'High'], True),\n",
      "\"defenceAggressionClass\": (['Double' 'Press' 'Contain'], True),\n",
      "\"defenceTeamWidthClass\": (['Narrow' 'Normal' 'Wide'], True),\n",
      "\"defenceDefenderLineClass\": (['Offside Trap' 'Cover'], True),\n"
     ]
    }
   ],
   "source": [
    "for col_name in filter(lambda x: x.endswith(\"Class\"), team_attributes_df_clean.columns):\n",
    "    print(f'\"{col_name}\": ({team_attributes_df_clean[col_name].unique()}, True),')"
   ]
  },
  {
   "cell_type": "code",
   "execution_count": 151,
   "metadata": {},
   "outputs": [],
   "source": [
    "team_attrs_class_columns_mapping = {\n",
    "    \"buildUpPlaySpeedClass\": (['2. Balanced', '1. Slow', '3. Fast'], True),\n",
    "    \"buildUpPlayDribblingClass\": (['1. Little', '2. Normal', '3. Lots'], True),\n",
    "    \"buildUpPlayPassingClass\": (['2. Mixed', '1. Short', '3. Long'], True),\n",
    "    \"buildUpPlayPositioningClass\": (['1. Organised', '1. Free Form'], False),\n",
    "    \"chanceCreationPassingClass\": (['2. Normal', '1. Safe', '3. Risky'], True),\n",
    "    \"chanceCreationCrossingClass\": (['2. Normal', '1. Little', '3. Lots'], True),\n",
    "    \"chanceCreationShootingClass\": (['2. Normal', '3. Lots', '1. Little'], True),\n",
    "    \"chanceCreationPositioningClass\": (['1. Organised', '1. Free Form'], False),\n",
    "    \"defencePressureClass\": (['1. Deep', '2. Medium', '3. High'], True),\n",
    "    \"defenceAggressionClass\": (['3. Double', '2. Press', '1. Contain'], True),\n",
    "    \"defenceTeamWidthClass\": (['1. Narrow', '2. Normal', '3. Wide'], True),\n",
    "    \"defenceDefenderLineClass\": (['2. Offside Trap', '1. Cover'], True),\n",
    "}"
   ]
  },
  {
   "cell_type": "code",
   "execution_count": 152,
   "metadata": {},
   "outputs": [],
   "source": [
    "for key, value in team_attrs_class_columns_mapping.items():\n",
    "    sorted_list = sorted(value[0])\n",
    "    ordered = value[1]\n",
    "    cat_variable = pd.CategoricalDtype([item[3:] for item in sorted_list], ordered=ordered)\n",
    "    team_attributes_df_clean[key] = team_attributes_df_clean[key].astype(cat_variable)"
   ]
  },
  {
   "cell_type": "markdown",
   "metadata": {},
   "source": [
    "##### Test"
   ]
  },
  {
   "cell_type": "code",
   "execution_count": 153,
   "metadata": {},
   "outputs": [
    {
     "name": "stdout",
     "output_type": "stream",
     "text": [
      "CategoricalDtype(categories=['Contain', 'Press', 'Double'], ordered=True)\n"
     ]
    }
   ],
   "source": [
    "pprint(team_attributes_df_clean.defenceAggressionClass.dtype)"
   ]
  },
  {
   "cell_type": "code",
   "execution_count": 154,
   "metadata": {},
   "outputs": [
    {
     "name": "stdout",
     "output_type": "stream",
     "text": [
      "CategoricalDtype(categories=['Slow', 'Balanced', 'Fast'], ordered=True)\n",
      "CategoricalDtype(categories=['Little', 'Normal', 'Lots'], ordered=True)\n",
      "CategoricalDtype(categories=['Short', 'Mixed', 'Long'], ordered=True)\n",
      "CategoricalDtype(categories=['Free Form', 'Organised'], ordered=False)\n",
      "CategoricalDtype(categories=['Safe', 'Normal', 'Risky'], ordered=True)\n",
      "CategoricalDtype(categories=['Little', 'Normal', 'Lots'], ordered=True)\n",
      "CategoricalDtype(categories=['Little', 'Normal', 'Lots'], ordered=True)\n",
      "CategoricalDtype(categories=['Free Form', 'Organised'], ordered=False)\n",
      "CategoricalDtype(categories=['Deep', 'Medium', 'High'], ordered=True)\n",
      "CategoricalDtype(categories=['Contain', 'Press', 'Double'], ordered=True)\n",
      "CategoricalDtype(categories=['Narrow', 'Normal', 'Wide'], ordered=True)\n",
      "CategoricalDtype(categories=['Cover', 'Offside Trap'], ordered=True)\n"
     ]
    }
   ],
   "source": [
    "for key in team_attrs_class_columns_mapping.keys():\n",
    "    pprint(team_attributes_df_clean[key].dtype)"
   ]
  },
  {
   "cell_type": "markdown",
   "metadata": {},
   "source": [
    "#### `buildUpPlayDribbling` has (a lot of) null values"
   ]
  },
  {
   "cell_type": "markdown",
   "metadata": {},
   "source": [
    "##### Define"
   ]
  },
  {
   "cell_type": "markdown",
   "metadata": {},
   "source": [
    "- drop the column"
   ]
  },
  {
   "cell_type": "markdown",
   "metadata": {},
   "source": [
    "##### Code"
   ]
  },
  {
   "cell_type": "code",
   "execution_count": 155,
   "metadata": {},
   "outputs": [],
   "source": [
    "team_attributes_df_clean.drop([\"buildUpPlayDribbling\"], axis=1, inplace=True)"
   ]
  },
  {
   "cell_type": "markdown",
   "metadata": {},
   "source": [
    "##### Test"
   ]
  },
  {
   "cell_type": "code",
   "execution_count": 156,
   "metadata": {},
   "outputs": [],
   "source": [
    "assert \"buildUpPlayDribbling\" not in team_attributes_df_clean.columns"
   ]
  },
  {
   "cell_type": "markdown",
   "metadata": {},
   "source": [
    "### champs league table"
   ]
  },
  {
   "cell_type": "markdown",
   "metadata": {},
   "source": [
    "#### contains data for years that are not part of our period of interest"
   ]
  },
  {
   "cell_type": "markdown",
   "metadata": {},
   "source": [
    "##### Define"
   ]
  },
  {
   "cell_type": "markdown",
   "metadata": {},
   "source": [
    "- those years should be removed"
   ]
  },
  {
   "cell_type": "markdown",
   "metadata": {},
   "source": [
    "##### Code"
   ]
  },
  {
   "cell_type": "code",
   "execution_count": 157,
   "metadata": {},
   "outputs": [],
   "source": [
    "champs_league_hist_df_clean = champs_league_hist_df_clean[champs_league_hist_df_clean.year.isin(top_5_leagues_matches_df_clean.date.dt.year.unique())]"
   ]
  },
  {
   "cell_type": "markdown",
   "metadata": {},
   "source": [
    "##### Test"
   ]
  },
  {
   "cell_type": "code",
   "execution_count": 158,
   "metadata": {},
   "outputs": [],
   "source": [
    "assert champs_league_hist_df_clean.year.unique().size == top_5_leagues_matches_df_clean.date.dt.year.unique().size"
   ]
  },
  {
   "cell_type": "markdown",
   "metadata": {},
   "source": [
    "#### order assigned to `progress` values is not consistent eg `5. Last 16` and `6. Last 16`"
   ]
  },
  {
   "cell_type": "markdown",
   "metadata": {},
   "source": [
    "##### Define"
   ]
  },
  {
   "cell_type": "markdown",
   "metadata": {},
   "source": [
    "- create a dictionary with the correct order\n",
    "- use that dictionary to replace the values in the column\n",
    "- remove the numbers from the values"
   ]
  },
  {
   "cell_type": "markdown",
   "metadata": {},
   "source": [
    "##### Code"
   ]
  },
  {
   "cell_type": "code",
   "execution_count": 159,
   "metadata": {},
   "outputs": [
    {
     "data": {
      "text/plain": [
       "array(['1. Winner', '2. Runner Up', '3. Semifinalist',\n",
       "       '4. Quarterfinalist', '5. Last 16', '7. Group Stage'], dtype=object)"
      ]
     },
     "execution_count": 159,
     "metadata": {},
     "output_type": "execute_result"
    }
   ],
   "source": [
    "champs_league_hist_df_clean.progress.unique()"
   ]
  },
  {
   "cell_type": "markdown",
   "metadata": {},
   "source": [
    "Turns out all the inconsistent values got removed once the rows for other years were removed."
   ]
  },
  {
   "cell_type": "markdown",
   "metadata": {},
   "source": [
    "#### `progress` should be categorical"
   ]
  },
  {
   "cell_type": "markdown",
   "metadata": {},
   "source": [
    "##### Define"
   ]
  },
  {
   "cell_type": "markdown",
   "metadata": {},
   "source": [
    "- convert to categorical"
   ]
  },
  {
   "cell_type": "markdown",
   "metadata": {},
   "source": [
    "##### Code"
   ]
  },
  {
   "cell_type": "code",
   "execution_count": 160,
   "metadata": {},
   "outputs": [
    {
     "data": {
      "text/plain": [
       "CategoricalDtype(categories=['Group Stage', 'Last 16', 'Quarterfinalist', 'Semifinalist',\n",
       "                  'Runner Up', 'Winner'],\n",
       ", ordered=True)"
      ]
     },
     "execution_count": 160,
     "metadata": {},
     "output_type": "execute_result"
    }
   ],
   "source": [
    "champs_lg_stages_categories = pd.CategoricalDtype(categories=[stage[3:] for stage in sorted(champs_league_hist_df_clean.progress.unique())[::-1]], ordered=True)\n",
    "champs_lg_stages_categories"
   ]
  },
  {
   "cell_type": "code",
   "execution_count": 161,
   "metadata": {},
   "outputs": [],
   "source": [
    "champs_league_hist_df_clean[\"progress\"] = champs_league_hist_df_clean.progress.str.slice(3).astype(champs_lg_stages_categories)"
   ]
  },
  {
   "cell_type": "markdown",
   "metadata": {},
   "source": [
    "##### Test"
   ]
  },
  {
   "cell_type": "code",
   "execution_count": 162,
   "metadata": {},
   "outputs": [
    {
     "data": {
      "text/plain": [
       "CategoricalDtype(categories=['Group Stage', 'Last 16', 'Quarterfinalist', 'Semifinalist',\n",
       "                  'Runner Up', 'Winner'],\n",
       ", ordered=True)"
      ]
     },
     "execution_count": 162,
     "metadata": {},
     "output_type": "execute_result"
    }
   ],
   "source": [
    "champs_league_hist_df_clean.progress.dtype"
   ]
  },
  {
   "cell_type": "markdown",
   "metadata": {},
   "source": [
    "#### missing team api id column"
   ]
  },
  {
   "cell_type": "markdown",
   "metadata": {},
   "source": [
    "##### Define"
   ]
  },
  {
   "cell_type": "markdown",
   "metadata": {},
   "source": [
    "- find all the teams in the teams table that have a matching name to the teams in the champs league table\n",
    "- set the team api id for those teams in the champs league table, set others to null\n",
    "- for the teams without an API ID, manually create a mapping for their names to whatever their API ID is\n",
    "- use the mapping to set their API IDs in the champs league table"
   ]
  },
  {
   "cell_type": "markdown",
   "metadata": {},
   "source": [
    "##### Code"
   ]
  },
  {
   "cell_type": "code",
   "execution_count": 163,
   "metadata": {},
   "outputs": [
    {
     "data": {
      "text/plain": [
       "Index(['id', 'team_api_id', 'team_fifa_api_id', 'team_long_name',\n",
       "       'team_short_name'],\n",
       "      dtype='object')"
      ]
     },
     "execution_count": 163,
     "metadata": {},
     "output_type": "execute_result"
    }
   ],
   "source": [
    "teams_df_clean.columns"
   ]
  },
  {
   "cell_type": "code",
   "execution_count": 164,
   "metadata": {},
   "outputs": [
    {
     "data": {
      "text/plain": [
       "15"
      ]
     },
     "execution_count": 164,
     "metadata": {},
     "output_type": "execute_result"
    }
   ],
   "source": [
    "teams_df_clean.team_long_name.isin(champs_league_hist_df_clean.team_name.unique()).sum()"
   ]
  },
  {
   "cell_type": "code",
   "execution_count": 165,
   "metadata": {},
   "outputs": [
    {
     "data": {
      "text/html": [
       "<div>\n",
       "<style scoped>\n",
       "    .dataframe tbody tr th:only-of-type {\n",
       "        vertical-align: middle;\n",
       "    }\n",
       "\n",
       "    .dataframe tbody tr th {\n",
       "        vertical-align: top;\n",
       "    }\n",
       "\n",
       "    .dataframe thead th {\n",
       "        text-align: right;\n",
       "    }\n",
       "</style>\n",
       "<table border=\"1\" class=\"dataframe\">\n",
       "  <thead>\n",
       "    <tr style=\"text-align: right;\">\n",
       "      <th></th>\n",
       "      <th>team_api_id</th>\n",
       "      <th>team_long_name</th>\n",
       "    </tr>\n",
       "  </thead>\n",
       "  <tbody>\n",
       "    <tr>\n",
       "      <th>0</th>\n",
       "      <td>10260</td>\n",
       "      <td>Manchester United</td>\n",
       "    </tr>\n",
       "    <tr>\n",
       "      <th>2</th>\n",
       "      <td>9825</td>\n",
       "      <td>Arsenal</td>\n",
       "    </tr>\n",
       "    <tr>\n",
       "      <th>5</th>\n",
       "      <td>8650</td>\n",
       "      <td>Liverpool</td>\n",
       "    </tr>\n",
       "    <tr>\n",
       "      <th>9</th>\n",
       "      <td>8456</td>\n",
       "      <td>Manchester City</td>\n",
       "    </tr>\n",
       "    <tr>\n",
       "      <th>13</th>\n",
       "      <td>8586</td>\n",
       "      <td>Tottenham Hotspur</td>\n",
       "    </tr>\n",
       "    <tr>\n",
       "      <th>18</th>\n",
       "      <td>8455</td>\n",
       "      <td>Chelsea</td>\n",
       "    </tr>\n",
       "    <tr>\n",
       "      <th>42</th>\n",
       "      <td>9748</td>\n",
       "      <td>Olympique Lyonnais</td>\n",
       "    </tr>\n",
       "    <tr>\n",
       "      <th>45</th>\n",
       "      <td>9847</td>\n",
       "      <td>Paris Saint-Germain</td>\n",
       "    </tr>\n",
       "    <tr>\n",
       "      <th>72</th>\n",
       "      <td>9789</td>\n",
       "      <td>Borussia Dortmund</td>\n",
       "    </tr>\n",
       "    <tr>\n",
       "      <th>102</th>\n",
       "      <td>8543</td>\n",
       "      <td>Lazio</td>\n",
       "    </tr>\n",
       "    <tr>\n",
       "      <th>107</th>\n",
       "      <td>8535</td>\n",
       "      <td>Fiorentina</td>\n",
       "    </tr>\n",
       "    <tr>\n",
       "      <th>108</th>\n",
       "      <td>9885</td>\n",
       "      <td>Juventus</td>\n",
       "    </tr>\n",
       "    <tr>\n",
       "      <th>111</th>\n",
       "      <td>8686</td>\n",
       "      <td>Roma</td>\n",
       "    </tr>\n",
       "    <tr>\n",
       "      <th>112</th>\n",
       "      <td>9875</td>\n",
       "      <td>Napoli</td>\n",
       "    </tr>\n",
       "    <tr>\n",
       "      <th>156</th>\n",
       "      <td>8560</td>\n",
       "      <td>Real Sociedad</td>\n",
       "    </tr>\n",
       "  </tbody>\n",
       "</table>\n",
       "</div>"
      ],
      "text/plain": [
       "     team_api_id       team_long_name\n",
       "0          10260    Manchester United\n",
       "2           9825              Arsenal\n",
       "5           8650            Liverpool\n",
       "9           8456      Manchester City\n",
       "13          8586    Tottenham Hotspur\n",
       "18          8455              Chelsea\n",
       "42          9748   Olympique Lyonnais\n",
       "45          9847  Paris Saint-Germain\n",
       "72          9789    Borussia Dortmund\n",
       "102         8543                Lazio\n",
       "107         8535           Fiorentina\n",
       "108         9885             Juventus\n",
       "111         8686                 Roma\n",
       "112         9875               Napoli\n",
       "156         8560        Real Sociedad"
      ]
     },
     "execution_count": 165,
     "metadata": {},
     "output_type": "execute_result"
    }
   ],
   "source": [
    "teams_df_clean[teams_df_clean.team_long_name.isin(champs_league_hist_df_clean.team_name.unique())][[\"team_api_id\", \"team_long_name\"]]"
   ]
  },
  {
   "cell_type": "code",
   "execution_count": 166,
   "metadata": {},
   "outputs": [
    {
     "data": {
      "text/plain": [
       "{'Manchester United': 10260,\n",
       " 'Arsenal': 9825,\n",
       " 'Liverpool': 8650,\n",
       " 'Manchester City': 8456,\n",
       " 'Tottenham Hotspur': 8586,\n",
       " 'Chelsea': 8455,\n",
       " 'Olympique Lyonnais': 9748,\n",
       " 'Paris Saint-Germain': 9847,\n",
       " 'Borussia Dortmund': 9789,\n",
       " 'Lazio': 8543,\n",
       " 'Fiorentina': 8535,\n",
       " 'Juventus': 9885,\n",
       " 'Roma': 8686,\n",
       " 'Napoli': 9875,\n",
       " 'Real Sociedad': 8560}"
      ]
     },
     "execution_count": 166,
     "metadata": {},
     "output_type": "execute_result"
    }
   ],
   "source": [
    "team_name_api_id_mapping = teams_df_clean[teams_df_clean.team_long_name.isin(champs_league_hist_df_clean.team_name.unique())][[\"team_api_id\", \"team_long_name\"]].set_index(\"team_long_name\")[\"team_api_id\"].to_dict()\n",
    "team_name_api_id_mapping"
   ]
  },
  {
   "cell_type": "code",
   "execution_count": 167,
   "metadata": {},
   "outputs": [
    {
     "data": {
      "text/plain": [
       "803     10260.0\n",
       "804      8455.0\n",
       "805     10260.0\n",
       "806      8455.0\n",
       "807      8650.0\n",
       "         ...   \n",
       "1356        NaN\n",
       "1357        NaN\n",
       "1358        NaN\n",
       "1359     9748.0\n",
       "1360        NaN\n",
       "Name: team_api_id, Length: 558, dtype: float64"
      ]
     },
     "execution_count": 167,
     "metadata": {},
     "output_type": "execute_result"
    }
   ],
   "source": [
    "# set these values as team api id in the champs league df\n",
    "champs_league_hist_df_clean[\"team_api_id\"] = champs_league_hist_df_clean.team_name.apply(lambda x: team_name_api_id_mapping.get(x, None))\n",
    "champs_league_hist_df_clean.team_api_id"
   ]
  },
  {
   "cell_type": "code",
   "execution_count": 168,
   "metadata": {},
   "outputs": [
    {
     "data": {
      "text/plain": [
       "NaN        393\n",
       "8455.0      28\n",
       "10260.0     25\n",
       "9825.0      22\n",
       "9885.0      14\n",
       "9748.0      13\n",
       "9847.0      12\n",
       "9789.0      11\n",
       "8686.0      10\n",
       "8456.0      10\n",
       "8650.0       9\n",
       "8535.0       3\n",
       "8586.0       3\n",
       "9875.0       3\n",
       "8543.0       1\n",
       "8560.0       1\n",
       "Name: team_api_id, dtype: int64"
      ]
     },
     "execution_count": 168,
     "metadata": {},
     "output_type": "execute_result"
    }
   ],
   "source": [
    "champs_league_hist_df_clean.team_api_id.value_counts(dropna=False)"
   ]
  },
  {
   "cell_type": "markdown",
   "metadata": {},
   "source": [
    "So there are 393 teams whose names still need to be updated. Possible strategy:\n",
    "- do a fuzzy match on the team names to find the closest match\n",
    "    - first get the unique team names from the champs league table that lack an api id, and from the teams df\n",
    "    - for each unique champs league team name, find the loop over the unique teams df names and find the closest match, and returns its ID\n",
    "    - this leaves a list of IDs, which can be used to update the champs league table\n",
    "- to start, do fuzzy match using a 2-way substring match i.e. if string 1 is a substring of string 2 or vice versa, then they are a match"
   ]
  },
  {
   "cell_type": "code",
   "execution_count": 169,
   "metadata": {},
   "outputs": [
    {
     "data": {
      "text/plain": [
       "array(['Barcelona', 'Schalke 04', 'Fenerbahce', 'Porto', 'Celtic',\n",
       "       'Real Madrid', 'A.C. Milan', 'Internazionale', 'Sevilla',\n",
       "       'Olympiacos', 'Marseille', 'Besiktas', 'Rosenborg BK', 'Valencia',\n",
       "       'Werder Bremen', 'Benfica', 'Shakhtar Donetsk', 'Rangers (IL)',\n",
       "       'Stuttgart', 'Sporting CP', 'Dynamo Kyiv', 'PSV Eindhoven',\n",
       "       'CSKA Moscow', 'Slavia Prague', 'Steaua Bucuresti',\n",
       "       'Bayern Munich', 'Villarreal', 'Athletico Madrid', 'Panathinaikos',\n",
       "       'Bordeaux', 'CFR Cluj', 'Anorthosis', 'Basel', 'Aalborg BK',\n",
       "       'Zenit Saint Petersburg', 'BATE Borisov', 'Maccabi Haifa',\n",
       "       'Wolfsburg', 'Zurich', 'APOEL', 'Debrecen', 'Rubin Kazan',\n",
       "       'Unirea Urziceni', 'Standard Liege', 'AZ Alkmaar', 'Copenhagen',\n",
       "       'Twente', 'Hapoel Tel Aviv', 'Bursaspor', 'Spartak Moscow',\n",
       "       'Zilina', 'Ajax', 'Auxerre', 'Braga', 'FK Partizan',\n",
       "       'Bayer Leverkusen', 'Trabzonspor', 'Lille OSC', 'Otelul Galati',\n",
       "       'Dinamo Zagreb', 'Genk', 'Viktoria Plzen', 'Galatasaray', 'Malaga',\n",
       "       'Montpellier', 'Anderlecht', 'Nordsjaelland', 'Austria Wien',\n",
       "       'Monaco', 'Malmo FF', 'PFC Ludogorets Razgrad', 'Maribor',\n",
       "       'Athletic Bilbao', 'Gent', 'Astana', 'Borussia Monchengladbach',\n",
       "       'Maccabi Tel Aviv'], dtype=object)"
      ]
     },
     "execution_count": 169,
     "metadata": {},
     "output_type": "execute_result"
    }
   ],
   "source": [
    "champs_league_teams_no_api_id = champs_league_hist_df_clean[champs_league_hist_df_clean.team_api_id.isna()].team_name.unique()\n",
    "champs_league_teams_no_api_id"
   ]
  },
  {
   "cell_type": "code",
   "execution_count": 170,
   "metadata": {},
   "outputs": [
    {
     "data": {
      "text/plain": [
       "array(['Manchester United', 'Newcastle United', 'Arsenal',\n",
       "       'West Bromwich Albion', 'Sunderland', 'Liverpool',\n",
       "       'West Ham United', 'Wigan Athletic', 'Aston Villa',\n",
       "       'Manchester City', 'Everton', 'Blackburn Rovers', 'Middlesbrough',\n",
       "       'Tottenham Hotspur', 'Bolton Wanderers', 'Stoke City', 'Hull City',\n",
       "       'Fulham', 'Chelsea', 'Portsmouth', 'Birmingham City',\n",
       "       'Wolverhampton Wanderers', 'Burnley', 'Blackpool', 'Swansea City',\n",
       "       'Queens Park Rangers', 'Norwich City', 'Southampton', 'Reading',\n",
       "       'Crystal Palace', 'Cardiff City', 'Leicester City', 'Bournemouth',\n",
       "       'Watford', 'AJ Auxerre', 'FC Nantes', 'Girondins de Bordeaux',\n",
       "       'SM Caen', 'Le Havre AC', 'OGC Nice', 'Le Mans FC', 'FC Lorient',\n",
       "       'Olympique Lyonnais', 'Toulouse FC', 'AS Monaco',\n",
       "       'Paris Saint-Germain', 'AS Nancy-Lorraine', 'LOSC Lille',\n",
       "       'Stade Rennais FC', 'Olympique de Marseille',\n",
       "       'FC Sochaux-Montbéliard', 'Grenoble Foot 38', 'Valenciennes FC',\n",
       "       'AS Saint-Étienne', 'RC Lens', 'Montpellier Hérault SC',\n",
       "       \"US Boulogne Cote D'Opale\", 'AC Arles-Avignon',\n",
       "       'Stade Brestois 29', 'AC Ajaccio', 'Évian Thonon Gaillard FC',\n",
       "       'Dijon FCO', 'Stade de Reims', 'SC Bastia', 'ES Troyes AC',\n",
       "       'En Avant de Guingamp', 'FC Metz', 'Angers SCO', 'GFC Ajaccio',\n",
       "       'FC Bayern Munich', 'Hamburger SV', 'Bayer 04 Leverkusen',\n",
       "       'Borussia Dortmund', 'FC Schalke 04', 'Hannover 96',\n",
       "       'VfL Wolfsburg', '1. FC Köln', 'Eintracht Frankfurt',\n",
       "       'Hertha BSC Berlin', 'DSC Arminia Bielefeld', 'SV Werder Bremen',\n",
       "       'FC Energie Cottbus', 'TSG 1899 Hoffenheim',\n",
       "       'Borussia Mönchengladbach', 'VfB Stuttgart', 'Karlsruher SC',\n",
       "       'VfL Bochum', 'SC Freiburg', '1. FC Nürnberg', '1. FSV Mainz 05',\n",
       "       '1. FC Kaiserslautern', 'FC St. Pauli', 'FC Augsburg',\n",
       "       'Fortuna Düsseldorf', 'SpVgg Greuther Fürth',\n",
       "       'Eintracht Braunschweig', 'SC Paderborn 07', 'FC Ingolstadt 04',\n",
       "       'SV Darmstadt 98', 'Atalanta', 'Siena', 'Cagliari', 'Lazio',\n",
       "       'Catania', 'Genoa', 'Chievo Verona', 'Reggio Calabria',\n",
       "       'Fiorentina', 'Juventus', 'Milan', 'Bologna', 'Roma', 'Napoli',\n",
       "       'Sampdoria', 'Inter', 'Torino', 'Lecce', 'Udinese', 'Palermo',\n",
       "       'Bari', 'Livorno', 'Parma', 'Cesena', 'Brescia', 'Novara',\n",
       "       'Pescara', 'Hellas Verona', 'Sassuolo', 'Empoli', 'Frosinone',\n",
       "       'Carpi', 'Valencia CF', 'RCD Mallorca', 'CA Osasuna',\n",
       "       'Villarreal CF', 'RC Deportivo de La Coruña', 'Real Madrid CF',\n",
       "       'CD Numancia', 'FC Barcelona', 'Racing Santander', 'Sevilla FC',\n",
       "       'Real Sporting de Gijón', 'Getafe CF', 'Real Betis Balompié',\n",
       "       'RC Recreativo', 'RCD Espanyol', 'Real Valladolid',\n",
       "       'Athletic Club de Bilbao', 'UD Almería', 'Atlético Madrid',\n",
       "       'Málaga CF', 'Xerez Club Deportivo', 'Real Zaragoza',\n",
       "       'CD Tenerife', 'Hércules Club de Fútbol', 'Levante UD',\n",
       "       'Real Sociedad', 'Granada CF', 'Rayo Vallecano',\n",
       "       'RC Celta de Vigo', 'Elche CF', 'SD Eibar', 'Córdoba CF',\n",
       "       'UD Las Palmas'], dtype=object)"
      ]
     },
     "execution_count": 170,
     "metadata": {},
     "output_type": "execute_result"
    }
   ],
   "source": [
    "available_team_names = teams_df_clean.team_long_name.unique()\n",
    "available_team_names"
   ]
  },
  {
   "cell_type": "code",
   "execution_count": 171,
   "metadata": {},
   "outputs": [
    {
     "data": {
      "text/plain": [
       "{'Barcelona': 'FC Barcelona',\n",
       " 'Schalke 04': 'FC Schalke 04',\n",
       " 'Real Madrid': 'Real Madrid CF',\n",
       " 'A.C. Milan': 'Milan',\n",
       " 'Internazionale': 'Inter',\n",
       " 'Sevilla': 'Sevilla FC',\n",
       " 'Marseille': 'Olympique de Marseille',\n",
       " 'Valencia': 'Valencia CF',\n",
       " 'Werder Bremen': 'SV Werder Bremen',\n",
       " 'Stuttgart': 'VfB Stuttgart',\n",
       " 'Bayern Munich': 'FC Bayern Munich',\n",
       " 'Villarreal': 'Villarreal CF',\n",
       " 'Bordeaux': 'Girondins de Bordeaux',\n",
       " 'Wolfsburg': 'VfL Wolfsburg',\n",
       " 'Auxerre': 'AJ Auxerre',\n",
       " 'Montpellier': 'Montpellier Hérault SC',\n",
       " 'Monaco': 'AS Monaco'}"
      ]
     },
     "execution_count": 171,
     "metadata": {},
     "output_type": "execute_result"
    }
   ],
   "source": [
    "champs_lg_name_team_name_mapping = {}\n",
    "for champs_lg_team_name in champs_league_teams_no_api_id:\n",
    "    for _team_name in available_team_names:\n",
    "        if _team_name.lower() in champs_lg_team_name.lower() or champs_lg_team_name.lower() in _team_name.lower():\n",
    "            champs_lg_name_team_name_mapping[champs_lg_team_name] = _team_name\n",
    "\n",
    "champs_lg_name_team_name_mapping"
   ]
  },
  {
   "cell_type": "markdown",
   "metadata": {},
   "source": [
    "That mapping is correct, so we need to add the team api ids to the champs league table."
   ]
  },
  {
   "cell_type": "code",
   "execution_count": 172,
   "metadata": {},
   "outputs": [
    {
     "data": {
      "text/plain": [
       "NaN        208\n",
       "8634.0      37\n",
       "9823.0      32\n",
       "8633.0      32\n",
       "8455.0      28\n",
       "10260.0     25\n",
       "9825.0      22\n",
       "9885.0      14\n",
       "8636.0      14\n",
       "10189.0     13\n",
       "8564.0      13\n",
       "9748.0      13\n",
       "9847.0      12\n",
       "9789.0      11\n",
       "8686.0      10\n",
       "8456.0      10\n",
       "8592.0       9\n",
       "8650.0       9\n",
       "10267.0      7\n",
       "8302.0       5\n",
       "10205.0      4\n",
       "9827.0       4\n",
       "8721.0       4\n",
       "9875.0       3\n",
       "9829.0       3\n",
       "8586.0       3\n",
       "8535.0       3\n",
       "10269.0      3\n",
       "8697.0       3\n",
       "8583.0       1\n",
       "10249.0      1\n",
       "8560.0       1\n",
       "8543.0       1\n",
       "Name: team_api_id, dtype: int64"
      ]
     },
     "execution_count": 172,
     "metadata": {},
     "output_type": "execute_result"
    }
   ],
   "source": [
    "def update_champs_league_team_api_id(team_row) -> int:\n",
    "    team_name = team_row[\"team_name\"]\n",
    "    team_api_id = team_row[\"team_api_id\"]\n",
    "    if team_api_id and not np.isnan(team_api_id):\n",
    "        # this team already has an API ID\n",
    "        return team_row[\"team_api_id\"]\n",
    "    if team_name not in champs_lg_name_team_name_mapping:\n",
    "        return None\n",
    "    team_api_id = teams_df_clean.loc[teams_df_clean[\"team_long_name\"] == champs_lg_name_team_name_mapping[team_name], \"team_api_id\"]\n",
    "    if not team_api_id.empty:\n",
    "        return team_api_id[team_api_id.index[0]]\n",
    "    else:\n",
    "        return None\n",
    "\n",
    "champs_league_hist_df_clean[\"team_api_id\"] = champs_league_hist_df_clean.apply(update_champs_league_team_api_id, axis=1)\n",
    "champs_league_hist_df_clean.team_api_id.value_counts(dropna=False)"
   ]
  },
  {
   "cell_type": "markdown",
   "metadata": {},
   "source": [
    "At this point I need a better fuzzy matching solution."
   ]
  },
  {
   "cell_type": "code",
   "execution_count": 176,
   "metadata": {},
   "outputs": [],
   "source": [
    "from thefuzz import fuzz, process as fuzz_process"
   ]
  },
  {
   "cell_type": "code",
   "execution_count": 174,
   "metadata": {},
   "outputs": [
    {
     "data": {
      "text/plain": [
       "array(['Fenerbahce', 'Porto', 'Celtic', 'Olympiacos', 'Besiktas',\n",
       "       'Rosenborg BK', 'Benfica', 'Shakhtar Donetsk', 'Rangers (IL)',\n",
       "       'Sporting CP', 'Dynamo Kyiv', 'PSV Eindhoven', 'CSKA Moscow',\n",
       "       'Slavia Prague', 'Steaua Bucuresti', 'Athletico Madrid',\n",
       "       'Panathinaikos', 'CFR Cluj', 'Anorthosis', 'Basel', 'Aalborg BK',\n",
       "       'Zenit Saint Petersburg', 'BATE Borisov', 'Maccabi Haifa',\n",
       "       'Zurich', 'APOEL', 'Debrecen', 'Rubin Kazan', 'Unirea Urziceni',\n",
       "       'Standard Liege', 'AZ Alkmaar', 'Copenhagen', 'Twente',\n",
       "       'Hapoel Tel Aviv', 'Bursaspor', 'Spartak Moscow', 'Zilina', 'Ajax',\n",
       "       'Braga', 'FK Partizan', 'Bayer Leverkusen', 'Trabzonspor',\n",
       "       'Lille OSC', 'Otelul Galati', 'Dinamo Zagreb', 'Genk',\n",
       "       'Viktoria Plzen', 'Galatasaray', 'Malaga', 'Anderlecht',\n",
       "       'Nordsjaelland', 'Austria Wien', 'Malmo FF',\n",
       "       'PFC Ludogorets Razgrad', 'Maribor', 'Athletic Bilbao', 'Gent',\n",
       "       'Astana', 'Borussia Monchengladbach', 'Maccabi Tel Aviv'],\n",
       "      dtype=object)"
      ]
     },
     "execution_count": 174,
     "metadata": {},
     "output_type": "execute_result"
    }
   ],
   "source": [
    "champs_league_teams_no_api_id = champs_league_hist_df_clean[champs_league_hist_df_clean.team_api_id.isna()].team_name.unique()\n",
    "champs_league_teams_no_api_id"
   ]
  },
  {
   "cell_type": "code",
   "execution_count": 178,
   "metadata": {},
   "outputs": [
    {
     "data": {
      "text/plain": [
       "{'Fenerbahce': [('FC Energie Cottbus', 54),\n",
       "  ('Inter', 54),\n",
       "  ('CD Tenerife', 48),\n",
       "  ('RC Lens', 45),\n",
       "  ('Eintracht Frankfurt', 45)],\n",
       " 'Porto': [('Portsmouth', 72),\n",
       "  ('RC Deportivo de La Coruña', 72),\n",
       "  ('Real Sporting de Gijón', 72),\n",
       "  ('Xerez Club Deportivo', 72),\n",
       "  ('Blackpool', 60)],\n",
       " 'Celtic': [('Wigan Athletic', 60),\n",
       "  ('Athletic Club de Bilbao', 60),\n",
       "  ('Atlético Madrid', 60),\n",
       "  ('RC Celta de Vigo', 60),\n",
       "  ('Elche CF', 54)],\n",
       " 'Olympiacos': [('Olympique Lyonnais', 57),\n",
       "  ('Olympique de Marseille', 54),\n",
       "  ('Milan', 54),\n",
       "  ('Roma', 45),\n",
       "  ('Empoli', 45)],\n",
       " 'Besiktas': [('Brescia', 67),\n",
       "  ('Stade Brestois 29', 56),\n",
       "  ('SC Bastia', 56),\n",
       "  ('Siena', 54),\n",
       "  ('SD Eibar', 48)],\n",
       " 'Rosenborg BK': [('Siena', 54),\n",
       "  ('Genoa', 54),\n",
       "  ('Arsenal', 51),\n",
       "  ('Blackburn Rovers', 48),\n",
       "  ('1. FC Nürnberg', 48)],\n",
       " 'Benfica': [('Brescia', 57),\n",
       "  ('Valencia CF', 53),\n",
       "  ('Siena', 50),\n",
       "  ('Genoa', 50),\n",
       "  ('FC Bayern Munich', 49)],\n",
       " 'Shakhtar Donetsk': [('Udinese', 51),\n",
       "  ('Stade de Reims', 47),\n",
       "  ('Roma', 45),\n",
       "  ('Torino', 45),\n",
       "  ('Bari', 45)],\n",
       " 'Rangers (IL)': [('Queens Park Rangers', 86),\n",
       "  ('Angers SCO', 67),\n",
       "  ('Inter', 54),\n",
       "  ('Bolton Wanderers', 51),\n",
       "  ('Reading', 51)],\n",
       " 'Sporting CP': [('Real Sporting de Gijón', 86),\n",
       "  ('Torino', 60),\n",
       "  ('FC Lorient', 54),\n",
       "  ('Reading', 51),\n",
       "  ('Sampdoria', 50)],\n",
       " 'Dynamo Kyiv': [('Napoli', 47),\n",
       "  ('Empoli', 45),\n",
       "  ('Sampdoria', 40),\n",
       "  ('Palermo', 39),\n",
       "  ('Birmingham City', 38)],\n",
       " 'PSV Eindhoven': [('SM Caen', 51),\n",
       "  ('SV Werder Bremen', 48),\n",
       "  ('Torino', 45),\n",
       "  ('Cesena', 45),\n",
       "  ('Novara', 45)],\n",
       " 'CSKA Moscow': [('AS Monaco', 60),\n",
       "  ('SM Caen', 49),\n",
       "  ('SC Bastia', 48),\n",
       "  ('Angers SCO', 48),\n",
       "  ('CA Osasuna', 48)],\n",
       " 'Slavia Prague': [('Lazio', 54),\n",
       "  ('Parma', 54),\n",
       "  ('SM Caen', 49),\n",
       "  ('Hamburger SV', 46),\n",
       "  ('Racing Santander', 46)],\n",
       " 'Steaua Bucuresti': [('Stade Brestois 29', 61),\n",
       "  ('Brescia', 56),\n",
       "  ('Siena', 54),\n",
       "  ('Burnley', 51),\n",
       "  ('Inter', 51)],\n",
       " 'Athletico Madrid': [('Atlético Madrid', 93),\n",
       "  ('Roma', 68),\n",
       "  ('Bari', 68),\n",
       "  ('Wigan Athletic', 64),\n",
       "  ('Real Madrid CF', 60)],\n",
       " 'Panathinaikos': [('Siena', 54),\n",
       "  ('Lazio', 54),\n",
       "  ('Parma', 54),\n",
       "  ('Catania', 51),\n",
       "  ('Atalanta', 45)],\n",
       " 'CFR Cluj': [('Athletic Club de Bilbao', 56),\n",
       "  ('Xerez Club Deportivo', 56),\n",
       "  ('Málaga CF', 48),\n",
       "  ('Elche CF', 48),\n",
       "  ('Córdoba CF', 47)],\n",
       " 'Anorthosis': [('Angers SCO', 50),\n",
       "  ('Norwich City', 45),\n",
       "  ('Stade Brestois 29', 45),\n",
       "  ('Évian Thonon Gaillard FC', 45),\n",
       "  ('Roma', 45)],\n",
       " 'Basel': [('Arsenal', 67),\n",
       "  ('Newcastle United', 54),\n",
       "  ('Swansea City', 54),\n",
       "  ('Olympique de Marseille', 54),\n",
       "  ('SC Bastia', 54)],\n",
       " 'Aalborg BK': [('West Bromwich Albion', 51),\n",
       "  ('FC Augsburg', 46),\n",
       "  ('Hamburger SV', 45),\n",
       "  ('SC Paderborn 07', 45),\n",
       "  ('Bari', 45)],\n",
       " 'Zenit Saint Petersburg': [('SC Freiburg', 55),\n",
       "  ('Siena', 54),\n",
       "  ('Inter', 54),\n",
       "  ('AS Saint-Étienne', 51),\n",
       "  ('FC Augsburg', 50)],\n",
       " 'BATE Borisov': [('Bari', 68),\n",
       "  ('Torino', 60),\n",
       "  ('Stade Brestois 29', 48),\n",
       "  ('Xerez Club Deportivo', 47),\n",
       "  ('Stade de Reims', 46)],\n",
       " 'Maccabi Haifa': [('Cagliari', 56),\n",
       "  ('Carpi', 54),\n",
       "  ('Málaga CF', 53),\n",
       "  ('Catania', 51),\n",
       "  ('Parma', 51)],\n",
       " 'Zurich': [('Norwich City', 60),\n",
       "  ('FC Bayern Munich', 60),\n",
       "  ('West Bromwich Albion', 45),\n",
       "  ('Eintracht Frankfurt', 45),\n",
       "  ('Eintracht Braunschweig', 45)],\n",
       " 'APOEL': [('Napoli', 73),\n",
       "  ('Blackpool', 57),\n",
       "  ('Empoli', 55),\n",
       "  ('Liverpool', 54),\n",
       "  ('Wolverhampton Wanderers', 54)],\n",
       " 'Debrecen': [('SV Werder Bremen', 58),\n",
       "  ('Girondins de Bordeaux', 56),\n",
       "  ('Stade Rennais FC', 56),\n",
       "  ('Stade Brestois 29', 56),\n",
       "  ('SC Paderborn 07', 56)],\n",
       " 'Rubin Kazan': [('Siena', 54),\n",
       "  ('Racing Santander', 52),\n",
       "  ('Torino', 47),\n",
       "  ('Bari', 45),\n",
       "  ('Novara', 45)],\n",
       " 'Unirea Urziceni': [('Siena', 54),\n",
       "  ('RC Lens', 51),\n",
       "  ('Real Madrid CF', 48),\n",
       "  ('Newcastle United', 45),\n",
       "  ('Reading', 45)],\n",
       " 'Standard Liege': [('Racing Santander', 57),\n",
       "  ('Lecce', 54),\n",
       "  ('Reading', 51),\n",
       "  ('RC Lens', 51),\n",
       "  ('Catania', 51)],\n",
       " 'AZ Alkmaar': [('Atalanta', 56),\n",
       "  ('Parma', 54),\n",
       "  ('UD Almería', 53),\n",
       "  ('UD Las Palmas', 52),\n",
       "  ('Real Zaragoza', 49)],\n",
       " 'Copenhagen': [('Siena', 54),\n",
       "  ('Genoa', 54),\n",
       "  ('Cesena', 50),\n",
       "  ('Tottenham Hotspur', 48),\n",
       "  ('TSG 1899 Hoffenheim', 48)],\n",
       " 'Twente': [('AS Saint-Étienne', 60),\n",
       "  ('CD Tenerife', 60),\n",
       "  ('Levante UD', 60),\n",
       "  ('Inter', 55),\n",
       "  ('FC Lorient', 50)],\n",
       " 'Hapoel Tel Aviv': [('Napoli', 60),\n",
       "  ('Le Havre AC', 51),\n",
       "  ('Liverpool', 48),\n",
       "  ('Chelsea', 45),\n",
       "  ('AC Arles-Avignon', 45)],\n",
       " 'Bursaspor': [('Real Sporting de Gijón', 60),\n",
       "  ('Sampdoria', 56),\n",
       "  ('Borussia Dortmund', 50),\n",
       "  ('Napoli', 50),\n",
       "  ('Brescia', 50)],\n",
       " 'Spartak Moscow': [('Parma', 72),\n",
       "  ('AS Monaco', 60),\n",
       "  ('Pescara', 51),\n",
       "  ('Angers SCO', 50),\n",
       "  ('Palermo', 48)],\n",
       " 'Zilina': [('Siena', 55),\n",
       "  ('Milan', 55),\n",
       "  ('Hertha BSC Berlin', 50),\n",
       "  ('Fiorentina', 50),\n",
       "  ('Bologna', 46)],\n",
       " 'Ajax': [('AJ Auxerre', 68),\n",
       "  ('AC Ajaccio', 68),\n",
       "  ('GFC Ajaccio', 68),\n",
       "  ('Wigan Athletic', 45),\n",
       "  ('Girondins de Bordeaux', 45)],\n",
       " 'Braga': [('VfL Wolfsburg', 60),\n",
       "  ('Middlesbrough', 54),\n",
       "  ('Queens Park Rangers', 54),\n",
       "  ('Hamburger SV', 54),\n",
       "  ('SC Freiburg', 54)],\n",
       " 'FK Partizan': [('Bari', 68),\n",
       "  ('Paris Saint-Germain', 55),\n",
       "  ('Milan', 54),\n",
       "  ('Parma', 54),\n",
       "  ('Carpi', 54)],\n",
       " 'Bayer Leverkusen': [('Bayer 04 Leverkusen', 95),\n",
       "  ('Siena', 54),\n",
       "  ('Lecce', 54),\n",
       "  ('Arsenal', 51),\n",
       "  ('Everton', 51)],\n",
       " 'Trabzonspor': [('Lazio', 54),\n",
       "  ('Real Sporting de Gijón', 50),\n",
       "  ('Torino', 47),\n",
       "  ('Roma', 45),\n",
       "  ('Napoli', 45)],\n",
       " 'Lille OSC': [('LOSC Lille', 90),\n",
       "  ('Olympique de Marseille', 57),\n",
       "  ('Montpellier Hérault SC', 57),\n",
       "  ('OGC Nice', 56),\n",
       "  ('Villarreal CF', 55)],\n",
       " 'Otelul Galati': [('Montpellier Hérault SC', 59),\n",
       "  ('Lazio', 54),\n",
       "  ('Inter', 51),\n",
       "  ('Real Valladolid', 50),\n",
       "  ('Atalanta', 48)],\n",
       " 'Dinamo Zagreb': [('Siena', 54),\n",
       "  ('Roma', 45),\n",
       "  ('Napoli', 45),\n",
       "  ('Bari', 45),\n",
       "  ('Novara', 45)],\n",
       " 'Genk': [('Grenoble Foot 38', 68),\n",
       "  ('Genoa', 67),\n",
       "  ('SM Caen', 51),\n",
       "  ('Arsenal', 45),\n",
       "  ('Wigan Athletic', 45)],\n",
       " 'Viktoria Plzen': [('Torino', 62),\n",
       "  ('RC Lens', 56),\n",
       "  ('Inter', 54),\n",
       "  ('Borussia Mönchengladbach', 45),\n",
       "  ('Roma', 45)],\n",
       " 'Galatasaray': [('Parma', 54),\n",
       "  ('Atalanta', 53),\n",
       "  ('Catania', 51),\n",
       "  ('Pescara', 51),\n",
       "  ('Reggio Calabria', 46)],\n",
       " 'Malaga': [('Málaga CF', 71),\n",
       "  ('Atalanta', 57),\n",
       "  ('Milan', 55),\n",
       "  ('Real Zaragoza', 53),\n",
       "  ('Catania', 46)],\n",
       " 'Anderlecht': [('Bolton Wanderers', 60),\n",
       "  ('Wolverhampton Wanderers', 60),\n",
       "  ('Stade Brestois 29', 54),\n",
       "  ('FC Energie Cottbus', 54),\n",
       "  ('Inter', 54)],\n",
       " 'Nordsjaelland': [('Sunderland', 61),\n",
       "  ('Milan', 54),\n",
       "  ('Arsenal', 51),\n",
       "  ('Évian Thonon Gaillard FC', 49),\n",
       "  ('Atalanta', 48)],\n",
       " 'Austria Wien': [('Siena', 60),\n",
       "  ('SC Bastia', 54),\n",
       "  ('AS Saint-Étienne', 52),\n",
       "  ('DSC Arminia Bielefeld', 52),\n",
       "  ('Borussia Mönchengladbach', 52)],\n",
       " 'Malmo FF': [('Palermo', 53),\n",
       "  ('Málaga CF', 50),\n",
       "  ('Birmingham City', 45),\n",
       "  ('Wolverhampton Wanderers', 45),\n",
       "  ('AS Monaco', 45)],\n",
       " 'PFC Ludogorets Razgrad': [('FC Lorient', 54),\n",
       "  ('Málaga CF', 53),\n",
       "  ('Brescia', 51),\n",
       "  ('Pescara', 51),\n",
       "  ('Granada CF', 51)],\n",
       " 'Maribor': [('Bari', 68),\n",
       "  ('SC Paderborn 07', 64),\n",
       "  ('Olympique de Marseille', 51),\n",
       "  ('SC Freiburg', 51),\n",
       "  ('RCD Mallorca', 51)],\n",
       " 'Athletic Bilbao': [('Athletic Club de Bilbao', 86),\n",
       "  ('Wigan Athletic', 72),\n",
       "  ('Real Betis Balompié', 55),\n",
       "  ('Atlético Madrid', 55),\n",
       "  ('Lazio', 54)],\n",
       " 'Gent': [('FC Lorient', 68),\n",
       "  ('Grenoble Foot 38', 68),\n",
       "  ('Eintracht Frankfurt', 68),\n",
       "  ('Eintracht Braunschweig', 68),\n",
       "  ('Fiorentina', 68)],\n",
       " 'Astana': [('Catania', 77),\n",
       "  ('Atalanta', 71),\n",
       "  ('SC Bastia', 66),\n",
       "  ('Arsenal', 62),\n",
       "  ('CA Osasuna', 62)],\n",
       " 'Borussia Monchengladbach': [('Borussia Mönchengladbach', 98),\n",
       "  ('Chelsea', 64),\n",
       "  ('Borussia Dortmund', 61),\n",
       "  ('AS Monaco', 60),\n",
       "  ('Siena', 54)],\n",
       " 'Maccabi Tel Aviv': [('Lazio', 54),\n",
       "  ('Inter', 54),\n",
       "  ('Carpi', 54),\n",
       "  ('AC Arles-Avignon', 50),\n",
       "  ('RC Celta de Vigo', 50)]}"
      ]
     },
     "execution_count": 178,
     "metadata": {},
     "output_type": "execute_result"
    }
   ],
   "source": [
    "champs_lg_name_team_name_mapping = {}\n",
    "for champs_lg_team_name in champs_league_teams_no_api_id:\n",
    "    matching_available_teams = fuzz_process.extract(champs_lg_team_name, available_team_names)\n",
    "    if matching_available_teams:\n",
    "        champs_lg_name_team_name_mapping[champs_lg_team_name] = matching_available_teams\n",
    "\n",
    "champs_lg_name_team_name_mapping"
   ]
  },
  {
   "cell_type": "markdown",
   "metadata": {},
   "source": [
    "The matching didn't go very well. The majority of these teams are not in the top 5 leagues, so I'll just manually add the ones that are."
   ]
  },
  {
   "cell_type": "code",
   "execution_count": 179,
   "metadata": {},
   "outputs": [
    {
     "data": {
      "text/plain": [
       "array(['Fenerbahce', 'Porto', 'Celtic', 'Olympiacos', 'Besiktas',\n",
       "       'Rosenborg BK', 'Benfica', 'Shakhtar Donetsk', 'Rangers (IL)',\n",
       "       'Sporting CP', 'Dynamo Kyiv', 'PSV Eindhoven', 'CSKA Moscow',\n",
       "       'Slavia Prague', 'Steaua Bucuresti', 'Athletico Madrid',\n",
       "       'Panathinaikos', 'CFR Cluj', 'Anorthosis', 'Basel', 'Aalborg BK',\n",
       "       'Zenit Saint Petersburg', 'BATE Borisov', 'Maccabi Haifa',\n",
       "       'Zurich', 'APOEL', 'Debrecen', 'Rubin Kazan', 'Unirea Urziceni',\n",
       "       'Standard Liege', 'AZ Alkmaar', 'Copenhagen', 'Twente',\n",
       "       'Hapoel Tel Aviv', 'Bursaspor', 'Spartak Moscow', 'Zilina', 'Ajax',\n",
       "       'Braga', 'FK Partizan', 'Bayer Leverkusen', 'Trabzonspor',\n",
       "       'Lille OSC', 'Otelul Galati', 'Dinamo Zagreb', 'Genk',\n",
       "       'Viktoria Plzen', 'Galatasaray', 'Malaga', 'Anderlecht',\n",
       "       'Nordsjaelland', 'Austria Wien', 'Malmo FF',\n",
       "       'PFC Ludogorets Razgrad', 'Maribor', 'Athletic Bilbao', 'Gent',\n",
       "       'Astana', 'Borussia Monchengladbach', 'Maccabi Tel Aviv'],\n",
       "      dtype=object)"
      ]
     },
     "execution_count": 179,
     "metadata": {},
     "output_type": "execute_result"
    }
   ],
   "source": [
    "champs_league_teams_no_api_id"
   ]
  },
  {
   "cell_type": "code",
   "execution_count": 181,
   "metadata": {},
   "outputs": [],
   "source": [
    "champs_lg_name_team_name_mapping = {\n",
    "    \"Athletico Madrid\": \"Atlético Madrid\",\n",
    "    \"Bayer Leverkusen\": \"Bayer 04 Leverkusen\",\n",
    "    \"Lille OSC\": \"LOSC Lille\",\n",
    "    \"Malaga\": \"Málaga CF\",\n",
    "    \"Athletic Bilbao\": \"Athletic Club de Bilbao\",\n",
    "    \"Borussia Monchengladbach\": \"Borussia Mönchengladbach\",\n",
    "}"
   ]
  },
  {
   "cell_type": "code",
   "execution_count": 186,
   "metadata": {},
   "outputs": [
    {
     "data": {
      "text/plain": [
       "NaN        178\n",
       "8634.0      37\n",
       "9823.0      32\n",
       "8633.0      32\n",
       "8455.0      28\n",
       "10260.0     25\n",
       "9825.0      22\n",
       "9906.0      16\n",
       "9885.0      14\n",
       "8636.0      14\n",
       "8564.0      13\n",
       "9748.0      13\n",
       "10189.0     13\n",
       "9847.0      12\n",
       "9789.0      11\n",
       "8456.0      10\n",
       "8686.0      10\n",
       "8592.0       9\n",
       "8650.0       9\n",
       "10267.0      7\n",
       "8178.0       7\n",
       "8302.0       5\n",
       "8721.0       4\n",
       "10205.0      4\n",
       "9827.0       4\n",
       "8535.0       3\n",
       "8586.0       3\n",
       "9875.0       3\n",
       "10269.0      3\n",
       "9864.0       3\n",
       "8697.0       3\n",
       "9829.0       3\n",
       "8639.0       2\n",
       "8583.0       1\n",
       "8543.0       1\n",
       "10249.0      1\n",
       "8560.0       1\n",
       "8315.0       1\n",
       "9788.0       1\n",
       "Name: team_api_id, dtype: int64"
      ]
     },
     "execution_count": 186,
     "metadata": {},
     "output_type": "execute_result"
    }
   ],
   "source": [
    "champs_league_hist_df_clean[\"team_api_id\"] = champs_league_hist_df_clean.apply(update_champs_league_team_api_id, axis=1)\n",
    "champs_league_hist_df_clean.team_api_id.value_counts(dropna=False)"
   ]
  },
  {
   "cell_type": "markdown",
   "metadata": {},
   "source": [
    "Can drop all the remaining rows that don't have API IDs because we won't need them."
   ]
  },
  {
   "cell_type": "code",
   "execution_count": 187,
   "metadata": {},
   "outputs": [
    {
     "data": {
      "text/plain": [
       "array(['Fenerbahce', 'Porto', 'Celtic', 'Olympiacos', 'Besiktas',\n",
       "       'Rosenborg BK', 'Benfica', 'Shakhtar Donetsk', 'Rangers (IL)',\n",
       "       'Sporting CP', 'Dynamo Kyiv', 'PSV Eindhoven', 'CSKA Moscow',\n",
       "       'Slavia Prague', 'Steaua Bucuresti', 'Panathinaikos', 'CFR Cluj',\n",
       "       'Anorthosis', 'Basel', 'Aalborg BK', 'Zenit Saint Petersburg',\n",
       "       'BATE Borisov', 'Maccabi Haifa', 'Zurich', 'APOEL', 'Debrecen',\n",
       "       'Rubin Kazan', 'Unirea Urziceni', 'Standard Liege', 'AZ Alkmaar',\n",
       "       'Copenhagen', 'Twente', 'Hapoel Tel Aviv', 'Bursaspor',\n",
       "       'Spartak Moscow', 'Zilina', 'Ajax', 'Braga', 'FK Partizan',\n",
       "       'Trabzonspor', 'Otelul Galati', 'Dinamo Zagreb', 'Genk',\n",
       "       'Viktoria Plzen', 'Galatasaray', 'Anderlecht', 'Nordsjaelland',\n",
       "       'Austria Wien', 'Malmo FF', 'PFC Ludogorets Razgrad', 'Maribor',\n",
       "       'Gent', 'Astana', 'Maccabi Tel Aviv'], dtype=object)"
      ]
     },
     "execution_count": 187,
     "metadata": {},
     "output_type": "execute_result"
    }
   ],
   "source": [
    "champs_league_hist_df_clean[champs_league_hist_df_clean.team_api_id.isna()].team_name.unique()"
   ]
  },
  {
   "cell_type": "code",
   "execution_count": 191,
   "metadata": {},
   "outputs": [],
   "source": [
    "champs_league_hist_df_clean.drop(champs_league_hist_df_clean[champs_league_hist_df_clean.team_api_id.isna()].index, inplace=True)"
   ]
  },
  {
   "cell_type": "markdown",
   "metadata": {},
   "source": [
    "##### Test"
   ]
  },
  {
   "cell_type": "code",
   "execution_count": 192,
   "metadata": {},
   "outputs": [],
   "source": [
    "assert champs_league_hist_df_clean.team_api_id.isna().sum() == 0"
   ]
  },
  {
   "cell_type": "markdown",
   "metadata": {},
   "source": [
    "#### missing a `season` column"
   ]
  },
  {
   "cell_type": "markdown",
   "metadata": {},
   "source": [
    "##### Define"
   ]
  },
  {
   "cell_type": "markdown",
   "metadata": {},
   "source": [
    "- create from year column\n",
    "- drop rows for years that are not in our timeframe"
   ]
  },
  {
   "cell_type": "markdown",
   "metadata": {},
   "source": [
    "##### Code"
   ]
  },
  {
   "cell_type": "code",
   "execution_count": 200,
   "metadata": {},
   "outputs": [],
   "source": [
    "champs_league_hist_df_clean[\"season\"] = champs_league_hist_df_clean.year.apply(lambda x: f\"{x - 1}/{x}\").astype(season_categories)"
   ]
  },
  {
   "cell_type": "code",
   "execution_count": 204,
   "metadata": {},
   "outputs": [],
   "source": [
    "champs_league_hist_df_clean.drop(champs_league_hist_df_clean[champs_league_hist_df_clean.season.isna()].index, inplace=True)"
   ]
  },
  {
   "cell_type": "markdown",
   "metadata": {},
   "source": [
    "##### Test"
   ]
  },
  {
   "cell_type": "code",
   "execution_count": 205,
   "metadata": {},
   "outputs": [
    {
     "data": {
      "text/plain": [
       "CategoricalDtype(categories=['2008/2009', '2009/2010', '2010/2011', '2011/2012',\n",
       "                  '2012/2013', '2013/2014', '2014/2015', '2015/2016'],\n",
       ", ordered=True)"
      ]
     },
     "execution_count": 205,
     "metadata": {},
     "output_type": "execute_result"
    }
   ],
   "source": [
    "champs_league_hist_df_clean.season.dtype"
   ]
  },
  {
   "cell_type": "code",
   "execution_count": 206,
   "metadata": {},
   "outputs": [],
   "source": [
    "assert champs_league_hist_df_clean.season.isna().sum() == 0"
   ]
  },
  {
   "cell_type": "markdown",
   "metadata": {},
   "source": [
    "#### missing a league id column"
   ]
  },
  {
   "cell_type": "markdown",
   "metadata": {},
   "source": [
    "##### Define"
   ]
  },
  {
   "cell_type": "markdown",
   "metadata": {},
   "source": [
    "- create from country column by matching the country name to the country table and getting the league id (which is the same as the country id)"
   ]
  },
  {
   "cell_type": "markdown",
   "metadata": {},
   "source": [
    "##### Code"
   ]
  },
  {
   "cell_type": "code",
   "execution_count": 234,
   "metadata": {},
   "outputs": [
    {
     "data": {
      "text/plain": [
       "{'Spain': 21518,\n",
       " 'England': 1729,\n",
       " 'Germany': 7809,\n",
       " 'France': 4769,\n",
       " 'Italy': 10257}"
      ]
     },
     "execution_count": 234,
     "metadata": {},
     "output_type": "execute_result"
    }
   ],
   "source": [
    "country_name_league_id_mapping = {country_name: countries_df_clean.query(f'name == \"{country_name}\"').id.iloc[0] for country_name in champs_league_hist_df_clean.team_country.unique()}\n",
    "country_name_league_id_mapping"
   ]
  },
  {
   "cell_type": "code",
   "execution_count": 238,
   "metadata": {},
   "outputs": [],
   "source": [
    "champs_league_hist_df_clean[\"league_id\"] = champs_league_hist_df_clean.team_country.apply(lambda x: country_name_league_id_mapping.get(x, None))"
   ]
  },
  {
   "cell_type": "markdown",
   "metadata": {},
   "source": [
    "##### Test"
   ]
  },
  {
   "cell_type": "code",
   "execution_count": 239,
   "metadata": {},
   "outputs": [
    {
     "data": {
      "text/plain": [
       "21518    97\n",
       "1729     80\n",
       "7809     69\n",
       "10257    50\n",
       "4769     42\n",
       "Name: league_id, dtype: int64"
      ]
     },
     "execution_count": 239,
     "metadata": {},
     "output_type": "execute_result"
    }
   ],
   "source": [
    "champs_league_hist_df_clean.league_id.value_counts(dropna=False)"
   ]
  },
  {
   "cell_type": "code",
   "execution_count": 53,
   "metadata": {},
   "outputs": [
    {
     "data": {
      "text/plain": [
       "0    30458.0\n",
       "1    32571.0\n",
       "2    38703.0\n",
       "3    40543.0\n",
       "4    26119.0\n",
       "Name: player_api_id, dtype: float64"
      ]
     },
     "execution_count": 53,
     "metadata": {},
     "output_type": "execute_result"
    }
   ],
   "source": [
    "# Reshape the matches dataframe to have a single column for player IDs\n",
    "home_player_cols = [f'home_player_{i}' for i in range(1, 12)]\n",
    "away_player_cols = [f'away_player_{i}' for i in range(1, 12)]\n",
    "player_api_ids = pd.concat([top_5_leagues_matches_df[home_player_cols], top_5_leagues_matches_df[away_player_cols]], axis=1).stack().reset_index(drop=True)\n",
    "player_api_ids = player_api_ids.rename('player_api_id')\n",
    "\n",
    "player_api_ids.head()"
   ]
  },
  {
   "cell_type": "code",
   "execution_count": 54,
   "metadata": {},
   "outputs": [
    {
     "data": {
      "text/plain": [
       "(121639, 43)"
      ]
     },
     "execution_count": 54,
     "metadata": {},
     "output_type": "execute_result"
    }
   ],
   "source": [
    "# remove the players that do not feature in any match in the top 5 leagues over the seasons\n",
    "player_attributes_df = player_attributes_df[player_attributes_df.player_api_id.isin(player_api_ids)]\n",
    "player_attributes_df.shape"
   ]
  },
  {
   "cell_type": "code",
   "execution_count": 55,
   "metadata": {},
   "outputs": [
    {
     "data": {
      "text/html": [
       "<div>\n",
       "<style scoped>\n",
       "    .dataframe tbody tr th:only-of-type {\n",
       "        vertical-align: middle;\n",
       "    }\n",
       "\n",
       "    .dataframe tbody tr th {\n",
       "        vertical-align: top;\n",
       "    }\n",
       "\n",
       "    .dataframe thead th {\n",
       "        text-align: right;\n",
       "    }\n",
       "</style>\n",
       "<table border=\"1\" class=\"dataframe\">\n",
       "  <thead>\n",
       "    <tr style=\"text-align: right;\">\n",
       "      <th></th>\n",
       "      <th>id</th>\n",
       "      <th>country_id</th>\n",
       "      <th>league_id</th>\n",
       "      <th>season</th>\n",
       "      <th>stage</th>\n",
       "      <th>date</th>\n",
       "      <th>match_api_id</th>\n",
       "      <th>home_team_api_id</th>\n",
       "      <th>away_team_api_id</th>\n",
       "      <th>home_team_goal</th>\n",
       "      <th>...</th>\n",
       "      <th>LBA</th>\n",
       "      <th>WHH</th>\n",
       "      <th>WHD</th>\n",
       "      <th>WHA</th>\n",
       "      <th>SJH</th>\n",
       "      <th>SJD</th>\n",
       "      <th>SJA</th>\n",
       "      <th>VCH</th>\n",
       "      <th>VCD</th>\n",
       "      <th>VCA</th>\n",
       "    </tr>\n",
       "  </thead>\n",
       "  <tbody>\n",
       "    <tr>\n",
       "      <th>0</th>\n",
       "      <td>4770</td>\n",
       "      <td>4769</td>\n",
       "      <td>4769</td>\n",
       "      <td>2008/2009</td>\n",
       "      <td>1</td>\n",
       "      <td>2008-08-09 00:00:00</td>\n",
       "      <td>483130</td>\n",
       "      <td>9827</td>\n",
       "      <td>7819</td>\n",
       "      <td>2</td>\n",
       "      <td>...</td>\n",
       "      <td>6.00</td>\n",
       "      <td>1.53</td>\n",
       "      <td>3.30</td>\n",
       "      <td>6.00</td>\n",
       "      <td>1.5</td>\n",
       "      <td>3.8</td>\n",
       "      <td>7.5</td>\n",
       "      <td>1.60</td>\n",
       "      <td>3.3</td>\n",
       "      <td>5.50</td>\n",
       "    </tr>\n",
       "    <tr>\n",
       "      <th>1</th>\n",
       "      <td>4771</td>\n",
       "      <td>4769</td>\n",
       "      <td>4769</td>\n",
       "      <td>2008/2009</td>\n",
       "      <td>1</td>\n",
       "      <td>2008-08-09 00:00:00</td>\n",
       "      <td>483131</td>\n",
       "      <td>9746</td>\n",
       "      <td>9831</td>\n",
       "      <td>1</td>\n",
       "      <td>...</td>\n",
       "      <td>2.87</td>\n",
       "      <td>2.30</td>\n",
       "      <td>2.80</td>\n",
       "      <td>3.00</td>\n",
       "      <td>2.4</td>\n",
       "      <td>3.1</td>\n",
       "      <td>3.1</td>\n",
       "      <td>2.30</td>\n",
       "      <td>2.9</td>\n",
       "      <td>3.00</td>\n",
       "    </tr>\n",
       "    <tr>\n",
       "      <th>2</th>\n",
       "      <td>4772</td>\n",
       "      <td>4769</td>\n",
       "      <td>4769</td>\n",
       "      <td>2008/2009</td>\n",
       "      <td>1</td>\n",
       "      <td>2008-08-09 00:00:00</td>\n",
       "      <td>483132</td>\n",
       "      <td>8682</td>\n",
       "      <td>8689</td>\n",
       "      <td>0</td>\n",
       "      <td>...</td>\n",
       "      <td>3.50</td>\n",
       "      <td>2.00</td>\n",
       "      <td>3.00</td>\n",
       "      <td>3.40</td>\n",
       "      <td>2.0</td>\n",
       "      <td>3.2</td>\n",
       "      <td>4.0</td>\n",
       "      <td>2.00</td>\n",
       "      <td>2.9</td>\n",
       "      <td>3.75</td>\n",
       "    </tr>\n",
       "    <tr>\n",
       "      <th>3</th>\n",
       "      <td>4774</td>\n",
       "      <td>4769</td>\n",
       "      <td>4769</td>\n",
       "      <td>2008/2009</td>\n",
       "      <td>1</td>\n",
       "      <td>2008-08-09 00:00:00</td>\n",
       "      <td>483134</td>\n",
       "      <td>9829</td>\n",
       "      <td>9847</td>\n",
       "      <td>1</td>\n",
       "      <td>...</td>\n",
       "      <td>2.87</td>\n",
       "      <td>2.30</td>\n",
       "      <td>2.90</td>\n",
       "      <td>2.90</td>\n",
       "      <td>2.4</td>\n",
       "      <td>3.0</td>\n",
       "      <td>3.2</td>\n",
       "      <td>2.25</td>\n",
       "      <td>3.0</td>\n",
       "      <td>3.00</td>\n",
       "    </tr>\n",
       "    <tr>\n",
       "      <th>4</th>\n",
       "      <td>4775</td>\n",
       "      <td>4769</td>\n",
       "      <td>4769</td>\n",
       "      <td>2008/2009</td>\n",
       "      <td>1</td>\n",
       "      <td>2008-08-09 00:00:00</td>\n",
       "      <td>483135</td>\n",
       "      <td>8481</td>\n",
       "      <td>8639</td>\n",
       "      <td>0</td>\n",
       "      <td>...</td>\n",
       "      <td>3.20</td>\n",
       "      <td>2.15</td>\n",
       "      <td>2.88</td>\n",
       "      <td>3.25</td>\n",
       "      <td>2.1</td>\n",
       "      <td>3.1</td>\n",
       "      <td>3.8</td>\n",
       "      <td>2.10</td>\n",
       "      <td>3.0</td>\n",
       "      <td>3.30</td>\n",
       "    </tr>\n",
       "  </tbody>\n",
       "</table>\n",
       "<p>5 rows × 106 columns</p>\n",
       "</div>"
      ],
      "text/plain": [
       "     id  country_id  league_id     season  stage                 date  \\\n",
       "0  4770        4769       4769  2008/2009      1  2008-08-09 00:00:00   \n",
       "1  4771        4769       4769  2008/2009      1  2008-08-09 00:00:00   \n",
       "2  4772        4769       4769  2008/2009      1  2008-08-09 00:00:00   \n",
       "3  4774        4769       4769  2008/2009      1  2008-08-09 00:00:00   \n",
       "4  4775        4769       4769  2008/2009      1  2008-08-09 00:00:00   \n",
       "\n",
       "   match_api_id  home_team_api_id  away_team_api_id  home_team_goal  ...  \\\n",
       "0        483130              9827              7819               2  ...   \n",
       "1        483131              9746              9831               1  ...   \n",
       "2        483132              8682              8689               0  ...   \n",
       "3        483134              9829              9847               1  ...   \n",
       "4        483135              8481              8639               0  ...   \n",
       "\n",
       "    LBA   WHH   WHD   WHA  SJH  SJD  SJA   VCH  VCD   VCA  \n",
       "0  6.00  1.53  3.30  6.00  1.5  3.8  7.5  1.60  3.3  5.50  \n",
       "1  2.87  2.30  2.80  3.00  2.4  3.1  3.1  2.30  2.9  3.00  \n",
       "2  3.50  2.00  3.00  3.40  2.0  3.2  4.0  2.00  2.9  3.75  \n",
       "3  2.87  2.30  2.90  2.90  2.4  3.0  3.2  2.25  3.0  3.00  \n",
       "4  3.20  2.15  2.88  3.25  2.1  3.1  3.8  2.10  3.0  3.30  \n",
       "\n",
       "[5 rows x 106 columns]"
      ]
     },
     "execution_count": 55,
     "metadata": {},
     "output_type": "execute_result"
    }
   ],
   "source": [
    "top_5_leagues_matches_df.head()"
   ]
  },
  {
   "cell_type": "markdown",
   "metadata": {},
   "source": [
    "## another strategy\n",
    "- sort the matches by date\n",
    "- for each row in player attributes\n",
    "    - find the first row in player matches that has both the season and the player ID of the player attributes row\n",
    "    - if there is, return its league id\n",
    "    - else, return `None`\n",
    "- I therefore need the player matches table\n",
    "    - it has a column for player ID and match ID\n",
    "    - each match ID from the matches table gets 22 rows, one for each player that started the match\n",
    "    - each match id from the matches table has the season in which the match was played\n",
    "    - each match id from the matches table has the league to which the match belongs"
   ]
  },
  {
   "cell_type": "code",
   "execution_count": 56,
   "metadata": {},
   "outputs": [
    {
     "data": {
      "text/html": [
       "<div>\n",
       "<style scoped>\n",
       "    .dataframe tbody tr th:only-of-type {\n",
       "        vertical-align: middle;\n",
       "    }\n",
       "\n",
       "    .dataframe tbody tr th {\n",
       "        vertical-align: top;\n",
       "    }\n",
       "\n",
       "    .dataframe thead th {\n",
       "        text-align: right;\n",
       "    }\n",
       "</style>\n",
       "<table border=\"1\" class=\"dataframe\">\n",
       "  <thead>\n",
       "    <tr style=\"text-align: right;\">\n",
       "      <th></th>\n",
       "      <th>id</th>\n",
       "      <th>country_id</th>\n",
       "      <th>league_id</th>\n",
       "      <th>season</th>\n",
       "      <th>stage</th>\n",
       "      <th>date</th>\n",
       "      <th>match_api_id</th>\n",
       "      <th>home_team_api_id</th>\n",
       "      <th>away_team_api_id</th>\n",
       "      <th>home_team_goal</th>\n",
       "      <th>...</th>\n",
       "      <th>LBA</th>\n",
       "      <th>WHH</th>\n",
       "      <th>WHD</th>\n",
       "      <th>WHA</th>\n",
       "      <th>SJH</th>\n",
       "      <th>SJD</th>\n",
       "      <th>SJA</th>\n",
       "      <th>VCH</th>\n",
       "      <th>VCD</th>\n",
       "      <th>VCA</th>\n",
       "    </tr>\n",
       "  </thead>\n",
       "  <tbody>\n",
       "    <tr>\n",
       "      <th>0</th>\n",
       "      <td>4770</td>\n",
       "      <td>4769</td>\n",
       "      <td>4769</td>\n",
       "      <td>2008/2009</td>\n",
       "      <td>1</td>\n",
       "      <td>2008-08-09 00:00:00</td>\n",
       "      <td>483130</td>\n",
       "      <td>9827</td>\n",
       "      <td>7819</td>\n",
       "      <td>2</td>\n",
       "      <td>...</td>\n",
       "      <td>6.00</td>\n",
       "      <td>1.53</td>\n",
       "      <td>3.30</td>\n",
       "      <td>6.00</td>\n",
       "      <td>1.5</td>\n",
       "      <td>3.8</td>\n",
       "      <td>7.5</td>\n",
       "      <td>1.60</td>\n",
       "      <td>3.3</td>\n",
       "      <td>5.50</td>\n",
       "    </tr>\n",
       "    <tr>\n",
       "      <th>1</th>\n",
       "      <td>4771</td>\n",
       "      <td>4769</td>\n",
       "      <td>4769</td>\n",
       "      <td>2008/2009</td>\n",
       "      <td>1</td>\n",
       "      <td>2008-08-09 00:00:00</td>\n",
       "      <td>483131</td>\n",
       "      <td>9746</td>\n",
       "      <td>9831</td>\n",
       "      <td>1</td>\n",
       "      <td>...</td>\n",
       "      <td>2.87</td>\n",
       "      <td>2.30</td>\n",
       "      <td>2.80</td>\n",
       "      <td>3.00</td>\n",
       "      <td>2.4</td>\n",
       "      <td>3.1</td>\n",
       "      <td>3.1</td>\n",
       "      <td>2.30</td>\n",
       "      <td>2.9</td>\n",
       "      <td>3.00</td>\n",
       "    </tr>\n",
       "    <tr>\n",
       "      <th>2</th>\n",
       "      <td>4772</td>\n",
       "      <td>4769</td>\n",
       "      <td>4769</td>\n",
       "      <td>2008/2009</td>\n",
       "      <td>1</td>\n",
       "      <td>2008-08-09 00:00:00</td>\n",
       "      <td>483132</td>\n",
       "      <td>8682</td>\n",
       "      <td>8689</td>\n",
       "      <td>0</td>\n",
       "      <td>...</td>\n",
       "      <td>3.50</td>\n",
       "      <td>2.00</td>\n",
       "      <td>3.00</td>\n",
       "      <td>3.40</td>\n",
       "      <td>2.0</td>\n",
       "      <td>3.2</td>\n",
       "      <td>4.0</td>\n",
       "      <td>2.00</td>\n",
       "      <td>2.9</td>\n",
       "      <td>3.75</td>\n",
       "    </tr>\n",
       "    <tr>\n",
       "      <th>3</th>\n",
       "      <td>4774</td>\n",
       "      <td>4769</td>\n",
       "      <td>4769</td>\n",
       "      <td>2008/2009</td>\n",
       "      <td>1</td>\n",
       "      <td>2008-08-09 00:00:00</td>\n",
       "      <td>483134</td>\n",
       "      <td>9829</td>\n",
       "      <td>9847</td>\n",
       "      <td>1</td>\n",
       "      <td>...</td>\n",
       "      <td>2.87</td>\n",
       "      <td>2.30</td>\n",
       "      <td>2.90</td>\n",
       "      <td>2.90</td>\n",
       "      <td>2.4</td>\n",
       "      <td>3.0</td>\n",
       "      <td>3.2</td>\n",
       "      <td>2.25</td>\n",
       "      <td>3.0</td>\n",
       "      <td>3.00</td>\n",
       "    </tr>\n",
       "    <tr>\n",
       "      <th>4</th>\n",
       "      <td>4775</td>\n",
       "      <td>4769</td>\n",
       "      <td>4769</td>\n",
       "      <td>2008/2009</td>\n",
       "      <td>1</td>\n",
       "      <td>2008-08-09 00:00:00</td>\n",
       "      <td>483135</td>\n",
       "      <td>8481</td>\n",
       "      <td>8639</td>\n",
       "      <td>0</td>\n",
       "      <td>...</td>\n",
       "      <td>3.20</td>\n",
       "      <td>2.15</td>\n",
       "      <td>2.88</td>\n",
       "      <td>3.25</td>\n",
       "      <td>2.1</td>\n",
       "      <td>3.1</td>\n",
       "      <td>3.8</td>\n",
       "      <td>2.10</td>\n",
       "      <td>3.0</td>\n",
       "      <td>3.30</td>\n",
       "    </tr>\n",
       "  </tbody>\n",
       "</table>\n",
       "<p>5 rows × 106 columns</p>\n",
       "</div>"
      ],
      "text/plain": [
       "     id  country_id  league_id     season  stage                 date  \\\n",
       "0  4770        4769       4769  2008/2009      1  2008-08-09 00:00:00   \n",
       "1  4771        4769       4769  2008/2009      1  2008-08-09 00:00:00   \n",
       "2  4772        4769       4769  2008/2009      1  2008-08-09 00:00:00   \n",
       "3  4774        4769       4769  2008/2009      1  2008-08-09 00:00:00   \n",
       "4  4775        4769       4769  2008/2009      1  2008-08-09 00:00:00   \n",
       "\n",
       "   match_api_id  home_team_api_id  away_team_api_id  home_team_goal  ...  \\\n",
       "0        483130              9827              7819               2  ...   \n",
       "1        483131              9746              9831               1  ...   \n",
       "2        483132              8682              8689               0  ...   \n",
       "3        483134              9829              9847               1  ...   \n",
       "4        483135              8481              8639               0  ...   \n",
       "\n",
       "    LBA   WHH   WHD   WHA  SJH  SJD  SJA   VCH  VCD   VCA  \n",
       "0  6.00  1.53  3.30  6.00  1.5  3.8  7.5  1.60  3.3  5.50  \n",
       "1  2.87  2.30  2.80  3.00  2.4  3.1  3.1  2.30  2.9  3.00  \n",
       "2  3.50  2.00  3.00  3.40  2.0  3.2  4.0  2.00  2.9  3.75  \n",
       "3  2.87  2.30  2.90  2.90  2.4  3.0  3.2  2.25  3.0  3.00  \n",
       "4  3.20  2.15  2.88  3.25  2.1  3.1  3.8  2.10  3.0  3.30  \n",
       "\n",
       "[5 rows x 106 columns]"
      ]
     },
     "execution_count": 56,
     "metadata": {},
     "output_type": "execute_result"
    }
   ],
   "source": [
    "top_5_leagues_matches_df.head()"
   ]
  },
  {
   "cell_type": "code",
   "execution_count": 57,
   "metadata": {},
   "outputs": [
    {
     "data": {
      "text/html": [
       "<div>\n",
       "<style scoped>\n",
       "    .dataframe tbody tr th:only-of-type {\n",
       "        vertical-align: middle;\n",
       "    }\n",
       "\n",
       "    .dataframe tbody tr th {\n",
       "        vertical-align: top;\n",
       "    }\n",
       "\n",
       "    .dataframe thead th {\n",
       "        text-align: right;\n",
       "    }\n",
       "</style>\n",
       "<table border=\"1\" class=\"dataframe\">\n",
       "  <thead>\n",
       "    <tr style=\"text-align: right;\">\n",
       "      <th></th>\n",
       "      <th>id</th>\n",
       "      <th>player_api_id</th>\n",
       "    </tr>\n",
       "  </thead>\n",
       "  <tbody>\n",
       "    <tr>\n",
       "      <th>0</th>\n",
       "      <td>4770</td>\n",
       "      <td>30458.0</td>\n",
       "    </tr>\n",
       "    <tr>\n",
       "      <th>1</th>\n",
       "      <td>4771</td>\n",
       "      <td>41186.0</td>\n",
       "    </tr>\n",
       "    <tr>\n",
       "      <th>2</th>\n",
       "      <td>4772</td>\n",
       "      <td>NaN</td>\n",
       "    </tr>\n",
       "    <tr>\n",
       "      <th>3</th>\n",
       "      <td>4774</td>\n",
       "      <td>145039.0</td>\n",
       "    </tr>\n",
       "    <tr>\n",
       "      <th>4</th>\n",
       "      <td>4775</td>\n",
       "      <td>26233.0</td>\n",
       "    </tr>\n",
       "    <tr>\n",
       "      <th>...</th>\n",
       "      <td>...</td>\n",
       "      <td>...</td>\n",
       "    </tr>\n",
       "    <tr>\n",
       "      <th>320667</th>\n",
       "      <td>24492</td>\n",
       "      <td>200917.0</td>\n",
       "    </tr>\n",
       "    <tr>\n",
       "      <th>320668</th>\n",
       "      <td>24495</td>\n",
       "      <td>179083.0</td>\n",
       "    </tr>\n",
       "    <tr>\n",
       "      <th>320669</th>\n",
       "      <td>24497</td>\n",
       "      <td>25462.0</td>\n",
       "    </tr>\n",
       "    <tr>\n",
       "      <th>320670</th>\n",
       "      <td>4705</td>\n",
       "      <td>47382.0</td>\n",
       "    </tr>\n",
       "    <tr>\n",
       "      <th>320671</th>\n",
       "      <td>4702</td>\n",
       "      <td>185236.0</td>\n",
       "    </tr>\n",
       "  </tbody>\n",
       "</table>\n",
       "<p>320672 rows × 2 columns</p>\n",
       "</div>"
      ],
      "text/plain": [
       "           id  player_api_id\n",
       "0        4770        30458.0\n",
       "1        4771        41186.0\n",
       "2        4772            NaN\n",
       "3        4774       145039.0\n",
       "4        4775        26233.0\n",
       "...       ...            ...\n",
       "320667  24492       200917.0\n",
       "320668  24495       179083.0\n",
       "320669  24497        25462.0\n",
       "320670   4705        47382.0\n",
       "320671   4702       185236.0\n",
       "\n",
       "[320672 rows x 2 columns]"
      ]
     },
     "execution_count": 57,
     "metadata": {},
     "output_type": "execute_result"
    }
   ],
   "source": [
    "player_matches_df = pd.melt(top_5_leagues_matches_df, id_vars=[\"id\"], value_vars=home_player_cols+away_player_cols, value_name=\"player_api_id\").drop(\"variable\", axis=1)\n",
    "player_matches_df"
   ]
  },
  {
   "cell_type": "code",
   "execution_count": 58,
   "metadata": {},
   "outputs": [
    {
     "data": {
      "text/html": [
       "<div>\n",
       "<style scoped>\n",
       "    .dataframe tbody tr th:only-of-type {\n",
       "        vertical-align: middle;\n",
       "    }\n",
       "\n",
       "    .dataframe tbody tr th {\n",
       "        vertical-align: top;\n",
       "    }\n",
       "\n",
       "    .dataframe thead th {\n",
       "        text-align: right;\n",
       "    }\n",
       "</style>\n",
       "<table border=\"1\" class=\"dataframe\">\n",
       "  <thead>\n",
       "    <tr style=\"text-align: right;\">\n",
       "      <th></th>\n",
       "      <th>league_id</th>\n",
       "      <th>player_api_id</th>\n",
       "    </tr>\n",
       "  </thead>\n",
       "  <tbody>\n",
       "    <tr>\n",
       "      <th>0</th>\n",
       "      <td>4769</td>\n",
       "      <td>30458.0</td>\n",
       "    </tr>\n",
       "    <tr>\n",
       "      <th>1</th>\n",
       "      <td>4769</td>\n",
       "      <td>41186.0</td>\n",
       "    </tr>\n",
       "    <tr>\n",
       "      <th>2</th>\n",
       "      <td>4769</td>\n",
       "      <td>NaN</td>\n",
       "    </tr>\n",
       "    <tr>\n",
       "      <th>3</th>\n",
       "      <td>4769</td>\n",
       "      <td>145039.0</td>\n",
       "    </tr>\n",
       "    <tr>\n",
       "      <th>4</th>\n",
       "      <td>4769</td>\n",
       "      <td>26233.0</td>\n",
       "    </tr>\n",
       "    <tr>\n",
       "      <th>...</th>\n",
       "      <td>...</td>\n",
       "      <td>...</td>\n",
       "    </tr>\n",
       "    <tr>\n",
       "      <th>320667</th>\n",
       "      <td>21518</td>\n",
       "      <td>200917.0</td>\n",
       "    </tr>\n",
       "    <tr>\n",
       "      <th>320668</th>\n",
       "      <td>21518</td>\n",
       "      <td>179083.0</td>\n",
       "    </tr>\n",
       "    <tr>\n",
       "      <th>320669</th>\n",
       "      <td>21518</td>\n",
       "      <td>25462.0</td>\n",
       "    </tr>\n",
       "    <tr>\n",
       "      <th>320670</th>\n",
       "      <td>1729</td>\n",
       "      <td>47382.0</td>\n",
       "    </tr>\n",
       "    <tr>\n",
       "      <th>320671</th>\n",
       "      <td>1729</td>\n",
       "      <td>185236.0</td>\n",
       "    </tr>\n",
       "  </tbody>\n",
       "</table>\n",
       "<p>320672 rows × 2 columns</p>\n",
       "</div>"
      ],
      "text/plain": [
       "        league_id  player_api_id\n",
       "0            4769        30458.0\n",
       "1            4769        41186.0\n",
       "2            4769            NaN\n",
       "3            4769       145039.0\n",
       "4            4769        26233.0\n",
       "...           ...            ...\n",
       "320667      21518       200917.0\n",
       "320668      21518       179083.0\n",
       "320669      21518        25462.0\n",
       "320670       1729        47382.0\n",
       "320671       1729       185236.0\n",
       "\n",
       "[320672 rows x 2 columns]"
      ]
     },
     "execution_count": 58,
     "metadata": {},
     "output_type": "execute_result"
    }
   ],
   "source": [
    "league_matches_df = pd.melt(top_5_leagues_matches_df, id_vars=[\"league_id\"], value_vars=home_player_cols+away_player_cols, value_name=\"player_api_id\").drop(\"variable\", axis=1)\n",
    "league_matches_df"
   ]
  },
  {
   "cell_type": "code",
   "execution_count": 59,
   "metadata": {},
   "outputs": [
    {
     "data": {
      "text/html": [
       "<div>\n",
       "<style scoped>\n",
       "    .dataframe tbody tr th:only-of-type {\n",
       "        vertical-align: middle;\n",
       "    }\n",
       "\n",
       "    .dataframe tbody tr th {\n",
       "        vertical-align: top;\n",
       "    }\n",
       "\n",
       "    .dataframe thead th {\n",
       "        text-align: right;\n",
       "    }\n",
       "</style>\n",
       "<table border=\"1\" class=\"dataframe\">\n",
       "  <thead>\n",
       "    <tr style=\"text-align: right;\">\n",
       "      <th></th>\n",
       "      <th>season</th>\n",
       "      <th>player_api_id</th>\n",
       "    </tr>\n",
       "  </thead>\n",
       "  <tbody>\n",
       "    <tr>\n",
       "      <th>0</th>\n",
       "      <td>2008/2009</td>\n",
       "      <td>30458.0</td>\n",
       "    </tr>\n",
       "    <tr>\n",
       "      <th>1</th>\n",
       "      <td>2008/2009</td>\n",
       "      <td>41186.0</td>\n",
       "    </tr>\n",
       "    <tr>\n",
       "      <th>2</th>\n",
       "      <td>2008/2009</td>\n",
       "      <td>NaN</td>\n",
       "    </tr>\n",
       "    <tr>\n",
       "      <th>3</th>\n",
       "      <td>2008/2009</td>\n",
       "      <td>145039.0</td>\n",
       "    </tr>\n",
       "    <tr>\n",
       "      <th>4</th>\n",
       "      <td>2008/2009</td>\n",
       "      <td>26233.0</td>\n",
       "    </tr>\n",
       "    <tr>\n",
       "      <th>...</th>\n",
       "      <td>...</td>\n",
       "      <td>...</td>\n",
       "    </tr>\n",
       "    <tr>\n",
       "      <th>320667</th>\n",
       "      <td>2015/2016</td>\n",
       "      <td>200917.0</td>\n",
       "    </tr>\n",
       "    <tr>\n",
       "      <th>320668</th>\n",
       "      <td>2015/2016</td>\n",
       "      <td>179083.0</td>\n",
       "    </tr>\n",
       "    <tr>\n",
       "      <th>320669</th>\n",
       "      <td>2015/2016</td>\n",
       "      <td>25462.0</td>\n",
       "    </tr>\n",
       "    <tr>\n",
       "      <th>320670</th>\n",
       "      <td>2015/2016</td>\n",
       "      <td>47382.0</td>\n",
       "    </tr>\n",
       "    <tr>\n",
       "      <th>320671</th>\n",
       "      <td>2015/2016</td>\n",
       "      <td>185236.0</td>\n",
       "    </tr>\n",
       "  </tbody>\n",
       "</table>\n",
       "<p>320672 rows × 2 columns</p>\n",
       "</div>"
      ],
      "text/plain": [
       "           season  player_api_id\n",
       "0       2008/2009        30458.0\n",
       "1       2008/2009        41186.0\n",
       "2       2008/2009            NaN\n",
       "3       2008/2009       145039.0\n",
       "4       2008/2009        26233.0\n",
       "...           ...            ...\n",
       "320667  2015/2016       200917.0\n",
       "320668  2015/2016       179083.0\n",
       "320669  2015/2016        25462.0\n",
       "320670  2015/2016        47382.0\n",
       "320671  2015/2016       185236.0\n",
       "\n",
       "[320672 rows x 2 columns]"
      ]
     },
     "execution_count": 59,
     "metadata": {},
     "output_type": "execute_result"
    }
   ],
   "source": [
    "season_matches_df = pd.melt(top_5_leagues_matches_df, id_vars=[\"season\"], value_vars=home_player_cols+away_player_cols, value_name=\"player_api_id\").drop(\"variable\", axis=1)\n",
    "season_matches_df"
   ]
  },
  {
   "cell_type": "code",
   "execution_count": 60,
   "metadata": {},
   "outputs": [
    {
     "data": {
      "text/html": [
       "<div>\n",
       "<style scoped>\n",
       "    .dataframe tbody tr th:only-of-type {\n",
       "        vertical-align: middle;\n",
       "    }\n",
       "\n",
       "    .dataframe tbody tr th {\n",
       "        vertical-align: top;\n",
       "    }\n",
       "\n",
       "    .dataframe thead th {\n",
       "        text-align: right;\n",
       "    }\n",
       "</style>\n",
       "<table border=\"1\" class=\"dataframe\">\n",
       "  <thead>\n",
       "    <tr style=\"text-align: right;\">\n",
       "      <th></th>\n",
       "      <th>id</th>\n",
       "      <th>league_id</th>\n",
       "      <th>season</th>\n",
       "      <th>player_api_id</th>\n",
       "    </tr>\n",
       "  </thead>\n",
       "  <tbody>\n",
       "    <tr>\n",
       "      <th>0</th>\n",
       "      <td>4770</td>\n",
       "      <td>4769</td>\n",
       "      <td>2008/2009</td>\n",
       "      <td>30458.0</td>\n",
       "    </tr>\n",
       "    <tr>\n",
       "      <th>1</th>\n",
       "      <td>4771</td>\n",
       "      <td>4769</td>\n",
       "      <td>2008/2009</td>\n",
       "      <td>41186.0</td>\n",
       "    </tr>\n",
       "    <tr>\n",
       "      <th>2</th>\n",
       "      <td>4772</td>\n",
       "      <td>4769</td>\n",
       "      <td>2008/2009</td>\n",
       "      <td>NaN</td>\n",
       "    </tr>\n",
       "    <tr>\n",
       "      <th>3</th>\n",
       "      <td>4774</td>\n",
       "      <td>4769</td>\n",
       "      <td>2008/2009</td>\n",
       "      <td>145039.0</td>\n",
       "    </tr>\n",
       "    <tr>\n",
       "      <th>4</th>\n",
       "      <td>4775</td>\n",
       "      <td>4769</td>\n",
       "      <td>2008/2009</td>\n",
       "      <td>26233.0</td>\n",
       "    </tr>\n",
       "  </tbody>\n",
       "</table>\n",
       "</div>"
      ],
      "text/plain": [
       "     id  league_id     season  player_api_id\n",
       "0  4770       4769  2008/2009        30458.0\n",
       "1  4771       4769  2008/2009        41186.0\n",
       "2  4772       4769  2008/2009            NaN\n",
       "3  4774       4769  2008/2009       145039.0\n",
       "4  4775       4769  2008/2009        26233.0"
      ]
     },
     "execution_count": 60,
     "metadata": {},
     "output_type": "execute_result"
    }
   ],
   "source": [
    "player_matches_df = player_matches_df.merge(league_matches_df, left_index=True, right_index=True).merge(season_matches_df, left_index=True, right_index=True).drop(labels=[\"player_api_id_x\", \"player_api_id_y\"], axis=1)\n",
    "player_matches_df.head()"
   ]
  },
  {
   "cell_type": "code",
   "execution_count": 61,
   "metadata": {},
   "outputs": [
    {
     "data": {
      "text/html": [
       "<div>\n",
       "<style scoped>\n",
       "    .dataframe tbody tr th:only-of-type {\n",
       "        vertical-align: middle;\n",
       "    }\n",
       "\n",
       "    .dataframe tbody tr th {\n",
       "        vertical-align: top;\n",
       "    }\n",
       "\n",
       "    .dataframe thead th {\n",
       "        text-align: right;\n",
       "    }\n",
       "</style>\n",
       "<table border=\"1\" class=\"dataframe\">\n",
       "  <thead>\n",
       "    <tr style=\"text-align: right;\">\n",
       "      <th></th>\n",
       "      <th>id</th>\n",
       "      <th>league_id</th>\n",
       "      <th>season</th>\n",
       "      <th>player_api_id</th>\n",
       "    </tr>\n",
       "  </thead>\n",
       "  <tbody>\n",
       "    <tr>\n",
       "      <th>0</th>\n",
       "      <td>4770</td>\n",
       "      <td>4769</td>\n",
       "      <td>2008/2009</td>\n",
       "      <td>30458.0</td>\n",
       "    </tr>\n",
       "    <tr>\n",
       "      <th>1</th>\n",
       "      <td>4771</td>\n",
       "      <td>4769</td>\n",
       "      <td>2008/2009</td>\n",
       "      <td>41186.0</td>\n",
       "    </tr>\n",
       "    <tr>\n",
       "      <th>2</th>\n",
       "      <td>4772</td>\n",
       "      <td>4769</td>\n",
       "      <td>2008/2009</td>\n",
       "      <td>NaN</td>\n",
       "    </tr>\n",
       "    <tr>\n",
       "      <th>3</th>\n",
       "      <td>4774</td>\n",
       "      <td>4769</td>\n",
       "      <td>2008/2009</td>\n",
       "      <td>145039.0</td>\n",
       "    </tr>\n",
       "    <tr>\n",
       "      <th>4</th>\n",
       "      <td>4775</td>\n",
       "      <td>4769</td>\n",
       "      <td>2008/2009</td>\n",
       "      <td>26233.0</td>\n",
       "    </tr>\n",
       "  </tbody>\n",
       "</table>\n",
       "</div>"
      ],
      "text/plain": [
       "     id  league_id     season  player_api_id\n",
       "0  4770       4769  2008/2009        30458.0\n",
       "1  4771       4769  2008/2009        41186.0\n",
       "2  4772       4769  2008/2009            NaN\n",
       "3  4774       4769  2008/2009       145039.0\n",
       "4  4775       4769  2008/2009        26233.0"
      ]
     },
     "execution_count": 61,
     "metadata": {},
     "output_type": "execute_result"
    }
   ],
   "source": [
    "# preserve only the first occurrence of a player in a season\n",
    "player_matches_df = player_matches_df[~(player_matches_df[['player_api_id', 'season']].duplicated())]\n",
    "player_matches_df.head()"
   ]
  },
  {
   "cell_type": "code",
   "execution_count": 62,
   "metadata": {},
   "outputs": [
    {
     "data": {
      "text/html": [
       "<div>\n",
       "<style scoped>\n",
       "    .dataframe tbody tr th:only-of-type {\n",
       "        vertical-align: middle;\n",
       "    }\n",
       "\n",
       "    .dataframe tbody tr th {\n",
       "        vertical-align: top;\n",
       "    }\n",
       "\n",
       "    .dataframe thead th {\n",
       "        text-align: right;\n",
       "    }\n",
       "</style>\n",
       "<table border=\"1\" class=\"dataframe\">\n",
       "  <thead>\n",
       "    <tr style=\"text-align: right;\">\n",
       "      <th></th>\n",
       "      <th>id_x</th>\n",
       "      <th>player_fifa_api_id</th>\n",
       "      <th>player_api_id</th>\n",
       "      <th>date</th>\n",
       "      <th>overall_rating</th>\n",
       "      <th>potential</th>\n",
       "      <th>preferred_foot</th>\n",
       "      <th>attacking_work_rate</th>\n",
       "      <th>defensive_work_rate</th>\n",
       "      <th>crossing</th>\n",
       "      <th>...</th>\n",
       "      <th>standing_tackle</th>\n",
       "      <th>sliding_tackle</th>\n",
       "      <th>gk_diving</th>\n",
       "      <th>gk_handling</th>\n",
       "      <th>gk_kicking</th>\n",
       "      <th>gk_positioning</th>\n",
       "      <th>gk_reflexes</th>\n",
       "      <th>season</th>\n",
       "      <th>id_y</th>\n",
       "      <th>league_id</th>\n",
       "    </tr>\n",
       "  </thead>\n",
       "  <tbody>\n",
       "    <tr>\n",
       "      <th>0</th>\n",
       "      <td>6</td>\n",
       "      <td>189615</td>\n",
       "      <td>155782</td>\n",
       "      <td>2016-04-21</td>\n",
       "      <td>74.0</td>\n",
       "      <td>76.0</td>\n",
       "      <td>left</td>\n",
       "      <td>high</td>\n",
       "      <td>medium</td>\n",
       "      <td>80.0</td>\n",
       "      <td>...</td>\n",
       "      <td>75.0</td>\n",
       "      <td>78.0</td>\n",
       "      <td>14.0</td>\n",
       "      <td>7.0</td>\n",
       "      <td>9.0</td>\n",
       "      <td>9.0</td>\n",
       "      <td>12.0</td>\n",
       "      <td>2015/2016</td>\n",
       "      <td>4595.0</td>\n",
       "      <td>1729.0</td>\n",
       "    </tr>\n",
       "    <tr>\n",
       "      <th>1</th>\n",
       "      <td>7</td>\n",
       "      <td>189615</td>\n",
       "      <td>155782</td>\n",
       "      <td>2016-04-07</td>\n",
       "      <td>74.0</td>\n",
       "      <td>76.0</td>\n",
       "      <td>left</td>\n",
       "      <td>high</td>\n",
       "      <td>medium</td>\n",
       "      <td>80.0</td>\n",
       "      <td>...</td>\n",
       "      <td>75.0</td>\n",
       "      <td>78.0</td>\n",
       "      <td>14.0</td>\n",
       "      <td>7.0</td>\n",
       "      <td>9.0</td>\n",
       "      <td>9.0</td>\n",
       "      <td>12.0</td>\n",
       "      <td>2015/2016</td>\n",
       "      <td>4595.0</td>\n",
       "      <td>1729.0</td>\n",
       "    </tr>\n",
       "    <tr>\n",
       "      <th>2</th>\n",
       "      <td>8</td>\n",
       "      <td>189615</td>\n",
       "      <td>155782</td>\n",
       "      <td>2016-01-07</td>\n",
       "      <td>73.0</td>\n",
       "      <td>75.0</td>\n",
       "      <td>left</td>\n",
       "      <td>high</td>\n",
       "      <td>medium</td>\n",
       "      <td>79.0</td>\n",
       "      <td>...</td>\n",
       "      <td>75.0</td>\n",
       "      <td>78.0</td>\n",
       "      <td>14.0</td>\n",
       "      <td>7.0</td>\n",
       "      <td>9.0</td>\n",
       "      <td>9.0</td>\n",
       "      <td>12.0</td>\n",
       "      <td>2015/2016</td>\n",
       "      <td>4595.0</td>\n",
       "      <td>1729.0</td>\n",
       "    </tr>\n",
       "    <tr>\n",
       "      <th>3</th>\n",
       "      <td>9</td>\n",
       "      <td>189615</td>\n",
       "      <td>155782</td>\n",
       "      <td>2015-12-24</td>\n",
       "      <td>73.0</td>\n",
       "      <td>75.0</td>\n",
       "      <td>left</td>\n",
       "      <td>high</td>\n",
       "      <td>medium</td>\n",
       "      <td>79.0</td>\n",
       "      <td>...</td>\n",
       "      <td>75.0</td>\n",
       "      <td>78.0</td>\n",
       "      <td>14.0</td>\n",
       "      <td>7.0</td>\n",
       "      <td>9.0</td>\n",
       "      <td>9.0</td>\n",
       "      <td>12.0</td>\n",
       "      <td>2015/2016</td>\n",
       "      <td>4595.0</td>\n",
       "      <td>1729.0</td>\n",
       "    </tr>\n",
       "    <tr>\n",
       "      <th>4</th>\n",
       "      <td>10</td>\n",
       "      <td>189615</td>\n",
       "      <td>155782</td>\n",
       "      <td>2015-12-17</td>\n",
       "      <td>73.0</td>\n",
       "      <td>75.0</td>\n",
       "      <td>left</td>\n",
       "      <td>high</td>\n",
       "      <td>medium</td>\n",
       "      <td>79.0</td>\n",
       "      <td>...</td>\n",
       "      <td>75.0</td>\n",
       "      <td>78.0</td>\n",
       "      <td>14.0</td>\n",
       "      <td>7.0</td>\n",
       "      <td>9.0</td>\n",
       "      <td>9.0</td>\n",
       "      <td>12.0</td>\n",
       "      <td>2015/2016</td>\n",
       "      <td>4595.0</td>\n",
       "      <td>1729.0</td>\n",
       "    </tr>\n",
       "    <tr>\n",
       "      <th>...</th>\n",
       "      <td>...</td>\n",
       "      <td>...</td>\n",
       "      <td>...</td>\n",
       "      <td>...</td>\n",
       "      <td>...</td>\n",
       "      <td>...</td>\n",
       "      <td>...</td>\n",
       "      <td>...</td>\n",
       "      <td>...</td>\n",
       "      <td>...</td>\n",
       "      <td>...</td>\n",
       "      <td>...</td>\n",
       "      <td>...</td>\n",
       "      <td>...</td>\n",
       "      <td>...</td>\n",
       "      <td>...</td>\n",
       "      <td>...</td>\n",
       "      <td>...</td>\n",
       "      <td>...</td>\n",
       "      <td>...</td>\n",
       "      <td>...</td>\n",
       "    </tr>\n",
       "    <tr>\n",
       "      <th>121634</th>\n",
       "      <td>183974</td>\n",
       "      <td>102359</td>\n",
       "      <td>39902</td>\n",
       "      <td>2009-08-30</td>\n",
       "      <td>83.0</td>\n",
       "      <td>85.0</td>\n",
       "      <td>right</td>\n",
       "      <td>medium</td>\n",
       "      <td>low</td>\n",
       "      <td>84.0</td>\n",
       "      <td>...</td>\n",
       "      <td>31.0</td>\n",
       "      <td>30.0</td>\n",
       "      <td>9.0</td>\n",
       "      <td>20.0</td>\n",
       "      <td>84.0</td>\n",
       "      <td>20.0</td>\n",
       "      <td>20.0</td>\n",
       "      <td>2009/2010</td>\n",
       "      <td>8115.0</td>\n",
       "      <td>7809.0</td>\n",
       "    </tr>\n",
       "    <tr>\n",
       "      <th>121635</th>\n",
       "      <td>183975</td>\n",
       "      <td>102359</td>\n",
       "      <td>39902</td>\n",
       "      <td>2009-02-22</td>\n",
       "      <td>78.0</td>\n",
       "      <td>80.0</td>\n",
       "      <td>right</td>\n",
       "      <td>medium</td>\n",
       "      <td>low</td>\n",
       "      <td>74.0</td>\n",
       "      <td>...</td>\n",
       "      <td>31.0</td>\n",
       "      <td>30.0</td>\n",
       "      <td>9.0</td>\n",
       "      <td>20.0</td>\n",
       "      <td>73.0</td>\n",
       "      <td>20.0</td>\n",
       "      <td>20.0</td>\n",
       "      <td>2008/2009</td>\n",
       "      <td>8100.0</td>\n",
       "      <td>7809.0</td>\n",
       "    </tr>\n",
       "    <tr>\n",
       "      <th>121636</th>\n",
       "      <td>183976</td>\n",
       "      <td>102359</td>\n",
       "      <td>39902</td>\n",
       "      <td>2008-08-30</td>\n",
       "      <td>77.0</td>\n",
       "      <td>80.0</td>\n",
       "      <td>right</td>\n",
       "      <td>medium</td>\n",
       "      <td>low</td>\n",
       "      <td>74.0</td>\n",
       "      <td>...</td>\n",
       "      <td>31.0</td>\n",
       "      <td>30.0</td>\n",
       "      <td>9.0</td>\n",
       "      <td>20.0</td>\n",
       "      <td>73.0</td>\n",
       "      <td>20.0</td>\n",
       "      <td>20.0</td>\n",
       "      <td>2008/2009</td>\n",
       "      <td>8100.0</td>\n",
       "      <td>7809.0</td>\n",
       "    </tr>\n",
       "    <tr>\n",
       "      <th>121637</th>\n",
       "      <td>183977</td>\n",
       "      <td>102359</td>\n",
       "      <td>39902</td>\n",
       "      <td>2007-08-30</td>\n",
       "      <td>78.0</td>\n",
       "      <td>81.0</td>\n",
       "      <td>right</td>\n",
       "      <td>medium</td>\n",
       "      <td>low</td>\n",
       "      <td>74.0</td>\n",
       "      <td>...</td>\n",
       "      <td>32.0</td>\n",
       "      <td>30.0</td>\n",
       "      <td>9.0</td>\n",
       "      <td>20.0</td>\n",
       "      <td>73.0</td>\n",
       "      <td>20.0</td>\n",
       "      <td>20.0</td>\n",
       "      <td>NaN</td>\n",
       "      <td>NaN</td>\n",
       "      <td>NaN</td>\n",
       "    </tr>\n",
       "    <tr>\n",
       "      <th>121638</th>\n",
       "      <td>183978</td>\n",
       "      <td>102359</td>\n",
       "      <td>39902</td>\n",
       "      <td>2007-02-22</td>\n",
       "      <td>80.0</td>\n",
       "      <td>81.0</td>\n",
       "      <td>right</td>\n",
       "      <td>medium</td>\n",
       "      <td>low</td>\n",
       "      <td>74.0</td>\n",
       "      <td>...</td>\n",
       "      <td>32.0</td>\n",
       "      <td>30.0</td>\n",
       "      <td>9.0</td>\n",
       "      <td>9.0</td>\n",
       "      <td>78.0</td>\n",
       "      <td>7.0</td>\n",
       "      <td>15.0</td>\n",
       "      <td>NaN</td>\n",
       "      <td>NaN</td>\n",
       "      <td>NaN</td>\n",
       "    </tr>\n",
       "  </tbody>\n",
       "</table>\n",
       "<p>121639 rows × 45 columns</p>\n",
       "</div>"
      ],
      "text/plain": [
       "          id_x  player_fifa_api_id  player_api_id       date  overall_rating  \\\n",
       "0            6              189615         155782 2016-04-21            74.0   \n",
       "1            7              189615         155782 2016-04-07            74.0   \n",
       "2            8              189615         155782 2016-01-07            73.0   \n",
       "3            9              189615         155782 2015-12-24            73.0   \n",
       "4           10              189615         155782 2015-12-17            73.0   \n",
       "...        ...                 ...            ...        ...             ...   \n",
       "121634  183974              102359          39902 2009-08-30            83.0   \n",
       "121635  183975              102359          39902 2009-02-22            78.0   \n",
       "121636  183976              102359          39902 2008-08-30            77.0   \n",
       "121637  183977              102359          39902 2007-08-30            78.0   \n",
       "121638  183978              102359          39902 2007-02-22            80.0   \n",
       "\n",
       "        potential preferred_foot attacking_work_rate defensive_work_rate  \\\n",
       "0            76.0           left                high              medium   \n",
       "1            76.0           left                high              medium   \n",
       "2            75.0           left                high              medium   \n",
       "3            75.0           left                high              medium   \n",
       "4            75.0           left                high              medium   \n",
       "...           ...            ...                 ...                 ...   \n",
       "121634       85.0          right              medium                 low   \n",
       "121635       80.0          right              medium                 low   \n",
       "121636       80.0          right              medium                 low   \n",
       "121637       81.0          right              medium                 low   \n",
       "121638       81.0          right              medium                 low   \n",
       "\n",
       "        crossing  ...  standing_tackle  sliding_tackle  gk_diving  \\\n",
       "0           80.0  ...             75.0            78.0       14.0   \n",
       "1           80.0  ...             75.0            78.0       14.0   \n",
       "2           79.0  ...             75.0            78.0       14.0   \n",
       "3           79.0  ...             75.0            78.0       14.0   \n",
       "4           79.0  ...             75.0            78.0       14.0   \n",
       "...          ...  ...              ...             ...        ...   \n",
       "121634      84.0  ...             31.0            30.0        9.0   \n",
       "121635      74.0  ...             31.0            30.0        9.0   \n",
       "121636      74.0  ...             31.0            30.0        9.0   \n",
       "121637      74.0  ...             32.0            30.0        9.0   \n",
       "121638      74.0  ...             32.0            30.0        9.0   \n",
       "\n",
       "        gk_handling  gk_kicking  gk_positioning  gk_reflexes     season  \\\n",
       "0               7.0         9.0             9.0         12.0  2015/2016   \n",
       "1               7.0         9.0             9.0         12.0  2015/2016   \n",
       "2               7.0         9.0             9.0         12.0  2015/2016   \n",
       "3               7.0         9.0             9.0         12.0  2015/2016   \n",
       "4               7.0         9.0             9.0         12.0  2015/2016   \n",
       "...             ...         ...             ...          ...        ...   \n",
       "121634         20.0        84.0            20.0         20.0  2009/2010   \n",
       "121635         20.0        73.0            20.0         20.0  2008/2009   \n",
       "121636         20.0        73.0            20.0         20.0  2008/2009   \n",
       "121637         20.0        73.0            20.0         20.0        NaN   \n",
       "121638          9.0        78.0             7.0         15.0        NaN   \n",
       "\n",
       "          id_y  league_id  \n",
       "0       4595.0     1729.0  \n",
       "1       4595.0     1729.0  \n",
       "2       4595.0     1729.0  \n",
       "3       4595.0     1729.0  \n",
       "4       4595.0     1729.0  \n",
       "...        ...        ...  \n",
       "121634  8115.0     7809.0  \n",
       "121635  8100.0     7809.0  \n",
       "121636  8100.0     7809.0  \n",
       "121637     NaN        NaN  \n",
       "121638     NaN        NaN  \n",
       "\n",
       "[121639 rows x 45 columns]"
      ]
     },
     "execution_count": 62,
     "metadata": {},
     "output_type": "execute_result"
    }
   ],
   "source": [
    "player_attributes_df = pd.merge(player_attributes_df, player_matches_df, left_on=['player_api_id', 'season'], right_on=['player_api_id', 'season'], how='left')\n",
    "player_attributes_df"
   ]
  },
  {
   "cell_type": "code",
   "execution_count": 63,
   "metadata": {},
   "outputs": [
    {
     "data": {
      "text/html": [
       "<div>\n",
       "<style scoped>\n",
       "    .dataframe tbody tr th:only-of-type {\n",
       "        vertical-align: middle;\n",
       "    }\n",
       "\n",
       "    .dataframe tbody tr th {\n",
       "        vertical-align: top;\n",
       "    }\n",
       "\n",
       "    .dataframe thead th {\n",
       "        text-align: right;\n",
       "    }\n",
       "</style>\n",
       "<table border=\"1\" class=\"dataframe\">\n",
       "  <thead>\n",
       "    <tr style=\"text-align: right;\">\n",
       "      <th></th>\n",
       "      <th>id_x</th>\n",
       "      <th>player_fifa_api_id</th>\n",
       "      <th>player_api_id</th>\n",
       "      <th>date</th>\n",
       "      <th>overall_rating</th>\n",
       "      <th>potential</th>\n",
       "      <th>preferred_foot</th>\n",
       "      <th>attacking_work_rate</th>\n",
       "      <th>defensive_work_rate</th>\n",
       "      <th>crossing</th>\n",
       "      <th>...</th>\n",
       "      <th>standing_tackle</th>\n",
       "      <th>sliding_tackle</th>\n",
       "      <th>gk_diving</th>\n",
       "      <th>gk_handling</th>\n",
       "      <th>gk_kicking</th>\n",
       "      <th>gk_positioning</th>\n",
       "      <th>gk_reflexes</th>\n",
       "      <th>season</th>\n",
       "      <th>id_y</th>\n",
       "      <th>league_id</th>\n",
       "    </tr>\n",
       "  </thead>\n",
       "  <tbody>\n",
       "    <tr>\n",
       "      <th>0</th>\n",
       "      <td>6</td>\n",
       "      <td>189615</td>\n",
       "      <td>155782</td>\n",
       "      <td>2016-04-21</td>\n",
       "      <td>74.0</td>\n",
       "      <td>76.0</td>\n",
       "      <td>left</td>\n",
       "      <td>high</td>\n",
       "      <td>medium</td>\n",
       "      <td>80.0</td>\n",
       "      <td>...</td>\n",
       "      <td>75.0</td>\n",
       "      <td>78.0</td>\n",
       "      <td>14.0</td>\n",
       "      <td>7.0</td>\n",
       "      <td>9.0</td>\n",
       "      <td>9.0</td>\n",
       "      <td>12.0</td>\n",
       "      <td>2015/2016</td>\n",
       "      <td>4595.0</td>\n",
       "      <td>1729.0</td>\n",
       "    </tr>\n",
       "    <tr>\n",
       "      <th>1</th>\n",
       "      <td>7</td>\n",
       "      <td>189615</td>\n",
       "      <td>155782</td>\n",
       "      <td>2016-04-07</td>\n",
       "      <td>74.0</td>\n",
       "      <td>76.0</td>\n",
       "      <td>left</td>\n",
       "      <td>high</td>\n",
       "      <td>medium</td>\n",
       "      <td>80.0</td>\n",
       "      <td>...</td>\n",
       "      <td>75.0</td>\n",
       "      <td>78.0</td>\n",
       "      <td>14.0</td>\n",
       "      <td>7.0</td>\n",
       "      <td>9.0</td>\n",
       "      <td>9.0</td>\n",
       "      <td>12.0</td>\n",
       "      <td>2015/2016</td>\n",
       "      <td>4595.0</td>\n",
       "      <td>1729.0</td>\n",
       "    </tr>\n",
       "    <tr>\n",
       "      <th>2</th>\n",
       "      <td>8</td>\n",
       "      <td>189615</td>\n",
       "      <td>155782</td>\n",
       "      <td>2016-01-07</td>\n",
       "      <td>73.0</td>\n",
       "      <td>75.0</td>\n",
       "      <td>left</td>\n",
       "      <td>high</td>\n",
       "      <td>medium</td>\n",
       "      <td>79.0</td>\n",
       "      <td>...</td>\n",
       "      <td>75.0</td>\n",
       "      <td>78.0</td>\n",
       "      <td>14.0</td>\n",
       "      <td>7.0</td>\n",
       "      <td>9.0</td>\n",
       "      <td>9.0</td>\n",
       "      <td>12.0</td>\n",
       "      <td>2015/2016</td>\n",
       "      <td>4595.0</td>\n",
       "      <td>1729.0</td>\n",
       "    </tr>\n",
       "    <tr>\n",
       "      <th>3</th>\n",
       "      <td>9</td>\n",
       "      <td>189615</td>\n",
       "      <td>155782</td>\n",
       "      <td>2015-12-24</td>\n",
       "      <td>73.0</td>\n",
       "      <td>75.0</td>\n",
       "      <td>left</td>\n",
       "      <td>high</td>\n",
       "      <td>medium</td>\n",
       "      <td>79.0</td>\n",
       "      <td>...</td>\n",
       "      <td>75.0</td>\n",
       "      <td>78.0</td>\n",
       "      <td>14.0</td>\n",
       "      <td>7.0</td>\n",
       "      <td>9.0</td>\n",
       "      <td>9.0</td>\n",
       "      <td>12.0</td>\n",
       "      <td>2015/2016</td>\n",
       "      <td>4595.0</td>\n",
       "      <td>1729.0</td>\n",
       "    </tr>\n",
       "    <tr>\n",
       "      <th>4</th>\n",
       "      <td>10</td>\n",
       "      <td>189615</td>\n",
       "      <td>155782</td>\n",
       "      <td>2015-12-17</td>\n",
       "      <td>73.0</td>\n",
       "      <td>75.0</td>\n",
       "      <td>left</td>\n",
       "      <td>high</td>\n",
       "      <td>medium</td>\n",
       "      <td>79.0</td>\n",
       "      <td>...</td>\n",
       "      <td>75.0</td>\n",
       "      <td>78.0</td>\n",
       "      <td>14.0</td>\n",
       "      <td>7.0</td>\n",
       "      <td>9.0</td>\n",
       "      <td>9.0</td>\n",
       "      <td>12.0</td>\n",
       "      <td>2015/2016</td>\n",
       "      <td>4595.0</td>\n",
       "      <td>1729.0</td>\n",
       "    </tr>\n",
       "    <tr>\n",
       "      <th>...</th>\n",
       "      <td>...</td>\n",
       "      <td>...</td>\n",
       "      <td>...</td>\n",
       "      <td>...</td>\n",
       "      <td>...</td>\n",
       "      <td>...</td>\n",
       "      <td>...</td>\n",
       "      <td>...</td>\n",
       "      <td>...</td>\n",
       "      <td>...</td>\n",
       "      <td>...</td>\n",
       "      <td>...</td>\n",
       "      <td>...</td>\n",
       "      <td>...</td>\n",
       "      <td>...</td>\n",
       "      <td>...</td>\n",
       "      <td>...</td>\n",
       "      <td>...</td>\n",
       "      <td>...</td>\n",
       "      <td>...</td>\n",
       "      <td>...</td>\n",
       "    </tr>\n",
       "    <tr>\n",
       "      <th>61637</th>\n",
       "      <td>183965</td>\n",
       "      <td>47058</td>\n",
       "      <td>35506</td>\n",
       "      <td>2009-02-22</td>\n",
       "      <td>70.0</td>\n",
       "      <td>78.0</td>\n",
       "      <td>right</td>\n",
       "      <td>None</td>\n",
       "      <td>_0</td>\n",
       "      <td>48.0</td>\n",
       "      <td>...</td>\n",
       "      <td>74.0</td>\n",
       "      <td>65.0</td>\n",
       "      <td>14.0</td>\n",
       "      <td>25.0</td>\n",
       "      <td>51.0</td>\n",
       "      <td>25.0</td>\n",
       "      <td>25.0</td>\n",
       "      <td>2008/2009</td>\n",
       "      <td>1765.0</td>\n",
       "      <td>1729.0</td>\n",
       "    </tr>\n",
       "    <tr>\n",
       "      <th>61638</th>\n",
       "      <td>183966</td>\n",
       "      <td>47058</td>\n",
       "      <td>35506</td>\n",
       "      <td>2008-08-30</td>\n",
       "      <td>72.0</td>\n",
       "      <td>78.0</td>\n",
       "      <td>right</td>\n",
       "      <td>None</td>\n",
       "      <td>_0</td>\n",
       "      <td>48.0</td>\n",
       "      <td>...</td>\n",
       "      <td>78.0</td>\n",
       "      <td>65.0</td>\n",
       "      <td>14.0</td>\n",
       "      <td>25.0</td>\n",
       "      <td>51.0</td>\n",
       "      <td>25.0</td>\n",
       "      <td>25.0</td>\n",
       "      <td>2008/2009</td>\n",
       "      <td>1765.0</td>\n",
       "      <td>1729.0</td>\n",
       "    </tr>\n",
       "    <tr>\n",
       "      <th>61639</th>\n",
       "      <td>183974</td>\n",
       "      <td>102359</td>\n",
       "      <td>39902</td>\n",
       "      <td>2009-08-30</td>\n",
       "      <td>83.0</td>\n",
       "      <td>85.0</td>\n",
       "      <td>right</td>\n",
       "      <td>medium</td>\n",
       "      <td>low</td>\n",
       "      <td>84.0</td>\n",
       "      <td>...</td>\n",
       "      <td>31.0</td>\n",
       "      <td>30.0</td>\n",
       "      <td>9.0</td>\n",
       "      <td>20.0</td>\n",
       "      <td>84.0</td>\n",
       "      <td>20.0</td>\n",
       "      <td>20.0</td>\n",
       "      <td>2009/2010</td>\n",
       "      <td>8115.0</td>\n",
       "      <td>7809.0</td>\n",
       "    </tr>\n",
       "    <tr>\n",
       "      <th>61640</th>\n",
       "      <td>183975</td>\n",
       "      <td>102359</td>\n",
       "      <td>39902</td>\n",
       "      <td>2009-02-22</td>\n",
       "      <td>78.0</td>\n",
       "      <td>80.0</td>\n",
       "      <td>right</td>\n",
       "      <td>medium</td>\n",
       "      <td>low</td>\n",
       "      <td>74.0</td>\n",
       "      <td>...</td>\n",
       "      <td>31.0</td>\n",
       "      <td>30.0</td>\n",
       "      <td>9.0</td>\n",
       "      <td>20.0</td>\n",
       "      <td>73.0</td>\n",
       "      <td>20.0</td>\n",
       "      <td>20.0</td>\n",
       "      <td>2008/2009</td>\n",
       "      <td>8100.0</td>\n",
       "      <td>7809.0</td>\n",
       "    </tr>\n",
       "    <tr>\n",
       "      <th>61641</th>\n",
       "      <td>183976</td>\n",
       "      <td>102359</td>\n",
       "      <td>39902</td>\n",
       "      <td>2008-08-30</td>\n",
       "      <td>77.0</td>\n",
       "      <td>80.0</td>\n",
       "      <td>right</td>\n",
       "      <td>medium</td>\n",
       "      <td>low</td>\n",
       "      <td>74.0</td>\n",
       "      <td>...</td>\n",
       "      <td>31.0</td>\n",
       "      <td>30.0</td>\n",
       "      <td>9.0</td>\n",
       "      <td>20.0</td>\n",
       "      <td>73.0</td>\n",
       "      <td>20.0</td>\n",
       "      <td>20.0</td>\n",
       "      <td>2008/2009</td>\n",
       "      <td>8100.0</td>\n",
       "      <td>7809.0</td>\n",
       "    </tr>\n",
       "  </tbody>\n",
       "</table>\n",
       "<p>61642 rows × 45 columns</p>\n",
       "</div>"
      ],
      "text/plain": [
       "         id_x  player_fifa_api_id  player_api_id       date  overall_rating  \\\n",
       "0           6              189615         155782 2016-04-21            74.0   \n",
       "1           7              189615         155782 2016-04-07            74.0   \n",
       "2           8              189615         155782 2016-01-07            73.0   \n",
       "3           9              189615         155782 2015-12-24            73.0   \n",
       "4          10              189615         155782 2015-12-17            73.0   \n",
       "...       ...                 ...            ...        ...             ...   \n",
       "61637  183965               47058          35506 2009-02-22            70.0   \n",
       "61638  183966               47058          35506 2008-08-30            72.0   \n",
       "61639  183974              102359          39902 2009-08-30            83.0   \n",
       "61640  183975              102359          39902 2009-02-22            78.0   \n",
       "61641  183976              102359          39902 2008-08-30            77.0   \n",
       "\n",
       "       potential preferred_foot attacking_work_rate defensive_work_rate  \\\n",
       "0           76.0           left                high              medium   \n",
       "1           76.0           left                high              medium   \n",
       "2           75.0           left                high              medium   \n",
       "3           75.0           left                high              medium   \n",
       "4           75.0           left                high              medium   \n",
       "...          ...            ...                 ...                 ...   \n",
       "61637       78.0          right                None                  _0   \n",
       "61638       78.0          right                None                  _0   \n",
       "61639       85.0          right              medium                 low   \n",
       "61640       80.0          right              medium                 low   \n",
       "61641       80.0          right              medium                 low   \n",
       "\n",
       "       crossing  ...  standing_tackle  sliding_tackle  gk_diving  gk_handling  \\\n",
       "0          80.0  ...             75.0            78.0       14.0          7.0   \n",
       "1          80.0  ...             75.0            78.0       14.0          7.0   \n",
       "2          79.0  ...             75.0            78.0       14.0          7.0   \n",
       "3          79.0  ...             75.0            78.0       14.0          7.0   \n",
       "4          79.0  ...             75.0            78.0       14.0          7.0   \n",
       "...         ...  ...              ...             ...        ...          ...   \n",
       "61637      48.0  ...             74.0            65.0       14.0         25.0   \n",
       "61638      48.0  ...             78.0            65.0       14.0         25.0   \n",
       "61639      84.0  ...             31.0            30.0        9.0         20.0   \n",
       "61640      74.0  ...             31.0            30.0        9.0         20.0   \n",
       "61641      74.0  ...             31.0            30.0        9.0         20.0   \n",
       "\n",
       "       gk_kicking  gk_positioning  gk_reflexes     season    id_y  league_id  \n",
       "0             9.0             9.0         12.0  2015/2016  4595.0     1729.0  \n",
       "1             9.0             9.0         12.0  2015/2016  4595.0     1729.0  \n",
       "2             9.0             9.0         12.0  2015/2016  4595.0     1729.0  \n",
       "3             9.0             9.0         12.0  2015/2016  4595.0     1729.0  \n",
       "4             9.0             9.0         12.0  2015/2016  4595.0     1729.0  \n",
       "...           ...             ...          ...        ...     ...        ...  \n",
       "61637        51.0            25.0         25.0  2008/2009  1765.0     1729.0  \n",
       "61638        51.0            25.0         25.0  2008/2009  1765.0     1729.0  \n",
       "61639        84.0            20.0         20.0  2009/2010  8115.0     7809.0  \n",
       "61640        73.0            20.0         20.0  2008/2009  8100.0     7809.0  \n",
       "61641        73.0            20.0         20.0  2008/2009  8100.0     7809.0  \n",
       "\n",
       "[61642 rows x 45 columns]"
      ]
     },
     "execution_count": 63,
     "metadata": {},
     "output_type": "execute_result"
    }
   ],
   "source": [
    "player_attributes_df = player_attributes_df[~(player_attributes_df.league_id.isna())]\n",
    "player_attributes_df.reset_index(drop=True, inplace=True)\n",
    "player_attributes_df"
   ]
  },
  {
   "cell_type": "code",
   "execution_count": 64,
   "metadata": {},
   "outputs": [
    {
     "data": {
      "text/html": [
       "<div>\n",
       "<style scoped>\n",
       "    .dataframe tbody tr th:only-of-type {\n",
       "        vertical-align: middle;\n",
       "    }\n",
       "\n",
       "    .dataframe tbody tr th {\n",
       "        vertical-align: top;\n",
       "    }\n",
       "\n",
       "    .dataframe thead th {\n",
       "        text-align: right;\n",
       "    }\n",
       "</style>\n",
       "<table border=\"1\" class=\"dataframe\">\n",
       "  <thead>\n",
       "    <tr style=\"text-align: right;\">\n",
       "      <th></th>\n",
       "      <th>id</th>\n",
       "      <th>player_fifa_api_id</th>\n",
       "      <th>player_api_id</th>\n",
       "      <th>date</th>\n",
       "      <th>overall_rating</th>\n",
       "      <th>potential</th>\n",
       "      <th>preferred_foot</th>\n",
       "      <th>attacking_work_rate</th>\n",
       "      <th>defensive_work_rate</th>\n",
       "      <th>crossing</th>\n",
       "      <th>...</th>\n",
       "      <th>marking</th>\n",
       "      <th>standing_tackle</th>\n",
       "      <th>sliding_tackle</th>\n",
       "      <th>gk_diving</th>\n",
       "      <th>gk_handling</th>\n",
       "      <th>gk_kicking</th>\n",
       "      <th>gk_positioning</th>\n",
       "      <th>gk_reflexes</th>\n",
       "      <th>season</th>\n",
       "      <th>league_id</th>\n",
       "    </tr>\n",
       "  </thead>\n",
       "  <tbody>\n",
       "    <tr>\n",
       "      <th>0</th>\n",
       "      <td>6</td>\n",
       "      <td>189615</td>\n",
       "      <td>155782</td>\n",
       "      <td>2016-04-21</td>\n",
       "      <td>74.0</td>\n",
       "      <td>76.0</td>\n",
       "      <td>left</td>\n",
       "      <td>high</td>\n",
       "      <td>medium</td>\n",
       "      <td>80.0</td>\n",
       "      <td>...</td>\n",
       "      <td>76.0</td>\n",
       "      <td>75.0</td>\n",
       "      <td>78.0</td>\n",
       "      <td>14.0</td>\n",
       "      <td>7.0</td>\n",
       "      <td>9.0</td>\n",
       "      <td>9.0</td>\n",
       "      <td>12.0</td>\n",
       "      <td>2015/2016</td>\n",
       "      <td>1729.0</td>\n",
       "    </tr>\n",
       "    <tr>\n",
       "      <th>1</th>\n",
       "      <td>7</td>\n",
       "      <td>189615</td>\n",
       "      <td>155782</td>\n",
       "      <td>2016-04-07</td>\n",
       "      <td>74.0</td>\n",
       "      <td>76.0</td>\n",
       "      <td>left</td>\n",
       "      <td>high</td>\n",
       "      <td>medium</td>\n",
       "      <td>80.0</td>\n",
       "      <td>...</td>\n",
       "      <td>76.0</td>\n",
       "      <td>75.0</td>\n",
       "      <td>78.0</td>\n",
       "      <td>14.0</td>\n",
       "      <td>7.0</td>\n",
       "      <td>9.0</td>\n",
       "      <td>9.0</td>\n",
       "      <td>12.0</td>\n",
       "      <td>2015/2016</td>\n",
       "      <td>1729.0</td>\n",
       "    </tr>\n",
       "    <tr>\n",
       "      <th>2</th>\n",
       "      <td>8</td>\n",
       "      <td>189615</td>\n",
       "      <td>155782</td>\n",
       "      <td>2016-01-07</td>\n",
       "      <td>73.0</td>\n",
       "      <td>75.0</td>\n",
       "      <td>left</td>\n",
       "      <td>high</td>\n",
       "      <td>medium</td>\n",
       "      <td>79.0</td>\n",
       "      <td>...</td>\n",
       "      <td>76.0</td>\n",
       "      <td>75.0</td>\n",
       "      <td>78.0</td>\n",
       "      <td>14.0</td>\n",
       "      <td>7.0</td>\n",
       "      <td>9.0</td>\n",
       "      <td>9.0</td>\n",
       "      <td>12.0</td>\n",
       "      <td>2015/2016</td>\n",
       "      <td>1729.0</td>\n",
       "    </tr>\n",
       "    <tr>\n",
       "      <th>3</th>\n",
       "      <td>9</td>\n",
       "      <td>189615</td>\n",
       "      <td>155782</td>\n",
       "      <td>2015-12-24</td>\n",
       "      <td>73.0</td>\n",
       "      <td>75.0</td>\n",
       "      <td>left</td>\n",
       "      <td>high</td>\n",
       "      <td>medium</td>\n",
       "      <td>79.0</td>\n",
       "      <td>...</td>\n",
       "      <td>76.0</td>\n",
       "      <td>75.0</td>\n",
       "      <td>78.0</td>\n",
       "      <td>14.0</td>\n",
       "      <td>7.0</td>\n",
       "      <td>9.0</td>\n",
       "      <td>9.0</td>\n",
       "      <td>12.0</td>\n",
       "      <td>2015/2016</td>\n",
       "      <td>1729.0</td>\n",
       "    </tr>\n",
       "    <tr>\n",
       "      <th>4</th>\n",
       "      <td>10</td>\n",
       "      <td>189615</td>\n",
       "      <td>155782</td>\n",
       "      <td>2015-12-17</td>\n",
       "      <td>73.0</td>\n",
       "      <td>75.0</td>\n",
       "      <td>left</td>\n",
       "      <td>high</td>\n",
       "      <td>medium</td>\n",
       "      <td>79.0</td>\n",
       "      <td>...</td>\n",
       "      <td>76.0</td>\n",
       "      <td>75.0</td>\n",
       "      <td>78.0</td>\n",
       "      <td>14.0</td>\n",
       "      <td>7.0</td>\n",
       "      <td>9.0</td>\n",
       "      <td>9.0</td>\n",
       "      <td>12.0</td>\n",
       "      <td>2015/2016</td>\n",
       "      <td>1729.0</td>\n",
       "    </tr>\n",
       "  </tbody>\n",
       "</table>\n",
       "<p>5 rows × 44 columns</p>\n",
       "</div>"
      ],
      "text/plain": [
       "   id  player_fifa_api_id  player_api_id       date  overall_rating  \\\n",
       "0   6              189615         155782 2016-04-21            74.0   \n",
       "1   7              189615         155782 2016-04-07            74.0   \n",
       "2   8              189615         155782 2016-01-07            73.0   \n",
       "3   9              189615         155782 2015-12-24            73.0   \n",
       "4  10              189615         155782 2015-12-17            73.0   \n",
       "\n",
       "   potential preferred_foot attacking_work_rate defensive_work_rate  crossing  \\\n",
       "0       76.0           left                high              medium      80.0   \n",
       "1       76.0           left                high              medium      80.0   \n",
       "2       75.0           left                high              medium      79.0   \n",
       "3       75.0           left                high              medium      79.0   \n",
       "4       75.0           left                high              medium      79.0   \n",
       "\n",
       "   ...  marking  standing_tackle  sliding_tackle  gk_diving  gk_handling  \\\n",
       "0  ...     76.0             75.0            78.0       14.0          7.0   \n",
       "1  ...     76.0             75.0            78.0       14.0          7.0   \n",
       "2  ...     76.0             75.0            78.0       14.0          7.0   \n",
       "3  ...     76.0             75.0            78.0       14.0          7.0   \n",
       "4  ...     76.0             75.0            78.0       14.0          7.0   \n",
       "\n",
       "   gk_kicking  gk_positioning  gk_reflexes     season  league_id  \n",
       "0         9.0             9.0         12.0  2015/2016     1729.0  \n",
       "1         9.0             9.0         12.0  2015/2016     1729.0  \n",
       "2         9.0             9.0         12.0  2015/2016     1729.0  \n",
       "3         9.0             9.0         12.0  2015/2016     1729.0  \n",
       "4         9.0             9.0         12.0  2015/2016     1729.0  \n",
       "\n",
       "[5 rows x 44 columns]"
      ]
     },
     "execution_count": 64,
     "metadata": {},
     "output_type": "execute_result"
    }
   ],
   "source": [
    "player_attributes_df = player_attributes_df.rename({\"id_x\": \"id\"}, axis=1).drop(\"id_y\", axis=1)\n",
    "player_attributes_df.head()"
   ]
  }
 ],
 "metadata": {
  "kernelspec": {
   "display_name": "Python 3.10.8 ('alx')",
   "language": "python",
   "name": "python3"
  },
  "language_info": {
   "codemirror_mode": {
    "name": "ipython",
    "version": 3
   },
   "file_extension": ".py",
   "mimetype": "text/x-python",
   "name": "python",
   "nbconvert_exporter": "python",
   "pygments_lexer": "ipython3",
   "version": "3.10.8"
  },
  "orig_nbformat": 4,
  "vscode": {
   "interpreter": {
    "hash": "39fc0372cf00c3d73b50b37b53c4d69ecde398207ce055a8e211e2a31dd96aef"
   }
  }
 },
 "nbformat": 4,
 "nbformat_minor": 2
}
