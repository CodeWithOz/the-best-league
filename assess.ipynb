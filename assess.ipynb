{
 "cells": [
  {
   "cell_type": "markdown",
   "metadata": {},
   "source": [
    "## List of quality and tidiniess issues in soccer database"
   ]
  },
  {
   "cell_type": "markdown",
   "metadata": {},
   "source": [
    "### Quality"
   ]
  },
  {
   "cell_type": "markdown",
   "metadata": {},
   "source": [
    "##### match table\n",
    "- `date` column should be datetime\n",
    "- `season` should be categorical\n",
    "- figure out what `stage` represents\n",
    "    - represents the matchday\n",
    "    - ACTION: rename to `matchday` and should be categorical\n",
    "- player IDs (`home_player_1` ... `away_player_11`) are null for some matches\n",
    "    - should drop null values\n",
    "- match events (`goal` ... `possession`) are null for some matches\n",
    "    - should drop null values\n",
    "- predictions are null for some matches\n",
    "    - should drop null values\n",
    "- player positions (`home_player_X1` ... `away_player_X11`) are null for some matches\n",
    "    - leave for now as I don't intend to use these values\n",
    "    - so it's better to have the other values that those rows may provide\n",
    "\n",
    "##### player attributes table\n",
    "- `date` column should be datetime\n",
    "- missing a `season` column\n",
    "    - create from date column\n",
    "- preferred foot should be categorical\n",
    "- all attributes missing for some rows\n",
    "    - should drop null values\n",
    "- attacking work rate null for some players\n",
    "    - should drop null values\n",
    "- attacking work rate has strange values\n",
    "    - should normalize values\n",
    "- defensive work rate has strange values\n",
    "    - should normalize values\n",
    "- attacking work rate should be categorical variable\n",
    "- defensive work rate should be categorical variable\n",
    "\n",
    "##### team attributes table\n",
    "- `date` column should be datetime\n",
    "- missing a `season` column\n",
    "    - create from date column\n",
    "- all the columns that end with `Class` should be categorical\n",
    "- `buildUpPlayDribbling` is float, should be int\n",
    "    - not handling because will drop the column\n",
    "- `buildUpPlayDribbling` has (a lot of) null values\n",
    "    - consider dropping the entire column\n",
    "\n",
    "\n",
    "##### champs league table\n",
    "- contains data for years that are not part of our period of interest\n",
    "    - those years should be removed\n",
    "- order assigned to `progress` values is not consistent eg `5. Last 16` and `6. Last 16`\n",
    "    - remove order before making the variables categorical\n",
    "- `progress` should be categorical\n",
    "- missing team api id column\n",
    "    - match from team name and make necessary adjustments\n",
    "- missing a `season` column\n",
    "    - create from year column\n",
    "    - drop rows for years that are not in our timeframe\n",
    "- missing a league id column\n",
    "    - create from country column\n",
    "- inconsistent team names (eg typo in Steaua Bucuresti, shortened names like Bayern Munich and Real Madrid)\n",
    "    - use names in the main team table\n",
    "- potential duplicates (APOEL vs Hapoel tel aviv)\n",
    "    - remove duplicates"
   ]
  },
  {
   "cell_type": "markdown",
   "metadata": {},
   "source": [
    "### Tidiness"
   ]
  },
  {
   "cell_type": "markdown",
   "metadata": {},
   "source": [
    "##### match table\n",
    "- the xml columns (`goal` ... `possession`) contain multiple details that can and should be in a separate table\n",
    "- player positions (`home_player_X1` ... `away_player_X11`) should be in a separate table\n",
    "- match players (`home_player_1` ... `away_player_11`) should be in a separate table\n",
    "\n",
    "##### player attributes table\n",
    "- duplicated rows for the same information (same player and date)\n",
    "\n",
    "##### champs league table\n",
    "- some rows are duplicates"
   ]
  },
  {
   "cell_type": "markdown",
   "metadata": {},
   "source": [
    "### Iterating - Quality"
   ]
  },
  {
   "cell_type": "markdown",
   "metadata": {},
   "source": [
    "##### goal events table\n",
    "- confirm what exactly the `_del` column represents\n",
    "\n",
    "##### shoton events table\n",
    "- confirm what exactly the `y` and `_del` columns represent\n",
    "\n",
    "##### shotoff events table\n",
    "- confirm what exactly the `y` and `_del` columns represent"
   ]
  },
  {
   "cell_type": "markdown",
   "metadata": {},
   "source": [
    "### Iterating - Tidiness"
   ]
  },
  {
   "cell_type": "markdown",
   "metadata": {},
   "source": [
    "##### goal events table"
   ]
  }
 ],
 "metadata": {
  "kernelspec": {
   "display_name": "Python 3.9.6 64-bit",
   "language": "python",
   "name": "python3"
  },
  "language_info": {
   "name": "python",
   "version": "3.9.6"
  },
  "orig_nbformat": 4,
  "vscode": {
   "interpreter": {
    "hash": "31f2aee4e71d21fbe5cf8b01ff0e069b9275f58929596ceb00d14d90e3e16cd6"
   }
  }
 },
 "nbformat": 4,
 "nbformat_minor": 2
}
