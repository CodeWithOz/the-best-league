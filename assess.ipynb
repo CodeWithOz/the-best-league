{
 "cells": [
  {
   "cell_type": "markdown",
   "metadata": {},
   "source": [
    "## List of quality and tidiniess issues in soccer database"
   ]
  },
  {
   "cell_type": "markdown",
   "metadata": {},
   "source": [
    "### Quality"
   ]
  },
  {
   "cell_type": "markdown",
   "metadata": {},
   "source": [
    "#### Visual assessment\n",
    "\n",
    "##### match table\n",
    "- player positions (`home_player_X1` ... `away_player_X11`) are null for some matches\n",
    "- player IDs (`home_player_1` ... `away_player_11`) are null for some matches\n",
    "- match events (`goal` ... `possession`) are null for some matches\n",
    "- predictions are null for some matches\n",
    "- season should be categorical variable\n",
    "\n",
    "##### player attributes table\n",
    "- all attributes missing for some rows\n",
    "- attacking work rate null for some players\n",
    "- attacking work rate has strange values (`\"None\"`) for some players\n",
    "- defensive work rate has strange value (`_0`, `o`) for some players\n",
    "- attacking work rate should be categorical variable\n",
    "- defensive work rate should be categorical variable\n",
    "- attacking work rate has value `norm` which should be `medium`\n",
    "- attacking work rate has value `ormal` which should be `medium`\n",
    "- TODO: continue with defensive work rate\n",
    "\n",
    "#### Programmatic assessment\n",
    "- TODO: check is the associated columns in the matches table are null: league, season, date, match, home/away team"
   ]
  },
  {
   "cell_type": "markdown",
   "metadata": {},
   "source": [
    "### Tidiness"
   ]
  }
 ],
 "metadata": {
  "kernelspec": {
   "display_name": "Python 3.9.6 64-bit",
   "language": "python",
   "name": "python3"
  },
  "language_info": {
   "name": "python",
   "version": "3.9.6"
  },
  "orig_nbformat": 4,
  "vscode": {
   "interpreter": {
    "hash": "31f2aee4e71d21fbe5cf8b01ff0e069b9275f58929596ceb00d14d90e3e16cd6"
   }
  }
 },
 "nbformat": 4,
 "nbformat_minor": 2
}
