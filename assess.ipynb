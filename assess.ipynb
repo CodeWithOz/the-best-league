{
 "cells": [
  {
   "cell_type": "markdown",
   "metadata": {},
   "source": [
    "## List of quality and tidiniess issues in soccer database"
   ]
  },
  {
   "cell_type": "markdown",
   "metadata": {},
   "source": [
    "### Quality"
   ]
  },
  {
   "cell_type": "markdown",
   "metadata": {},
   "source": [
    "##### match table\n",
    "- player positions (`home_player_X1` ... `away_player_X11`) are null for some matches\n",
    "- player IDs (`home_player_1` ... `away_player_11`) are null for some matches\n",
    "- match events (`goal` ... `possession`) are null for some matches\n",
    "- predictions are null for some matches\n",
    "- season should be categorical variable\n",
    "- `date` column should be datetime\n",
    "- `season` should be categorical\n",
    "- figure out what `stage` represents\n",
    "    - represents the matchday\n",
    "    - ACTION: rename to `matchday` and should be categorical\n",
    "\n",
    "##### player attributes table\n",
    "- all attributes missing for some rows\n",
    "- preferred foot should be categorical\n",
    "- attacking work rate null for some players\n",
    "- attacking work rate has strange values\n",
    "- defensive work rate has strange values\n",
    "- attacking work rate should be categorical variable\n",
    "- defensive work rate should be categorical variable\n",
    "\n",
    "##### team attributes table\n",
    "- `date` column should be datetime\n",
    "- `buildUpPlayDribbling` has (a lot of) null values\n",
    "- all the columns that end with `Class` should be categorical\n",
    "- `buildUpPlayDribbling` is float, should be int"
   ]
  },
  {
   "cell_type": "markdown",
   "metadata": {},
   "source": [
    "### Tidiness"
   ]
  },
  {
   "cell_type": "markdown",
   "metadata": {},
   "source": [
    "#### match table\n",
    "- remove the columns for player positions (`home_player_X1` ... `away_player_X11`)"
   ]
  }
 ],
 "metadata": {
  "kernelspec": {
   "display_name": "Python 3.9.6 64-bit",
   "language": "python",
   "name": "python3"
  },
  "language_info": {
   "name": "python",
   "version": "3.9.6"
  },
  "orig_nbformat": 4,
  "vscode": {
   "interpreter": {
    "hash": "31f2aee4e71d21fbe5cf8b01ff0e069b9275f58929596ceb00d14d90e3e16cd6"
   }
  }
 },
 "nbformat": 4,
 "nbformat_minor": 2
}
